{
 "cells": [
  {
   "cell_type": "code",
   "execution_count": 1,
   "metadata": {
    "colab": {
     "base_uri": "https://localhost:8080/"
    },
    "executionInfo": {
     "elapsed": 878,
     "status": "ok",
     "timestamp": 1616396276580,
     "user": {
      "displayName": "khanhblog AI",
      "photoUrl": "https://lh3.googleusercontent.com/a-/AOh14GhNCi9Qnch9sWXSuvX4N5yijAGEjX1IvfmN-95m=s64",
      "userId": "06481533334230032014"
     },
     "user_tz": -420
    },
    "id": "GKCBPvw9t09W",
    "outputId": "52bfd40a-a916-4426-f0c9-21577347ee26"
   },
   "outputs": [
    {
     "name": "stdout",
     "output_type": "stream",
     "text": [
      "diện tích x = 50 --> giá nhà y = a*50+b =  tensor(1200)\n"
     ]
    }
   ],
   "source": [
    "import torch\n",
    "\n",
    "a = torch.tensor(20)\n",
    "b = torch.tensor(200)\n",
    "print(\"diện tích x = 50 --> giá nhà y = a*50+b = \", a*50+b)"
   ]
  },
  {
   "cell_type": "code",
   "execution_count": 2,
   "metadata": {
    "colab": {
     "base_uri": "https://localhost:8080/"
    },
    "executionInfo": {
     "elapsed": 1046,
     "status": "ok",
     "timestamp": 1616396770942,
     "user": {
      "displayName": "khanhblog AI",
      "photoUrl": "https://lh3.googleusercontent.com/a-/AOh14GhNCi9Qnch9sWXSuvX4N5yijAGEjX1IvfmN-95m=s64",
      "userId": "06481533334230032014"
     },
     "user_tz": -420
    },
    "id": "a6HgWue-wAJb",
    "outputId": "505edf02-ed13-4ef4-b281-b7146c757711"
   },
   "outputs": [
    {
     "data": {
      "text/plain": [
       "tensor([1.0000, 1.2000, 1.5000, 1.8000, 2.0000])"
      ]
     },
     "execution_count": 2,
     "metadata": {},
     "output_type": "execute_result"
    }
   ],
   "source": [
    "x = torch.tensor([1, 1.2, 1.5, 1.8, 2])\n",
    "x"
   ]
  },
  {
   "cell_type": "code",
   "execution_count": 3,
   "metadata": {
    "colab": {
     "base_uri": "https://localhost:8080/"
    },
    "executionInfo": {
     "elapsed": 948,
     "status": "ok",
     "timestamp": 1616397623685,
     "user": {
      "displayName": "khanhblog AI",
      "photoUrl": "https://lh3.googleusercontent.com/a-/AOh14GhNCi9Qnch9sWXSuvX4N5yijAGEjX1IvfmN-95m=s64",
      "userId": "06481533334230032014"
     },
     "user_tz": -420
    },
    "id": "seicl1pMwT1N",
    "outputId": "02e6339b-f69f-488f-8b8e-a4096c0aced0"
   },
   "outputs": [
    {
     "name": "stdout",
     "output_type": "stream",
     "text": [
      "length of vector:  torch.Size([5])\n",
      "vector type:  torch.float32\n",
      "sum of vector:  tensor(7.5000)\n",
      "mean of vector:  tensor(1.5000)\n",
      "min of vector:  tensor(1.)\n",
      "max of vector:  tensor(2.)\n"
     ]
    }
   ],
   "source": [
    "# Độ dài\n",
    "print(\"length of vector: \", x.size()) # or len(x)\n",
    "\n",
    "# Định dạng của véc tơ\n",
    "print(\"vector type: \", x.dtype)\n",
    "\n",
    "# Tổng của các phần tử \n",
    "print(\"sum of vector: \", x.sum())\n",
    "\n",
    "# Trung bình các phần tử\n",
    "print(\"mean of vector: \", x.mean())\n",
    "\n",
    "# Giá trị nhỏ nhất\n",
    "print(\"min of vector: \", x.min())\n",
    "\n",
    "# Giá trị lớn nhất\n",
    "print(\"max of vector: \", x.max())\n"
   ]
  },
  {
   "cell_type": "code",
   "execution_count": 4,
   "metadata": {
    "colab": {
     "base_uri": "https://localhost:8080/"
    },
    "executionInfo": {
     "elapsed": 934,
     "status": "ok",
     "timestamp": 1616397329647,
     "user": {
      "displayName": "khanhblog AI",
      "photoUrl": "https://lh3.googleusercontent.com/a-/AOh14GhNCi9Qnch9sWXSuvX4N5yijAGEjX1IvfmN-95m=s64",
      "userId": "06481533334230032014"
     },
     "user_tz": -420
    },
    "id": "m-RlaOQlxdq-",
    "outputId": "76be7202-df10-45f7-96c3-c2cea8f4d857"
   },
   "outputs": [
    {
     "name": "stdout",
     "output_type": "stream",
     "text": [
      "x + y:  tensor([2.1000, 4.2000, 2.7000, 3.4000, 3.6000])\n",
      "x - y:  tensor([-0.1000, -0.2000,  0.3000,  0.2000,  0.2000])\n",
      "x * y:  tensor([1.1000, 4.4000, 1.8000, 2.8800, 3.2300])\n"
     ]
    }
   ],
   "source": [
    "x = torch.tensor([1, 2, 1.5, 1.8, 1.9])\n",
    "y = torch.tensor([1.1, 2.2, 1.2, 1.6, 1.7])\n",
    "print(\"x + y: \", x + y)\n",
    "print(\"x - y: \", x - y)\n",
    "print(\"x * y: \", x * y)"
   ]
  },
  {
   "cell_type": "code",
   "execution_count": 5,
   "metadata": {
    "colab": {
     "base_uri": "https://localhost:8080/"
    },
    "executionInfo": {
     "elapsed": 891,
     "status": "ok",
     "timestamp": 1616397484193,
     "user": {
      "displayName": "khanhblog AI",
      "photoUrl": "https://lh3.googleusercontent.com/a-/AOh14GhNCi9Qnch9sWXSuvX4N5yijAGEjX1IvfmN-95m=s64",
      "userId": "06481533334230032014"
     },
     "user_tz": -420
    },
    "id": "2E51lUQdyuVk",
    "outputId": "0bf96f7f-8922-4212-ef21-091c38ff7e17"
   },
   "outputs": [
    {
     "name": "stdout",
     "output_type": "stream",
     "text": [
      "x + 5:  tensor([6.0000, 7.0000, 6.5000, 6.8000, 6.9000])\n",
      "x - 5:  tensor([-4.0000, -3.0000, -3.5000, -3.2000, -3.1000])\n",
      "x * 5:  tensor([ 5.0000, 10.0000,  7.5000,  9.0000,  9.5000])\n"
     ]
    }
   ],
   "source": [
    "x = torch.tensor([1, 2, 1.5, 1.8, 1.9])\n",
    "print(\"x + 5: \", x + 5)\n",
    "print(\"x - 5: \", x - 5)\n",
    "print(\"x * 5: \", x * 5)"
   ]
  },
  {
   "cell_type": "code",
   "execution_count": 6,
   "metadata": {
    "colab": {
     "base_uri": "https://localhost:8080/"
    },
    "executionInfo": {
     "elapsed": 897,
     "status": "ok",
     "timestamp": 1616404093886,
     "user": {
      "displayName": "khanhblog AI",
      "photoUrl": "https://lh3.googleusercontent.com/a-/AOh14GhNCi9Qnch9sWXSuvX4N5yijAGEjX1IvfmN-95m=s64",
      "userId": "06481533334230032014"
     },
     "user_tz": -420
    },
    "id": "6jhqne1BL76G",
    "outputId": "38c30390-e3b3-4da5-a5f5-0e8111ca33f4"
   },
   "outputs": [
    {
     "data": {
      "text/plain": [
       "torch.Size([2, 3])"
      ]
     },
     "execution_count": 6,
     "metadata": {},
     "output_type": "execute_result"
    }
   ],
   "source": [
    "import torch\n",
    "A = torch.tensor([[1, 2, 3], \n",
    "                  [3, 2, 1]])\n",
    "\n",
    "# shape của matrix A\n",
    "A.size()"
   ]
  },
  {
   "cell_type": "code",
   "execution_count": 7,
   "metadata": {
    "colab": {
     "base_uri": "https://localhost:8080/"
    },
    "executionInfo": {
     "elapsed": 1179,
     "status": "ok",
     "timestamp": 1616404548826,
     "user": {
      "displayName": "khanhblog AI",
      "photoUrl": "https://lh3.googleusercontent.com/a-/AOh14GhNCi9Qnch9sWXSuvX4N5yijAGEjX1IvfmN-95m=s64",
      "userId": "06481533334230032014"
     },
     "user_tz": -420
    },
    "id": "bpDYyD_UN1a7",
    "outputId": "6b972a44-e154-435f-f3b7-8b45f2356a87"
   },
   "outputs": [
    {
     "data": {
      "text/plain": [
       "tensor([[2, 2, 6],\n",
       "        [3, 6, 0]])"
      ]
     },
     "execution_count": 7,
     "metadata": {},
     "output_type": "execute_result"
    }
   ],
   "source": [
    "import torch\n",
    "A = torch.tensor([[1, 2, 3], \n",
    "                  [3, 2, 1]])\n",
    "\n",
    "B = torch.tensor([[2, 1, 2], \n",
    "                  [1, 3, 0]])\n",
    "\n",
    "A*B"
   ]
  },
  {
   "cell_type": "code",
   "execution_count": 8,
   "metadata": {
    "colab": {
     "base_uri": "https://localhost:8080/"
    },
    "executionInfo": {
     "elapsed": 981,
     "status": "ok",
     "timestamp": 1616404607420,
     "user": {
      "displayName": "khanhblog AI",
      "photoUrl": "https://lh3.googleusercontent.com/a-/AOh14GhNCi9Qnch9sWXSuvX4N5yijAGEjX1IvfmN-95m=s64",
      "userId": "06481533334230032014"
     },
     "user_tz": -420
    },
    "id": "_4xygROsNv8E",
    "outputId": "2dc7cc80-9481-4b41-9064-efa33a8bfc9b"
   },
   "outputs": [
    {
     "name": "stdout",
     "output_type": "stream",
     "text": [
      "A-B: \n",
      " tensor([[-1,  1,  1],\n",
      "        [ 2, -1,  1]])\n",
      "A+B: \n",
      " tensor([[3, 3, 5],\n",
      "        [4, 5, 1]])\n"
     ]
    }
   ],
   "source": [
    "print(\"A-B: \\n\", A-B)\n",
    "print(\"A+B: \\n\", A+B)"
   ]
  },
  {
   "cell_type": "code",
   "execution_count": 9,
   "metadata": {
    "colab": {
     "base_uri": "https://localhost:8080/"
    },
    "executionInfo": {
     "elapsed": 1614,
     "status": "ok",
     "timestamp": 1616407416447,
     "user": {
      "displayName": "khanhblog AI",
      "photoUrl": "https://lh3.googleusercontent.com/a-/AOh14GhNCi9Qnch9sWXSuvX4N5yijAGEjX1IvfmN-95m=s64",
      "userId": "06481533334230032014"
     },
     "user_tz": -420
    },
    "id": "AbMazwKoY38o",
    "outputId": "cccd00b4-0574-4325-866d-47ce82d0563a"
   },
   "outputs": [
    {
     "data": {
      "text/plain": [
       "tensor([[ 7, 10],\n",
       "        [ 9, 10]])"
      ]
     },
     "execution_count": 9,
     "metadata": {},
     "output_type": "execute_result"
    }
   ],
   "source": [
    "import torch\n",
    "A = torch.tensor([[1, 2, 3], \n",
    "                  [3, 2, 1]])\n",
    "\n",
    "B = torch.tensor([[2, 1], \n",
    "                  [1, 3],\n",
    "                  [1, 1]])\n",
    "\n",
    "A@B"
   ]
  },
  {
   "cell_type": "code",
   "execution_count": 10,
   "metadata": {
    "colab": {
     "base_uri": "https://localhost:8080/"
    },
    "executionInfo": {
     "elapsed": 1351,
     "status": "ok",
     "timestamp": 1616408424009,
     "user": {
      "displayName": "khanhblog AI",
      "photoUrl": "https://lh3.googleusercontent.com/a-/AOh14GhNCi9Qnch9sWXSuvX4N5yijAGEjX1IvfmN-95m=s64",
      "userId": "06481533334230032014"
     },
     "user_tz": -420
    },
    "id": "ZYyRRHsGclor",
    "outputId": "de94433a-e538-4eeb-9cb1-656558fa69b8"
   },
   "outputs": [
    {
     "data": {
      "text/plain": [
       "tensor([[1, 2],\n",
       "        [3, 2]])"
      ]
     },
     "execution_count": 10,
     "metadata": {},
     "output_type": "execute_result"
    }
   ],
   "source": [
    "import torch\n",
    "A = torch.tensor([[1, 2, 3], \n",
    "                  [3, 2, 1],\n",
    "                  [4, 2, 2]])\n",
    "\n",
    "# Truy cập ma trận con từ 2 dòng đầu tiên và 2 cột đầu tiên.\n",
    "A[:2, :2]"
   ]
  },
  {
   "cell_type": "code",
   "execution_count": 11,
   "metadata": {
    "colab": {
     "base_uri": "https://localhost:8080/"
    },
    "executionInfo": {
     "elapsed": 1038,
     "status": "ok",
     "timestamp": 1616408457059,
     "user": {
      "displayName": "khanhblog AI",
      "photoUrl": "https://lh3.googleusercontent.com/a-/AOh14GhNCi9Qnch9sWXSuvX4N5yijAGEjX1IvfmN-95m=s64",
      "userId": "06481533334230032014"
     },
     "user_tz": -420
    },
    "id": "gJT0wJp5czZR",
    "outputId": "9843ceb4-5540-48f6-98ff-7c7b7aae4202"
   },
   "outputs": [
    {
     "data": {
      "text/plain": [
       "tensor([[3, 2],\n",
       "        [4, 2]])"
      ]
     },
     "execution_count": 11,
     "metadata": {},
     "output_type": "execute_result"
    }
   ],
   "source": [
    "# Truy cập ma trận con từ 2 dòng cuối cùng và 2 cột đầu tiên\n",
    "A[-2:, :2]"
   ]
  },
  {
   "cell_type": "code",
   "execution_count": 12,
   "metadata": {
    "colab": {
     "base_uri": "https://localhost:8080/"
    },
    "executionInfo": {
     "elapsed": 994,
     "status": "ok",
     "timestamp": 1616409420405,
     "user": {
      "displayName": "khanhblog AI",
      "photoUrl": "https://lh3.googleusercontent.com/a-/AOh14GhNCi9Qnch9sWXSuvX4N5yijAGEjX1IvfmN-95m=s64",
      "userId": "06481533334230032014"
     },
     "user_tz": -420
    },
    "id": "RGk2zhToc7SW",
    "outputId": "3f467e8c-b630-43f1-d6ca-1a5ec766f974"
   },
   "outputs": [
    {
     "name": "stdout",
     "output_type": "stream",
     "text": [
      "tensor([2, 2])\n"
     ]
    },
    {
     "data": {
      "text/plain": [
       "tensor([2, 2])"
      ]
     },
     "execution_count": 12,
     "metadata": {},
     "output_type": "execute_result"
    }
   ],
   "source": [
    "# Truy cập véc tơ con từ dòng thứ 2 và 2 cột cuối cùng.\n",
    "print(A[2, -2:])\n",
    "\n",
    "# Hoặc\n",
    "A[2:3, -2:][0]"
   ]
  },
  {
   "cell_type": "code",
   "execution_count": 13,
   "metadata": {
    "colab": {
     "base_uri": "https://localhost:8080/"
    },
    "executionInfo": {
     "elapsed": 923,
     "status": "ok",
     "timestamp": 1616409564063,
     "user": {
      "displayName": "khanhblog AI",
      "photoUrl": "https://lh3.googleusercontent.com/a-/AOh14GhNCi9Qnch9sWXSuvX4N5yijAGEjX1IvfmN-95m=s64",
      "userId": "06481533334230032014"
     },
     "user_tz": -420
    },
    "id": "ax_2Gy8zgudB",
    "outputId": "0d5b1fe4-4794-42b5-bb46-10e27d2b3eb4"
   },
   "outputs": [
    {
     "data": {
      "text/plain": [
       "tensor([[1, 2, 3],\n",
       "        [4, 2, 2]])"
      ]
     },
     "execution_count": 13,
     "metadata": {},
     "output_type": "execute_result"
    }
   ],
   "source": [
    "# Truy cập ma trận có các dòng chẵn\n",
    "A[::2, :]"
   ]
  },
  {
   "cell_type": "code",
   "execution_count": 14,
   "metadata": {
    "colab": {
     "base_uri": "https://localhost:8080/"
    },
    "executionInfo": {
     "elapsed": 948,
     "status": "ok",
     "timestamp": 1616409866190,
     "user": {
      "displayName": "khanhblog AI",
      "photoUrl": "https://lh3.googleusercontent.com/a-/AOh14GhNCi9Qnch9sWXSuvX4N5yijAGEjX1IvfmN-95m=s64",
      "userId": "06481533334230032014"
     },
     "user_tz": -420
    },
    "id": "LQbABuIrhr0q",
    "outputId": "f8900a38-23aa-4e8d-8f59-16242b9b24b3"
   },
   "outputs": [
    {
     "data": {
      "text/plain": [
       "tensor([[1, 2, 3],\n",
       "        [4, 2, 2]])"
      ]
     },
     "execution_count": 14,
     "metadata": {},
     "output_type": "execute_result"
    }
   ],
   "source": [
    "# Truy cập một index cụ thể ví dụ dòng 0, 2 của ma trận\n",
    "A.index_select(0, torch.tensor([0, 2]))\n",
    "# Trong công thức trên 0 là chiều mà ta sẽ lấy, tensor([0, 2]) là các index ta sẽ lấy từ chiều 0."
   ]
  },
  {
   "cell_type": "code",
   "execution_count": 15,
   "metadata": {
    "colab": {
     "base_uri": "https://localhost:8080/"
    },
    "executionInfo": {
     "elapsed": 908,
     "status": "ok",
     "timestamp": 1616405910829,
     "user": {
      "displayName": "khanhblog AI",
      "photoUrl": "https://lh3.googleusercontent.com/a-/AOh14GhNCi9Qnch9sWXSuvX4N5yijAGEjX1IvfmN-95m=s64",
      "userId": "06481533334230032014"
     },
     "user_tz": -420
    },
    "id": "yDkIbIrIP3BY",
    "outputId": "7b245f6d-d1d0-4065-8c9b-5edaf9270434"
   },
   "outputs": [
    {
     "name": "stdout",
     "output_type": "stream",
     "text": [
      "shape of A:  torch.Size([2, 2, 3])\n",
      "total dim:  3\n",
      "dtype:  torch.int64\n"
     ]
    }
   ],
   "source": [
    "A = torch.tensor([[[1, 2, 3], \n",
    "                  [3, 2, 1]],\n",
    "                  [[2, 1, 2], \n",
    "                  [1, 3, 0]]])\n",
    "\n",
    "# Kích thước của tensor\n",
    "print(\"shape of A: \" , A.size())\n",
    "\n",
    "# Số chiều \n",
    "print(\"total dim: \", A.ndim)\n",
    "\n",
    "# Định dạng dữ liệu\n",
    "print(\"dtype: \", A.dtype)"
   ]
  },
  {
   "cell_type": "code",
   "execution_count": 16,
   "metadata": {
    "colab": {
     "base_uri": "https://localhost:8080/"
    },
    "executionInfo": {
     "elapsed": 676,
     "status": "ok",
     "timestamp": 1616406364826,
     "user": {
      "displayName": "khanhblog AI",
      "photoUrl": "https://lh3.googleusercontent.com/a-/AOh14GhNCi9Qnch9sWXSuvX4N5yijAGEjX1IvfmN-95m=s64",
      "userId": "06481533334230032014"
     },
     "user_tz": -420
    },
    "id": "HS4eY-L8UdiW",
    "outputId": "efdabe47-db30-4553-8abf-3ab6726b7e2b"
   },
   "outputs": [
    {
     "data": {
      "text/plain": [
       "torch.Size([2, 3, 2])"
      ]
     },
     "execution_count": 16,
     "metadata": {},
     "output_type": "execute_result"
    }
   ],
   "source": [
    "import torch\n",
    "\n",
    "A = torch.randn([2, 3, 4])\n",
    "B = torch.randn([2, 4, 2])\n",
    "\n",
    "# Tích giữa 2 tensor\n",
    "(A@B).size()"
   ]
  },
  {
   "cell_type": "code",
   "execution_count": 17,
   "metadata": {
    "colab": {
     "base_uri": "https://localhost:8080/"
    },
    "executionInfo": {
     "elapsed": 985,
     "status": "ok",
     "timestamp": 1616406624825,
     "user": {
      "displayName": "khanhblog AI",
      "photoUrl": "https://lh3.googleusercontent.com/a-/AOh14GhNCi9Qnch9sWXSuvX4N5yijAGEjX1IvfmN-95m=s64",
      "userId": "06481533334230032014"
     },
     "user_tz": -420
    },
    "id": "uxmuD00rSRv5",
    "outputId": "16fd0d7d-1dc2-4309-a832-1e5a6086c8c5"
   },
   "outputs": [
    {
     "data": {
      "text/plain": [
       "torch.Size([2, 3, 4])"
      ]
     },
     "execution_count": 17,
     "metadata": {},
     "output_type": "execute_result"
    }
   ],
   "source": [
    "import torch\n",
    "\n",
    "A = torch.randn([2, 3, 4])\n",
    "B = torch.randn([2, 3, 4])\n",
    "\n",
    "# Tích hadamard giữa 2 tensor\n",
    "(A*B).size()"
   ]
  },
  {
   "cell_type": "code",
   "execution_count": 18,
   "metadata": {
    "colab": {
     "base_uri": "https://localhost:8080/"
    },
    "executionInfo": {
     "elapsed": 1149,
     "status": "ok",
     "timestamp": 1616406719961,
     "user": {
      "displayName": "khanhblog AI",
      "photoUrl": "https://lh3.googleusercontent.com/a-/AOh14GhNCi9Qnch9sWXSuvX4N5yijAGEjX1IvfmN-95m=s64",
      "userId": "06481533334230032014"
     },
     "user_tz": -420
    },
    "id": "o2PCD-qdSSmq",
    "outputId": "75469619-a231-436e-d061-9704b46254f5"
   },
   "outputs": [
    {
     "data": {
      "text/plain": [
       "torch.Size([2, 3, 4])"
      ]
     },
     "execution_count": 18,
     "metadata": {},
     "output_type": "execute_result"
    }
   ],
   "source": [
    "# Phép cộng\n",
    "(A+B).size()"
   ]
  },
  {
   "cell_type": "code",
   "execution_count": 19,
   "metadata": {
    "colab": {
     "base_uri": "https://localhost:8080/"
    },
    "executionInfo": {
     "elapsed": 969,
     "status": "ok",
     "timestamp": 1616406725181,
     "user": {
      "displayName": "khanhblog AI",
      "photoUrl": "https://lh3.googleusercontent.com/a-/AOh14GhNCi9Qnch9sWXSuvX4N5yijAGEjX1IvfmN-95m=s64",
      "userId": "06481533334230032014"
     },
     "user_tz": -420
    },
    "id": "GaOY4gCBWToQ",
    "outputId": "04e71589-e444-4348-9202-b40842e91db1"
   },
   "outputs": [
    {
     "data": {
      "text/plain": [
       "torch.Size([2, 3, 4])"
      ]
     },
     "execution_count": 19,
     "metadata": {},
     "output_type": "execute_result"
    }
   ],
   "source": [
    "# Phép trừ\n",
    "(A-B).size()"
   ]
  },
  {
   "cell_type": "code",
   "execution_count": 20,
   "metadata": {
    "colab": {
     "base_uri": "https://localhost:8080/"
    },
    "executionInfo": {
     "elapsed": 972,
     "status": "ok",
     "timestamp": 1616410029411,
     "user": {
      "displayName": "khanhblog AI",
      "photoUrl": "https://lh3.googleusercontent.com/a-/AOh14GhNCi9Qnch9sWXSuvX4N5yijAGEjX1IvfmN-95m=s64",
      "userId": "06481533334230032014"
     },
     "user_tz": -420
    },
    "id": "eFw553ALZlYj",
    "outputId": "c2c789cc-bb35-480a-adba-0f418c314d46"
   },
   "outputs": [
    {
     "data": {
      "text/plain": [
       "tensor([[[ 0.7346, -0.8477, -2.1218, -1.6738],\n",
       "         [ 0.5450, -0.9854, -0.9950,  0.1391],\n",
       "         [-0.3597, -1.1001, -0.5395, -1.3044]]])"
      ]
     },
     "execution_count": 20,
     "metadata": {},
     "output_type": "execute_result"
    }
   ],
   "source": [
    "import torch\n",
    "\n",
    "# Khởi tạo ma trận A kích thước m, n, p = 2, 3, 4\n",
    "A = torch.randn([2, 3, 4])\n",
    "\n",
    "# Truy cập ma trận đầu tiên \n",
    "A[:1, :, :]"
   ]
  },
  {
   "cell_type": "code",
   "execution_count": 21,
   "metadata": {
    "colab": {
     "base_uri": "https://localhost:8080/"
    },
    "executionInfo": {
     "elapsed": 1078,
     "status": "ok",
     "timestamp": 1616410121678,
     "user": {
      "displayName": "khanhblog AI",
      "photoUrl": "https://lh3.googleusercontent.com/a-/AOh14GhNCi9Qnch9sWXSuvX4N5yijAGEjX1IvfmN-95m=s64",
      "userId": "06481533334230032014"
     },
     "user_tz": -420
    },
    "id": "oFj5iUEBi69C",
    "outputId": "d9d30c72-467d-4bcc-da7f-8763a0ffd75b"
   },
   "outputs": [
    {
     "data": {
      "text/plain": [
       "tensor([[ 0.5450, -0.9854, -0.9950,  0.1391],\n",
       "        [-0.3597, -1.1001, -0.5395, -1.3044]])"
      ]
     },
     "execution_count": 21,
     "metadata": {},
     "output_type": "execute_result"
    }
   ],
   "source": [
    "# Truy cập ma trận đầu tiên và chỉ lấy dòng từ 1 tới 3\n",
    "A[0][1:3, :]"
   ]
  },
  {
   "cell_type": "code",
   "execution_count": 22,
   "metadata": {
    "colab": {
     "base_uri": "https://localhost:8080/"
    },
    "executionInfo": {
     "elapsed": 938,
     "status": "ok",
     "timestamp": 1616410128326,
     "user": {
      "displayName": "khanhblog AI",
      "photoUrl": "https://lh3.googleusercontent.com/a-/AOh14GhNCi9Qnch9sWXSuvX4N5yijAGEjX1IvfmN-95m=s64",
      "userId": "06481533334230032014"
     },
     "user_tz": -420
    },
    "id": "a4ejthXfi76Y",
    "outputId": "07e0a587-2f02-4d18-f362-88e4c6e26816"
   },
   "outputs": [
    {
     "data": {
      "text/plain": [
       "tensor([[-1.6738,  0.1391]])"
      ]
     },
     "execution_count": 22,
     "metadata": {},
     "output_type": "execute_result"
    }
   ],
   "source": [
    "# Truy cập tương ứng với các chiều m, n, p lần lượt index đầu tiên, 2 index đầu tiên, và index thứ 3.\n",
    "A[:1, :2, 3]"
   ]
  },
  {
   "cell_type": "code",
   "execution_count": 23,
   "metadata": {
    "id": "_QVpFXGUsbz8"
   },
   "outputs": [],
   "source": [
    "import torch\n",
    "\n",
    "X = torch.tensor([[100, 120, 80, 90, 105, 95], \n",
    "                  [2, 3, 2, 2, 3, 2]])"
   ]
  },
  {
   "cell_type": "code",
   "execution_count": 24,
   "metadata": {
    "colab": {
     "base_uri": "https://localhost:8080/"
    },
    "executionInfo": {
     "elapsed": 1108,
     "status": "ok",
     "timestamp": 1616412790596,
     "user": {
      "displayName": "khanhblog AI",
      "photoUrl": "https://lh3.googleusercontent.com/a-/AOh14GhNCi9Qnch9sWXSuvX4N5yijAGEjX1IvfmN-95m=s64",
      "userId": "06481533334230032014"
     },
     "user_tz": -420
    },
    "id": "GyxZxWB0rCQG",
    "outputId": "fd4bbaac-4d6c-44df-f1d1-30f6cf63ec09"
   },
   "outputs": [
    {
     "data": {
      "text/plain": [
       "tensor([[1200],\n",
       "        [1500],\n",
       "        [1000],\n",
       "        [1100],\n",
       "        [1350],\n",
       "        [1150]])"
      ]
     },
     "execution_count": 24,
     "metadata": {},
     "output_type": "execute_result"
    }
   ],
   "source": [
    "w = torch.tensor([[10], [100]])\n",
    "y = X.T@w\n",
    "y"
   ]
  },
  {
   "cell_type": "code",
   "execution_count": 25,
   "metadata": {
    "colab": {
     "base_uri": "https://localhost:8080/"
    },
    "executionInfo": {
     "elapsed": 991,
     "status": "ok",
     "timestamp": 1616410422897,
     "user": {
      "displayName": "khanhblog AI",
      "photoUrl": "https://lh3.googleusercontent.com/a-/AOh14GhNCi9Qnch9sWXSuvX4N5yijAGEjX1IvfmN-95m=s64",
      "userId": "06481533334230032014"
     },
     "user_tz": -420
    },
    "id": "EU81MT8qkTnL",
    "outputId": "cd3c7a18-7454-4579-eb71-ad8bdcb165cd"
   },
   "outputs": [
    {
     "data": {
      "text/plain": [
       "tensor(20)"
      ]
     },
     "execution_count": 25,
     "metadata": {},
     "output_type": "execute_result"
    }
   ],
   "source": [
    "import torch\n",
    "\n",
    "x = torch.tensor([1, 2, 3])\n",
    "y = torch.tensor([2, 3, 4])\n",
    "x.dot(y)"
   ]
  },
  {
   "cell_type": "code",
   "execution_count": 26,
   "metadata": {
    "colab": {
     "base_uri": "https://localhost:8080/"
    },
    "executionInfo": {
     "elapsed": 882,
     "status": "ok",
     "timestamp": 1616415387603,
     "user": {
      "displayName": "khanhblog AI",
      "photoUrl": "https://lh3.googleusercontent.com/a-/AOh14GhNCi9Qnch9sWXSuvX4N5yijAGEjX1IvfmN-95m=s64",
      "userId": "06481533334230032014"
     },
     "user_tz": -420
    },
    "id": "5KkWxDUZ3Cge",
    "outputId": "118b6123-cfa0-46ed-9ea5-239552f9b758"
   },
   "outputs": [
    {
     "data": {
      "text/plain": [
       "tensor(1.7731)"
      ]
     },
     "execution_count": 26,
     "metadata": {},
     "output_type": "execute_result"
    }
   ],
   "source": [
    "import torch\n",
    "x = torch.randn(10)\n",
    "torch.norm(x, p=2)"
   ]
  },
  {
   "cell_type": "code",
   "execution_count": 27,
   "metadata": {
    "colab": {
     "base_uri": "https://localhost:8080/"
    },
    "executionInfo": {
     "elapsed": 1085,
     "status": "ok",
     "timestamp": 1616415498018,
     "user": {
      "displayName": "khanhblog AI",
      "photoUrl": "https://lh3.googleusercontent.com/a-/AOh14GhNCi9Qnch9sWXSuvX4N5yijAGEjX1IvfmN-95m=s64",
      "userId": "06481533334230032014"
     },
     "user_tz": -420
    },
    "id": "-M_nuOtG3ZFk",
    "outputId": "d8fe3a56-54b8-411b-bb25-b1603abd49c8"
   },
   "outputs": [
    {
     "name": "stdout",
     "output_type": "stream",
     "text": [
      "tensor(4.9095)\n"
     ]
    },
    {
     "data": {
      "text/plain": [
       "tensor(4.9095)"
      ]
     },
     "execution_count": 27,
     "metadata": {},
     "output_type": "execute_result"
    }
   ],
   "source": [
    "print(torch.norm(x, p=1))\n",
    "# hoặc \n",
    "torch.abs(x).sum()"
   ]
  },
  {
   "cell_type": "code",
   "execution_count": 28,
   "metadata": {
    "colab": {
     "base_uri": "https://localhost:8080/"
    },
    "executionInfo": {
     "elapsed": 1061,
     "status": "ok",
     "timestamp": 1616415445101,
     "user": {
      "displayName": "khanhblog AI",
      "photoUrl": "https://lh3.googleusercontent.com/a-/AOh14GhNCi9Qnch9sWXSuvX4N5yijAGEjX1IvfmN-95m=s64",
      "userId": "06481533334230032014"
     },
     "user_tz": -420
    },
    "id": "2HUCjk7n3fhO",
    "outputId": "701f61d6-1455-4ab4-8ccd-a51e9dadd3b0"
   },
   "outputs": [
    {
     "data": {
      "text/plain": [
       "tensor(2.4515)"
      ]
     },
     "execution_count": 28,
     "metadata": {},
     "output_type": "execute_result"
    }
   ],
   "source": [
    "# chuẩn p bất kỳ >= 1, chẳng hạn p=1.5\n",
    "torch.norm(x, p=1.5)"
   ]
  }
 ],
 "metadata": {
  "colab": {
   "authorship_tag": "ABX9TyN7KGxyAypGlc8nFg6Oj7nN",
   "collapsed_sections": [
    "a-fuO46n178h",
    "mtBQyuWYrA-8"
   ],
   "name": "Appendix-Algebra.ipynb",
   "provenance": [],
   "toc_visible": true
  },
  "kernelspec": {
   "display_name": "Python 3",
   "name": "python3"
  },
  "language_info": {
   "codemirror_mode": {
    "name": "ipython",
    "version": 3
   },
   "file_extension": ".py",
   "mimetype": "text/x-python",
   "name": "python",
   "nbconvert_exporter": "python",
   "pygments_lexer": "ipython3",
   "version": "3.6.9"
  }
 },
 "nbformat": 4,
 "nbformat_minor": 0
}