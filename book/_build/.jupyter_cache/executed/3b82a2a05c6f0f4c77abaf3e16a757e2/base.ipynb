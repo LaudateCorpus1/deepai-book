{
 "cells": [
  {
   "cell_type": "code",
   "execution_count": 1,
   "id": "virgin-latvia",
   "metadata": {},
   "outputs": [
    {
     "data": {
      "text/plain": [
       "array([  1, 127,   3], dtype=int8)"
      ]
     },
     "execution_count": 1,
     "metadata": {},
     "output_type": "execute_result"
    }
   ],
   "source": [
    "import numpy as np\n",
    "# Giá trị của -129 trong định dạng int8 sẽ thành 127\n",
    "np.array([1, -129, 3], dtype=np.int8)"
   ]
  },
  {
   "cell_type": "code",
   "execution_count": 2,
   "id": "martial-dylan",
   "metadata": {},
   "outputs": [
    {
     "name": "stdout",
     "output_type": "stream",
     "text": [
      "<class 'float'>\n",
      "<class 'int'>\n",
      "<class 'bool'>\n",
      "<class 'str'>\n"
     ]
    }
   ],
   "source": [
    "x = 1.234\n",
    "y = 4\n",
    "z = False\n",
    "t = \"Vi mot cong dong AI vung manh hon\"\n",
    "\n",
    "print(type(x))\n",
    "print(type(y))\n",
    "print(type(z))\n",
    "print(type(t))"
   ]
  },
  {
   "cell_type": "code",
   "execution_count": 3,
   "id": "unlike-island",
   "metadata": {},
   "outputs": [
    {
     "name": "stdout",
     "output_type": "stream",
     "text": [
      "2.5 0.5 3.0 0.3\n"
     ]
    }
   ],
   "source": [
    "x = 1.5\n",
    "add = x+1\n",
    "minus = x-1\n",
    "mul = x*2\n",
    "div = x/5\n",
    "print(add, minus, mul, div)"
   ]
  },
  {
   "cell_type": "code",
   "execution_count": 4,
   "id": "reported-mounting",
   "metadata": {},
   "outputs": [
    {
     "name": "stdout",
     "output_type": "stream",
     "text": [
      "2.5\n",
      "0.5\n",
      "3.0\n",
      "0.3\n"
     ]
    }
   ],
   "source": [
    "x=1.5\n",
    "x+=1 # Tương đương x=x+1\n",
    "print(x)\n",
    "x=1.5 \n",
    "x-=1 # Tương đương x=x-1\n",
    "print(x)\n",
    "x=1.5\n",
    "x*=2 # Tương đương x=x*2\n",
    "print(x)\n",
    "x=1.5\n",
    "x/=5 # Tương đương x=x/5\n",
    "print(x)"
   ]
  },
  {
   "cell_type": "code",
   "execution_count": 5,
   "id": "opposed-forest",
   "metadata": {},
   "outputs": [
    {
     "name": "stdout",
     "output_type": "stream",
     "text": [
      "<class 'float'>\n",
      "<class 'float'>\n",
      "<class 'float'>\n",
      "<class 'float'>\n"
     ]
    }
   ],
   "source": [
    "x = 2.5\n",
    "y = 1\n",
    "print(type(x+y))\n",
    "print(type(x-y))\n",
    "print(type(x*y))\n",
    "print(type(x/y))"
   ]
  },
  {
   "cell_type": "code",
   "execution_count": 6,
   "id": "dying-channel",
   "metadata": {},
   "outputs": [
    {
     "name": "stdout",
     "output_type": "stream",
     "text": [
      "and:  False False\n",
      "or:  True True\n",
      "x*y:  0\n",
      "x+y:  1\n",
      "x/z:  0.2\n"
     ]
    }
   ],
   "source": [
    "x = True\n",
    "y = False\n",
    "z = 5\n",
    "print('and: ', x&y, x and y)\n",
    "print('or: ', x|y, x or y)\n",
    "print('x*y: ', x*y)\n",
    "print('x+y: ', x+y)\n",
    "print('x/z: ', x/z)"
   ]
  },
  {
   "cell_type": "code",
   "execution_count": 7,
   "id": "stunning-immunology",
   "metadata": {},
   "outputs": [
    {
     "name": "stdout",
     "output_type": "stream",
     "text": [
      "x==y:  False\n",
      "x!=y:  True\n"
     ]
    }
   ],
   "source": [
    "x = 5\n",
    "y = 6\n",
    "print('x==y: ', x==y)\n",
    "print('x!=y: ', x!=y)"
   ]
  },
  {
   "cell_type": "code",
   "execution_count": 8,
   "id": "computational-mercury",
   "metadata": {},
   "outputs": [
    {
     "name": "stdout",
     "output_type": "stream",
     "text": [
      "<class 'str'>\n"
     ]
    }
   ],
   "source": [
    "x = \"AI is my love\"\n",
    "print(type(x))"
   ]
  },
  {
   "cell_type": "code",
   "execution_count": 9,
   "id": "wireless-liechtenstein",
   "metadata": {},
   "outputs": [
    {
     "name": "stdout",
     "output_type": "stream",
     "text": [
      "I said: AI is my love\n"
     ]
    }
   ],
   "source": [
    "y = \"I said: \"\n",
    "print(y+x)"
   ]
  },
  {
   "cell_type": "code",
   "execution_count": 10,
   "id": "psychological-navigator",
   "metadata": {},
   "outputs": [
    {
     "data": {
      "text/plain": [
       "['AI', 'is', 'my', 'love']"
      ]
     },
     "execution_count": 10,
     "metadata": {},
     "output_type": "execute_result"
    }
   ],
   "source": [
    "x.split()"
   ]
  }
 ],
 "metadata": {
  "jupytext": {
   "text_representation": {
    "extension": ".md",
    "format_name": "myst",
    "format_version": 0.12,
    "jupytext_version": "1.8.2"
   }
  },
  "kernelspec": {
   "display_name": "Python 3",
   "name": "python3"
  },
  "language_info": {
   "codemirror_mode": {
    "name": "ipython",
    "version": 3
   },
   "file_extension": ".py",
   "mimetype": "text/x-python",
   "name": "python",
   "nbconvert_exporter": "python",
   "pygments_lexer": "ipython3",
   "version": "3.6.9"
  },
  "source_map": [
   11,
   24,
   28,
   32,
   44,
   51,
   60,
   64,
   79,
   84,
   93,
   97,
   111,
   122,
   131,
   138,
   144,
   149,
   153,
   158,
   162
  ]
 },
 "nbformat": 4,
 "nbformat_minor": 5
}