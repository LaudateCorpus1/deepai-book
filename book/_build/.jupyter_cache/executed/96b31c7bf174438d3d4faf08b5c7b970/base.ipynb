{
 "cells": [
  {
   "cell_type": "code",
   "execution_count": 1,
   "id": "ordinary-banks",
   "metadata": {
    "colab": {
     "base_uri": "https://localhost:8080/"
    },
    "executionInfo": {
     "elapsed": 1100,
     "status": "ok",
     "timestamp": 1620884251150,
     "user": {
      "displayName": "khanhblog AI",
      "photoUrl": "https://lh3.googleusercontent.com/a-/AOh14GhNCi9Qnch9sWXSuvX4N5yijAGEjX1IvfmN-95m=s64",
      "userId": "06481533334230032014"
     },
     "user_tz": -420
    },
    "id": "ueBiUHr45Yv_",
    "outputId": "f2bfa175-c850-4f10-8504-3065934e9621"
   },
   "outputs": [
    {
     "name": "stdout",
     "output_type": "stream",
     "text": [
      "[[1 2]\n",
      " [3 4]]\n",
      "dtype of matrix A:  int64\n"
     ]
    }
   ],
   "source": [
    "import numpy as np\n",
    "\n",
    "A = np.array([[1, 2],\n",
    "              [3, 4]])\n",
    "\n",
    "print(A)\n",
    "print(\"dtype of matrix A: \", A.dtype)"
   ]
  },
  {
   "cell_type": "code",
   "execution_count": 2,
   "id": "level-screen",
   "metadata": {
    "colab": {
     "base_uri": "https://localhost:8080/"
    },
    "executionInfo": {
     "elapsed": 1545,
     "status": "ok",
     "timestamp": 1620884251603,
     "user": {
      "displayName": "khanhblog AI",
      "photoUrl": "https://lh3.googleusercontent.com/a-/AOh14GhNCi9Qnch9sWXSuvX4N5yijAGEjX1IvfmN-95m=s64",
      "userId": "06481533334230032014"
     },
     "user_tz": -420
    },
    "id": "E9id83lc5-TU",
    "outputId": "47455705-12e0-4a22-c180-7669b10f0c80"
   },
   "outputs": [
    {
     "name": "stdout",
     "output_type": "stream",
     "text": [
      "[[1. 2.]\n",
      " [3. 4.]]\n",
      "dtype of matrix B:  float32\n"
     ]
    }
   ],
   "source": [
    "B = np.array([[1, 2],\n",
    "              [3, 4]], dtype=np.float32)\n",
    "\n",
    "print(B)\n",
    "print(\"dtype of matrix B: \", B.dtype)"
   ]
  },
  {
   "cell_type": "code",
   "execution_count": 3,
   "id": "strong-afternoon",
   "metadata": {
    "colab": {
     "base_uri": "https://localhost:8080/"
    },
    "executionInfo": {
     "elapsed": 1539,
     "status": "ok",
     "timestamp": 1620884251604,
     "user": {
      "displayName": "khanhblog AI",
      "photoUrl": "https://lh3.googleusercontent.com/a-/AOh14GhNCi9Qnch9sWXSuvX4N5yijAGEjX1IvfmN-95m=s64",
      "userId": "06481533334230032014"
     },
     "user_tz": -420
    },
    "id": "WFwX9YBj6Ps5",
    "outputId": "949c8f71-6f24-4dcd-aad4-1584be86ccab"
   },
   "outputs": [
    {
     "name": "stdout",
     "output_type": "stream",
     "text": [
      "float32\n"
     ]
    }
   ],
   "source": [
    "# Lưu ý phải gán A = A.astype() để lưu thay đổi cho A\n",
    "A = A.astype(np.float32)\n",
    "print(A.dtype)"
   ]
  },
  {
   "cell_type": "code",
   "execution_count": 4,
   "id": "second-indonesian",
   "metadata": {
    "colab": {
     "base_uri": "https://localhost:8080/"
    },
    "executionInfo": {
     "elapsed": 1532,
     "status": "ok",
     "timestamp": 1620884251604,
     "user": {
      "displayName": "khanhblog AI",
      "photoUrl": "https://lh3.googleusercontent.com/a-/AOh14GhNCi9Qnch9sWXSuvX4N5yijAGEjX1IvfmN-95m=s64",
      "userId": "06481533334230032014"
     },
     "user_tz": -420
    },
    "id": "2JyPIQVs8JSh",
    "outputId": "6d3f215e-6a88-4439-9214-3731743e0ec4"
   },
   "outputs": [
    {
     "name": "stdout",
     "output_type": "stream",
     "text": [
      "[[ 1.28810374 -0.79238614 -0.32776005]\n",
      " [-0.62510102  0.39891493 -1.39576126]]\n"
     ]
    }
   ],
   "source": [
    "R = np.random.randn(2, 3)\n",
    "print(R)"
   ]
  },
  {
   "cell_type": "code",
   "execution_count": 5,
   "id": "expected-statistics",
   "metadata": {
    "colab": {
     "base_uri": "https://localhost:8080/"
    },
    "executionInfo": {
     "elapsed": 1526,
     "status": "ok",
     "timestamp": 1620884251605,
     "user": {
      "displayName": "khanhblog AI",
      "photoUrl": "https://lh3.googleusercontent.com/a-/AOh14GhNCi9Qnch9sWXSuvX4N5yijAGEjX1IvfmN-95m=s64",
      "userId": "06481533334230032014"
     },
     "user_tz": -420
    },
    "id": "X_o70HoM_ypH",
    "outputId": "e271c6a6-0fcc-44c7-9b19-d18129f9a9cd"
   },
   "outputs": [
    {
     "name": "stdout",
     "output_type": "stream",
     "text": [
      "[[ 1.75032976  3.2426828   2.52541944]\n",
      " [-3.66904972  4.41984353  1.39445278]]\n"
     ]
    }
   ],
   "source": [
    "R = np.random.normal(loc=1, scale=2, size=(2, 3))\n",
    "print(R)"
   ]
  },
  {
   "cell_type": "code",
   "execution_count": 6,
   "id": "southwest-yield",
   "metadata": {
    "colab": {
     "base_uri": "https://localhost:8080/"
    },
    "executionInfo": {
     "elapsed": 1519,
     "status": "ok",
     "timestamp": 1620884251605,
     "user": {
      "displayName": "khanhblog AI",
      "photoUrl": "https://lh3.googleusercontent.com/a-/AOh14GhNCi9Qnch9sWXSuvX4N5yijAGEjX1IvfmN-95m=s64",
      "userId": "06481533334230032014"
     },
     "user_tz": -420
    },
    "id": "PxEtBJ266hRw",
    "outputId": "00e03870-1361-4e19-8068-9e3135fb8d28"
   },
   "outputs": [
    {
     "name": "stdout",
     "output_type": "stream",
     "text": [
      "[[ 0.58330912  0.0827924  -0.59443436]\n",
      " [ 0.7381164   0.5265381   0.66430905]]\n"
     ]
    }
   ],
   "source": [
    "R = np.random.uniform(low=-1, high=1, size=(2, 3))\n",
    "print(R)"
   ]
  },
  {
   "cell_type": "code",
   "execution_count": 7,
   "id": "wired-adobe",
   "metadata": {
    "colab": {
     "base_uri": "https://localhost:8080/"
    },
    "executionInfo": {
     "elapsed": 1514,
     "status": "ok",
     "timestamp": 1620884251606,
     "user": {
      "displayName": "khanhblog AI",
      "photoUrl": "https://lh3.googleusercontent.com/a-/AOh14GhNCi9Qnch9sWXSuvX4N5yijAGEjX1IvfmN-95m=s64",
      "userId": "06481533334230032014"
     },
     "user_tz": -420
    },
    "id": "9GvqQ-0_Bz0x",
    "outputId": "69442179-4bc6-49b1-fef5-3915a5ec7923"
   },
   "outputs": [
    {
     "name": "stdout",
     "output_type": "stream",
     "text": [
      "[[2 3 1]\n",
      " [1 1 0]]\n"
     ]
    }
   ],
   "source": [
    "R = np.random.randint(low=-5, high=5, size=(2, 3))\n",
    "print(R)"
   ]
  },
  {
   "cell_type": "code",
   "execution_count": 8,
   "id": "bibliographic-fluid",
   "metadata": {
    "colab": {
     "base_uri": "https://localhost:8080/"
    },
    "executionInfo": {
     "elapsed": 865,
     "status": "ok",
     "timestamp": 1620884265329,
     "user": {
      "displayName": "khanhblog AI",
      "photoUrl": "https://lh3.googleusercontent.com/a-/AOh14GhNCi9Qnch9sWXSuvX4N5yijAGEjX1IvfmN-95m=s64",
      "userId": "06481533334230032014"
     },
     "user_tz": -420
    },
    "id": "oP30GUgi89_v",
    "outputId": "b13e9cf4-d87b-44e7-b986-5615f0650869"
   },
   "outputs": [
    {
     "data": {
      "text/plain": [
       "array([[-0.12101232, -3.94410163,  0.34558961],\n",
       "       [-0.40323939,  0.87749475,  1.08300805],\n",
       "       [ 3.59616781, -1.62671951, -0.562392  ]])"
      ]
     },
     "execution_count": 8,
     "metadata": {},
     "output_type": "execute_result"
    }
   ],
   "source": [
    "# from google.colab import drive\n",
    "# import os\n",
    "\n",
    "# Mount google driver\n",
    "# drive.mount('/content/drive/')\n",
    "# os.chdir(\"drive/My Drive/mybook\")\n",
    "\n",
    "import numpy as np\n",
    "\n",
    "# Khởi tạo một mảng ngẫu nhiên A\n",
    "A = np.random.randn(3, 3)\n",
    "A"
   ]
  },
  {
   "cell_type": "code",
   "execution_count": 9,
   "id": "fancy-benjamin",
   "metadata": {
    "executionInfo": {
     "elapsed": 1825,
     "status": "aborted",
     "timestamp": 1620884251940,
     "user": {
      "displayName": "khanhblog AI",
      "photoUrl": "https://lh3.googleusercontent.com/a-/AOh14GhNCi9Qnch9sWXSuvX4N5yijAGEjX1IvfmN-95m=s64",
      "userId": "06481533334230032014"
     },
     "user_tz": -420
    },
    "id": "aXX6RnWK-LYh"
   },
   "outputs": [
    {
     "name": "stdout",
     "output_type": "stream",
     "text": [
      ".  ..  A.npy  A.txt\r\n"
     ]
    }
   ],
   "source": [
    "# Định dạng npy\n",
    "np.save('numpy_save/A', A)\n",
    "# Định dạng txt\n",
    "np.savetxt('numpy_save/A.txt', A)\n",
    "# List các file\n",
    "!ls -a numpy_save"
   ]
  },
  {
   "cell_type": "code",
   "execution_count": 10,
   "id": "super-marathon",
   "metadata": {
    "executionInfo": {
     "elapsed": 1822,
     "status": "aborted",
     "timestamp": 1620884251941,
     "user": {
      "displayName": "khanhblog AI",
      "photoUrl": "https://lh3.googleusercontent.com/a-/AOh14GhNCi9Qnch9sWXSuvX4N5yijAGEjX1IvfmN-95m=s64",
      "userId": "06481533334230032014"
     },
     "user_tz": -420
    },
    "id": "pI_pk0HoLpap"
   },
   "outputs": [
    {
     "name": "stdout",
     "output_type": "stream",
     "text": [
      "[[-0.12101232 -3.94410163  0.34558961]\n",
      " [-0.40323939  0.87749475  1.08300805]\n",
      " [ 3.59616781 -1.62671951 -0.562392  ]]\n"
     ]
    }
   ],
   "source": [
    "A = np.load(\"numpy_save/A.npy\")\n",
    "print(A)"
   ]
  },
  {
   "cell_type": "code",
   "execution_count": 11,
   "id": "north-steal",
   "metadata": {
    "executionInfo": {
     "elapsed": 1819,
     "status": "aborted",
     "timestamp": 1620884251941,
     "user": {
      "displayName": "khanhblog AI",
      "photoUrl": "https://lh3.googleusercontent.com/a-/AOh14GhNCi9Qnch9sWXSuvX4N5yijAGEjX1IvfmN-95m=s64",
      "userId": "06481533334230032014"
     },
     "user_tz": -420
    },
    "id": "kWE7CBtlA7wG"
   },
   "outputs": [
    {
     "name": "stdout",
     "output_type": "stream",
     "text": [
      "[[-0.12101232 -3.94410163  0.34558961]\n",
      " [-0.40323939  0.87749475  1.08300805]\n",
      " [ 3.59616781 -1.62671951 -0.562392  ]]\n"
     ]
    }
   ],
   "source": [
    "np.loadtxt(\"numpy_save/A.txt\")\n",
    "print(A)"
   ]
  },
  {
   "cell_type": "code",
   "execution_count": 12,
   "id": "polished-hormone",
   "metadata": {
    "executionInfo": {
     "elapsed": 1816,
     "status": "aborted",
     "timestamp": 1620884251942,
     "user": {
      "displayName": "khanhblog AI",
      "photoUrl": "https://lh3.googleusercontent.com/a-/AOh14GhNCi9Qnch9sWXSuvX4N5yijAGEjX1IvfmN-95m=s64",
      "userId": "06481533334230032014"
     },
     "user_tz": -420
    },
    "id": "RZW5iPRdCG-m"
   },
   "outputs": [
    {
     "data": {
      "text/html": [
       "<div>\n",
       "<style scoped>\n",
       "    .dataframe tbody tr th:only-of-type {\n",
       "        vertical-align: middle;\n",
       "    }\n",
       "\n",
       "    .dataframe tbody tr th {\n",
       "        vertical-align: top;\n",
       "    }\n",
       "\n",
       "    .dataframe thead th {\n",
       "        text-align: right;\n",
       "    }\n",
       "</style>\n",
       "<table border=\"1\" class=\"dataframe\">\n",
       "  <thead>\n",
       "    <tr style=\"text-align: right;\">\n",
       "      <th></th>\n",
       "      <th>0</th>\n",
       "      <th>1</th>\n",
       "      <th>2</th>\n",
       "    </tr>\n",
       "  </thead>\n",
       "  <tbody>\n",
       "    <tr>\n",
       "      <th>0</th>\n",
       "      <td>-0.121012</td>\n",
       "      <td>-3.944102</td>\n",
       "      <td>0.345590</td>\n",
       "    </tr>\n",
       "    <tr>\n",
       "      <th>1</th>\n",
       "      <td>-0.403239</td>\n",
       "      <td>0.877495</td>\n",
       "      <td>1.083008</td>\n",
       "    </tr>\n",
       "    <tr>\n",
       "      <th>2</th>\n",
       "      <td>3.596168</td>\n",
       "      <td>-1.626720</td>\n",
       "      <td>-0.562392</td>\n",
       "    </tr>\n",
       "  </tbody>\n",
       "</table>\n",
       "</div>"
      ],
      "text/plain": [
       "          0         1         2\n",
       "0 -0.121012 -3.944102  0.345590\n",
       "1 -0.403239  0.877495  1.083008\n",
       "2  3.596168 -1.626720 -0.562392"
      ]
     },
     "execution_count": 12,
     "metadata": {},
     "output_type": "execute_result"
    }
   ],
   "source": [
    "import pandas as pd\n",
    "\n",
    "df = pd.read_csv(\"numpy_save/A.txt\", header=None, sep=\" \")\n",
    "df"
   ]
  },
  {
   "cell_type": "code",
   "execution_count": 13,
   "id": "utility-governor",
   "metadata": {
    "executionInfo": {
     "elapsed": 1813,
     "status": "aborted",
     "timestamp": 1620884251942,
     "user": {
      "displayName": "khanhblog AI",
      "photoUrl": "https://lh3.googleusercontent.com/a-/AOh14GhNCi9Qnch9sWXSuvX4N5yijAGEjX1IvfmN-95m=s64",
      "userId": "06481533334230032014"
     },
     "user_tz": -420
    },
    "id": "NHys3DxQCS4P"
   },
   "outputs": [
    {
     "name": "stdout",
     "output_type": "stream",
     "text": [
      "[[-0.12101232 -3.94410163  0.34558961]\n",
      " [-0.40323939  0.87749475  1.08300805]\n",
      " [ 3.59616781 -1.62671951 -0.562392  ]]\n"
     ]
    }
   ],
   "source": [
    "A = df.values\n",
    "print(A)"
   ]
  },
  {
   "cell_type": "code",
   "execution_count": 14,
   "id": "characteristic-costume",
   "metadata": {
    "executionInfo": {
     "elapsed": 926,
     "status": "ok",
     "timestamp": 1620884282359,
     "user": {
      "displayName": "khanhblog AI",
      "photoUrl": "https://lh3.googleusercontent.com/a-/AOh14GhNCi9Qnch9sWXSuvX4N5yijAGEjX1IvfmN-95m=s64",
      "userId": "06481533334230032014"
     },
     "user_tz": -420
    },
    "id": "5cDv5hbqG9pS"
   },
   "outputs": [],
   "source": [
    "import numpy as np \n",
    "X = np.array([[1, 2, 3, 4],\n",
    "              [4, 5, 6, 2],\n",
    "              [7, 8, 9, 1],\n",
    "              [2, 5, 1, 5]])"
   ]
  },
  {
   "cell_type": "code",
   "execution_count": 15,
   "id": "manual-cosmetic",
   "metadata": {
    "colab": {
     "base_uri": "https://localhost:8080/"
    },
    "executionInfo": {
     "elapsed": 1483,
     "status": "ok",
     "timestamp": 1620884282929,
     "user": {
      "displayName": "khanhblog AI",
      "photoUrl": "https://lh3.googleusercontent.com/a-/AOh14GhNCi9Qnch9sWXSuvX4N5yijAGEjX1IvfmN-95m=s64",
      "userId": "06481533334230032014"
     },
     "user_tz": -420
    },
    "id": "kQBLIdv3HGtS",
    "outputId": "f8c2bf92-b496-4563-ab8e-17aa7c738ca4"
   },
   "outputs": [
    {
     "name": "stdout",
     "output_type": "stream",
     "text": [
      "6\n"
     ]
    }
   ],
   "source": [
    "# Truy cập vào phần tử thuộc dòng 1 và cột 2\n",
    "print(X[1, 2])"
   ]
  },
  {
   "cell_type": "code",
   "execution_count": 16,
   "id": "changing-delay",
   "metadata": {
    "colab": {
     "base_uri": "https://localhost:8080/"
    },
    "executionInfo": {
     "elapsed": 1479,
     "status": "ok",
     "timestamp": 1620884282930,
     "user": {
      "displayName": "khanhblog AI",
      "photoUrl": "https://lh3.googleusercontent.com/a-/AOh14GhNCi9Qnch9sWXSuvX4N5yijAGEjX1IvfmN-95m=s64",
      "userId": "06481533334230032014"
     },
     "user_tz": -420
    },
    "id": "rExEFNIMHXW1",
    "outputId": "f5998e60-be48-44dd-8e9e-2991af86d67f"
   },
   "outputs": [
    {
     "name": "stdout",
     "output_type": "stream",
     "text": [
      "[[5 6]\n",
      " [8 9]]\n"
     ]
    }
   ],
   "source": [
    "# Truy cập vào các dòng từ 1 đến 2 và các cột từ 1 đến 2\n",
    "print(X[1:3, 1:3])"
   ]
  },
  {
   "cell_type": "code",
   "execution_count": 17,
   "id": "ethical-flight",
   "metadata": {
    "colab": {
     "base_uri": "https://localhost:8080/"
    },
    "executionInfo": {
     "elapsed": 1476,
     "status": "ok",
     "timestamp": 1620884282931,
     "user": {
      "displayName": "khanhblog AI",
      "photoUrl": "https://lh3.googleusercontent.com/a-/AOh14GhNCi9Qnch9sWXSuvX4N5yijAGEjX1IvfmN-95m=s64",
      "userId": "06481533334230032014"
     },
     "user_tz": -420
    },
    "id": "CZ6VPc6zHk9Z",
    "outputId": "f753731f-695c-4b44-ae14-3391bdaa94ca"
   },
   "outputs": [
    {
     "name": "stdout",
     "output_type": "stream",
     "text": [
      "[[1 2]\n",
      " [4 5]]\n"
     ]
    }
   ],
   "source": [
    "# Truy cập vào 2 dòng, 2 cột đầu tiên\n",
    "print(X[:2, :2])"
   ]
  },
  {
   "cell_type": "code",
   "execution_count": 18,
   "id": "modified-costume",
   "metadata": {
    "colab": {
     "base_uri": "https://localhost:8080/"
    },
    "executionInfo": {
     "elapsed": 1474,
     "status": "ok",
     "timestamp": 1620884282932,
     "user": {
      "displayName": "khanhblog AI",
      "photoUrl": "https://lh3.googleusercontent.com/a-/AOh14GhNCi9Qnch9sWXSuvX4N5yijAGEjX1IvfmN-95m=s64",
      "userId": "06481533334230032014"
     },
     "user_tz": -420
    },
    "id": "UBBUC4WnHo6L",
    "outputId": "24181c34-37a2-4cc6-bd19-2b671415b4eb"
   },
   "outputs": [
    {
     "name": "stdout",
     "output_type": "stream",
     "text": [
      "[[9 1]\n",
      " [1 5]]\n"
     ]
    }
   ],
   "source": [
    "# Truy cập vào 2 dòng, 2 cột cuối cùng\n",
    "print(X[-2:, -2:])"
   ]
  },
  {
   "cell_type": "code",
   "execution_count": 19,
   "id": "resident-aircraft",
   "metadata": {
    "colab": {
     "base_uri": "https://localhost:8080/"
    },
    "executionInfo": {
     "elapsed": 1470,
     "status": "ok",
     "timestamp": 1620884282932,
     "user": {
      "displayName": "khanhblog AI",
      "photoUrl": "https://lh3.googleusercontent.com/a-/AOh14GhNCi9Qnch9sWXSuvX4N5yijAGEjX1IvfmN-95m=s64",
      "userId": "06481533334230032014"
     },
     "user_tz": -420
    },
    "id": "errkC_TxHsO5",
    "outputId": "6a5976f1-21f4-41b6-d813-0ad419ac6140"
   },
   "outputs": [
    {
     "name": "stdout",
     "output_type": "stream",
     "text": [
      "[[1 2 3 4]\n",
      " [7 8 9 1]]\n"
     ]
    }
   ],
   "source": [
    "# Truy cập vào dòng 0 và 2. Cách lấy indices không liên tục.\n",
    "print(X[[0, 2], :])"
   ]
  },
  {
   "cell_type": "code",
   "execution_count": 20,
   "id": "literary-forth",
   "metadata": {
    "colab": {
     "base_uri": "https://localhost:8080/"
    },
    "executionInfo": {
     "elapsed": 1468,
     "status": "ok",
     "timestamp": 1620884282933,
     "user": {
      "displayName": "khanhblog AI",
      "photoUrl": "https://lh3.googleusercontent.com/a-/AOh14GhNCi9Qnch9sWXSuvX4N5yijAGEjX1IvfmN-95m=s64",
      "userId": "06481533334230032014"
     },
     "user_tz": -420
    },
    "id": "g9EVI3iyII8c",
    "outputId": "c849b088-56c1-4f56-907c-5022c8205c1e"
   },
   "outputs": [
    {
     "name": "stdout",
     "output_type": "stream",
     "text": [
      "B: \n",
      " [ 0  1  2  3  4  5  6  7  8  9 10 11]\n",
      "B.shape:  (12,)\n"
     ]
    }
   ],
   "source": [
    "B = np.array(np.arange(12))\n",
    "print(\"B: \\n\", B)\n",
    "print(\"B.shape: \", B.shape)"
   ]
  },
  {
   "cell_type": "code",
   "execution_count": 21,
   "id": "turned-eleven",
   "metadata": {
    "colab": {
     "base_uri": "https://localhost:8080/"
    },
    "executionInfo": {
     "elapsed": 1465,
     "status": "ok",
     "timestamp": 1620884282933,
     "user": {
      "displayName": "khanhblog AI",
      "photoUrl": "https://lh3.googleusercontent.com/a-/AOh14GhNCi9Qnch9sWXSuvX4N5yijAGEjX1IvfmN-95m=s64",
      "userId": "06481533334230032014"
     },
     "user_tz": -420
    },
    "id": "9_znpjSzIuJj",
    "outputId": "746af463-b94d-4ec0-cf0c-a2fb9d8b2456"
   },
   "outputs": [
    {
     "data": {
      "text/plain": [
       "array([[ 0,  1,  2,  3,  4,  5],\n",
       "       [ 6,  7,  8,  9, 10, 11]])"
      ]
     },
     "execution_count": 21,
     "metadata": {},
     "output_type": "execute_result"
    }
   ],
   "source": [
    "# dùng B.reshape()\n",
    "B.reshape(2, 6)"
   ]
  },
  {
   "cell_type": "code",
   "execution_count": 22,
   "id": "complimentary-resort",
   "metadata": {
    "colab": {
     "base_uri": "https://localhost:8080/"
    },
    "executionInfo": {
     "elapsed": 1462,
     "status": "ok",
     "timestamp": 1620884282933,
     "user": {
      "displayName": "khanhblog AI",
      "photoUrl": "https://lh3.googleusercontent.com/a-/AOh14GhNCi9Qnch9sWXSuvX4N5yijAGEjX1IvfmN-95m=s64",
      "userId": "06481533334230032014"
     },
     "user_tz": -420
    },
    "id": "ll8miEQFI81a",
    "outputId": "cc588331-1d79-4c20-ac22-98421198940a"
   },
   "outputs": [
    {
     "data": {
      "text/plain": [
       "array([[ 0,  1,  2,  3,  4,  5],\n",
       "       [ 6,  7,  8,  9, 10, 11]])"
      ]
     },
     "execution_count": 22,
     "metadata": {},
     "output_type": "execute_result"
    }
   ],
   "source": [
    "# dùng np.reshape()\n",
    "np.reshape(B, (2, 6))"
   ]
  },
  {
   "cell_type": "code",
   "execution_count": 23,
   "id": "turned-aircraft",
   "metadata": {
    "colab": {
     "base_uri": "https://localhost:8080/"
    },
    "executionInfo": {
     "elapsed": 1460,
     "status": "ok",
     "timestamp": 1620884282934,
     "user": {
      "displayName": "khanhblog AI",
      "photoUrl": "https://lh3.googleusercontent.com/a-/AOh14GhNCi9Qnch9sWXSuvX4N5yijAGEjX1IvfmN-95m=s64",
      "userId": "06481533334230032014"
     },
     "user_tz": -420
    },
    "id": "4mTT1XH8JcuQ",
    "outputId": "56a175d1-2773-4dd3-9456-b7b999705bc0"
   },
   "outputs": [
    {
     "data": {
      "text/plain": [
       "array([[ 0,  1,  2,  3,  4,  5],\n",
       "       [ 6,  7,  8,  9, 10, 11]])"
      ]
     },
     "execution_count": 23,
     "metadata": {},
     "output_type": "execute_result"
    }
   ],
   "source": [
    "B.reshape(2, -1)"
   ]
  },
  {
   "cell_type": "code",
   "execution_count": 24,
   "id": "flying-cigarette",
   "metadata": {
    "colab": {
     "base_uri": "https://localhost:8080/"
    },
    "executionInfo": {
     "elapsed": 1457,
     "status": "ok",
     "timestamp": 1620884282934,
     "user": {
      "displayName": "khanhblog AI",
      "photoUrl": "https://lh3.googleusercontent.com/a-/AOh14GhNCi9Qnch9sWXSuvX4N5yijAGEjX1IvfmN-95m=s64",
      "userId": "06481533334230032014"
     },
     "user_tz": -420
    },
    "id": "SvXrmKxlJe-o",
    "outputId": "54565165-aa8c-4f8c-e609-a06bb1cf8993"
   },
   "outputs": [
    {
     "name": "stdout",
     "output_type": "stream",
     "text": [
      "[[ 0  1  2  3  4  5]\n",
      " [ 6  7  8  9 10 11]]\n"
     ]
    }
   ],
   "source": [
    "B = np.reshape(B, (2, -1))\n",
    "print(B)"
   ]
  },
  {
   "cell_type": "code",
   "execution_count": 25,
   "id": "swedish-cambridge",
   "metadata": {
    "colab": {
     "base_uri": "https://localhost:8080/"
    },
    "executionInfo": {
     "elapsed": 1046,
     "status": "ok",
     "timestamp": 1620894116203,
     "user": {
      "displayName": "khanhblog AI",
      "photoUrl": "https://lh3.googleusercontent.com/a-/AOh14GhNCi9Qnch9sWXSuvX4N5yijAGEjX1IvfmN-95m=s64",
      "userId": "06481533334230032014"
     },
     "user_tz": -420
    },
    "id": "S9Q47i9mzJxH",
    "outputId": "66b72760-c131-41f6-f378-f3fe62b90122"
   },
   "outputs": [
    {
     "name": "stdout",
     "output_type": "stream",
     "text": [
      "A.shape:  (3, 28, 28)\n",
      "A transpose shape:  (28, 28, 3)\n"
     ]
    }
   ],
   "source": [
    "# Khởi một bức ảnh ngẫu nhiên có kích thước channels x width x height= 3 x 28 x 28\n",
    "A = np.random.randint(0, 255, size=(3, 28, 28))\n",
    "print(\"A.shape: \", A.shape)\n",
    "# Chuyển channels về cuối\n",
    "A = np.transpose(A, (1, 2, 0))\n",
    "print(\"A transpose shape: \", A.shape)"
   ]
  },
  {
   "cell_type": "code",
   "execution_count": 26,
   "id": "thick-paragraph",
   "metadata": {
    "colab": {
     "base_uri": "https://localhost:8080/"
    },
    "executionInfo": {
     "elapsed": 820,
     "status": "ok",
     "timestamp": 1620894966858,
     "user": {
      "displayName": "khanhblog AI",
      "photoUrl": "https://lh3.googleusercontent.com/a-/AOh14GhNCi9Qnch9sWXSuvX4N5yijAGEjX1IvfmN-95m=s64",
      "userId": "06481533334230032014"
     },
     "user_tz": -420
    },
    "id": "5cITccV-2xUk",
    "outputId": "3d89d2e0-3a65-4453-e115-0aa3a6bb4c61"
   },
   "outputs": [
    {
     "name": "stdout",
     "output_type": "stream",
     "text": [
      "A.shape: (28, 28, 3)\n",
      "B.shape: (28, 28, 3)\n",
      "shape after concatenate:  (28, 56, 3)\n"
     ]
    }
   ],
   "source": [
    "A = np.random.randint(0, 255, size=(28, 28, 3))\n",
    "B = np.random.randint(0, 255, size=(28, 28, 3))\n",
    "print(\"A.shape:\", A.shape)\n",
    "print(\"B.shape:\", B.shape)\n",
    "AB = np.concatenate((A, B), axis=1)\n",
    "print(\"shape after concatenate: \", AB.shape)"
   ]
  },
  {
   "cell_type": "code",
   "execution_count": 27,
   "id": "southeast-uganda",
   "metadata": {
    "colab": {
     "base_uri": "https://localhost:8080/"
    },
    "executionInfo": {
     "elapsed": 771,
     "status": "ok",
     "timestamp": 1620895015610,
     "user": {
      "displayName": "khanhblog AI",
      "photoUrl": "https://lh3.googleusercontent.com/a-/AOh14GhNCi9Qnch9sWXSuvX4N5yijAGEjX1IvfmN-95m=s64",
      "userId": "06481533334230032014"
     },
     "user_tz": -420
    },
    "id": "QFxTEexZ3rkG",
    "outputId": "30c38888-e2b6-4158-80c0-61a086d515d2"
   },
   "outputs": [
    {
     "data": {
      "text/plain": [
       "(2, 28, 28, 3)"
      ]
     },
     "execution_count": 27,
     "metadata": {},
     "output_type": "execute_result"
    }
   ],
   "source": [
    "np.stack([A, B]).shape"
   ]
  },
  {
   "cell_type": "code",
   "execution_count": 28,
   "id": "separate-career",
   "metadata": {
    "colab": {
     "base_uri": "https://localhost:8080/"
    },
    "executionInfo": {
     "elapsed": 967,
     "status": "ok",
     "timestamp": 1620895129406,
     "user": {
      "displayName": "khanhblog AI",
      "photoUrl": "https://lh3.googleusercontent.com/a-/AOh14GhNCi9Qnch9sWXSuvX4N5yijAGEjX1IvfmN-95m=s64",
      "userId": "06481533334230032014"
     },
     "user_tz": -420
    },
    "id": "y-6mv0I83-_g",
    "outputId": "ec3d7bfd-3b3a-4620-9a5f-4fcea2b329d5"
   },
   "outputs": [
    {
     "name": "stdout",
     "output_type": "stream",
     "text": [
      "(56, 28, 3)\n",
      "(28, 56, 3)\n"
     ]
    }
   ],
   "source": [
    "# Stack theo chiều vertical\n",
    "print(np.vstack([A, B]).shape)\n",
    "\n",
    "# Stack theo chiều horizontal\n",
    "print(np.hstack([A, B]).shape)"
   ]
  },
  {
   "cell_type": "code",
   "execution_count": 29,
   "id": "comparable-disaster",
   "metadata": {
    "executionInfo": {
     "elapsed": 902,
     "status": "ok",
     "timestamp": 1620896866996,
     "user": {
      "displayName": "khanhblog AI",
      "photoUrl": "https://lh3.googleusercontent.com/a-/AOh14GhNCi9Qnch9sWXSuvX4N5yijAGEjX1IvfmN-95m=s64",
      "userId": "06481533334230032014"
     },
     "user_tz": -420
    },
    "id": "DFrRKnrM87mp"
   },
   "outputs": [],
   "source": [
    "A = np.random.randint(0, 2, size=(1, 2, 3))\n",
    "B = np.random.randint(0, 2, size=(1, 3))\n",
    "\n",
    "# A.dot(B)"
   ]
  },
  {
   "cell_type": "code",
   "execution_count": 30,
   "id": "fitting-throw",
   "metadata": {
    "colab": {
     "base_uri": "https://localhost:8080/"
    },
    "executionInfo": {
     "elapsed": 741,
     "status": "ok",
     "timestamp": 1620896869486,
     "user": {
      "displayName": "khanhblog AI",
      "photoUrl": "https://lh3.googleusercontent.com/a-/AOh14GhNCi9Qnch9sWXSuvX4N5yijAGEjX1IvfmN-95m=s64",
      "userId": "06481533334230032014"
     },
     "user_tz": -420
    },
    "id": "aJhBccBE-e_z",
    "outputId": "8d918d59-403f-4a9d-8092-d92819d1c1bf"
   },
   "outputs": [
    {
     "name": "stdout",
     "output_type": "stream",
     "text": [
      "B new shape:  (1, 3, 1)\n",
      "A.dot(B) shape:  (1, 2, 1, 1)\n"
     ]
    }
   ],
   "source": [
    "# Mở rộng mảng\n",
    "B = np.expand_dims(B, axis=-1)\n",
    "print(\"B new shape: \", B.shape)\n",
    "print(\"A.dot(B) shape: \", A.dot(B).shape)"
   ]
  },
  {
   "cell_type": "code",
   "execution_count": 31,
   "id": "sharing-clause",
   "metadata": {
    "colab": {
     "base_uri": "https://localhost:8080/"
    },
    "executionInfo": {
     "elapsed": 1455,
     "status": "ok",
     "timestamp": 1620884282935,
     "user": {
      "displayName": "khanhblog AI",
      "photoUrl": "https://lh3.googleusercontent.com/a-/AOh14GhNCi9Qnch9sWXSuvX4N5yijAGEjX1IvfmN-95m=s64",
      "userId": "06481533334230032014"
     },
     "user_tz": -420
    },
    "id": "GiU0iT8DJ0Om",
    "outputId": "36cafe7f-0d2d-4101-dc19-30f04cbcbc72"
   },
   "outputs": [
    {
     "data": {
      "text/plain": [
       "0"
      ]
     },
     "execution_count": 31,
     "metadata": {},
     "output_type": "execute_result"
    }
   ],
   "source": [
    "B = np.array([[ 0,  1,  2,  3,  4,  5],\n",
    "              [ 6,  7,  8,  9, 10, 11]])\n",
    "\n",
    "# Tìm ra phần tử nhỏ nhất của B\n",
    "B.min()"
   ]
  },
  {
   "cell_type": "code",
   "execution_count": 32,
   "id": "french-yield",
   "metadata": {
    "colab": {
     "base_uri": "https://localhost:8080/"
    },
    "executionInfo": {
     "elapsed": 1452,
     "status": "ok",
     "timestamp": 1620884282935,
     "user": {
      "displayName": "khanhblog AI",
      "photoUrl": "https://lh3.googleusercontent.com/a-/AOh14GhNCi9Qnch9sWXSuvX4N5yijAGEjX1IvfmN-95m=s64",
      "userId": "06481533334230032014"
     },
     "user_tz": -420
    },
    "id": "F4sQyOb1J7zg",
    "outputId": "8ca53bc4-a5df-4965-9c19-13b09e4ef5ff"
   },
   "outputs": [
    {
     "data": {
      "text/plain": [
       "array([0, 6])"
      ]
     },
     "execution_count": 32,
     "metadata": {},
     "output_type": "execute_result"
    }
   ],
   "source": [
    "# Tìm ra phần tử nhỏ nhất của B theo dòng\n",
    "B.min(axis=1)"
   ]
  },
  {
   "cell_type": "code",
   "execution_count": 33,
   "id": "necessary-glory",
   "metadata": {
    "colab": {
     "base_uri": "https://localhost:8080/"
    },
    "executionInfo": {
     "elapsed": 1449,
     "status": "ok",
     "timestamp": 1620884282935,
     "user": {
      "displayName": "khanhblog AI",
      "photoUrl": "https://lh3.googleusercontent.com/a-/AOh14GhNCi9Qnch9sWXSuvX4N5yijAGEjX1IvfmN-95m=s64",
      "userId": "06481533334230032014"
     },
     "user_tz": -420
    },
    "id": "dD-LGXvsKXPa",
    "outputId": "8508fd7b-a184-47fc-d97f-019a08f669bd"
   },
   "outputs": [
    {
     "data": {
      "text/plain": [
       "array([0, 1, 2, 3, 4, 5])"
      ]
     },
     "execution_count": 33,
     "metadata": {},
     "output_type": "execute_result"
    }
   ],
   "source": [
    "# Tìm ra phần tử nhỏ nhất của B theo cột\n",
    "B.min(axis=0)"
   ]
  },
  {
   "cell_type": "code",
   "execution_count": 34,
   "id": "final-neighborhood",
   "metadata": {
    "colab": {
     "base_uri": "https://localhost:8080/"
    },
    "executionInfo": {
     "elapsed": 1447,
     "status": "ok",
     "timestamp": 1620884282936,
     "user": {
      "displayName": "khanhblog AI",
      "photoUrl": "https://lh3.googleusercontent.com/a-/AOh14GhNCi9Qnch9sWXSuvX4N5yijAGEjX1IvfmN-95m=s64",
      "userId": "06481533334230032014"
     },
     "user_tz": -420
    },
    "id": "r0yQ5KWZJ3Qn",
    "outputId": "23e23aba-0abf-4156-8134-2fa890dcea99"
   },
   "outputs": [
    {
     "name": "stdout",
     "output_type": "stream",
     "text": [
      "[ 5 11]\n",
      "[2.5 8.5]\n",
      "[15 51]\n"
     ]
    }
   ],
   "source": [
    "print(B.max(axis=1))\n",
    "print(B.mean(axis=1))\n",
    "print(B.sum(axis=1))"
   ]
  },
  {
   "cell_type": "code",
   "execution_count": 35,
   "id": "covered-companion",
   "metadata": {
    "colab": {
     "base_uri": "https://localhost:8080/"
    },
    "executionInfo": {
     "elapsed": 1444,
     "status": "ok",
     "timestamp": 1620884282936,
     "user": {
      "displayName": "khanhblog AI",
      "photoUrl": "https://lh3.googleusercontent.com/a-/AOh14GhNCi9Qnch9sWXSuvX4N5yijAGEjX1IvfmN-95m=s64",
      "userId": "06481533334230032014"
     },
     "user_tz": -420
    },
    "id": "OPQHOdtFLjYy",
    "outputId": "44776a8f-9a91-4159-b7a4-51dea81b6e7a"
   },
   "outputs": [
    {
     "data": {
      "text/plain": [
       "array([[ 1,  4,  6],\n",
       "       [ 2,  7, 10]])"
      ]
     },
     "execution_count": 35,
     "metadata": {},
     "output_type": "execute_result"
    }
   ],
   "source": [
    "A = np.array([[1, 3, 6], \n",
    "              [2, 7, 9]])\n",
    "\n",
    "B = np.array([[0, 4, 5], \n",
    "              [1, 6, 10]])\n",
    "\n",
    "# Tìm các phần tử maximum của A và B ở cùng vị trí indice\n",
    "np.maximum(A, B)"
   ]
  },
  {
   "cell_type": "code",
   "execution_count": 36,
   "id": "interior-creativity",
   "metadata": {
    "colab": {
     "base_uri": "https://localhost:8080/"
    },
    "executionInfo": {
     "elapsed": 1441,
     "status": "ok",
     "timestamp": 1620884282937,
     "user": {
      "displayName": "khanhblog AI",
      "photoUrl": "https://lh3.googleusercontent.com/a-/AOh14GhNCi9Qnch9sWXSuvX4N5yijAGEjX1IvfmN-95m=s64",
      "userId": "06481533334230032014"
     },
     "user_tz": -420
    },
    "id": "yso_sEqZMCsr",
    "outputId": "8f87a555-cabc-46a6-85ef-4f669561d926"
   },
   "outputs": [
    {
     "data": {
      "text/plain": [
       "array([[0, 3, 5],\n",
       "       [1, 6, 9]])"
      ]
     },
     "execution_count": 36,
     "metadata": {},
     "output_type": "execute_result"
    }
   ],
   "source": [
    "# Tìm các phần tử minimum của A và B ở cùng vị trí indice\n",
    "np.minimum(A, B)"
   ]
  },
  {
   "cell_type": "code",
   "execution_count": 37,
   "id": "recovered-methodology",
   "metadata": {
    "colab": {
     "base_uri": "https://localhost:8080/"
    },
    "executionInfo": {
     "elapsed": 1438,
     "status": "ok",
     "timestamp": 1620884282937,
     "user": {
      "displayName": "khanhblog AI",
      "photoUrl": "https://lh3.googleusercontent.com/a-/AOh14GhNCi9Qnch9sWXSuvX4N5yijAGEjX1IvfmN-95m=s64",
      "userId": "06481533334230032014"
     },
     "user_tz": -420
    },
    "id": "Qcxm8ehbUUkz",
    "outputId": "67dc702f-22e7-419a-e206-4c28d68224aa"
   },
   "outputs": [
    {
     "data": {
      "text/plain": [
       "1"
      ]
     },
     "execution_count": 37,
     "metadata": {},
     "output_type": "execute_result"
    }
   ],
   "source": [
    "# Tìm ra indice có giá trị lớn nhất của véc tơ\n",
    "A = np.array([1, 5, 3, 2, 4])\n",
    "np.argmax(A)"
   ]
  },
  {
   "cell_type": "code",
   "execution_count": 38,
   "id": "heard-crest",
   "metadata": {
    "colab": {
     "base_uri": "https://localhost:8080/"
    },
    "executionInfo": {
     "elapsed": 1436,
     "status": "ok",
     "timestamp": 1620884282938,
     "user": {
      "displayName": "khanhblog AI",
      "photoUrl": "https://lh3.googleusercontent.com/a-/AOh14GhNCi9Qnch9sWXSuvX4N5yijAGEjX1IvfmN-95m=s64",
      "userId": "06481533334230032014"
     },
     "user_tz": -420
    },
    "id": "y4d0jwCKUl5H",
    "outputId": "5f3b548d-ad6a-41dd-d34f-fb7831b7983e"
   },
   "outputs": [
    {
     "data": {
      "text/plain": [
       "array([1, 1, 0, 0])"
      ]
     },
     "execution_count": 38,
     "metadata": {},
     "output_type": "execute_result"
    }
   ],
   "source": [
    "# Tìm ra indice có giá trị lớn nhất của các dòng\n",
    "A = np.array([[1, 2],\n",
    "              [3, 4],\n",
    "              [5, 0],\n",
    "              [2, 1]])\n",
    "\n",
    "np.argmax(A, axis=1)"
   ]
  },
  {
   "cell_type": "code",
   "execution_count": 39,
   "id": "grateful-milan",
   "metadata": {
    "executionInfo": {
     "elapsed": 1434,
     "status": "ok",
     "timestamp": 1620884282938,
     "user": {
      "displayName": "khanhblog AI",
      "photoUrl": "https://lh3.googleusercontent.com/a-/AOh14GhNCi9Qnch9sWXSuvX4N5yijAGEjX1IvfmN-95m=s64",
      "userId": "06481533334230032014"
     },
     "user_tz": -420
    },
    "id": "sbcU8t6MVnQ4"
   },
   "outputs": [],
   "source": [
    "B = np.array([[0.1, 0.2, 0.7],\n",
    "              [0.6, 0.4, 0.0],\n",
    "              [0.1, 0.5, 0.4],\n",
    "              [0.3, 0.3, 0.4],\n",
    "              [0.1, 0.8, 0.1]])"
   ]
  },
  {
   "cell_type": "code",
   "execution_count": 40,
   "id": "clear-jurisdiction",
   "metadata": {
    "colab": {
     "base_uri": "https://localhost:8080/"
    },
    "executionInfo": {
     "elapsed": 1431,
     "status": "ok",
     "timestamp": 1620884282938,
     "user": {
      "displayName": "khanhblog AI",
      "photoUrl": "https://lh3.googleusercontent.com/a-/AOh14GhNCi9Qnch9sWXSuvX4N5yijAGEjX1IvfmN-95m=s64",
      "userId": "06481533334230032014"
     },
     "user_tz": -420
    },
    "id": "Nke-M0IbWGGm",
    "outputId": "ad6234aa-81e3-430d-a411-a8b84123b84b"
   },
   "outputs": [
    {
     "data": {
      "text/plain": [
       "array([[0, 0, 1],\n",
       "       [2, 3, 4],\n",
       "       [4, 1, 2],\n",
       "       [3, 2, 3],\n",
       "       [1, 4, 0]])"
      ]
     },
     "execution_count": 40,
     "metadata": {},
     "output_type": "execute_result"
    }
   ],
   "source": [
    "# Tìm ra indice của các cột theo thứ tự tăng dần\n",
    "np.argsort(B, axis = 0)"
   ]
  },
  {
   "cell_type": "code",
   "execution_count": 41,
   "id": "activated-shark",
   "metadata": {
    "colab": {
     "base_uri": "https://localhost:8080/"
    },
    "executionInfo": {
     "elapsed": 1429,
     "status": "ok",
     "timestamp": 1620884282939,
     "user": {
      "displayName": "khanhblog AI",
      "photoUrl": "https://lh3.googleusercontent.com/a-/AOh14GhNCi9Qnch9sWXSuvX4N5yijAGEjX1IvfmN-95m=s64",
      "userId": "06481533334230032014"
     },
     "user_tz": -420
    },
    "id": "rEc9fx0cXG5S",
    "outputId": "2037e19c-fc4c-4e66-8a1d-213fd46591ec"
   },
   "outputs": [
    {
     "data": {
      "text/plain": [
       "array([[0, 1, 2],\n",
       "       [2, 1, 0],\n",
       "       [0, 2, 1],\n",
       "       [0, 1, 2],\n",
       "       [0, 2, 1]])"
      ]
     },
     "execution_count": 41,
     "metadata": {},
     "output_type": "execute_result"
    }
   ],
   "source": [
    "# Tìm ra indice của các dòng theo thứ tự tăng dần\n",
    "np.argsort(B, axis = 1)"
   ]
  },
  {
   "cell_type": "code",
   "execution_count": 42,
   "id": "colored-communist",
   "metadata": {
    "colab": {
     "base_uri": "https://localhost:8080/"
    },
    "executionInfo": {
     "elapsed": 1426,
     "status": "ok",
     "timestamp": 1620884282939,
     "user": {
      "displayName": "khanhblog AI",
      "photoUrl": "https://lh3.googleusercontent.com/a-/AOh14GhNCi9Qnch9sWXSuvX4N5yijAGEjX1IvfmN-95m=s64",
      "userId": "06481533334230032014"
     },
     "user_tz": -420
    },
    "id": "b4xhddduXvWk",
    "outputId": "04947c5f-5a2f-443b-a041-c6b5a5dc3145"
   },
   "outputs": [
    {
     "data": {
      "text/plain": [
       "array([[1.10517092, 1.22140276, 2.01375271],\n",
       "       [1.8221188 , 1.4918247 , 1.        ],\n",
       "       [1.10517092, 1.64872127, 1.4918247 ],\n",
       "       [1.34985881, 1.34985881, 1.4918247 ],\n",
       "       [1.10517092, 2.22554093, 1.10517092]])"
      ]
     },
     "execution_count": 42,
     "metadata": {},
     "output_type": "execute_result"
    }
   ],
   "source": [
    "np.exp(B)"
   ]
  },
  {
   "cell_type": "code",
   "execution_count": 43,
   "id": "becoming-deployment",
   "metadata": {
    "colab": {
     "base_uri": "https://localhost:8080/"
    },
    "executionInfo": {
     "elapsed": 1423,
     "status": "ok",
     "timestamp": 1620884282940,
     "user": {
      "displayName": "khanhblog AI",
      "photoUrl": "https://lh3.googleusercontent.com/a-/AOh14GhNCi9Qnch9sWXSuvX4N5yijAGEjX1IvfmN-95m=s64",
      "userId": "06481533334230032014"
     },
     "user_tz": -420
    },
    "id": "QZHkRuL_Yffk",
    "outputId": "e3206e19-00ad-4ccd-a096-e7e25e83d3f8"
   },
   "outputs": [
    {
     "data": {
      "text/plain": [
       "array([[0.25462853, 0.28140804, 0.46396343],\n",
       "       [0.42237892, 0.34581461, 0.23180647],\n",
       "       [0.26030255, 0.38832577, 0.35137169],\n",
       "       [0.32204346, 0.32204346, 0.35591307],\n",
       "       [0.2491434 , 0.5017132 , 0.2491434 ]])"
      ]
     },
     "execution_count": 43,
     "metadata": {},
     "output_type": "execute_result"
    }
   ],
   "source": [
    "# Ma trận phân phối xác suất được tính dựa trên các dòng của ma trận B.\n",
    "E = np.exp(B)\n",
    "P = []\n",
    "\n",
    "for i in range(E.shape[0]):\n",
    "  Ei = E[i, :]\n",
    "  pi = Ei/np.sum(Ei)\n",
    "  P.append(pi)\n",
    "\n",
    "P = np.array(P)\n",
    "P"
   ]
  },
  {
   "cell_type": "code",
   "execution_count": 44,
   "id": "necessary-qatar",
   "metadata": {
    "colab": {
     "base_uri": "https://localhost:8080/"
    },
    "executionInfo": {
     "elapsed": 1420,
     "status": "ok",
     "timestamp": 1620884282940,
     "user": {
      "displayName": "khanhblog AI",
      "photoUrl": "https://lh3.googleusercontent.com/a-/AOh14GhNCi9Qnch9sWXSuvX4N5yijAGEjX1IvfmN-95m=s64",
      "userId": "06481533334230032014"
     },
     "user_tz": -420
    },
    "id": "IX1SIK9pd7QC",
    "outputId": "64dfbd57-74ed-4894-d666-64a36b0e1652"
   },
   "outputs": [
    {
     "data": {
      "text/plain": [
       "array([0.7, 0.6, 0.5, 0.4, 0.8])"
      ]
     },
     "execution_count": 44,
     "metadata": {},
     "output_type": "execute_result"
    }
   ],
   "source": [
    "# Tính max theo các dòng ta thu được véc tơ độ dài là rows\n",
    "np.max(B, axis=1)"
   ]
  },
  {
   "cell_type": "code",
   "execution_count": 45,
   "id": "integrated-alaska",
   "metadata": {
    "colab": {
     "base_uri": "https://localhost:8080/"
    },
    "executionInfo": {
     "elapsed": 1417,
     "status": "ok",
     "timestamp": 1620884282940,
     "user": {
      "displayName": "khanhblog AI",
      "photoUrl": "https://lh3.googleusercontent.com/a-/AOh14GhNCi9Qnch9sWXSuvX4N5yijAGEjX1IvfmN-95m=s64",
      "userId": "06481533334230032014"
     },
     "user_tz": -420
    },
    "id": "-LgdFdGieYOL",
    "outputId": "917094d2-ba97-4927-d243-05f78c32f438"
   },
   "outputs": [
    {
     "data": {
      "text/plain": [
       "array([[0.7],\n",
       "       [0.6],\n",
       "       [0.5],\n",
       "       [0.4],\n",
       "       [0.8]])"
      ]
     },
     "execution_count": 45,
     "metadata": {},
     "output_type": "execute_result"
    }
   ],
   "source": [
    "np.max(B, axis=1, keepdims=True)"
   ]
  },
  {
   "cell_type": "code",
   "execution_count": 46,
   "id": "written-confidence",
   "metadata": {
    "colab": {
     "base_uri": "https://localhost:8080/"
    },
    "executionInfo": {
     "elapsed": 809,
     "status": "ok",
     "timestamp": 1620887481809,
     "user": {
      "displayName": "khanhblog AI",
      "photoUrl": "https://lh3.googleusercontent.com/a-/AOh14GhNCi9Qnch9sWXSuvX4N5yijAGEjX1IvfmN-95m=s64",
      "userId": "06481533334230032014"
     },
     "user_tz": -420
    },
    "id": "E8MXf05Za5tI",
    "outputId": "da3d361d-6b85-417f-ff27-73207ea2c1fe"
   },
   "outputs": [
    {
     "data": {
      "text/plain": [
       "array([66, 92, 98, 17, 83, 57, 86, 97, 96, 47])"
      ]
     },
     "execution_count": 46,
     "metadata": {},
     "output_type": "execute_result"
    }
   ],
   "source": [
    "import numpy as np\n",
    "np.random.seed(123)\n",
    "np.random.randint(0, 100, 10)"
   ]
  },
  {
   "cell_type": "code",
   "execution_count": 47,
   "id": "suburban-bidding",
   "metadata": {
    "colab": {
     "base_uri": "https://localhost:8080/"
    },
    "executionInfo": {
     "elapsed": 1011,
     "status": "ok",
     "timestamp": 1620887507202,
     "user": {
      "displayName": "khanhblog AI",
      "photoUrl": "https://lh3.googleusercontent.com/a-/AOh14GhNCi9Qnch9sWXSuvX4N5yijAGEjX1IvfmN-95m=s64",
      "userId": "06481533334230032014"
     },
     "user_tz": -420
    },
    "id": "UgeSVIs6Zy3l",
    "outputId": "d5de5b6b-ef20-420d-9d4e-cc3b4b3b8e18"
   },
   "outputs": [
    {
     "data": {
      "text/plain": [
       "array([66, 92, 98, 17, 83, 57, 86, 97, 96, 47])"
      ]
     },
     "execution_count": 47,
     "metadata": {},
     "output_type": "execute_result"
    }
   ],
   "source": [
    "np.random.seed(123)\n",
    "np.random.randint(0, 100, 10)"
   ]
  },
  {
   "cell_type": "code",
   "execution_count": 48,
   "id": "secret-functionality",
   "metadata": {
    "colab": {
     "base_uri": "https://localhost:8080/"
    },
    "executionInfo": {
     "elapsed": 1415,
     "status": "ok",
     "timestamp": 1620884282941,
     "user": {
      "displayName": "khanhblog AI",
      "photoUrl": "https://lh3.googleusercontent.com/a-/AOh14GhNCi9Qnch9sWXSuvX4N5yijAGEjX1IvfmN-95m=s64",
      "userId": "06481533334230032014"
     },
     "user_tz": -420
    },
    "id": "CLCFmyBZPLAb",
    "outputId": "da27e66e-b7a0-455e-ac78-33348a2ee370"
   },
   "outputs": [
    {
     "data": {
      "text/plain": [
       "array([[1., 0., 0., 0., 0.],\n",
       "       [0., 1., 0., 0., 0.],\n",
       "       [0., 0., 1., 0., 0.],\n",
       "       [0., 0., 0., 1., 0.],\n",
       "       [0., 0., 0., 0., 1.]], dtype=float16)"
      ]
     },
     "execution_count": 48,
     "metadata": {},
     "output_type": "execute_result"
    }
   ],
   "source": [
    "# Khởi tạo ma trận đơn vị với shape=5x5\n",
    "I = np.identity(5, dtype=np.float16)\n",
    "I"
   ]
  },
  {
   "cell_type": "code",
   "execution_count": 49,
   "id": "bright-thomson",
   "metadata": {
    "colab": {
     "base_uri": "https://localhost:8080/"
    },
    "executionInfo": {
     "elapsed": 1955,
     "status": "ok",
     "timestamp": 1620884283484,
     "user": {
      "displayName": "khanhblog AI",
      "photoUrl": "https://lh3.googleusercontent.com/a-/AOh14GhNCi9Qnch9sWXSuvX4N5yijAGEjX1IvfmN-95m=s64",
      "userId": "06481533334230032014"
     },
     "user_tz": -420
    },
    "id": "BmW4jZFxPSQM",
    "outputId": "f7d3bb51-5b93-467f-c254-5b2c00cc75e7"
   },
   "outputs": [
    {
     "data": {
      "text/plain": [
       "array([[1., 1., 1.],\n",
       "       [1., 1., 1.],\n",
       "       [1., 1., 1.]], dtype=float32)"
      ]
     },
     "execution_count": 49,
     "metadata": {},
     "output_type": "execute_result"
    }
   ],
   "source": [
    "# Khởi tạo ma trận 1 với kích thước (3, 3)\n",
    "A = np.ones((3, 3), dtype=np.float32)\n",
    "A"
   ]
  },
  {
   "cell_type": "code",
   "execution_count": 50,
   "id": "plain-hampshire",
   "metadata": {
    "colab": {
     "base_uri": "https://localhost:8080/"
    },
    "executionInfo": {
     "elapsed": 1953,
     "status": "ok",
     "timestamp": 1620884283485,
     "user": {
      "displayName": "khanhblog AI",
      "photoUrl": "https://lh3.googleusercontent.com/a-/AOh14GhNCi9Qnch9sWXSuvX4N5yijAGEjX1IvfmN-95m=s64",
      "userId": "06481533334230032014"
     },
     "user_tz": -420
    },
    "id": "kFL9Hp5hQ1YO",
    "outputId": "28ac6092-0137-43ed-bf1d-9a7f9b27ce16"
   },
   "outputs": [
    {
     "data": {
      "text/plain": [
       "array([[1., 1., 1.],\n",
       "       [1., 1., 1.]])"
      ]
     },
     "execution_count": 50,
     "metadata": {},
     "output_type": "execute_result"
    }
   ],
   "source": [
    "# Khởi tạo ma trận B ngẫu nhiên kích thước (2, 3)\n",
    "B = np.random.randn(2,3)\n",
    "# Khởi tạo ma trân 1 có kích thước bằng với (2, 3)\n",
    "A = np.ones_like(B)\n",
    "A"
   ]
  },
  {
   "cell_type": "code",
   "execution_count": 51,
   "id": "handed-dealer",
   "metadata": {
    "colab": {
     "base_uri": "https://localhost:8080/"
    },
    "executionInfo": {
     "elapsed": 1950,
     "status": "ok",
     "timestamp": 1620884283485,
     "user": {
      "displayName": "khanhblog AI",
      "photoUrl": "https://lh3.googleusercontent.com/a-/AOh14GhNCi9Qnch9sWXSuvX4N5yijAGEjX1IvfmN-95m=s64",
      "userId": "06481533334230032014"
     },
     "user_tz": -420
    },
    "id": "AU9ljxcZRIzl",
    "outputId": "905e6f8c-396a-4a72-b305-1ce375614f36"
   },
   "outputs": [
    {
     "data": {
      "text/plain": [
       "array([[0., 0., 0.],\n",
       "       [0., 0., 0.],\n",
       "       [0., 0., 0.]])"
      ]
     },
     "execution_count": 51,
     "metadata": {},
     "output_type": "execute_result"
    }
   ],
   "source": [
    "# Khởi tạo ma trận 0 kích thước (3, 3)\n",
    "np.zeros((3, 3))"
   ]
  },
  {
   "cell_type": "code",
   "execution_count": 52,
   "id": "excited-functionality",
   "metadata": {
    "colab": {
     "base_uri": "https://localhost:8080/"
    },
    "executionInfo": {
     "elapsed": 1946,
     "status": "ok",
     "timestamp": 1620884283485,
     "user": {
      "displayName": "khanhblog AI",
      "photoUrl": "https://lh3.googleusercontent.com/a-/AOh14GhNCi9Qnch9sWXSuvX4N5yijAGEjX1IvfmN-95m=s64",
      "userId": "06481533334230032014"
     },
     "user_tz": -420
    },
    "id": "rofhsnrjRLml",
    "outputId": "ac8e24f0-c28c-4e67-8176-6f97a2aab2d7"
   },
   "outputs": [
    {
     "data": {
      "text/plain": [
       "array([[0., 0., 0.],\n",
       "       [0., 0., 0.]])"
      ]
     },
     "execution_count": 52,
     "metadata": {},
     "output_type": "execute_result"
    }
   ],
   "source": [
    "# Khởi tạo ma trận 0 có kích thước như ma trận B\n",
    "np.zeros_like(B)"
   ]
  },
  {
   "cell_type": "code",
   "execution_count": 53,
   "id": "everyday-training",
   "metadata": {
    "colab": {
     "base_uri": "https://localhost:8080/"
    },
    "executionInfo": {
     "elapsed": 1944,
     "status": "ok",
     "timestamp": 1620884283486,
     "user": {
      "displayName": "khanhblog AI",
      "photoUrl": "https://lh3.googleusercontent.com/a-/AOh14GhNCi9Qnch9sWXSuvX4N5yijAGEjX1IvfmN-95m=s64",
      "userId": "06481533334230032014"
     },
     "user_tz": -420
    },
    "id": "p_EKEBkOyUvO",
    "outputId": "33315504-54b0-449d-fd10-ea5eb64d3a32"
   },
   "outputs": [
    {
     "data": {
      "text/plain": [
       "array([[1, 0, 0],\n",
       "       [0, 2, 0],\n",
       "       [0, 0, 3]])"
      ]
     },
     "execution_count": 53,
     "metadata": {},
     "output_type": "execute_result"
    }
   ],
   "source": [
    "np.diag(np.array([1, 2, 3]))"
   ]
  },
  {
   "cell_type": "code",
   "execution_count": 54,
   "id": "silver-sussex",
   "metadata": {
    "colab": {
     "base_uri": "https://localhost:8080/"
    },
    "executionInfo": {
     "elapsed": 1941,
     "status": "ok",
     "timestamp": 1620884283486,
     "user": {
      "displayName": "khanhblog AI",
      "photoUrl": "https://lh3.googleusercontent.com/a-/AOh14GhNCi9Qnch9sWXSuvX4N5yijAGEjX1IvfmN-95m=s64",
      "userId": "06481533334230032014"
     },
     "user_tz": -420
    },
    "id": "0nw-z7Tj0pTj",
    "outputId": "81c02b56-18ba-4fff-ab84-59d300c2976c"
   },
   "outputs": [
    {
     "data": {
      "text/plain": [
       "array([1, 5, 9])"
      ]
     },
     "execution_count": 54,
     "metadata": {},
     "output_type": "execute_result"
    }
   ],
   "source": [
    "A = np.array([[1, 2, 3],\n",
    "              [4, 5, 6],\n",
    "              [7, 8 ,9]])\n",
    "\n",
    "# Đường chéo chính của ma trận A\n",
    "np.diag(A)"
   ]
  },
  {
   "cell_type": "code",
   "execution_count": 55,
   "id": "therapeutic-tract",
   "metadata": {
    "colab": {
     "base_uri": "https://localhost:8080/"
    },
    "executionInfo": {
     "elapsed": 1939,
     "status": "ok",
     "timestamp": 1620884283487,
     "user": {
      "displayName": "khanhblog AI",
      "photoUrl": "https://lh3.googleusercontent.com/a-/AOh14GhNCi9Qnch9sWXSuvX4N5yijAGEjX1IvfmN-95m=s64",
      "userId": "06481533334230032014"
     },
     "user_tz": -420
    },
    "id": "zl0dHyiD1bWF",
    "outputId": "4ff64b70-867d-41ae-f351-9fa56ad6b2f3"
   },
   "outputs": [
    {
     "name": "stdout",
     "output_type": "stream",
     "text": [
      "Original matrix: \n",
      " [[1 2 3]\n",
      " [4 5 6]\n",
      " [7 8 9]]\n",
      "Transpose matrix: \n",
      " [[1 4 7]\n",
      " [2 5 8]\n",
      " [3 6 9]]\n"
     ]
    }
   ],
   "source": [
    "print(\"Original matrix: \\n\", A)\n",
    "print(\"Transpose matrix: \\n\", A.T)"
   ]
  },
  {
   "cell_type": "code",
   "execution_count": 56,
   "id": "seasonal-samuel",
   "metadata": {
    "colab": {
     "base_uri": "https://localhost:8080/"
    },
    "executionInfo": {
     "elapsed": 1936,
     "status": "ok",
     "timestamp": 1620884283487,
     "user": {
      "displayName": "khanhblog AI",
      "photoUrl": "https://lh3.googleusercontent.com/a-/AOh14GhNCi9Qnch9sWXSuvX4N5yijAGEjX1IvfmN-95m=s64",
      "userId": "06481533334230032014"
     },
     "user_tz": -420
    },
    "id": "athjHGHw2uUC",
    "outputId": "d7c97ed9-21bd-4ac7-bea8-b600a7d6919e"
   },
   "outputs": [
    {
     "name": "stdout",
     "output_type": "stream",
     "text": [
      "Inverse A: \n"
     ]
    },
    {
     "data": {
      "text/plain": [
       "array([[-0.24609375,  0.03125   ,  0.23046875],\n",
       "       [ 0.0390625 ,  0.3125    , -0.1953125 ],\n",
       "       [ 0.57421875, -0.40625   ,  0.12890625]])"
      ]
     },
     "execution_count": 56,
     "metadata": {},
     "output_type": "execute_result"
    }
   ],
   "source": [
    "# Tính ma trận nghịch đảo của A\n",
    "# pinv là pseudo-inverse of a matrix\n",
    "A = np.array([[1, 2.5, 2],\n",
    "              [3, 4.2, 1],\n",
    "              [5, 2.1, 2]])\n",
    "\n",
    "A_inv=np.linalg.pinv(A)\n",
    "\n",
    "print(\"Inverse A: \")\n",
    "A_inv"
   ]
  },
  {
   "cell_type": "code",
   "execution_count": 57,
   "id": "express-referral",
   "metadata": {
    "colab": {
     "base_uri": "https://localhost:8080/"
    },
    "executionInfo": {
     "elapsed": 1935,
     "status": "ok",
     "timestamp": 1620884283488,
     "user": {
      "displayName": "khanhblog AI",
      "photoUrl": "https://lh3.googleusercontent.com/a-/AOh14GhNCi9Qnch9sWXSuvX4N5yijAGEjX1IvfmN-95m=s64",
      "userId": "06481533334230032014"
     },
     "user_tz": -420
    },
    "id": "mh1OxtTw3GMT",
    "outputId": "ba7511e5-a4f1-46d1-8d4c-1b8b51757e8c"
   },
   "outputs": [
    {
     "data": {
      "text/plain": [
       "array([[ 1.00000000e+00,  4.44089210e-16, -6.10622664e-16],\n",
       "       [ 2.22044605e-16,  1.00000000e+00, -6.10622664e-16],\n",
       "       [-2.22044605e-16, -4.44089210e-16,  1.00000000e+00]])"
      ]
     },
     "execution_count": 57,
     "metadata": {},
     "output_type": "execute_result"
    }
   ],
   "source": [
    "A.dot(A_inv)"
   ]
  },
  {
   "cell_type": "code",
   "execution_count": 58,
   "id": "animal-liverpool",
   "metadata": {
    "colab": {
     "base_uri": "https://localhost:8080/"
    },
    "executionInfo": {
     "elapsed": 1932,
     "status": "ok",
     "timestamp": 1620884283488,
     "user": {
      "displayName": "khanhblog AI",
      "photoUrl": "https://lh3.googleusercontent.com/a-/AOh14GhNCi9Qnch9sWXSuvX4N5yijAGEjX1IvfmN-95m=s64",
      "userId": "06481533334230032014"
     },
     "user_tz": -420
    },
    "id": "CzJhb5AC5LrC",
    "outputId": "59ce69e8-71ec-40a5-d649-5f4da794c8d1"
   },
   "outputs": [
    {
     "data": {
      "text/plain": [
       "3"
      ]
     },
     "execution_count": 58,
     "metadata": {},
     "output_type": "execute_result"
    }
   ],
   "source": [
    "np.linalg.matrix_rank(A)"
   ]
  },
  {
   "cell_type": "code",
   "execution_count": 59,
   "id": "abstract-appearance",
   "metadata": {
    "colab": {
     "base_uri": "https://localhost:8080/"
    },
    "executionInfo": {
     "elapsed": 1930,
     "status": "ok",
     "timestamp": 1620884283489,
     "user": {
      "displayName": "khanhblog AI",
      "photoUrl": "https://lh3.googleusercontent.com/a-/AOh14GhNCi9Qnch9sWXSuvX4N5yijAGEjX1IvfmN-95m=s64",
      "userId": "06481533334230032014"
     },
     "user_tz": -420
    },
    "id": "qtedihZF9QV4",
    "outputId": "294a4c77-860a-47d4-99b9-ed44f37b73fa"
   },
   "outputs": [
    {
     "data": {
      "text/plain": [
       "-25.6"
      ]
     },
     "execution_count": 59,
     "metadata": {},
     "output_type": "execute_result"
    }
   ],
   "source": [
    "# Tính định thức của A\n",
    "np.linalg.det(A)"
   ]
  },
  {
   "cell_type": "code",
   "execution_count": 60,
   "id": "proof-rachel",
   "metadata": {
    "colab": {
     "base_uri": "https://localhost:8080/"
    },
    "executionInfo": {
     "elapsed": 1927,
     "status": "ok",
     "timestamp": 1620884283489,
     "user": {
      "displayName": "khanhblog AI",
      "photoUrl": "https://lh3.googleusercontent.com/a-/AOh14GhNCi9Qnch9sWXSuvX4N5yijAGEjX1IvfmN-95m=s64",
      "userId": "06481533334230032014"
     },
     "user_tz": -420
    },
    "id": "GRMVC_xRBeHg",
    "outputId": "8830407e-d546-4f2b-c0bd-8d41ecbdb565"
   },
   "outputs": [
    {
     "name": "stdout",
     "output_type": "stream",
     "text": [
      "matrix A: \n",
      " [[1.  2.5 2. ]\n",
      " [3.  4.2 1. ]\n",
      " [5.  2.1 2. ]]\n",
      "trace of A:  7.2\n"
     ]
    }
   ],
   "source": [
    "print(\"matrix A: \\n\", A)\n",
    "print(\"trace of A: \", np.trace(A))"
   ]
  },
  {
   "cell_type": "code",
   "execution_count": 61,
   "id": "tested-gnome",
   "metadata": {
    "colab": {
     "base_uri": "https://localhost:8080/"
    },
    "executionInfo": {
     "elapsed": 1925,
     "status": "ok",
     "timestamp": 1620884283490,
     "user": {
      "displayName": "khanhblog AI",
      "photoUrl": "https://lh3.googleusercontent.com/a-/AOh14GhNCi9Qnch9sWXSuvX4N5yijAGEjX1IvfmN-95m=s64",
      "userId": "06481533334230032014"
     },
     "user_tz": -420
    },
    "id": "rjUffXONapM4",
    "outputId": "6d07a4f0-1222-402e-85f1-313d01e6195b"
   },
   "outputs": [
    {
     "data": {
      "text/plain": [
       "8.502940667792526"
      ]
     },
     "execution_count": 61,
     "metadata": {},
     "output_type": "execute_result"
    }
   ],
   "source": [
    "np.linalg.norm(A, ord='fro')"
   ]
  },
  {
   "cell_type": "code",
   "execution_count": 62,
   "id": "fluid-supplier",
   "metadata": {
    "colab": {
     "base_uri": "https://localhost:8080/"
    },
    "executionInfo": {
     "elapsed": 1921,
     "status": "ok",
     "timestamp": 1620884283490,
     "user": {
      "displayName": "khanhblog AI",
      "photoUrl": "https://lh3.googleusercontent.com/a-/AOh14GhNCi9Qnch9sWXSuvX4N5yijAGEjX1IvfmN-95m=s64",
      "userId": "06481533334230032014"
     },
     "user_tz": -420
    },
    "id": "brv8cGXdKD94",
    "outputId": "e3016ace-ca51-4110-c51b-da5cbefc5e5d"
   },
   "outputs": [
    {
     "data": {
      "text/plain": [
       "array([[ 1,  1, -2],\n",
       "       [ 0, -2, -1],\n",
       "       [ 0,  0, -1]])"
      ]
     },
     "execution_count": 62,
     "metadata": {},
     "output_type": "execute_result"
    }
   ],
   "source": [
    "import numpy as np\n",
    "A = np.array([[1, 4, 2],\n",
    "              [3, 2, 1],\n",
    "              [4, 6, 7]])\n",
    "\n",
    "B = np.array([[0, 3, 4],\n",
    "              [3, 4, 2],\n",
    "              [4, 6, 8]])\n",
    "\n",
    "A - B"
   ]
  },
  {
   "cell_type": "code",
   "execution_count": 63,
   "id": "cooperative-particular",
   "metadata": {
    "colab": {
     "base_uri": "https://localhost:8080/"
    },
    "executionInfo": {
     "elapsed": 794,
     "status": "ok",
     "timestamp": 1620890930249,
     "user": {
      "displayName": "khanhblog AI",
      "photoUrl": "https://lh3.googleusercontent.com/a-/AOh14GhNCi9Qnch9sWXSuvX4N5yijAGEjX1IvfmN-95m=s64",
      "userId": "06481533334230032014"
     },
     "user_tz": -420
    },
    "id": "GXNhb3l6M3xJ",
    "outputId": "00613c4a-95c9-4f1c-9d85-2dff6f64600b"
   },
   "outputs": [
    {
     "data": {
      "text/plain": [
       "array([[20, 31],\n",
       "       [10, 23]])"
      ]
     },
     "execution_count": 63,
     "metadata": {},
     "output_type": "execute_result"
    }
   ],
   "source": [
    "import numpy as np\n",
    "A = np.array([[1, 4, 2],\n",
    "              [3, 2, 1]])\n",
    "\n",
    "B = np.array([[0, 3],\n",
    "              [3, 4],\n",
    "              [4, 6]])\n",
    "\n",
    "np.dot(A, B)\n",
    "# Hoặc\n",
    "A.dot(B)\n",
    "# Hoặc\n",
    "A@B"
   ]
  },
  {
   "cell_type": "code",
   "execution_count": 64,
   "id": "coral-ebony",
   "metadata": {
    "colab": {
     "base_uri": "https://localhost:8080/"
    },
    "executionInfo": {
     "elapsed": 570,
     "status": "ok",
     "timestamp": 1620890935653,
     "user": {
      "displayName": "khanhblog AI",
      "photoUrl": "https://lh3.googleusercontent.com/a-/AOh14GhNCi9Qnch9sWXSuvX4N5yijAGEjX1IvfmN-95m=s64",
      "userId": "06481533334230032014"
     },
     "user_tz": -420
    },
    "id": "vAFxNP15nhAq",
    "outputId": "5d5d5642-f26b-4b26-d3e9-410f63e14cab"
   },
   "outputs": [
    {
     "data": {
      "text/plain": [
       "array([[0, 2, 8],\n",
       "       [2, 0, 1]])"
      ]
     },
     "execution_count": 64,
     "metadata": {},
     "output_type": "execute_result"
    }
   ],
   "source": [
    "# Tích của hai ma trận A và B\n",
    "C = np.array([[2, 1, 2],\n",
    "              [1, 0, 1]])\n",
    "\n",
    "D = np.array([[0, 2, 4],\n",
    "              [2, 3, 1]])\n",
    "\n",
    "C*D"
   ]
  },
  {
   "cell_type": "code",
   "execution_count": 65,
   "id": "polish-priority",
   "metadata": {
    "colab": {
     "base_uri": "https://localhost:8080/"
    },
    "executionInfo": {
     "elapsed": 1916,
     "status": "ok",
     "timestamp": 1620884283491,
     "user": {
      "displayName": "khanhblog AI",
      "photoUrl": "https://lh3.googleusercontent.com/a-/AOh14GhNCi9Qnch9sWXSuvX4N5yijAGEjX1IvfmN-95m=s64",
      "userId": "06481533334230032014"
     },
     "user_tz": -420
    },
    "id": "sTOZ9V4Ics5G",
    "outputId": "4cda4197-259d-4ace-ae1a-ef44a2fa04ec"
   },
   "outputs": [
    {
     "data": {
      "text/plain": [
       "array([15, 10])"
      ]
     },
     "execution_count": 65,
     "metadata": {},
     "output_type": "execute_result"
    }
   ],
   "source": [
    "x = np.array([1, 2, 3])\n",
    "A.dot(x)"
   ]
  },
  {
   "cell_type": "code",
   "execution_count": 66,
   "id": "funny-temple",
   "metadata": {
    "colab": {
     "base_uri": "https://localhost:8080/"
    },
    "executionInfo": {
     "elapsed": 1912,
     "status": "ok",
     "timestamp": 1620884283491,
     "user": {
      "displayName": "khanhblog AI",
      "photoUrl": "https://lh3.googleusercontent.com/a-/AOh14GhNCi9Qnch9sWXSuvX4N5yijAGEjX1IvfmN-95m=s64",
      "userId": "06481533334230032014"
     },
     "user_tz": -420
    },
    "id": "AgUEioWnYWoS",
    "outputId": "40618766-caa0-4fea-dabd-7ba9ccfb8cba"
   },
   "outputs": [
    {
     "data": {
      "text/plain": [
       "array([[ 5, 20, 10],\n",
       "       [15, 10,  5]])"
      ]
     },
     "execution_count": 66,
     "metadata": {},
     "output_type": "execute_result"
    }
   ],
   "source": [
    "A*5"
   ]
  },
  {
   "cell_type": "code",
   "execution_count": 67,
   "id": "latter-arbor",
   "metadata": {
    "colab": {
     "base_uri": "https://localhost:8080/"
    },
    "executionInfo": {
     "elapsed": 830,
     "status": "ok",
     "timestamp": 1620892825098,
     "user": {
      "displayName": "khanhblog AI",
      "photoUrl": "https://lh3.googleusercontent.com/a-/AOh14GhNCi9Qnch9sWXSuvX4N5yijAGEjX1IvfmN-95m=s64",
      "userId": "06481533334230032014"
     },
     "user_tz": -420
    },
    "id": "iN0_ewT7ugvS",
    "outputId": "b8ae7dfa-eee9-4d2f-a3b0-db27e4d8cee1"
   },
   "outputs": [
    {
     "data": {
      "text/plain": [
       "0.954029957691665"
      ]
     },
     "execution_count": 67,
     "metadata": {},
     "output_type": "execute_result"
    }
   ],
   "source": [
    "a = np.array([1, 2, 3])\n",
    "b = np.array([4, 5, 5])\n",
    "# Phép cộng\n",
    "a+b\n",
    "# Tích vô hướng\n",
    "a.dot(b)\n",
    "# Tích có hướng\n",
    "a*b\n",
    "# cosine similarity\n",
    "a.dot(b)/(np.linalg.norm(a)*np.linalg.norm(b))"
   ]
  },
  {
   "cell_type": "code",
   "execution_count": 68,
   "id": "norwegian-digest",
   "metadata": {
    "colab": {
     "base_uri": "https://localhost:8080/"
    },
    "executionInfo": {
     "elapsed": 760,
     "status": "ok",
     "timestamp": 1620892860842,
     "user": {
      "displayName": "khanhblog AI",
      "photoUrl": "https://lh3.googleusercontent.com/a-/AOh14GhNCi9Qnch9sWXSuvX4N5yijAGEjX1IvfmN-95m=s64",
      "userId": "06481533334230032014"
     },
     "user_tz": -420
    },
    "id": "6UblLeScvRM1",
    "outputId": "1d47c248-bb93-4ac8-d40e-3cb158a44c14"
   },
   "outputs": [
    {
     "data": {
      "text/plain": [
       "array([[0.95402996]])"
      ]
     },
     "execution_count": 68,
     "metadata": {},
     "output_type": "execute_result"
    }
   ],
   "source": [
    "# Hoặc cách khác để tính cosine similarity\n",
    "from sklearn.metrics.pairwise import cosine_similarity\n",
    "a = np.array([[1, 2, 3]])\n",
    "b = np.array([[4, 5, 5]])\n",
    "\n",
    "cosine_similarity(a, b)"
   ]
  },
  {
   "cell_type": "code",
   "execution_count": 69,
   "id": "forty-remove",
   "metadata": {
    "colab": {
     "base_uri": "https://localhost:8080/"
    },
    "executionInfo": {
     "elapsed": 1910,
     "status": "ok",
     "timestamp": 1620884283492,
     "user": {
      "displayName": "khanhblog AI",
      "photoUrl": "https://lh3.googleusercontent.com/a-/AOh14GhNCi9Qnch9sWXSuvX4N5yijAGEjX1IvfmN-95m=s64",
      "userId": "06481533334230032014"
     },
     "user_tz": -420
    },
    "id": "seiQwX6fNBT0",
    "outputId": "33b0a063-f887-4cfc-cf9e-6c1fc1e313cd"
   },
   "outputs": [
    {
     "name": "stdout",
     "output_type": "stream",
     "text": [
      "shape:  (2, 3)\n",
      "number dims:  2\n",
      "dtype:  int64\n",
      "item bytes size:  8\n",
      "bytes size:  48\n"
     ]
    }
   ],
   "source": [
    "print('shape: ', A.shape)\n",
    "print('number dims: ', A.ndim)\n",
    "print('dtype: ', A.dtype)\n",
    "print('item bytes size: ', A.itemsize)\n",
    "print('bytes size: ', A.nbytes)"
   ]
  },
  {
   "cell_type": "code",
   "execution_count": 70,
   "id": "random-architecture",
   "metadata": {
    "colab": {
     "base_uri": "https://localhost:8080/"
    },
    "executionInfo": {
     "elapsed": 1908,
     "status": "ok",
     "timestamp": 1620884283493,
     "user": {
      "displayName": "khanhblog AI",
      "photoUrl": "https://lh3.googleusercontent.com/a-/AOh14GhNCi9Qnch9sWXSuvX4N5yijAGEjX1IvfmN-95m=s64",
      "userId": "06481533334230032014"
     },
     "user_tz": -420
    },
    "id": "fBxorD-lM9XU",
    "outputId": "462cd458-f83a-45ff-f00c-5e464436b41e"
   },
   "outputs": [
    {
     "data": {
      "text/plain": [
       "  C_CONTIGUOUS : True\n",
       "  F_CONTIGUOUS : False\n",
       "  OWNDATA : True\n",
       "  WRITEABLE : True\n",
       "  ALIGNED : True\n",
       "  WRITEBACKIFCOPY : False\n",
       "  UPDATEIFCOPY : False"
      ]
     },
     "execution_count": 70,
     "metadata": {},
     "output_type": "execute_result"
    }
   ],
   "source": [
    "A.flags"
   ]
  },
  {
   "cell_type": "code",
   "execution_count": 71,
   "id": "celtic-consultancy",
   "metadata": {
    "id": "LRnZmc94l6rR"
   },
   "outputs": [],
   "source": [
    "import numpy as np\n",
    "\n",
    "A = np.array([[10, 1, 2],\n",
    "              [9, 7, 4],\n",
    "              [0, 2, 1]])\n",
    "\n",
    "B = np.array([[2, 3, 4],\n",
    "              [0, 4, 2],\n",
    "              [3, 2, 1]])"
   ]
  }
 ],
 "metadata": {
  "jupytext": {
   "text_representation": {
    "extension": ".md",
    "format_name": "myst",
    "format_version": 0.12,
    "jupytext_version": "1.8.2"
   }
  },
  "kernelspec": {
   "display_name": "Python 3",
   "name": "python3"
  },
  "language_info": {
   "codemirror_mode": {
    "name": "ipython",
    "version": 3
   },
   "file_extension": ".py",
   "mimetype": "text/x-python",
   "name": "python",
   "nbconvert_exporter": "python",
   "pygments_lexer": "ipython3",
   "version": "3.6.13"
  },
  "source_map": [
   11,
   15,
   21,
   46,
   50,
   73,
   79,
   100,
   109,
   129,
   137,
   157,
   163,
   183,
   187,
   207,
   217,
   221,
   227,
   257,
   266,
   287,
   293,
   310,
   327,
   333,
   352,
   369,
   385,
   405,
   409,
   429,
   433,
   453,
   473,
   493,
   513,
   518,
   524,
   545,
   549,
   569,
   589,
   593,
   612,
   632,
   640,
   664,
   670,
   694,
   698,
   717,
   740,
   746,
   765,
   769,
   791,
   795,
   799,
   804,
   827,
   847,
   867,
   871,
   892,
   898,
   924,
   944,
   950,
   971,
   996,
   1000,
   1020,
   1028,
   1048,
   1068,
   1072,
   1080,
   1099,
   1109,
   1138,
   1142,
   1148,
   1168,
   1172,
   1191,
   1199,
   1220,
   1240,
   1244,
   1249,
   1253,
   1265,
   1286,
   1292,
   1313,
   1319,
   1342,
   1348,
   1368,
   1388,
   1396,
   1415,
   1419,
   1443,
   1447,
   1453,
   1473,
   1481,
   1509,
   1513,
   1532,
   1554,
   1573,
   1595,
   1615,
   1623,
   1643,
   1651,
   1670,
   1676,
   1680,
   1696,
   1724,
   1734,
   1765,
   1785,
   1811,
   1836,
   1856,
   1862,
   1881,
   1904,
   1932,
   1956,
   1960,
   1964,
   1970,
   1993,
   1997,
   2016,
   2020,
   2026,
   2040,
   2074,
   2078
  ]
 },
 "nbformat": 4,
 "nbformat_minor": 5
}