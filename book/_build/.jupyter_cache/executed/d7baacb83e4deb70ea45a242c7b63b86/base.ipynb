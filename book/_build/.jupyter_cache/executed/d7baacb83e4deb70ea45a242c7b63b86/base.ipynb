{
 "cells": [
  {
   "cell_type": "code",
   "execution_count": 1,
   "id": "judicial-coffee",
   "metadata": {},
   "outputs": [
    {
     "data": {
      "text/plain": [
       "array([  1, 127,   3], dtype=int8)"
      ]
     },
     "execution_count": 1,
     "metadata": {},
     "output_type": "execute_result"
    }
   ],
   "source": [
    "import numpy as np\n",
    "# Giá trị của -129 trong định dạng int8 sẽ thành 127\n",
    "np.array([1, -129, 3], dtype=np.int8)"
   ]
  },
  {
   "cell_type": "code",
   "execution_count": 2,
   "id": "infectious-violation",
   "metadata": {},
   "outputs": [
    {
     "name": "stdout",
     "output_type": "stream",
     "text": [
      "<class 'float'>\n",
      "<class 'int'>\n",
      "<class 'bool'>\n",
      "<class 'str'>\n"
     ]
    }
   ],
   "source": [
    "x = 1.234\n",
    "y = 4\n",
    "z = False\n",
    "t = \"Vi mot cong dong AI vung manh hon\"\n",
    "\n",
    "print(type(x))\n",
    "print(type(y))\n",
    "print(type(z))\n",
    "print(type(t))"
   ]
  },
  {
   "cell_type": "code",
   "execution_count": 3,
   "id": "tender-separate",
   "metadata": {},
   "outputs": [
    {
     "name": "stdout",
     "output_type": "stream",
     "text": [
      "2.5 0.5 3.0 0.3\n"
     ]
    }
   ],
   "source": [
    "x = 1.5\n",
    "add = x+1\n",
    "minus = x-1\n",
    "mul = x*2\n",
    "div = x/5\n",
    "print(add, minus, mul, div)"
   ]
  },
  {
   "cell_type": "code",
   "execution_count": 4,
   "id": "broke-emission",
   "metadata": {},
   "outputs": [
    {
     "name": "stdout",
     "output_type": "stream",
     "text": [
      "2.5\n",
      "0.5\n",
      "3.0\n",
      "0.3\n"
     ]
    }
   ],
   "source": [
    "x=1.5\n",
    "x+=1 # Tương đương x=x+1\n",
    "print(x)\n",
    "x=1.5 \n",
    "x-=1 # Tương đương x=x-1\n",
    "print(x)\n",
    "x=1.5\n",
    "x*=2 # Tương đương x=x*2\n",
    "print(x)\n",
    "x=1.5\n",
    "x/=5 # Tương đương x=x/5\n",
    "print(x)"
   ]
  },
  {
   "cell_type": "code",
   "execution_count": 5,
   "id": "fixed-champagne",
   "metadata": {},
   "outputs": [
    {
     "name": "stdout",
     "output_type": "stream",
     "text": [
      "<class 'float'>\n",
      "<class 'float'>\n",
      "<class 'float'>\n",
      "<class 'float'>\n"
     ]
    }
   ],
   "source": [
    "x = 2.5\n",
    "y = 1\n",
    "print(type(x+y))\n",
    "print(type(x-y))\n",
    "print(type(x*y))\n",
    "print(type(x/y))"
   ]
  },
  {
   "cell_type": "code",
   "execution_count": 6,
   "id": "colored-africa",
   "metadata": {},
   "outputs": [
    {
     "name": "stdout",
     "output_type": "stream",
     "text": [
      "and:  False False\n",
      "or:  True True\n",
      "x*y:  0\n",
      "x+y:  1\n",
      "x/z:  0.2\n"
     ]
    }
   ],
   "source": [
    "x = True\n",
    "y = False\n",
    "z = 5\n",
    "print('and: ', x&y, x and y)\n",
    "print('or: ', x|y, x or y)\n",
    "print('x*y: ', x*y)\n",
    "print('x+y: ', x+y)\n",
    "print('x/z: ', x/z)"
   ]
  },
  {
   "cell_type": "code",
   "execution_count": 7,
   "id": "spatial-input",
   "metadata": {},
   "outputs": [
    {
     "name": "stdout",
     "output_type": "stream",
     "text": [
      "x==y:  False\n",
      "x!=y:  True\n"
     ]
    }
   ],
   "source": [
    "x = 5\n",
    "y = 6\n",
    "print('x==y: ', x==y)\n",
    "print('x!=y: ', x!=y)"
   ]
  },
  {
   "cell_type": "code",
   "execution_count": 8,
   "id": "heard-eleven",
   "metadata": {},
   "outputs": [
    {
     "name": "stdout",
     "output_type": "stream",
     "text": [
      "<class 'str'>\n"
     ]
    }
   ],
   "source": [
    "x = \"AI is my love\"\n",
    "print(type(x))"
   ]
  },
  {
   "cell_type": "code",
   "execution_count": 9,
   "id": "impressed-accessory",
   "metadata": {},
   "outputs": [
    {
     "name": "stdout",
     "output_type": "stream",
     "text": [
      "I said: AI is my love\n"
     ]
    }
   ],
   "source": [
    "y = \"I said: \"\n",
    "print(y+x)"
   ]
  },
  {
   "cell_type": "code",
   "execution_count": 10,
   "id": "varied-polyester",
   "metadata": {},
   "outputs": [
    {
     "data": {
      "text/plain": [
       "['AI', 'is', 'my', 'love']"
      ]
     },
     "execution_count": 10,
     "metadata": {},
     "output_type": "execute_result"
    }
   ],
   "source": [
    "x.split()"
   ]
  },
  {
   "cell_type": "code",
   "execution_count": 11,
   "id": "confident-consumption",
   "metadata": {},
   "outputs": [
    {
     "name": "stdout",
     "output_type": "stream",
     "text": [
      "list1:  ['physics', 'chemistry', 1997, 2000]\n",
      "physics\n",
      "chemistry\n",
      "1997\n",
      "2000\n",
      "list1 update:  ['math', 'chemistry', 1997, 2000]\n",
      "list1 after delete:  ['math', 'chemistry', 1997]\n",
      "length of list1:  3\n",
      "list1 after append:  ['math', 'chemistry', 1997, 2019]\n",
      "list1 and list2 after concate:  ['math', 'chemistry', 1997, 2019, 'people', 'teacher', 'student']\n",
      "list1 and list2 after concate:  ['math', 'chemistry', 1997, 2019, 'people', 'teacher', 'student']\n",
      "list1 append list2:  ['math', 'chemistry', 1997, 2019, 'people', 'teacher', 'student', ['people', 'teacher', 'student']]\n",
      "item 3 indice of list1:  2019\n",
      "list1 after pop 3 indice:  ['math', 'chemistry', 1997, 'people', 'teacher', 'student', ['people', 'teacher', 'student']]\n"
     ]
    }
   ],
   "source": [
    "# CRUDE\n",
    "# Khởi tạo list\n",
    "list1 = ['physics', 'chemistry', 1997, 2000] # Hoặc dùng từ khoá list thay cho []: list1 = list('physics', 'chemistry', 1997, 2000)\n",
    "print('list1: ', list1)\n",
    "\n",
    "# Duyệt qua các phần tử trong list. Tính chất Iterable\n",
    "for item in list1:\n",
    "  print(item)\n",
    "\n",
    "# Cập nhật 1 phần tử trong list. Tính chất mutable\n",
    "list1[0] = 'math'\n",
    "print('list1 update: ', list1)\n",
    "\n",
    "# Xóa một phần tử trong list\n",
    "list1.remove(2000)\n",
    "print('list1 after delete: ', list1)\n",
    "\n",
    "# Độ dài của 1 list:\n",
    "print('length of list1: ', len(list1))\n",
    "\n",
    "# Gán thêm phần tử cho 1 list:\n",
    "list1.append(2019)\n",
    "print('list1 after append: ', list1)\n",
    "\n",
    "# concatenate 2 list với nhau\n",
    "list2 = ['people', 'teacher', 'student']\n",
    "list_concate = list1 + list2\n",
    "print('list1 and list2 after concate: ', list_concate)\n",
    "\n",
    "# hoặc chúng ta có thể concate thông qua phép cộng\n",
    "list3 = list1\n",
    "list3 += list2\n",
    "print('list1 and list2 after concate: ', list3)\n",
    "\n",
    "# Lưu ý nếu ta dùng lệnh append để append một list thì sẽ tự động tạo thêm một phần tử mới ở vị trí cuối cùng chứa list được append\n",
    "list3.append(list2)\n",
    "print('list1 append list2: ', list3)\n",
    "\n",
    "# trích xuất 1 phần tử trong list\n",
    "item3 = list1.pop(3)\n",
    "print('item 3 indice of list1: ', item3)\n",
    "print('list1 after pop 3 indice: ', list1)"
   ]
  },
  {
   "cell_type": "code",
   "execution_count": 12,
   "id": "rural-divorce",
   "metadata": {},
   "outputs": [
    {
     "name": "stdout",
     "output_type": "stream",
     "text": [
      "2\n"
     ]
    }
   ],
   "source": [
    "list4 = ['vi', 'mot', 'cong', 'dong', 'AI', 'vung', 'manh', 'hon']\n",
    "# Tìm ra index của từ đầu tiên có giá trị là 'cong'\n",
    "print(list4.index('cong'))"
   ]
  },
  {
   "cell_type": "code",
   "execution_count": 13,
   "id": "complex-bailey",
   "metadata": {},
   "outputs": [
    {
     "name": "stdout",
     "output_type": "stream",
     "text": [
      "['vi', 'mot', 'cong', 'dong', 'AI', 'vung', 'manh', 'hon', 'khanh', 'blog']\n"
     ]
    }
   ],
   "source": [
    "list4.extend(['khanh', 'blog']) # Tương tự như phép cộng list\n",
    "print(list4)"
   ]
  },
  {
   "cell_type": "code",
   "execution_count": 14,
   "id": "chemical-olympus",
   "metadata": {},
   "outputs": [
    {
     "name": "stdout",
     "output_type": "stream",
     "text": [
      "['vi', 'mot', 'cong', 'dong', 'AI', 'Viet Nam', 'vung', 'manh', 'hon', 'khanh', 'blog']\n"
     ]
    }
   ],
   "source": [
    "list4.insert(5, 'Viet Nam')\n",
    "print(list4)"
   ]
  },
  {
   "cell_type": "code",
   "execution_count": 15,
   "id": "facial-master",
   "metadata": {},
   "outputs": [
    {
     "name": "stdout",
     "output_type": "stream",
     "text": [
      "vi\n",
      "mot\n",
      "cong\n",
      "dong\n",
      "AI\n",
      "Viet Nam\n",
      "vung\n",
      "manh\n",
      "hon\n",
      "khanh\n",
      "blog\n"
     ]
    }
   ],
   "source": [
    "for item in list4:\n",
    "  print(item)"
   ]
  },
  {
   "cell_type": "code",
   "execution_count": 16,
   "id": "rural-access",
   "metadata": {},
   "outputs": [
    {
     "data": {
      "text/plain": [
       "['vi',\n",
       " 'mot',\n",
       " 'cong',\n",
       " 'dong',\n",
       " 'AI',\n",
       " 'Viet Nam',\n",
       " 'vung',\n",
       " 'manh',\n",
       " 'hon',\n",
       " 'khanh',\n",
       " 'blog']"
      ]
     },
     "execution_count": 16,
     "metadata": {},
     "output_type": "execute_result"
    }
   ],
   "source": [
    "[item for item in list4]"
   ]
  },
  {
   "cell_type": "code",
   "execution_count": 17,
   "id": "looking-picture",
   "metadata": {},
   "outputs": [
    {
     "name": "stdout",
     "output_type": "stream",
     "text": [
      "chemistry\n",
      "* From indices 1->3: list1[1:4]\n",
      " ['chemistry', 1997, 'people']\n",
      "* 2 first indices: list1[:2]\n",
      " ['math', 'chemistry']\n",
      "* 2 last indices: list1[-2:]\n",
      " ['student', ['people', 'teacher', 'student']]\n",
      "* From first to -2 indices (2 orders to touch last): list1[:-2]\n",
      " ['math', 'chemistry', 1997, 'people', 'teacher']\n",
      "* From second indice to last indice: list1[2:]\n",
      " [1997, 'people', 'teacher', 'student', ['people', 'teacher', 'student']]\n"
     ]
    }
   ],
   "source": [
    "# Truy cập vào phần tử 1 của list1\n",
    "print(list1[1])\n",
    "\n",
    "# Truy cập vào phần tử có index từ 1->3.\n",
    "print('* From indices 1->3: list1[1:4]\\n', list1[1:4])\n",
    "\n",
    "# Truy cập vào 2 index đầu tiên\n",
    "print('* 2 first indices: list1[:2]\\n', list1[:2])\n",
    "\n",
    "# Truy cập vào 2 index cuối cùng\n",
    "print('* 2 last indices: list1[-2:]\\n', list1[-2:])\n",
    "\n",
    "# Truy cập vào các phần tử từ phần tử đầu tiên tới phần tử liền trước vị trí cuối cùng là hai vị trí.\n",
    "print('* From first to -2 indices (2 orders to touch last): list1[:-2]\\n', list1[:-2])\n",
    "\n",
    "# Truy cập từ index thứ 2 đến index cuối cùng\n",
    "print('* From second indice to last indice: list1[2:]\\n', list1[2:])"
   ]
  },
  {
   "cell_type": "code",
   "execution_count": 18,
   "id": "behavioral-insulation",
   "metadata": {},
   "outputs": [
    {
     "data": {
      "text/plain": [
       "['chemistry', 'people']"
      ]
     },
     "execution_count": 18,
     "metadata": {},
     "output_type": "execute_result"
    }
   ],
   "source": [
    "# Truy cập vào vị trí có indice 1 và 3 trong list1\n",
    "[item for (i, item) in enumerate(list1) if i in [1, 3]]"
   ]
  },
  {
   "cell_type": "code",
   "execution_count": 19,
   "id": "weird-jonathan",
   "metadata": {
    "id": "gFV0BhXjxrXE"
   },
   "outputs": [],
   "source": [
    "list4 = ['machine', 'learning', 'algorithms', 'to', 'practice', 'practice']"
   ]
  },
  {
   "cell_type": "code",
   "execution_count": 20,
   "id": "critical-organic",
   "metadata": {
    "id": "XhHHSX9k1tF1"
   },
   "outputs": [],
   "source": [
    "list4 = ['machine', 'learning', 'algorithms', 'to', 'practice', 2021]"
   ]
  },
  {
   "cell_type": "code",
   "execution_count": 21,
   "id": "textile-bobby",
   "metadata": {},
   "outputs": [
    {
     "name": "stdout",
     "output_type": "stream",
     "text": [
      "* normal sort list5: \n",
      " [1, 2, 4, 5, 7]\n",
      "* reverse sort list5: \n",
      " [7, 5, 4, 2, 1]\n"
     ]
    }
   ],
   "source": [
    "list5 = [4, 5, 1, 7, 2]\n",
    "# Sort tăng tiến\n",
    "list5.sort()\n",
    "print('* normal sort list5: \\n', list5)\n",
    "# Sort reverse\n",
    "list5.sort(reverse=True)\n",
    "print('* reverse sort list5: \\n', list5)"
   ]
  },
  {
   "cell_type": "code",
   "execution_count": 22,
   "id": "heated-advisory",
   "metadata": {},
   "outputs": [
    {
     "name": "stdout",
     "output_type": "stream",
     "text": [
      "* sorted(list5): \n",
      " [1, 2, 4, 5, 7]\n"
     ]
    }
   ],
   "source": [
    "list5 = [4, 5, 1, 7, 2]\n",
    "print('* sorted(list5): \\n',sorted(list5))"
   ]
  },
  {
   "cell_type": "code",
   "execution_count": 23,
   "id": "lonely-wilderness",
   "metadata": {},
   "outputs": [
    {
     "data": {
      "text/plain": [
       "[4, 2, 5, 1, 7]"
      ]
     },
     "execution_count": 23,
     "metadata": {},
     "output_type": "execute_result"
    }
   ],
   "source": [
    "sorted(list5, key = lambda x: (x-3)**2)"
   ]
  },
  {
   "cell_type": "code",
   "execution_count": 24,
   "id": "civilian-procurement",
   "metadata": {},
   "outputs": [
    {
     "name": "stdout",
     "output_type": "stream",
     "text": [
      "tuple1:  ('a', 'b', 'c', '2020')\n",
      "a\n",
      "b\n",
      "c\n",
      "2020\n",
      "length tuple1:  4\n",
      "tuple concatenate:  ('a', 'b', 'c', '2020', 'x', 'y', 'z')\n"
     ]
    },
    {
     "data": {
      "text/plain": [
       "'a'"
      ]
     },
     "execution_count": 24,
     "metadata": {},
     "output_type": "execute_result"
    }
   ],
   "source": [
    "# Khởi tạo tuple\n",
    "tuple1 = ('a', 'b', 'c', '2020')\n",
    "print('tuple1: ', tuple1)\n",
    "\n",
    "# Truy cập vào các phần tử của tuple\n",
    "for item in tuple1:\n",
    "  print(item)\n",
    "\n",
    "# Độ dài\n",
    "print('length tuple1: ', len(tuple1))\n",
    "\n",
    "# Concate 2 tuple\n",
    "tuple2 = ('x', 'y', 'z')\n",
    "tuple_concate = tuple1 + tuple2\n",
    "print('tuple concatenate: ', tuple_concate)\n",
    "\n",
    "# Truy cập vào phần tử đầu tiên\n",
    "tuple1[0]"
   ]
  },
  {
   "cell_type": "code",
   "execution_count": 25,
   "id": "supposed-henry",
   "metadata": {},
   "outputs": [
    {
     "name": "stdout",
     "output_type": "stream",
     "text": [
      "skipping\n"
     ]
    }
   ],
   "source": [
    "%%script echo skipping\n",
    "tuple1[0] = 0"
   ]
  },
  {
   "cell_type": "code",
   "execution_count": 26,
   "id": "useful-roommate",
   "metadata": {},
   "outputs": [
    {
     "name": "stdout",
     "output_type": "stream",
     "text": [
      "name:  khanh\n",
      "age:  27\n",
      "job:  AI research engineer\n",
      "love:  math\n",
      "love update:  girl\n",
      "dict1 length:  4\n",
      "all keys:  dict_keys(['name', 'age', 'job', 'love'])\n",
      "all values:  dict_values(['khanh', '27', 'AI research engineer', 'girl'])\n",
      "dict after update:  {'name': 'khanh', 'age': '27', 'job': 'AI research engineer', 'love': 'girl', 'IQ': '145'}\n"
     ]
    }
   ],
   "source": [
    "# Khởi tạo một dictionary\n",
    "dict1 = {'name': 'khanh', 'age': '27', 'job': 'AI research engineer', 'love': 'math'}\n",
    "# In ra giá trị thông qua key\n",
    "print('name: ', dict1['name'])\n",
    "print('age: ', dict1['age'])\n",
    "print('job: ', dict1['job'])\n",
    "print('love: ', dict1['love'])\n",
    "\n",
    "# Cập nhật giá trị một phần tử\n",
    "dict1['love'] = 'girl'\n",
    "print('love update: ', dict1['love'])\n",
    "\n",
    "# Độ dài của dict1\n",
    "print('dict1 length: ', len(dict1))\n",
    "\n",
    "# Truy cập vào toàn bộ các key\n",
    "print('all keys: ', dict1.keys())\n",
    "\n",
    "# Truy cập vào toàn bộ giá trị\n",
    "print('all values: ', dict1.values())\n",
    "\n",
    "# Thêm một phần tử mới cho dict\n",
    "dict1['IQ'] = '145'\n",
    "print('dict after update: ', dict1)"
   ]
  },
  {
   "cell_type": "code",
   "execution_count": 27,
   "id": "caroline-calvin",
   "metadata": {},
   "outputs": [
    {
     "data": {
      "text/plain": [
       "{0: [], 1: [], 2: [], 3: []}"
      ]
     },
     "execution_count": 27,
     "metadata": {},
     "output_type": "execute_result"
    }
   ],
   "source": [
    "# Khởi tạo dictionary gồm các keys từ 0 tới 3, giá trị đều là []\n",
    "dict2 = dict.fromkeys(range(4), [])\n",
    "dict2"
   ]
  },
  {
   "cell_type": "code",
   "execution_count": 28,
   "id": "streaming-reunion",
   "metadata": {},
   "outputs": [
    {
     "data": {
      "text/plain": [
       "['IQ', 'age', 'job', 'love', 'name']"
      ]
     },
     "execution_count": 28,
     "metadata": {},
     "output_type": "execute_result"
    }
   ],
   "source": [
    "sorted(dict1)"
   ]
  },
  {
   "cell_type": "code",
   "execution_count": 29,
   "id": "chubby-certification",
   "metadata": {},
   "outputs": [
    {
     "data": {
      "text/plain": [
       "['IQ', 'job', 'name', 'age', 'love']"
      ]
     },
     "execution_count": 29,
     "metadata": {},
     "output_type": "execute_result"
    }
   ],
   "source": [
    "# Chỉ sort dict1 theo giá trị cuối của dictionary\n",
    "sorted(dict1, key=lambda x: x[-1:])"
   ]
  },
  {
   "cell_type": "code",
   "execution_count": 30,
   "id": "laden-republican",
   "metadata": {},
   "outputs": [
    {
     "data": {
      "text/plain": [
       "{'IQ': '145',\n",
       " 'age': '27',\n",
       " 'job': 'AI research engineer',\n",
       " 'love': 'girl',\n",
       " 'name': 'khanh'}"
      ]
     },
     "execution_count": 30,
     "metadata": {},
     "output_type": "execute_result"
    }
   ],
   "source": [
    "{k: v for k, v in sorted(dict1.items(), key=lambda item: item[1])}"
   ]
  },
  {
   "cell_type": "code",
   "execution_count": 31,
   "id": "muslim-remedy",
   "metadata": {
    "id": "DobXx9oSejea"
   },
   "outputs": [
    {
     "name": "stdout",
     "output_type": "stream",
     "text": [
      "set1:  {1, 2, 3, 4, 'alo'}\n",
      "1\n",
      "2\n",
      "3\n",
      "4\n",
      "alo\n",
      "length set1:  5\n",
      "set1 after discard 4:  {1, 2, 3, 'alo'}\n",
      "set2:  {8, 1, 3, 5}\n",
      "union set1 and set2:  {1, 2, 3, 5, 8, 'alo'}\n",
      "intersection set1 and set2: {1, 3}\n",
      "belong set2 but not set1:  {8, 5}\n",
      "check set2 belong set1:  False\n",
      "check set1 belong set2:  False\n"
     ]
    }
   ],
   "source": [
    "# Khởi tạo một set\n",
    "set1 = set([1, 2, 3, 4, 'alo']) # or {1, 2, 3, 4, 'alo'}\n",
    "print('set1: ', set1)\n",
    "\n",
    "# Truy cập vào các phần tử của set\n",
    "for item in set1:\n",
    "  print(item)\n",
    "\n",
    "# Độ dài của set:\n",
    "print('length set1: ', len(set1))\n",
    "\n",
    "# Xóa 1 phần tử trong set\n",
    "set1.discard(4)\n",
    "print('set1 after discard 4: ', set1)\n",
    "\n",
    "# Hợp 2 set với nhau:\n",
    "set2 = {1, 3, 5, 8}\n",
    "print('set2: ', set2)\n",
    "set_union = set1.union(set2)\n",
    "print('union set1 and set2: ', set_union)\n",
    "\n",
    "# Tìm ra các phần tử chung bằng phép giao:\n",
    "set_intersection = set1.intersection(set2)\n",
    "print('intersection set1 and set2:', set_intersection)\n",
    "\n",
    "# Tìm ra các phần tử thuộc set2 nhưng không thuộc set1\n",
    "print('belong set2 but not set1: ', set2 - set1)\n",
    "\n",
    "# Kiểm tra quan hệ giữa 2 set\n",
    "print('check set2 belong set1: ', set1 >= set2)\n",
    "print('check set1 belong set2: ', set1 <= set2)"
   ]
  },
  {
   "cell_type": "code",
   "execution_count": 32,
   "id": "entertaining-stack",
   "metadata": {
    "id": "DxxhVWlqDcap"
   },
   "outputs": [],
   "source": [
    "points = {'an': 9, 'binh': 7, 'khanh': 8, 'linh': 10, 'huyen': 6}"
   ]
  },
  {
   "cell_type": "code",
   "execution_count": 33,
   "id": "substantial-multiple",
   "metadata": {
    "id": "j2fYKVWuEN9s"
   },
   "outputs": [],
   "source": [
    "target = ['vi', 'mot', 'cong', 'dong', 'AI', 'vung', 'vung', 'manh', 'manh', 'hon']"
   ]
  },
  {
   "cell_type": "code",
   "execution_count": 34,
   "id": "latest-providence",
   "metadata": {
    "id": "qX7hQmdFFC_d"
   },
   "outputs": [
    {
     "data": {
      "text/plain": [
       "'Machine Learning Algorithms to Practice là một cuốn sách cân bằng giữa lý thuyết và thực hành'"
      ]
     },
     "execution_count": 34,
     "metadata": {},
     "output_type": "execute_result"
    }
   ],
   "source": [
    "'Machine Learning Algorithms to Practice là một cuốn sách cân bằng giữa lý thuyết và thực hành'"
   ]
  }
 ],
 "metadata": {
  "jupytext": {
   "text_representation": {
    "extension": ".md",
    "format_name": "myst",
    "format_version": 0.12,
    "jupytext_version": "1.8.2"
   }
  },
  "kernelspec": {
   "display_name": "Python 3",
   "name": "python3"
  },
  "language_info": {
   "codemirror_mode": {
    "name": "ipython",
    "version": 3
   },
   "file_extension": ".py",
   "mimetype": "text/x-python",
   "name": "python",
   "nbconvert_exporter": "python",
   "pygments_lexer": "ipython3",
   "version": "3.6.13"
  },
  "source_map": [
   11,
   24,
   28,
   32,
   44,
   51,
   60,
   64,
   79,
   84,
   93,
   97,
   111,
   122,
   131,
   138,
   144,
   149,
   153,
   158,
   162,
   164,
   170,
   184,
   229,
   234,
   240,
   244,
   249,
   253,
   258,
   264,
   269,
   273,
   277,
   287,
   307,
   313,
   318,
   324,
   330,
   334,
   340,
   346,
   356,
   360,
   365,
   369,
   373,
   381,
   402,
   406,
   411,
   423,
   450,
   454,
   460,
   466,
   470,
   474,
   479,
   485,
   489,
   497,
   533,
   546,
   552,
   556,
   563,
   567,
   573,
   577,
   583,
   593
  ]
 },
 "nbformat": 4,
 "nbformat_minor": 5
}