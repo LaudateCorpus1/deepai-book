{
 "cells": [
  {
   "cell_type": "code",
   "execution_count": 1,
   "id": "continent-penny",
   "metadata": {
    "colab": {
     "base_uri": "https://localhost:8080/"
    },
    "executionInfo": {
     "elapsed": 1019,
     "status": "ok",
     "timestamp": 1621526070670,
     "user": {
      "displayName": "khanhblog AI",
      "photoUrl": "https://lh3.googleusercontent.com/a-/AOh14GhNCi9Qnch9sWXSuvX4N5yijAGEjX1IvfmN-95m=s64",
      "userId": "06481533334230032014"
     },
     "user_tz": -420
    },
    "id": "NygdVucDeqP6",
    "outputId": "3280eee8-95d8-4df0-bad7-99a1c3653229"
   },
   "outputs": [
    {
     "name": "stdout",
     "output_type": "stream",
     "text": [
      "True\n"
     ]
    }
   ],
   "source": [
    "class User:\n",
    "  pass\n",
    "\n",
    "# Khởi tạo một object user và kiểm tra type của nó.\n",
    "user = User()\n",
    "print(type(user) == User)"
   ]
  },
  {
   "cell_type": "code",
   "execution_count": 2,
   "id": "married-policy",
   "metadata": {
    "executionInfo": {
     "elapsed": 1049,
     "status": "ok",
     "timestamp": 1621526414200,
     "user": {
      "displayName": "khanhblog AI",
      "photoUrl": "https://lh3.googleusercontent.com/a-/AOh14GhNCi9Qnch9sWXSuvX4N5yijAGEjX1IvfmN-95m=s64",
      "userId": "06481533334230032014"
     },
     "user_tz": -420
    },
    "id": "iuFR3b56O6uX"
   },
   "outputs": [],
   "source": [
    "class User:\n",
    "  def __init__(self, name, age, gender, occupation):\n",
    "    self.name = name\n",
    "    self.age = age\n",
    "    self.gender = gender\n",
    "    self.occupation = occupation"
   ]
  },
  {
   "cell_type": "code",
   "execution_count": 3,
   "id": "interesting-omaha",
   "metadata": {
    "colab": {
     "base_uri": "https://localhost:8080/"
    },
    "executionInfo": {
     "elapsed": 829,
     "status": "ok",
     "timestamp": 1621526820606,
     "user": {
      "displayName": "khanhblog AI",
      "photoUrl": "https://lh3.googleusercontent.com/a-/AOh14GhNCi9Qnch9sWXSuvX4N5yijAGEjX1IvfmN-95m=s64",
      "userId": "06481533334230032014"
     },
     "user_tz": -420
    },
    "id": "76LBNR6PQp3q",
    "outputId": "4eb8c47a-956c-4059-e594-15d8c1859c1c"
   },
   "outputs": [
    {
     "name": "stdout",
     "output_type": "stream",
     "text": [
      "Pham Dinh Khanh 27 male AI Engineer\n"
     ]
    }
   ],
   "source": [
    "user = User(name='Pham Dinh Khanh', age=27, gender='male', occupation='AI Engineer')\n",
    "print(user.name, user.age, user.gender, user.occupation)"
   ]
  },
  {
   "cell_type": "code",
   "execution_count": 4,
   "id": "confused-regulation",
   "metadata": {
    "colab": {
     "base_uri": "https://localhost:8080/"
    },
    "executionInfo": {
     "elapsed": 1095,
     "status": "ok",
     "timestamp": 1621527361880,
     "user": {
      "displayName": "khanhblog AI",
      "photoUrl": "https://lh3.googleusercontent.com/a-/AOh14GhNCi9Qnch9sWXSuvX4N5yijAGEjX1IvfmN-95m=s64",
      "userId": "06481533334230032014"
     },
     "user_tz": -420
    },
    "id": "jw6o2ZhSjzTX",
    "outputId": "f61998eb-f493-4769-9bb5-d31a9dfc6861"
   },
   "outputs": [
    {
     "name": "stdout",
     "output_type": "stream",
     "text": [
      "VietNam Pham Dinh Khanh 27 male AI Engineer\n"
     ]
    }
   ],
   "source": [
    "class User:\n",
    "  nation = 'VietNam'\n",
    "  def __init__(self, name, age, gender, occupation):\n",
    "    self.name = name\n",
    "    self.age = age\n",
    "    self.gender = gender\n",
    "    self.occupation = occupation\n",
    "\n",
    "user = User(name='Pham Dinh Khanh', age=27, gender='male', occupation='AI Engineer')\n",
    "print(user.nation, user.name, user.age, user.gender, user.occupation)"
   ]
  },
  {
   "cell_type": "code",
   "execution_count": 5,
   "id": "neutral-heading",
   "metadata": {
    "executionInfo": {
     "elapsed": 767,
     "status": "ok",
     "timestamp": 1621527960746,
     "user": {
      "displayName": "khanhblog AI",
      "photoUrl": "https://lh3.googleusercontent.com/a-/AOh14GhNCi9Qnch9sWXSuvX4N5yijAGEjX1IvfmN-95m=s64",
      "userId": "06481533334230032014"
     },
     "user_tz": -420
    },
    "id": "8Kpn8yoFl_oh"
   },
   "outputs": [],
   "source": [
    "user1 = User(name='Pham Dinh Khanh', age=27, gender='male', occupation='AI Engineer')\n",
    "user2 = User(name='Pham Dinh Khanh', age=27, gender='male', occupation='AI Engineer')"
   ]
  },
  {
   "cell_type": "code",
   "execution_count": 6,
   "id": "eight-recipient",
   "metadata": {
    "colab": {
     "base_uri": "https://localhost:8080/"
    },
    "executionInfo": {
     "elapsed": 894,
     "status": "ok",
     "timestamp": 1621528176429,
     "user": {
      "displayName": "khanhblog AI",
      "photoUrl": "https://lh3.googleusercontent.com/a-/AOh14GhNCi9Qnch9sWXSuvX4N5yijAGEjX1IvfmN-95m=s64",
      "userId": "06481533334230032014"
     },
     "user_tz": -420
    },
    "id": "cPOW-NBimT9V",
    "outputId": "4b9b59c1-cb21-4ad3-ee83-be7d78091266"
   },
   "outputs": [
    {
     "data": {
      "text/plain": [
       "False"
      ]
     },
     "execution_count": 6,
     "metadata": {},
     "output_type": "execute_result"
    }
   ],
   "source": [
    "user1 == user2"
   ]
  },
  {
   "cell_type": "code",
   "execution_count": 7,
   "id": "proprietary-dividend",
   "metadata": {
    "colab": {
     "base_uri": "https://localhost:8080/"
    },
    "executionInfo": {
     "elapsed": 1028,
     "status": "ok",
     "timestamp": 1621528839270,
     "user": {
      "displayName": "khanhblog AI",
      "photoUrl": "https://lh3.googleusercontent.com/a-/AOh14GhNCi9Qnch9sWXSuvX4N5yijAGEjX1IvfmN-95m=s64",
      "userId": "06481533334230032014"
     },
     "user_tz": -420
    },
    "id": "VR3N0gTcopYL",
    "outputId": "d4542253-c736-4da6-a7a5-0dec7aa12e48"
   },
   "outputs": [
    {
     "name": "stdout",
     "output_type": "stream",
     "text": [
      "VietNam Pham Dinh Khanh 27 male AI Engineer\n"
     ]
    }
   ],
   "source": [
    "class User:\n",
    "  nation = 'VietNam'\n",
    "  def __init__(self, name, age, gender, occupation):\n",
    "    self.name = name\n",
    "    self.age = age\n",
    "    self.gender = gender\n",
    "    self.occupation = occupation\n",
    "\n",
    "  # Các hàm buy, search là những hàm phương thức.\n",
    "  def buy(self, item):\n",
    "    print('you bought {}'.format(item))\n",
    "  \n",
    "  def search(self, term):\n",
    "    print('you search: {}'.format(term))\n",
    "\n",
    "user = User(name='Pham Dinh Khanh', age=27, gender='male', occupation='AI Engineer')\n",
    "print(user.nation, user.name, user.age, user.gender, user.occupation)"
   ]
  },
  {
   "cell_type": "code",
   "execution_count": 8,
   "id": "surface-artist",
   "metadata": {
    "colab": {
     "base_uri": "https://localhost:8080/"
    },
    "executionInfo": {
     "elapsed": 776,
     "status": "ok",
     "timestamp": 1621528841320,
     "user": {
      "displayName": "khanhblog AI",
      "photoUrl": "https://lh3.googleusercontent.com/a-/AOh14GhNCi9Qnch9sWXSuvX4N5yijAGEjX1IvfmN-95m=s64",
      "userId": "06481533334230032014"
     },
     "user_tz": -420
    },
    "id": "bZEDueC6pUDD",
    "outputId": "14522427-947b-493d-988e-697f46638f09"
   },
   "outputs": [
    {
     "name": "stdout",
     "output_type": "stream",
     "text": [
      "you bought a Book\n",
      "you search: AI Book\n"
     ]
    }
   ],
   "source": [
    "user.buy('a Book')\n",
    "user.search('AI Book')"
   ]
  },
  {
   "cell_type": "code",
   "execution_count": 9,
   "id": "alternative-inspector",
   "metadata": {
    "colab": {
     "base_uri": "https://localhost:8080/"
    },
    "executionInfo": {
     "elapsed": 979,
     "status": "ok",
     "timestamp": 1621529640417,
     "user": {
      "displayName": "khanhblog AI",
      "photoUrl": "https://lh3.googleusercontent.com/a-/AOh14GhNCi9Qnch9sWXSuvX4N5yijAGEjX1IvfmN-95m=s64",
      "userId": "06481533334230032014"
     },
     "user_tz": -420
    },
    "id": "zefMFDZbsBWV",
    "outputId": "a61d170d-cca5-4ff7-ff38-8fb905a0786a"
   },
   "outputs": [
    {
     "name": "stdout",
     "output_type": "stream",
     "text": [
      "VietNam Pham Dinh Khanh 27 male AI Engineer\n",
      "you bought a Book\n",
      "you search: AI Book\n"
     ]
    }
   ],
   "source": [
    "# SpecialUser kế thừa lại User bằng cách để User trong dấu ()\n",
    "class SpecialUser(User):\n",
    "  pass\n",
    "\n",
    "user = SpecialUser(name='Pham Dinh Khanh', age=27, gender='male', occupation='AI Engineer')\n",
    "print(user.nation, user.name, user.age, user.gender, user.occupation)\n",
    "user.buy('a Book')\n",
    "user.search('AI Book')"
   ]
  },
  {
   "cell_type": "code",
   "execution_count": 10,
   "id": "dimensional-local",
   "metadata": {
    "colab": {
     "base_uri": "https://localhost:8080/"
    },
    "executionInfo": {
     "elapsed": 1785,
     "status": "ok",
     "timestamp": 1621529765890,
     "user": {
      "displayName": "khanhblog AI",
      "photoUrl": "https://lh3.googleusercontent.com/a-/AOh14GhNCi9Qnch9sWXSuvX4N5yijAGEjX1IvfmN-95m=s64",
      "userId": "06481533334230032014"
     },
     "user_tz": -420
    },
    "id": "E73rx1gMsvpA",
    "outputId": "f1df158b-8918-4b48-a20f-cf31e9958ee1"
   },
   "outputs": [
    {
     "name": "stdout",
     "output_type": "stream",
     "text": [
      "<class '__main__.SpecialUser'>\n"
     ]
    },
    {
     "data": {
      "text/plain": [
       "True"
      ]
     },
     "execution_count": 10,
     "metadata": {},
     "output_type": "execute_result"
    }
   ],
   "source": [
    "print(type(user))\n",
    "isinstance(user, User)"
   ]
  },
  {
   "cell_type": "code",
   "execution_count": 11,
   "id": "attached-latin",
   "metadata": {
    "colab": {
     "base_uri": "https://localhost:8080/"
    },
    "executionInfo": {
     "elapsed": 1149,
     "status": "ok",
     "timestamp": 1621530982899,
     "user": {
      "displayName": "khanhblog AI",
      "photoUrl": "https://lh3.googleusercontent.com/a-/AOh14GhNCi9Qnch9sWXSuvX4N5yijAGEjX1IvfmN-95m=s64",
      "userId": "06481533334230032014"
     },
     "user_tz": -420
    },
    "id": "q9RiqUy9vqGj",
    "outputId": "1e2eaaa0-cfc8-4a19-d35d-d0fcf0d74cb6"
   },
   "outputs": [
    {
     "name": "stdout",
     "output_type": "stream",
     "text": [
      "You get a voucher valuing 100$\n"
     ]
    }
   ],
   "source": [
    "class SpecialUser(User):\n",
    "  def getVoucher(self, value):\n",
    "    print(\"You get a voucher valuing {}\".format(value))\n",
    "\n",
    "user = SpecialUser(name='Pham Dinh Khanh', age=27, gender='male', occupation='AI Engineer')\n",
    "user.getVoucher('100$')"
   ]
  },
  {
   "cell_type": "code",
   "execution_count": 12,
   "id": "color-ocean",
   "metadata": {
    "colab": {
     "base_uri": "https://localhost:8080/"
    },
    "executionInfo": {
     "elapsed": 939,
     "status": "ok",
     "timestamp": 1621530999076,
     "user": {
      "displayName": "khanhblog AI",
      "photoUrl": "https://lh3.googleusercontent.com/a-/AOh14GhNCi9Qnch9sWXSuvX4N5yijAGEjX1IvfmN-95m=s64",
      "userId": "06481533334230032014"
     },
     "user_tz": -420
    },
    "id": "Gzgf7r_VxNCb",
    "outputId": "5fe807d0-c518-46b6-865f-53ed658dde90"
   },
   "outputs": [
    {
     "name": "stdout",
     "output_type": "stream",
     "text": [
      "you bought a book with the amount of 100$\n"
     ]
    }
   ],
   "source": [
    "class SpecialUser(User):\n",
    "  def buy(self, item, amount):\n",
    "    print('you bought {} with the amount of {}'.format(item, amount))\n",
    "\n",
    "user = SpecialUser(name='Pham Dinh Khanh', age=27, gender='male', occupation='AI Engineer')\n",
    "user.buy('a book', '100$')"
   ]
  },
  {
   "cell_type": "code",
   "execution_count": 13,
   "id": "automatic-fault",
   "metadata": {},
   "outputs": [],
   "source": [
    "import matplotlib.pyplot as plt"
   ]
  },
  {
   "cell_type": "code",
   "execution_count": 14,
   "id": "dimensional-training",
   "metadata": {},
   "outputs": [],
   "source": [
    "from matplotlib import pyplot as plt"
   ]
  },
  {
   "cell_type": "code",
   "execution_count": 15,
   "id": "objective-syntax",
   "metadata": {},
   "outputs": [],
   "source": [
    "# file user.py\n",
    "class User:\n",
    "  nation = 'VietNam'\n",
    "  def __init__(self, name, age, gender, occupation):\n",
    "    self.name = name\n",
    "    self.age = age\n",
    "    self.gender = gender\n",
    "    self.occupation = occupation\n",
    "\n",
    "  # Các hàm buy, search là những hàm phương thức.\n",
    "  def buy(self, item):\n",
    "    print('you bought {}'.format(item))\n",
    "  \n",
    "  def search(self, term):\n",
    "    print('you search: {}'.format(term))"
   ]
  },
  {
   "cell_type": "code",
   "execution_count": 16,
   "id": "transsexual-worry",
   "metadata": {},
   "outputs": [],
   "source": [
    "# file item.py\n",
    "class Item:\n",
    "    def __init__(self, item_id, item_name, item_price):\n",
    "        self.item_id = item_id\n",
    "        self.item_price = item_price\n",
    "        self.item_name = item_name"
   ]
  },
  {
   "cell_type": "code",
   "execution_count": 17,
   "id": "reflected-immigration",
   "metadata": {
    "class": "no-execute"
   },
   "outputs": [
    {
     "name": "stdout",
     "output_type": "stream",
     "text": [
      "skipping\n"
     ]
    }
   ],
   "source": [
    "%%script echo skipping\n",
    "\n",
    "# file order.py\n",
    "from user import User\n",
    "from item import Item\n",
    "\n",
    "class Order:\n",
    "    def __init__(self, user, item, item_quant):\n",
    "        self.user = user\n",
    "        self.item = item\n",
    "        self.item_quant = item_quant\n",
    "    \n",
    "    def cost(self):\n",
    "        value = self.item_quant*self.item.item_price\n",
    "        return value\n",
    "    \n",
    "if __name__ == '__main__':\n",
    "    user = User(name='Pham Dinh Khanh', age=27, gender='male', occupation='AI Engineer')\n",
    "    item = Item(item_id='123', item_name='keo vuốt tóc', item_price=50.000)\n",
    "    order = Order(user=user, item=item, item_quant=2)\n",
    "    total_cost = order.cost()\n",
    "    print(total_cost)"
   ]
  }
 ],
 "metadata": {
  "jupytext": {
   "text_representation": {
    "extension": ".md",
    "format_name": "myst",
    "format_version": 0.12,
    "jupytext_version": "1.8.2"
   }
  },
  "kernelspec": {
   "display_name": "Python 3",
   "name": "python3"
  },
  "language_info": {
   "codemirror_mode": {
    "name": "ipython",
    "version": 3
   },
   "file_extension": ".py",
   "mimetype": "text/x-python",
   "name": "python",
   "nbconvert_exporter": "python",
   "pygments_lexer": "ipython3",
   "version": "3.6.13"
  },
  "source_map": [
   11,
   22,
   27,
   51,
   55,
   65,
   86,
   99,
   119,
   123,
   151,
   159,
   165,
   182,
   186,
   205,
   211,
   246,
   250,
   270,
   276,
   284,
   310,
   316,
   336,
   340,
   346,
   352,
   376,
   380,
   386,
   410,
   424,
   426,
   432,
   434,
   440,
   457,
   464,
   468,
   492,
   509,
   521
  ]
 },
 "nbformat": 4,
 "nbformat_minor": 5
}