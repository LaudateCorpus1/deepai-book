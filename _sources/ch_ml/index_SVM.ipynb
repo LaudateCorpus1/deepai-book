{
 "cells": [
  {
   "cell_type": "markdown",
   "id": "fleet-abraham",
   "metadata": {},
   "source": [
    "Thuật ngữ:\n",
    "\n",
    "* Điểm hỗ trợ: support vector\n",
    "* Hàm mất mát: loss function\n",
    "* Không gian cao chiều: high dimensional space\n",
    "* đường biên: boundary\n",
    "* lề: margin\n",
    "* quá khớp: overfitting\n",
    "\n",
    "# 7. Giới thiệu về SVM\n",
    "\n",
    "SVM là viết tắt của cụm từ _suport vector machine_. Đây là một thuật toán khá hiệu quả trong lớp các bài toán phân loại nhị phân và dự báo của học có giám sát. Thuật toán này có ưu điểm đó là:\n",
    "\n",
    "* Đây là thuật toán hoạt động hiệu quả với không gian cao chiều (_high dimensional spaces_).\n",
    "\n",
    "* Thuật toán tiêu tốn ít bộ nhớ vì chỉ sử dụng một tập hợp những điểm hỗ trợ trong hàm quyết định.\n",
    "\n",
    "* Chúng ta có thể tạo ra nhiều hàm quyết định từ những hàm kernel khác nhau. Thậm chí sử dụng đúng kernel có thể giúp cải thiện thuật toán lên đáng kể.\n",
    "\n",
    "Chính vì tính hiệu quả mà SVM thường được áp dụng nhiều trong các tác vụ phân loại và dự báo, cũng như được nhiều công ty ứng dụng và triển khai trên môi trường sản phẩm. Chúng ta có thể liệt kê một số ứng dụng của thuật toán SVM đó là:\n",
    "\n",
    "* Mô hình chuẩn đoán bệnh. Dựa vào biến mục tiêu là những chỉ số xét nghiệm lâm sàng, thuật toán đưa ra dự báo về một số bệnh như tiểu đường, suy thận, máu nhiễm mỡ,....\n",
    "\n",
    "* Trước khi thuật toán CNN và Deep Learning bùng nổ thì SVM là lớp mô hình cực kì phổ biến trong phân loại ảnh.\n",
    "\n",
    "* Mô hình phân loại tin tức. Xác định chủ đề của một đoạn văn bản, phân loại cảm xúc văn bản, phân loại thư rác.\n",
    "\n",
    "* Mô hình phát hiện gian lận.\n",
    "\n",
    "Trong bài viết này chúng ta sẽ cùng tìm hiểu về nội dung của mô hình SVM.\n",
    "\n",
    "\n",
    "```{toctree}\n",
    ":hidden:\n",
    ":titlesonly:\n",
    "\n",
    "\n",
    "SVM.md\n",
    "```"
   ]
  }
 ],
 "metadata": {
  "jupytext": {
   "text_representation": {
    "extension": ".md",
    "format_name": "myst",
    "format_version": 0.12,
    "jupytext_version": "1.8.2"
   }
  },
  "kernelspec": {
   "display_name": "Python 3",
   "name": "python3"
  },
  "language_info": {
   "codemirror_mode": {
    "name": "ipython",
    "version": 3
   },
   "file_extension": ".py",
   "mimetype": "text/x-python",
   "name": "python",
   "nbconvert_exporter": "python",
   "pygments_lexer": "ipython3",
   "version": "3.6.13"
  },
  "source_map": [
   11
  ]
 },
 "nbformat": 4,
 "nbformat_minor": 5
}