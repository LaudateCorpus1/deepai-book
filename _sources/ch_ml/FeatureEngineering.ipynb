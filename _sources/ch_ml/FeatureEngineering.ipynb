{
 "cells": [
  {
   "cell_type": "markdown",
   "id": "aggressive-oxide",
   "metadata": {},
   "source": [
    "# 11.1. Feature Engineering\n",
    "## 11.1.1. Trích lọc đặc trưng (_Feature Extraction_)\n",
    "\n",
    "Ở những bộ dữ liệu cao chiều thì huấn luyện mô hình và dự báo cần tiêu tốn rất nhiều chi phí tính toán. Chính vì thế _trích lọc đặc trưng_ là một kĩ thuật giúp giảm chiều giữ liệu mà ở đó cho phép chúng ta lựa chọn hoặc kết hợp các biến đầu vào thành những _đặc trưng_ dự báo nhưng vẫn thể hiện một cách chính xác và nguyên vẹn của dữ liệu gốc. _Trích lọc đặc trưng_ được áp dụng trong nhiều bài toán khác nhau của machine learning.\n",
    "\n",
    "  * Autoendcoder: Là kĩ thuật khá hiệu quả trong _self - supervised learning_. Kĩ thuật này sẽ tự mã hoá dữ liệu đầu từ không gian cao chiều sang một không gian thấp chiều (quá trình _encoder_). Sau đó giải mã ngược lại từ không gian thấp chiều sang không gian cao chiều (quá trình _decoder_) sao cho thông tin đầu ra của quá trình giải mã và đầu vào phải gần bằng nhau.\n",
    "![](https://dothanhblog.files.wordpress.com/2020/01/autoencoder.png?w=467&h=354)\n",
    "  * Bag-of-Words: Hay còn gọi là _thuật toán túi từ_ thường được sử dụng trong _xử lý ngôn ngữ tự nhiên (Natural Language Processing - NLP)_ và _trích lọc thông tin (information retrieval)_. Thuật toán cho phép chúng ta trích lọc thông tin từ các đoạn văn bản, mẩu tin, trang web bằng cách xây dựng một _túi từ_ và tìm cách mã hoá nội dung văn bản thành một véc tơ tần suất của từ mà không quan tâm đến thứ tự của từ và cấu trúc ngữ pháp.\n",
    "  * Image Processing: Đây là những thuật toán được sử dụng để phát hiện đặc trưng trên ảnh như hình dạng (_shaped_) và cạnh (_edges_). Đó có thể là những phương pháp trích lọc đặc trưng trên ảnh thủ công như [HOG](https://phamdinhkhanh.github.io/2019/11/22/HOG.html) và [SHIFT](http://luthuli.cs.uiuc.edu/~daf/courses/ComputerVisionTutorial2012/EdgesOrientationHOGSIFT-2012.pdf) hoặc sử dụng bộ trích lọc đặc trưng thông qua tích chập [CNN](https://phamdinhkhanh.github.io/2019/08/22/convolutional-neural-network.html)."
   ]
  },
  {
   "cell_type": "markdown",
   "id": "underlying-angola",
   "metadata": {
    "id": "NgtLHNIk0nHZ"
   },
   "source": [
    "## 11.1.2. Biến đổi đặc trưng (_Feature Transformation_)\n",
    "\n",
    "_Biến đổi đặc trưng_ là những kĩ thuật giúp biến đổi dữ liệu đầu vào thành những dữ liệu phù hợp với mô hình nghiên cứu. Những dữ liệu này thường có tương quan cao đối với biến mục tiêu và do đó giúp cải thiện độ chính xác của mô hình. Bên dưới là một số phương pháp chính được áp dụng trong biến đối đặc trưng:\n",
    "  * **Chuẩn hóa biến**: Chuẩn hoá biến nhằm mục đích tạo ra sự đồng nhất đơn vị giữa các biến đầu vào và giảm thiểu những tác động xấu lên mô hình do sự khác biệt về độ lớn giữa các biến. Các kĩ thuật liên quan đến chuẩn hoá đơn vị cho biến đầu vào còn được gọi là _Feature Scaling_ bao gồm: _Chuẩn hoá MinMax (Minmax scaling_), _chuẩn hoá độ dài đơn vị_ (_Unit length scaling_), _chuẩn hoá phân phối chuẩn_ (_Standardization_).\n",
    "  * **Biến đổi biến theo hàm**: Trong trường hợp dữ liệu có _phương sai thay đổi (heteroscedasticity)_ thì chúng ta có thể sử dụng một số hàm biến đổi biến đầu vào để tạo ra những biến có phương sai ổn định và dạng phân phối gần với phân phối chuẩn hơn như `logrith, căn bậc 2, căn bậc 3`.\n",
    "  * **Tạo biến tương tác**: Các biến tương tác là những biến kết hợp từ nhiều biến đầu vào chẳng hạn như $x_1x_2, x_1^2x_2, x_1x_2x_3^2, \\dots$ Biến tương tác có thể là tích của hai hoặc nhiều biến. Trong một mô hình có ít biến đầu vào thì sử dụng biến tương tác có thể giúp tạo ra nhiều biến giải thích mới giúp ích cho mô hình.\n",
    "  * **Tạo biến bậc cao**: Biến bậc cao là những biến được tạo thành từ biến đầu vào bằng cách luỹ thừa với giá trị bậc cao, có thể là bậc 2, 3,.... Chẳng hạn với biến đầu vào là $x_1$ thì biến bậc cao của nó là $x_1^2, x_1^3,....$.\n",
    "  * **Dữ liệu về vị trí địa lý**: Từ vị trí địa lý có thể suy ra vùng miền, thành thị, nông thôn, mức thu nhập trung bình, các yếu tố về nhân khẩu,....\n",
    "  * **Dữ liệu thời gian**: Các dữ liệu chuỗi thời gian thường tồn tại tính chu kì và mùa vụ. Chính vì vậy, các kĩ thuật biến đổi biến thời gian thành đặc trưng ghi nhận tính chất chu kì và mùa vụ sẽ giúp tăng cường khả năng giải thích của mô hình đối với biến mục tiêu. Chúng ta có thể lựa chọn chu kì của thời gian là buổi sáng/chiều/tối trong ngày; ngày trong tháng; tuần trong tháng; tháng trong năm hoặc quí trong năm tuỳ theo qui luật mùa vụ được thể hiện ở _biến mục tiêu_."
   ]
  },
  {
   "cell_type": "markdown",
   "id": "affiliated-charles",
   "metadata": {
    "id": "KIxF_KIr0paQ"
   },
   "source": [
    "## 11.1.3. Lựa chọn đặc trưng (_Feature Selection_) \n",
    "\n",
    "_Lựa chọn đặc trưng_ là một phần rất quan trọng trong Machine Learning với mục tiêu chính là loại bỏ những đặc trưng không thực sự chứa thông tin hữu ích cho bài toán phân loại hoặc dự báo. Kĩ thuật _lựa chọn đặc trưng_ có thể được sử dụng để cải thiện tốc độ huấn luyện và dự báo (khi có ít đặc trưng hơn có nghĩa là mô hình được huấn luyện và dự báo nhanh hơn) và thậm chí giảm hiện tượng _quá khớp_.\n",
    "\n",
    "Các kĩ thuật lựa chọn đặc trưng khá đa dạng:\n",
    "  * Sử dụng hệ số tương quan với biến mục tiêu: Những biến tương quan cao với biến mục tiêu là những biến có khả năng giải thích tốt. Mức độ quan trọng của biến có thể được xếp hạng thông qua sử dụng tương quan Pearson Correlation,\n",
    "  * Sử dụng chỉ số AIC: AIC (_Akaike information criterion_) là chỉ số được sử dụng để đánh giá chất lượng của mô hình thống kê. Chỉ số này được tính toán thông qua giá trị logarith của hàm hợp lý (_Log Likelihood Function_). Để xếp hạng mức độ quan trọng của biến thì đầu tiên chúng ta sẽ tính AIC cho mô hình được hồi qui trên toàn bộ các biến. Sau đó thực hiện các thử nghiệm huấn luyện mà mỗi lượt bỏ bớt đi một biến để xem giá trị AIC của mô hình nào là nhỏ nhất. AIC càng nhỏ thì mô hình có sai số càng thấp trên tập huấn luyện và từ đó đưa ra xếp hạng biến.\n",
    "  * Sử dụng chỉ số IV: IV (_Information Value_) là chỉ số được sử dụng trong các bài toán phân loại nhị phân trong thống kê. Chỉ số này thường được đo lường để đánh giá sức mạnh phân loại của biến đầu vào.\n",
    "  * Lựa chọn đặc trưng bằng sử dụng mô hình: Random Forest, Lasso Regression, Neural Network, SVD.\n",
    "  * Lựa chọn thông qua mức độ biến động phương sai: Những biến ít biến động hoặc thậm chí không thay đổi giá trị sẽ không có tác dụng phân loại và dự báo. Chính vì vậy chúng ta có thể lọc bỏ những biến này thông qua xác định độ lớn của phương sai phải lớn hơn một ngưỡng cho trước."
   ]
  },
  {
   "cell_type": "markdown",
   "id": "false-choir",
   "metadata": {
    "id": "LitAgjBBIDJH"
   },
   "source": [
    "Tiếp theo chúng ta sẽ lần lượt phân tích những kĩ thuật này về lý thuyết, trường hợp áp dụng thông qua các ví dụ thực hành."
   ]
  },
  {
   "cell_type": "markdown",
   "id": "binary-belly",
   "metadata": {
    "id": "lDa9SWPAbpIp"
   },
   "source": [
    "# 11.2. Trích lọc đặc trưng (feature extraction)\n",
    "\n",
    "Trong thực tế dữ liệu thường ở dạng thô và đến từ nhiều nguồn khác nhau như văn bản, hình ảnh, âm thanh, các phiếu điều tra, các hệ thống lưu trữ, website, app,.... Nên đòi hỏi người xây dựng mô hình phải thu thập và tổng hợp lại các nguồn dữ liệu có liên quan đến vấn đề đang nghiên cứu. Dữ liệu sau đó phải được làm sạch và biến đổi thành dạng dữ liệu cấu trúc (_structure data_) để tiến hành xây dựng mô hình. \n",
    "\n",
    "Đối với các dữ liệu dạng văn bản, hình ảnh hoặc âm thanh chúng ta sẽ cần đến các kĩ thuật trích lọc đặc trưng để biến dữ liệu từ dạng chưa mã hoá sang dạng số học thì mới có thể huấn luyện được mô hình. Một trong những kiểu dữ liệu phổ biến áp dụng kĩ thuật trích lọc này là dữ liệu dạng văn bản sẽ được trình bày bên dưới."
   ]
  },
  {
   "cell_type": "markdown",
   "id": "suitable-looking",
   "metadata": {
    "id": "eleZxW5obvsK"
   },
   "source": [
    "## 11.2.1. Trích lọc đặc trưng cho văn bản\n",
    "\n",
    "Dữ liệu văn bản có thể tồn tại ở nhiều dạng khác nhau như chữ cái thường, chữ cái hoa, dấu câu, các kí tự đặc biệt,.... Các ngôn ngữ khác nhau cũng có mẫu kí tự khác nhau và cấu trúc ngữ pháp khác nhau."
   ]
  },
  {
   "cell_type": "markdown",
   "id": "considered-mauritius",
   "metadata": {
    "id": "vteyIKkeb5yK"
   },
   "source": [
    "Vấn đề chính của dữ liệu dạng văn bản đó là làm thể nào để mã hoá được kí tự về dạng số? Kĩ thuật _tokenization_ sẽ giúp ta thực hiện điều này. _tokenization_ là việc chúng ta chia văn bản theo đơn vị nhỏ nhất và xây dựng một từ điển đánh dấu index cho những đơn vị này. Có hai kiểu mã hoá chính là mã hoá theo từ và mã hoá theo kí tự. \n",
    "\n",
    "* Đối với mã hoá theo từ thì các từ trong câu sẽ là đơn vị nhỏ nhất. Trong Tiếng Anh thì từ chủ yếu tồn tại ở dạng từ đơn trong khi Tiếng Việt tồn tại các từ ghép. Khi mã hoá theo từ thì kích thước của từ điển sẽ rất lớn, tuỳ thuộc vào số lượng các từ khác nhau xuất hiện trong toàn bộ các văn bản.\n",
    "\n",
    "* Mã hoá theo kí tự thì chúng ta sẽ sử dụng các kí hiệu trong bảng chữ cái để làm từ điển mã hoá từ. Kích thước của bộ từ điển khi mã hoá theo kí tự sẽ nhỏ hơn so với mã hoá theo từ."
   ]
  },
  {
   "cell_type": "markdown",
   "id": "sticky-diploma",
   "metadata": {
    "id": "4wLVJnT8tgfi"
   },
   "source": [
    "### 11.2.1.1. Phương pháp _bag-of-words_\n",
    "\n",
    "_bag-of-words_, viết tắt là BoW, có nghĩa là bỏ túi các từ. Theo phương pháp _bag-of-word_ chúng ta sẽ mã hoá các từ trong câu thành một véc tơ có độ dài bằng số lượng các từ trong từ điển và đếm tần suất xuất hiện của các từ. Tần xuất của từ thứ $i$ trong từ điển sẽ chính bằng phần tử thứ $i$ trong véc tơ.\n",
    "\n",
    "\n",
    "![](https://imgur.com/UuynVys.jpeg)\n",
    "\n",
    "\n",
    "**Hình 1:** Văn bản ở bên trái được mã hoá thành véc tơ tần suất từ ở bên phải. Các từ `I` và `have` lặp lại 2 lần nên có tần suất là 2. Những từ không xuất hiện trong câu nhưng có trong từ điển như `deep, is, this, machine, learning` thì có giá trị là 0.\n",
    "\n",
    "\n",
    "Như vậy theo phương pháp _bag-of-words_ thì mỗi từ sẽ trở thành một chiều biểu diễn trong không gian của véc tơ đầu ra. Khi số lượng các từ rất lớn thì kết quả mã hoá có thể tạo thành một véc tơ có độ dài rất lớn. Thông thường đây sẽ là một véc tơ thưa (_sparse vector_) có hầu hết các giá trị bằng 0. Số lượng chiều lớn khiến việc biểu diễn các véc tơ mã hoá trên không gian gặp khó khăn. Nếu như ta muốn biểu diễn trên đồ thị thì phải tìm cách giảm chiều véc tơ xuống còn 2 hoặc 3 chiều."
   ]
  },
  {
   "cell_type": "markdown",
   "id": "invisible-overview",
   "metadata": {
    "id": "SNt6cXAnb7Or"
   },
   "source": [
    "Bên dưới là code minh hoạ cho phương pháp túi từ. Để xây dựng phương pháp túi từ chúng ta trải qua hai bước:\n",
    "\n",
    "1. Xây dựng từ điển.\n",
    "2. Mã hoá văn bản sang véc tơ tần suất của từ."
   ]
  },
  {
   "cell_type": "code",
   "execution_count": 1,
   "id": "minimal-merchandise",
   "metadata": {
    "colab": {
     "base_uri": "https://localhost:8080/"
    },
    "id": "bpDX0eu-b0WF",
    "outputId": "3fc6db64-2718-434e-c346-f1e951e2eb82"
   },
   "outputs": [
    {
     "name": "stdout",
     "output_type": "stream",
     "text": [
      "[0. 0. 1. 1. 1. 0. 0. 1.]\n",
      "[1. 1. 0. 0. 0. 0. 1. 1.]\n",
      "[1. 1. 1. 1. 1. 1. 1. 2.]\n"
     ]
    }
   ],
   "source": [
    "from functools import reduce\n",
    "import numpy as np\n",
    "\n",
    "# Đầu vào là một texts bao gồm 3 câu văn:\n",
    "texts = [['i', 'have', 'a', 'cat'], \n",
    "        ['he', 'has', 'a', 'dog'], \n",
    "        ['he', 'has', 'a', 'dog', 'and', 'i', 'have', 'a', 'cat']]\n",
    "\n",
    "# B1: Xây dựng từ điển\n",
    "dictionary = list(enumerate(set(reduce(lambda x, y: x + y, texts))))\n",
    "\n",
    "# B2: Mã hoá câu sang véc tơ tần suất\n",
    "def bag_of_word(sentence):\n",
    "    # Khởi tạo một vector có độ dài bằng với từ điển.\n",
    "    vector = np.zeros(len(dictionary))\n",
    "    # Đếm các từ trong một câu xuất hiện trong từ điển.\n",
    "    for i, word in dictionary:\n",
    "        count = 0\n",
    "        # Đếm số từ xuất hiện trong một câu.\n",
    "        for w in sentence:\n",
    "            if w == word:\n",
    "                count += 1\n",
    "        vector[i] = count\n",
    "    return vector\n",
    "            \n",
    "for i in texts:\n",
    "    print(bag_of_word(i))"
   ]
  },
  {
   "cell_type": "markdown",
   "id": "ranking-technical",
   "metadata": {
    "id": "8UbOTTwc23VA"
   },
   "source": [
    "Nếu muốn sử dụng thư viện để tìm biểu diễn _bag-of-words_ của từ thì trong sklearn chúng ta sử dụng package như sau:"
   ]
  },
  {
   "cell_type": "code",
   "execution_count": 2,
   "id": "soviet-window",
   "metadata": {
    "colab": {
     "base_uri": "https://localhost:8080/"
    },
    "id": "M_fFNLnc3EsF",
    "outputId": "d1d8b850-8bc1-416d-8fd9-aeebece5c2aa"
   },
   "outputs": [
    {
     "name": "stdout",
     "output_type": "stream",
     "text": [
      "words in dictionary:  ['and', 'cat', 'dog', 'has', 'have', 'he']\n",
      "[[0 1 0 0 1 0]\n",
      " [0 0 1 1 0 1]\n",
      " [1 1 1 1 1 1]]\n"
     ]
    }
   ],
   "source": [
    "from sklearn.feature_extraction.text import CountVectorizer\n",
    "\n",
    "texts = ['i have a cat', \n",
    "        'he has a dog', \n",
    "        'he has a dog and i have a cat']\n",
    "\n",
    "vect = CountVectorizer()\n",
    "X = vect.fit_transform(texts)\n",
    "print('words in dictionary: ', vect.get_feature_names())\n",
    "print(X.toarray())"
   ]
  },
  {
   "cell_type": "markdown",
   "id": "built-picking",
   "metadata": {
    "id": "DHw1USjhcB63"
   },
   "source": [
    "Quá trình này có thể được mô tả bởi biểu đồ bên dưới:\n",
    "\n",
    "![](https://imgur.com/JgITfRU.jpeg)\n",
    "\n",
    "Các biểu diễn theo túi từ có hạn chế đó là chúng ta không phân biệt được 2 câu văn có cùng các từ bởi túi từ không phân biệt thứ tự trước sau của các từ trong một câu. Chặng như 'you have no dog' và 'no, you have dog' là 2 câu văn có biểu diễn giống nhau mặc dù có ý nghĩa trái ngược nhau."
   ]
  },
  {
   "cell_type": "code",
   "execution_count": 3,
   "id": "secondary-fitness",
   "metadata": {
    "colab": {
     "base_uri": "https://localhost:8080/"
    },
    "id": "PYCZVJom2xdQ",
    "outputId": "6aa97456-c809-4f6d-8545-2e712390cf63"
   },
   "outputs": [
    {
     "data": {
      "text/plain": [
       "array([[1, 1, 1, 1],\n",
       "       [1, 1, 1, 1]])"
      ]
     },
     "execution_count": 3,
     "metadata": {},
     "output_type": "execute_result"
    }
   ],
   "source": [
    "from sklearn.feature_extraction.text import CountVectorizer\n",
    "\n",
    "vect = CountVectorizer(ngram_range = (1, 1))\n",
    "vect.fit_transform(['you have no dog', 'no, you have dog']).toarray()"
   ]
  },
  {
   "cell_type": "markdown",
   "id": "valuable-oklahoma",
   "metadata": {
    "id": "jV2fg0877xoC"
   },
   "source": [
    "Chính vì thế phương pháp _bag-of-n-gram_ sẽ được sử dụng thay thế."
   ]
  },
  {
   "cell_type": "markdown",
   "id": "excited-cotton",
   "metadata": {
    "id": "GDcWPViA02-P"
   },
   "source": [
    "### 11.2.1.2. Phương pháp _bag-of-n-gram_\n",
    "\n",
    "Phương pháp _bag-of-n-grams_ là phương pháp mở rộng của _bag-of-words_. Một _n-grams_ là một chuỗi bao gồm $n$ tokens. Trong trường hợp $n=1$ từ ta gọi là _unigram_, đối với 2 từ là _bigram_ và 3 từ là _trigram_. Khi thực hiện tokenization với _n-grams_ thì trong từ điển sẽ xuất hiện những cụm $n-grams$ từ nếu chúng xuất hiện trong các văn bản. Chẳng hạn như câu `I have a dog` sẽ được tokenize thành `I have, have a, a dog`. Như vậy số lượng các từ trong từ điển sẽ gia tăng một cách đáng kể. Nếu chúng ta có $k$ từ đơn thì có thể lên tới $k^2$ từ trong bigram. Nhưng thực tế không phải hầu hết các từ đều có thể ghép đôi với nhau nên véc tơ biểu diễn của câu trong _bigram_ là một véc tơ rất thưa và có số chiều lớn. Điều này dẫn tới tốn kém về chi phí tính toán và lưu trữ.\n",
    "\n",
    "Trong `sklearn`, để sử dụng _bigram_ thì trong `CountVectorizer` chúng ta thay đổi `ngram_range = (2, 2)`. Giá trị đầu tiên là độ dài nhỏ nhất và giá trị sau là độ dài lớn nhất được phép của các _ngrams_. Ở đây ta khai báo độ dài nhỏ nhất và lớn nhất là 2 nên thu được _ngrams_ là _bigram_."
   ]
  },
  {
   "cell_type": "code",
   "execution_count": 4,
   "id": "typical-festival",
   "metadata": {
    "id": "bRVxmd2fcXHO"
   },
   "outputs": [],
   "source": [
    "from sklearn.feature_extraction.text import CountVectorizer\n",
    "\n",
    "# bigram\n",
    "bigram = CountVectorizer(ngram_range = (2, 2))\n",
    "n1, n2, n3 = bigram.fit_transform(['you have no dog', 'no, you have dog', 'you have a dog']).toarray()\n",
    "\n",
    "# trigram\n",
    "trigram = CountVectorizer(ngram_range = (3, 3))\n",
    "n1, n2, n3 = trigram.fit_transform(['you have no dog', 'no, you have dog', 'you have a dog']).toarray()"
   ]
  },
  {
   "cell_type": "markdown",
   "id": "dominican-style",
   "metadata": {
    "id": "UH6nN2UKBDN3"
   },
   "source": [
    "Sau khi mã hoá các câu văn chúng ta cũng có thể tính toán được khoảng cách giữa các véc tơ trong không gian euclidean:"
   ]
  },
  {
   "cell_type": "code",
   "execution_count": 5,
   "id": "decimal-uniform",
   "metadata": {
    "colab": {
     "base_uri": "https://localhost:8080/"
    },
    "id": "-oXABBA6BD5K",
    "outputId": "9c950f58-c3ae-4930-8807-260e1142052c"
   },
   "outputs": [
    {
     "name": "stdout",
     "output_type": "stream",
     "text": [
      "2.0 1.0 1.7320508075688772\n"
     ]
    }
   ],
   "source": [
    "from scipy.spatial.distance import euclidean\n",
    "print(euclidean(n1, n2), euclidean(n2, n3), euclidean(n1, n3))"
   ]
  },
  {
   "cell_type": "markdown",
   "id": "printable-entry",
   "metadata": {
    "id": "sRe4wNzkB4C8"
   },
   "source": [
    "### 11.2.1.3. Phương pháp _TF-IDF_"
   ]
  },
  {
   "cell_type": "markdown",
   "id": "leading-paris",
   "metadata": {
    "id": "FfCtelTGcMF9"
   },
   "source": [
    "Giả sử chúng ta có một _bộ văn bản_ (_corpus_) bao gồm rất nhiều các văn bản con. Những từ hiếm khi được tìm thấy trong bộ văn bản (_corpus_) nhưng có mặt trong một số chủ đề nhất định có thể chiếm vai trò quan trọng hơn. Ví dụ đối với chủ đề gia đình thì các từ như `cha mẹ, ông bà, con cái, anh em, chị em` xuất hiện nhiều hơn so với các chủ đề khác.\n",
    "\n",
    "Ngoài ra cũng có những từ xuất hiện rất nhiều trong văn bản nhưng chúng xuất hiện ở hầu như mọi chủ đề, mọi văn bản chẳng hạn như `the, a, an`. Những từ như vậy được gọi là  _stopwords_ vì chúng không có nhiều ý nghĩa đối với việc phân loại văn bản. Khi mã hoá ngôn ngữ thì chúng ta sẽ tìm cách loại bỏ những từ _stopwords_ bằng cách sử dụng từ điển có sẵn các từ _stopwords_ quan trọng.\n",
    "\n",
    "Phương pháp TF-IDF là một phương pháp mà chúng ta sẽ đánh trọng số cho các từ mà xuất hiện ở một vài văn bản cụ thể lớn hơn thông qua công thức:\n",
    "\n",
    "$$\\begin{eqnarray}\\text{idf}(t,D) & = & \\log\\frac{\\mid D \\mid}{|\\{d \\in D; t \\in d \\}|+ 1} = \\log \\frac{\\mid D\\mid}{\\text{df}(d, t)+ 1} \\\\\n",
    "\\text{tfidf}(t,d,D) & = & \\text{tf}(t,d) \\times \\text{idf}(t,D)\n",
    "\\end{eqnarray}$$\n",
    "\n",
    "trong đó:\n",
    "\n",
    "* $\\mid D \\mid$ là số lượng các văn bản trong _bộ văn bản_.\n",
    "* $\\text{df}(d, t) = |\\{d \\in D; t \\in d \\}|$ là tần suất các văn bản $d \\in D$ mà từ $t$ xuất hiện. \n",
    "* $\\text{tf}(t,d)$ là tần suất xuất hiện của từ $t$ trong văn bản $d$.\n",
    "\n",
    "Như vậy $\\text{idf}(t, D)$ là chỉ số _nghịch đảo tần suất văn bản_ (_inverse document frequency_) chỉ số này bằng logarith của nghịch đảo số lượng văn bản chia cho số lượng văn bản chứa một từ cụ thể $t$. Một từ cụ thể có $\\text{idf}(t,D)$ lớn chứng tỏ rằng từ đó chỉ xuất hiện trong một số ít các văn bản.\n",
    "\n",
    "$\\text{tfidf}(t, d, D)$ tỷ lệ thuận với _tần suất của từ xuất hiện trong văn bản_ và _nghịch đảo tần suất văn bản_. Ta có thể giải thích ý nghĩa của $\\text{tfidf}$ đối với đánh giá mức độ quan trọng của từ như sau: Khi một từ càng quan trọng thì nó sẽ có tần suất xuất hiện trong một văn bản cụ thể, chẳng hạn văn bản $d$ lớn, tức là $\\text{tf}(t,d)$ lớn; Đồng thời từ đó phải không là _stopwords_, tức là số lượng văn bản mà nó xuất hiện trong toàn bộ bộ văn bản nhỏ, suy ra $\\text{idf}(t, D)$ phải lớn.\n",
    "\n",
    "Để mã hoá văn bản dựa trên phương pháp tfidf chúng ta sử dụng package `sklearn` như sau:"
   ]
  },
  {
   "cell_type": "code",
   "execution_count": 6,
   "id": "biological-short",
   "metadata": {
    "colab": {
     "base_uri": "https://localhost:8080/"
    },
    "id": "ai99v4_ZdIRh",
    "outputId": "40c52488-e592-48b8-db02-5bf1bf1defe5"
   },
   "outputs": [
    {
     "name": "stdout",
     "output_type": "stream",
     "text": [
      "words in dictionary:\n",
      "['bánh', 'báo', 'chiều', 'chứng', 'còn', 'có', 'cô', 'của', 'danh', 'dự', 'gian', 'giảm', 'hà', 'hồi', 'khi', 'khoán', 'lo', 'làm', 'lại', 'lắng', 'mang', 'mì', 'mưa', 'mục', 'ngoài', 'nhân', 'nội', 'phục', 'ra', 'sẽ', 'thích', 'thị', 'thịt', 'thời', 'tiết', 'trường', 'trở', 'tăng', 'tối', 'tới', 'và', 'vào', 'xôi', 'ăn', 'ấy']\n",
      "X shape:  (5, 45)\n"
     ]
    }
   ],
   "source": [
    "from sklearn.feature_extraction.text import TfidfVectorizer\n",
    "corpus = [\n",
    " \t'tôi thích ăn bánh mì nhân thịt',\n",
    "\t'cô ấy thích ăn bánh mì, còn tôi thích ăn xôi',\n",
    "\t'thị trường chứng khoán giảm làm tôi lo lắng',\n",
    "\t'chứng khoán sẽ phục hồi vào thời gian tới. danh mục của tôi sẽ tăng trở lại',\n",
    "  'dự báo thời tiết hà nội có mưa vào chiều và tối. tôi sẽ mang ô khi ra ngoài'\n",
    "]\n",
    "\n",
    "# Tính tfidf cho mỗi từ. max_df để loại bỏ stopwords xuất hiện ở hơn 90% các câu\n",
    "vectorizer = TfidfVectorizer(max_df = 0.9)\n",
    "# Tokenize các câu theo tfidf\n",
    "X = vectorizer.fit_transform(corpus)\n",
    "print('words in dictionary:')\n",
    "print(vectorizer.get_feature_names())\n",
    "print('X shape: ', X.shape)"
   ]
  },
  {
   "cell_type": "markdown",
   "id": "dietary-basis",
   "metadata": {
    "id": "N8phDY0udM9b"
   },
   "source": [
    "Ta có thể thấy từ `tôi` xuất hiện ở toàn bộ các câu và không mang nhiều ý nghĩa của chủ đề của câu nên có thể coi là một _stopword_. Bằng phương pháp lọc cận trên của tần suất xuất hiện từ trong văn bản là 90% ta đã loại bỏ được từ này khỏi dictionary.\n",
    "\n",
    "Các phương pháp bỏ túi có thể tìm được một số cuộc thi trên kaggle như [Catch me if you can competition](https://www.kaggle.com/c/catch-me-if-you-can-intruder-detection-through-webpage-session-tracking), [bag of app](https://www.kaggle.com/xiaoml/bag-of-app-id-python-2-27392), [bag of event](http://www.interdigital.com/download/58540a46e3b9659c9f000372):"
   ]
  },
  {
   "cell_type": "markdown",
   "id": "virtual-imperial",
   "metadata": {
    "id": "evCPheQlJjjX"
   },
   "source": [
    "### 11.2.1.4. Word2vec\n",
    "\n",
    "Word2vec is a group of related models that are used to produce word embeddings. These models are shallow, two-layer neural networks that are trained to reconstruct linguistic contexts of words. Word2vec takes as its input a large corpus of text and produces a vector space, typically of several hundred dimensions, with each unique word in the corpus being assigned a corresponding vector in the space. Word vectors are positioned in the vector space such that words that share common contexts in the corpus are located close to one another in the space.[1]\n",
    "\n",
    "word2vec là một nhóm các mô hình sử dụng để tạo ra biểu diễn nhúng cho từ. Những mô hình này tương đối nông, chỉ bao gồm những mạng neural 2 layers được huấn luyện để tái tạo lại bối cảnh ngôn ngữ cho từ. Thông qua mô hình word2vec mỗi một từ trong một _bộ văn bản_ được biểu diễn thông qua một véc tơ trong không gian cao chiều, có thể lên tới hàng trăm chiều, sao cho các từ có chung ngữ cảnh sẽ được đặt gần nhau hơn trong không gian.\n",
    "\n",
    "Chẳng hạn dưới đây là một ví dụ sau khi thực hiện mã hoá từ thông qua mô hình word2vec thì các từ `king, queen, man, woman` có mối liên hệ theo công thức: king - man + woman = queen\n",
    "\n",
    "![](https://camo.githubusercontent.com/7acb5beb08711a6e75b6eadb90fdf48fb67c67d87f45812dc8cbd8426c1ee44f/68747470733a2f2f63646e2d696d616765732d312e6d656469756d2e636f6d2f6d61782f3830302f312a4b3558344e2d4d4a4b743846474674725448776964672e676966)\n",
    "\n",
    "**Hình 2**: Mô hình word2vec đã định vị véc tơ biểu diễn cho những từ có chung ngữ cảnh thì được đặt gần nhau hơn. Để thực hiện được những biểu diễn từ chính xác, các mô hình cần được đào tạo trên các tập dữ liệu rất lớn để bao quát được đa dạng các ngữ cảnh khác nhau của từ. Các mô hình pretrained cho xử lý ngôn ngữ tự nhiên có thể được tải về tại [word2vec - api](https://github.com/3Top/word2vec-api#where-to-get-a-pretrained-models).\n",
    "\n",
    "Các phương pháp tương tự được áp dụng trong các lĩnh vực khác như trong tin sinh. Một ứng dụng khác nữa là [food2vec](https://jaan.io/food2vec-augmented-cooking-machine-intelligence/)."
   ]
  },
  {
   "cell_type": "markdown",
   "id": "lesser-genius",
   "metadata": {
    "id": "ejsoOzi0nhYm"
   },
   "source": [
    "Tại một vị trí cụ thể trong câu văn chúng ta sẽ xác định được một từ mục tiêu và các từ bối cảnh. Từ mục tiêu là từ ở vị trí được lựa chọn còn từ bối cảnh là những từ ở vị trí xung quanh giúp tạo ra bối cảnh ngữ nghĩa cho từ mục tiêu.\n",
    "\n",
    "Giả sử chúng ta có một câu văn như sau: \"Tôi muốn một chiếc cốc màu xanh\". Nếu lựa chọn một _context window_ bao gồm 3 từ liền kề thì chúng ta sẽ lần lượt thu được các bộ 3 từ: `tôi muốn một, muốn một chiếc, một chiếc cốc, chiếc cốc màu, cốc màu xanh`. Đối với những bộ 3 từ này thì các từ ở giữa sẽ là từ mục tiêu và từ bối cảnh là những từ ở đầu và ở cuối. Như vậy chúng ta sẽ có các cặp từ mục tiêu và bối cảnh như sau:\n",
    "\n",
    "`[(('tôi', 'một'), 'muốn'), (('muốn', 'chiếc'), 'một'), (('một', 'cốc'), 'chiếc'), (('chiếc', 'màu'), 'cốc'), (('cốc', 'xanh'), 'màu')]`\n",
    "\n",
    "\n",
    "Mô hình word2vec có 2 phương pháp chính là skip-grams và CBOW như sau:\n",
    "\n",
    "![](https://imgur.com/41qQJ2u.jpeg)\n",
    "\n",
    "**Hình 3:** Mô hình CBOW và Skip-gram trong word2vec."
   ]
  },
  {
   "cell_type": "markdown",
   "id": "handmade-crazy",
   "metadata": {
    "id": "f7kctHXpqZiI"
   },
   "source": [
    "#### 11.2.1.4.1. Phương pháp CBOW\n",
    "\n",
    "Đối với mô hình CBOW chúng ta sẽ xây dựng một mô hình học có giám sát sử dụng đầu vào là các từ bối cảnh, chẳng hạn như trong hình là các từ $\\mathbf{w}_{t-2}, \\mathbf{w}_{t-1}, \\mathbf{w}_{t+1}, \\mathbf{w}_{t+2}$ để giải thích từ mục tiêu ở vị trí hiện tại là $\\mathbf{w}_t$.\n",
    "\n",
    "Các từ $\\mathbf{w}_t$ đã được mã hoá dưới dạng véc tơ one-hot trong không gian $\\mathbb{R}^{d}$ chiều để có thể đưa vào huấn luyện. Ở đây $d$ chính là kích thước của từ điển. Như vậy ở phương pháp CBOW chúng ta có 5 véc tơ one-hot đầu vào với số chiều bằng với số lượng từ trong từ điển. Sau đó những véc tơ này được giảm chiều dữ liệu thông qua một phép chiếu lên không gian thấp chiều, chẳng hạn 200 chiều, bước này chính là projection trên hình vẽ. Kết quả thu được là một véc tơ embedding $\\mathbf{e}_c \\in \\mathbb{R}^{200}$. Sau cùng, phân phối xác suất của từ mục tiêu được dự báo thông qua một hàm softmax áp dụng lên véc tơ $\\mathbf{e}_c$. Quá trình huấn luyện mô hình sẽ dựa trên hàm softmax dạng cross-entropy:\n",
    "\n",
    "$$\\mathcal{L}(\\mathbf{y}, \\hat{\\mathbf{y}}) = -\\sum_{i=1}^{d} y_i\\log(\\hat{y}_i)$$\n",
    "\n",
    "Trong đó $\\hat{y}_i$ là xác suất dự báo từ mục tiêu tương ứng với từ ở vị trí index thứ $i$ trong từ điển, được tính theo công thức softmax:\n",
    "\n",
    "$$\\hat{y_i} = \\frac{\\exp(\\mathbf{w}_{:i}^{\\intercal}\\mathbf{e}_c)}{\\sum_{i=1}^{d}\\exp(\\mathbf{w}_{:i}^{\\intercal}\\mathbf{e}_c)}$$\n",
    "\n",
    "$\\mathbf{w}_{:i} \\in \\mathbb{R}^{200}$ chính là véc tơ tham số kết nối toàn bộ các node thuộc $\\mathbf{e}_c$ tới vị trí node thứ $i$ của layer cuối cùng.\n",
    "\n",
    "Sau quá trình lan truyền thuận và lan truyền ngược, các hệ số của mô hình sẽ được cập nhật và chúng ta sẽ thu được biểu diễn từ dần chuẩn xác hơn. Một từ đầu vào sẽ có biểu diễn thông qua phương pháp CBOW chính là véc tơ $\\mathbf{e}_c$."
   ]
  },
  {
   "cell_type": "code",
   "execution_count": 7,
   "id": "rolled-night",
   "metadata": {
    "colab": {
     "base_uri": "https://localhost:8080/"
    },
    "id": "7nIH6q3q5w9p",
    "outputId": "348ce5e6-d719-4bb3-c661-6fa56e3274cd"
   },
   "outputs": [
    {
     "name": "stderr",
     "output_type": "stream",
     "text": [
      "/home/dell/.local/lib/python3.6/site-packages/requests/__init__.py:91: RequestsDependencyWarning: urllib3 (1.26.5) or chardet (4.0.0) doesn't match a supported version!\n",
      "  RequestsDependencyWarning)\n"
     ]
    },
    {
     "name": "stderr",
     "output_type": "stream",
     "text": [
      "[nltk_data] Downloading package gutenberg to /home/dell/nltk_data...\n",
      "[nltk_data]   Package gutenberg is already up-to-date!\n",
      "[nltk_data] Downloading package punkt to /home/dell/nltk_data...\n",
      "[nltk_data]   Package punkt is already up-to-date!\n"
     ]
    },
    {
     "name": "stdout",
     "output_type": "stream",
     "text": [
      "Vocabulary Size: 12746\n",
      "Vocabulary Sample: [('the', 1), ('and', 2), ('of', 3), ('to', 4), ('that', 5), ('in', 6), ('he', 7), ('shall', 8), ('unto', 9), ('for', 10)]\n"
     ]
    }
   ],
   "source": [
    "from tensorflow.keras.preprocessing import text\n",
    "from tensorflow.keras.utils import to_categorical\n",
    "from tensorflow.keras.preprocessing import sequence\n",
    "from nltk.corpus import gutenberg\n",
    "from string import punctuation\n",
    "import nltk\n",
    "\n",
    "# download bộ văn bản gutenberg\n",
    "nltk.download('gutenberg')\n",
    "nltk.download('punkt')\n",
    "norm_bible = gutenberg.sents('bible-kjv.txt') \n",
    "norm_bible = [' '.join(doc) for doc in norm_bible]\n",
    "\n",
    "# tokenize văn bản\n",
    "tokenizer = text.Tokenizer()\n",
    "tokenizer.fit_on_texts(norm_bible)\n",
    "word2id = tokenizer.word_index\n",
    "\n",
    "# khởi tạo từ điển cho bộ văn bản\n",
    "word2id['PAD'] = 0\n",
    "id2word = {v:k for k, v in word2id.items()}\n",
    "vocab_size = len(word2id)\n",
    "\n",
    "print('Vocabulary Size:', vocab_size)\n",
    "print('Vocabulary Sample:', list(word2id.items())[:10])"
   ]
  },
  {
   "cell_type": "code",
   "execution_count": 8,
   "id": "later-notion",
   "metadata": {
    "colab": {
     "base_uri": "https://localhost:8080/"
    },
    "id": "9aNT99Vh54ZI",
    "outputId": "562e677c-5445-4586-9739-9492c32ed420"
   },
   "outputs": [
    {
     "name": "stdout",
     "output_type": "stream",
     "text": [
      "Embedding sentence by index:  [[1, 53, 1342, 6058], [1, 280, 2678, 3, 1, 53, 1342, 6058], [1, 254, 448, 3, 162, 194, 8769], [43, 43, 6, 1, 734, 27, 1368, 1, 205, 2, 1, 139], [43, 48, 2, 1, 139, 26, 258, 2085, 2, 2086, 2, 551, 26, 46, 1, 266, 3, 1, 1030]]\n"
     ]
    }
   ],
   "source": [
    "# Mã hoá câu văn bằng index\n",
    "wids = [[word2id[w] for w in text.text_to_word_sequence(doc)] for doc in norm_bible]\n",
    "print('Embedding sentence by index: ', wids[:5])"
   ]
  },
  {
   "cell_type": "code",
   "execution_count": 9,
   "id": "constant-picture",
   "metadata": {
    "colab": {
     "base_uri": "https://localhost:8080/"
    },
    "id": "pKii69Bt6QOl",
    "outputId": "667ea7c6-40c0-4c9f-d44e-347cfbbdcb34"
   },
   "outputs": [
    {
     "name": "stdout",
     "output_type": "stream",
     "text": [
      "skipping\n"
     ]
    }
   ],
   "source": [
    "%%script echo skipping\n",
    "# Xác định context and target\n",
    "import numpy as np\n",
    "def generate_context_word_pairs(corpus, window_size, vocab_size):\n",
    "    context_length = window_size*2\n",
    "    for words in corpus:\n",
    "        sentence_length = len(words)\n",
    "        # print('words: ', words)\n",
    "        for index, word in enumerate(words):\n",
    "            context_words = []\n",
    "            label_word   = [] \n",
    "            # Start index of context\n",
    "            start = index - window_size\n",
    "            # End index of context\n",
    "            end = index + window_size + 1\n",
    "            # List of context_words\n",
    "            context_words.append([words[i] for i in range(start, end) if 0 <= i < sentence_length and i != index])\n",
    "            # List of label_word (also is target word).\n",
    "            # print('context words {}: {}'.format(context_words, index))\n",
    "            label_word.append(word)\n",
    "            # Padding the input 0 in the left in case it does not satisfy number of context_words = 2*window_size.\n",
    "            x = sequence.pad_sequences(context_words, maxlen=context_length)\n",
    "            # print('context words padded: ', x)\n",
    "            # Convert label_word into one-hot vector corresponding with its index\n",
    "            y = to_categorical(label_word, vocab_size)\n",
    "            yield (x, y)\n",
    "            \n",
    "            \n",
    "# Test this out for some samples\n",
    "i = 0\n",
    "window_size = 2 # context window size\n",
    "for x, y in generate_context_word_pairs(corpus=wids, window_size=window_size, vocab_size=vocab_size):\n",
    "    if 0 not in x[0]:\n",
    "        print('Context (X):', [id2word[w] for w in x[0]], '-> Target (Y):', id2word[np.argwhere(y[0])[0][0]])\n",
    "    \n",
    "        if i == 10:\n",
    "            break\n",
    "        i += 1"
   ]
  },
  {
   "cell_type": "code",
   "execution_count": 10,
   "id": "institutional-afternoon",
   "metadata": {
    "colab": {
     "base_uri": "https://localhost:8080/"
    },
    "id": "_4qLOFaz6Ypa",
    "outputId": "aa446297-4629-46ce-bf5a-991b3cb13f00"
   },
   "outputs": [
    {
     "name": "stdout",
     "output_type": "stream",
     "text": [
      "Model: \"sequential\"\n",
      "_________________________________________________________________\n",
      "Layer (type)                 Output Shape              Param #   \n",
      "=================================================================\n",
      "embedding (Embedding)        (None, 4, 100)            1274600   \n",
      "_________________________________________________________________\n",
      "lambda (Lambda)              (None, 100)               0         \n",
      "_________________________________________________________________\n",
      "dense (Dense)                (None, 12746)             1287346   \n",
      "=================================================================\n",
      "Total params: 2,561,946\n",
      "Trainable params: 2,561,946\n",
      "Non-trainable params: 0\n",
      "_________________________________________________________________\n",
      "None\n"
     ]
    }
   ],
   "source": [
    "# Xây dựng mô hình CBOW là một mạng fully connected gồm 3 layers\n",
    "import tensorflow.keras.backend as K\n",
    "from tensorflow.keras.models import Sequential\n",
    "from tensorflow.keras.layers import Dense, Embedding, Lambda\n",
    "embed_size = 100\n",
    "window_size=2\n",
    "# build CBOW architecture\n",
    "cbow = Sequential()\n",
    "cbow.add(Embedding(input_dim=vocab_size, output_dim=embed_size, input_length=window_size*2))\n",
    "cbow.add(Lambda(lambda x: K.mean(x, axis=1), output_shape=(embed_size,)))\n",
    "cbow.add(Dense(vocab_size, activation='softmax'))\n",
    "cbow.compile(loss='categorical_crossentropy', optimizer='rmsprop')\n",
    "\n",
    "# view model summary\n",
    "print(cbow.summary())"
   ]
  },
  {
   "cell_type": "code",
   "execution_count": 11,
   "id": "aerial-springer",
   "metadata": {
    "colab": {
     "base_uri": "https://localhost:8080/"
    },
    "id": "x6B827tm6oGb",
    "outputId": "3dbc6612-44dc-4719-b1a0-8fab55d0a5d2"
   },
   "outputs": [
    {
     "name": "stdout",
     "output_type": "stream",
     "text": [
      "skipping\n"
     ]
    }
   ],
   "source": [
    "%%script echo skipping\n",
    "# Huấn luyện model với 5 epochs với 100 quan sát đầu tiên\n",
    "\n",
    "for epoch in range(1, 6):\n",
    "    loss = 0.\n",
    "    i = 0\n",
    "    for x, y in generate_context_word_pairs(corpus=wids[:100], window_size=window_size, vocab_size=vocab_size):\n",
    "        i += 1\n",
    "        loss += cbow.train_on_batch(x, y)\n",
    "        if i % 500 == 0:\n",
    "            print('Processed {} (context, word) pairs'.format(i))\n",
    "\n",
    "    print('Epoch:', epoch, '\\tLoss:', loss)"
   ]
  },
  {
   "cell_type": "markdown",
   "id": "anticipated-graham",
   "metadata": {
    "id": "QmpkT45z66uT"
   },
   "source": [
    "#### 11.2.1.4.2. Phương pháp skip-gram\n",
    "\n",
    "Phương pháp skip-gram thực chất là một phiên bản đảo ngược của phương pháp CBOW. Chúng ta sẽ sử dụng đầu vào là các từ mục tiêu và dự báo các từ bối cảnh dự vào từ mục tiêu. Như thể hiện ở _hình 3_ thì $\\mathbf{w}_t$ chính là từ mục tiêu được sử dụng làm đầu vào, các từ $\\mathbf{w}_{t-2}, \\mathbf{w}_{t-1}, \\mathbf{w}_{t+1}, \\mathbf{w}_{t+2}$ là những từ bối cảnh cần được dự đoán. Những từ này đều được mã hoá thành véc tơ one-hot trong không gian $\\mathbb{R}^{d}$. Sau đó véc tơ one-hot sẽ được chiếu lên không gian nhằm giảm chiều dữ liệu xuống còn chẳng hạn $200$ chiều. Đầu ra thu được là véc tơ $\\mathbf{e}_c$ có kích thước 200, đây cũng chính là biểu diễn nhúng của từ trong skip-gram. Cuối cùng chúng ta sử dụng một sigmoid layer để dự đoán xem từ mục tiêu $\\mathbf{w}_t$ và từ bối cảnh $\\mathbf{w}_j$ ($\\mathbf{w}_j$ được lựa chọn ngẫu nhiên từ từ điển) có cùng bối cảnh hay không?"
   ]
  },
  {
   "cell_type": "code",
   "execution_count": 12,
   "id": "emotional-aluminum",
   "metadata": {
    "colab": {
     "base_uri": "https://localhost:8080/"
    },
    "id": "S3Qn8clu-G3t",
    "outputId": "36939f4e-a368-4ff2-983d-d91a25442ded"
   },
   "outputs": [
    {
     "name": "stdout",
     "output_type": "stream",
     "text": [
      "(bible (6058), chambers (1028)) -> 0\n",
      "(james (1342), jonathan (673)) -> 0\n",
      "(the (1), king (53)) -> 1\n",
      "(bible (6058), silversmith (12095)) -> 0\n",
      "(james (1342), the (1)) -> 1\n",
      "(king (53), james (1342)) -> 1\n",
      "(king (53), the (1)) -> 1\n",
      "(the (1), james (1342)) -> 1\n",
      "(bible (6058), james (1342)) -> 1\n",
      "(king (53), both (294)) -> 0\n"
     ]
    }
   ],
   "source": [
    "from tensorflow.keras.preprocessing.sequence import skipgrams\n",
    "\n",
    "window_size=2\n",
    "# generate skip-grams\n",
    "skip_grams = [skipgrams(wid, vocabulary_size=vocab_size, window_size=window_size) for wid in wids[:100]]\n",
    "\n",
    "# view sample skip-grams\n",
    "pairs, labels = skip_grams[0][0], skip_grams[0][1]\n",
    "for i in range(10):\n",
    "    print(\"({:s} ({:d}), {:s} ({:d})) -> {:d}\".format(\n",
    "          id2word[pairs[i][0]], pairs[i][0], \n",
    "          id2word[pairs[i][1]], pairs[i][1], \n",
    "          labels[i]))"
   ]
  },
  {
   "cell_type": "code",
   "execution_count": 13,
   "id": "institutional-crowd",
   "metadata": {
    "colab": {
     "base_uri": "https://localhost:8080/"
    },
    "id": "fAuzsMFg-F-T",
    "outputId": "185f0272-57ba-4deb-8f1e-d7da91ea3007"
   },
   "outputs": [
    {
     "name": "stdout",
     "output_type": "stream",
     "text": [
      "Model: \"model\"\n",
      "_________________________________________________________________\n",
      "Layer (type)                 Output Shape              Param #   \n",
      "=================================================================\n",
      "input_1 (InputLayer)         [(None, 1)]               0         \n",
      "_________________________________________________________________\n",
      "word_embedding (Embedding)   (None, 1, 100)            1274600   \n",
      "_________________________________________________________________\n",
      "reshape (Reshape)            (None, 100)               0         \n",
      "=================================================================\n",
      "Total params: 1,274,600\n",
      "Trainable params: 1,274,600\n",
      "Non-trainable params: 0\n",
      "_________________________________________________________________\n",
      "word_model: \n",
      " None\n",
      "Model: \"model_1\"\n",
      "_________________________________________________________________\n",
      "Layer (type)                 Output Shape              Param #   \n",
      "=================================================================\n",
      "input_2 (InputLayer)         [(None, 1)]               0         \n",
      "_________________________________________________________________\n",
      "context_embedding (Embedding (None, 1, 100)            1274600   \n",
      "_________________________________________________________________\n",
      "reshape_1 (Reshape)          (None, 100)               0         \n",
      "=================================================================\n",
      "Total params: 1,274,600\n",
      "Trainable params: 1,274,600\n",
      "Non-trainable params: 0\n",
      "_________________________________________________________________\n",
      "context_model: \n",
      " None\n",
      "Model: \"model_2\"\n",
      "__________________________________________________________________________________________________\n",
      "Layer (type)                    Output Shape         Param #     Connected to                     \n",
      "==================================================================================================\n",
      "input_1 (InputLayer)            [(None, 1)]          0                                            \n",
      "__________________________________________________________________________________________________\n",
      "input_2 (InputLayer)            [(None, 1)]          0                                            \n",
      "__________________________________________________________________________________________________\n",
      "word_embedding (Embedding)      (None, 1, 100)       1274600     input_1[0][0]                    \n",
      "__________________________________________________________________________________________________\n",
      "context_embedding (Embedding)   (None, 1, 100)       1274600     input_2[0][0]                    \n",
      "__________________________________________________________________________________________________\n",
      "reshape (Reshape)               (None, 100)          0           word_embedding[0][0]             \n",
      "__________________________________________________________________________________________________\n",
      "reshape_1 (Reshape)             (None, 100)          0           context_embedding[0][0]          \n",
      "__________________________________________________________________________________________________\n",
      "dot (Dot)                       (None, 1)            0           reshape[0][0]                    \n",
      "                                                                 reshape_1[0][0]                  \n",
      "__________________________________________________________________________________________________\n",
      "dense_1 (Dense)                 (None, 1)            2           dot[0][0]                        \n",
      "==================================================================================================\n",
      "Total params: 2,549,202\n",
      "Trainable params: 2,549,202\n",
      "Non-trainable params: 0\n",
      "__________________________________________________________________________________________________\n",
      "model merge word and context: \n",
      " None\n"
     ]
    }
   ],
   "source": [
    "from tensorflow.keras.layers import dot, concatenate\n",
    "from tensorflow.keras import Input\n",
    "from tensorflow.keras.layers import Dot, Dense, Reshape, Embedding\n",
    "from tensorflow.keras.models import Sequential, Model\n",
    "\n",
    "# build skip-gram architecture\n",
    "word_input = Input(shape = (1,))\n",
    "word_embed = Embedding(vocab_size, embed_size,\n",
    "                         embeddings_initializer=\"glorot_uniform\",\n",
    "                         input_length=1, name = 'word_embedding')(word_input)\n",
    "word_output = Reshape((embed_size, ))(word_embed)\n",
    "word_model = Model(word_input, word_output)\n",
    "\n",
    "print('word_model: \\n', word_model.summary())\n",
    "context_input = Input(shape = (1,))\n",
    "context_embed = Embedding(vocab_size, embed_size,\n",
    "                  embeddings_initializer=\"glorot_uniform\",\n",
    "                  input_length=1, name = 'context_embedding')(context_input)\n",
    "context_output = Reshape((embed_size,))(context_embed)\n",
    "context_model = Model(context_input, context_output)\n",
    "print('context_model: \\n', context_model.summary())\n",
    "\n",
    "concate = dot([word_output, context_output], axes = -1)\n",
    "dense = Dense(1, kernel_initializer=\"glorot_uniform\", activation=\"sigmoid\")(concate)\n",
    "model = Model(inputs = [word_input, context_input], outputs = dense)\n",
    "model.compile(loss=\"mean_squared_error\", optimizer=\"rmsprop\")\n",
    "\n",
    "# view model summary\n",
    "print('model merge word and context: \\n', model.summary())"
   ]
  },
  {
   "cell_type": "code",
   "execution_count": 14,
   "id": "natural-cement",
   "metadata": {
    "colab": {
     "base_uri": "https://localhost:8080/"
    },
    "id": "js_-ZxQF-dg_",
    "outputId": "ef62c8f1-5dcc-4810-d5f2-289c21b65c13"
   },
   "outputs": [
    {
     "name": "stdout",
     "output_type": "stream",
     "text": [
      "skipping\n"
     ]
    }
   ],
   "source": [
    "%%script echo skipping\n",
    "# Để cho nhanh thì mình sẽ training trên 100 skip_grams đầu tiên.\n",
    "for epoch in range(1, 6):\n",
    "    loss = 0\n",
    "    for i, elem in enumerate(skip_grams[:100]):\n",
    "        pair_first_elem = np.array(list(zip(*elem[0]))[0], dtype='int32')\n",
    "        pair_second_elem = np.array(list(zip(*elem[0]))[1], dtype='int32')\n",
    "        labels = np.array(elem[1], dtype='int32')\n",
    "        X = [pair_first_elem, pair_second_elem]\n",
    "        Y = labels\n",
    "        if i % 500 == 0:\n",
    "            print('Processed {} (skip_first, skip_second, relevance) pairs'.format(i))\n",
    "        loss += model.train_on_batch(X,Y)  \n",
    "\n",
    "    print('Epoch:', epoch, 'Loss:', loss)"
   ]
  },
  {
   "cell_type": "markdown",
   "id": "indonesian-coordinate",
   "metadata": {
    "id": "GQQyhbBO_tZ2"
   },
   "source": [
    "#### 11.2.1.4.3. Sử dụng gensim huấn luyện mô hình word2vec\n",
    "\n",
    "Huấn luyện mô hình word2vec sử dụng mạng nơ ron là để chúng ta hiểu rõ hơn về cấu trúc mạng nơ ron và cách thức hoạt động của mạng. Trên thực tế để huấn luyện mô hình word2vec chúng ta có thể thông qua package gensim như sau:"
   ]
  },
  {
   "cell_type": "code",
   "execution_count": 15,
   "id": "unexpected-collectible",
   "metadata": {
    "colab": {
     "base_uri": "https://localhost:8080/"
    },
    "id": "IqgEsBLw_1vo",
    "outputId": "54f1f7f3-68ef-4ed4-a1bf-9d2e0b6a8511"
   },
   "outputs": [
    {
     "name": "stderr",
     "output_type": "stream",
     "text": [
      "/home/dell/.local/lib/python3.6/site-packages/gensim/similarities/__init__.py:15: UserWarning: The gensim.similarities.levenshtein submodule is disabled, because the optional Levenshtein package <https://pypi.org/project/python-Levenshtein/> is unavailable. Install Levenhstein (e.g. `pip install python-Levenshtein`) to suppress this warning.\n",
      "  warnings.warn(msg)\n"
     ]
    },
    {
     "data": {
      "text/plain": [
       "(210022, 336740)"
      ]
     },
     "execution_count": 15,
     "metadata": {},
     "output_type": "execute_result"
    }
   ],
   "source": [
    "from gensim.models import Word2Vec\n",
    "# Training model với 1000 câu đầu tiên trong kinh thánh\n",
    "sentences = [[item.lower() for item in doc.split()] for doc in norm_bible[:1000]]\n",
    "model = Word2Vec(sentences, min_count = 1, vector_size = 150, window = 10, sg = 1, workers = 8)\n",
    "model.train(sentences, total_examples = model.corpus_count, epochs = 10)"
   ]
  },
  {
   "cell_type": "markdown",
   "id": "appreciated-laugh",
   "metadata": {
    "id": "K2mgxKyqAMoH"
   },
   "source": [
    "Tìm biểu diễn véc tơ nhúng của một từ:"
   ]
  },
  {
   "cell_type": "code",
   "execution_count": 16,
   "id": "rental-trainer",
   "metadata": {
    "colab": {
     "base_uri": "https://localhost:8080/"
    },
    "id": "tL09kmgiASqz",
    "outputId": "121aba28-4aa3-4486-f9f5-4e532a3c8d34"
   },
   "outputs": [
    {
     "name": "stdout",
     "output_type": "stream",
     "text": [
      "embedding vector shape:  (150,)\n"
     ]
    },
    {
     "data": {
      "text/plain": [
       "array([ 0.34045896,  0.31169504,  0.4164016 ,  0.07109908, -0.22863932],\n",
       "      dtype=float32)"
      ]
     },
     "execution_count": 16,
     "metadata": {},
     "output_type": "execute_result"
    }
   ],
   "source": [
    "print('embedding vector shape: ', model.wv['king'].shape)\n",
    "model.wv['king'][:5]"
   ]
  },
  {
   "cell_type": "markdown",
   "id": "opened-chinese",
   "metadata": {
    "id": "zA6BCPt9d98i"
   },
   "source": [
    "## 11.2.2. Trích lọc đặc trưng trong xử lý ảnh\n",
    "\n",
    "Trong quãng thời gian trước đây khi tài nguyên tính toán còn hạn chế và \"thời kì phục hưng của mạng thần kinh\" vẫn chưa thực sự quay trở lại, khai phá đặc trưng cho dữ liệu hình ảnh là một lĩnh vực phức tạp. Người ta phải thiết kế những bộ trích lọc thủ công để trích lọc các đặc trưng như góc, cạnh, đường nét ngang, dọc, chéo,.... Những thuật toán như [HOG](https://phamdinhkhanh.github.io/2019/11/22/HOG.html), [SHIFT](http://luthuli.cs.uiuc.edu/~daf/courses/ComputerVisionTutorial2012/EdgesOrientationHOGSIFT-2012.pdf) là phương pháp thường được sử dụng để trích lọc đặc trưng. Nhược điểm của những phương pháp này đó là tách rời bộ trích lọc đặc trưng (_feature extractor_) và bộ phân loại (_classifier_) nên mô hình có tốc độ huấn luyện và dự báo chậm.\n",
    "\n",
    "Thời kì tan băng của deep learning đã khiến mạng CNN phát triển mạnh mẽ. Những kiến trúc mạng CNN hiện đại ngày càng trở nên sâu hơn và đạt độ chính xác cao. Đây là những kiến trúc end-to-end cho phép các bộ trích lọc đặc trưng gắn liền với bộ phân loại trong một pipeline duy nhất. Các bộ trích lọc cũng không cần khởi tạo một cách thủ công mà trái lại chúng được sinh ngẫu nhiên theo các phân phối giả định. \n",
    "\n",
    "Nhờ các nguồn tài nguyên gồm các mô hình pretrained sẵn có mà bạn không cần phải tìm ra kiến trúc và huấn luyện mạng từ đầu. Thay vào đó, có thể tải xuống một mạng hiện đại đã được huấn luyện với trọng số từ các nguồn đã được công bố. Các nhà khoa học dữ liệu thường thực hiện điều chỉnh để thích ứng với các mạng này theo nhu cầu của họ bằng cách \"tách\" các lớp kết nối đầy đủ (fully connected layers) cuối cùng của mạng, thêm các lớp mới được thiết kế cho một nhiệm vụ cụ thể, và sau đó đào tạo mạng trên dữ liệu mới. Nếu nhiệm vụ của bạn chỉ là vector hóa hình ảnh, bạn chỉ cần loại bỏ các lớp cuối cùng và sử dụng kết quả đầu ra từ các lớp trước đó:\n",
    "\n",
    "![](https://camo.githubusercontent.com/ee00962051042ac56919da91c4b9d3209e6cb4f0c6fb30e80dda67e229495fca/68747470733a2f2f63646e2d696d616765732d312e6d656469756d2e636f6d2f6d61782f3830302f312a49775f634b46774c6b54564f325350724f5a553272512e706e67)\n",
    "\n",
    "**Hình 4**: Đây là một mô hình phân lớp được huấn luyện trên một bộ dữ liệu từ trước hay còn gọi là mô hình pretrained. Lớp cuối cùng của mạng được tách ra và sử dụng để huấn luyện lại trên tập dữ liệu mới nhằm điều chỉnh để dự báo cho bộ dữ liệu mới.\n",
    "\n",
    "Tuy nhiên, chúng ta sẽ không tập trung quá nhiều vào kỹ thuật mạng nơ ron. Thay vào đó các feature được tạo thủ công vẫn rất hữu ích: ví dụ đối với bài toán trong cuộc thi [Rental Listing Inquiries - Kaggle Competition](https://www.kaggle.com/c/two-sigma-connect-rental-listing-inquiries), để dự đoán mức độ phổ biến của danh sách cho thuê, ta có thể giả định rằng các căn hộ có ánh sáng sẽ thu hút nhiều sự chú ý hơn và tạo một feature mới như \"giá trị trung bình của pixel\"."
   ]
  },
  {
   "cell_type": "markdown",
   "id": "numerical-restoration",
   "metadata": {
    "id": "dH2jSPgbGgXf"
   },
   "source": [
    "**Trích lọc thông tin văn bản trên hình ảnh**\n",
    "\n",
    "_OCR_ (_Optical character recognition_) là dạng bài toán trích lọc thông tin văn bản trên hình ảnh. Chúng có tính ứng dụng cao và thường mang lại nhiều thông tin khi xử lý dữ liệu dạng hình ảnh.\n",
    "\n",
    "Chằng hạn nếu có văn bản trên hình ảnh, bạn có thể đọc nó để khai thác một số thông tin thông qua gói phát hiện văn bản trong hình ảnh [pytesseract](https://github.com/madmaze/pytesseract)."
   ]
  },
  {
   "cell_type": "code",
   "execution_count": 17,
   "id": "virtual-resolution",
   "metadata": {
    "colab": {
     "base_uri": "https://localhost:8080/"
    },
    "id": "87QtxenldT7P",
    "outputId": "9ec3cfd1-f1ab-46b2-b78e-0b8a614b9a35"
   },
   "outputs": [
    {
     "name": "stdout",
     "output_type": "stream",
     "text": [
      "skipping\n"
     ]
    }
   ],
   "source": [
    "%%script echo skipping\n",
    "!sudo apt-get install tesseract-ocr"
   ]
  },
  {
   "cell_type": "code",
   "execution_count": 18,
   "id": "manufactured-couple",
   "metadata": {
    "colab": {
     "base_uri": "https://localhost:8080/",
     "height": 231
    },
    "id": "9wv8pEQSe3Kc",
    "outputId": "4a48c28a-f4be-4fc6-8c9a-ba3a44402bbe"
   },
   "outputs": [
    {
     "data": {
      "text/plain": [
       "<matplotlib.image.AxesImage at 0x7faee4192dd8>"
      ]
     },
     "execution_count": 18,
     "metadata": {},
     "output_type": "execute_result"
    },
    {
     "data": {
      "image/png": "[encoded data removed]",
      "text/plain": [
       "<Figure size 432x288 with 1 Axes>"
      ]
     },
     "metadata": {
      "filenames": {
       "image/png": "/home/dell/Downloads/deepai-book/book/_build/jupyter_execute/ch_ml/FeatureEngineering_42_1.png"
      },
      "needs_background": "light"
     },
     "output_type": "display_data"
    }
   ],
   "source": [
    "import requests\n",
    "from io import BytesIO\n",
    "import matplotlib.pyplot as plt\n",
    "import numpy as np\n",
    "from PIL import Image\n",
    "\n",
    "%matplotlib inline\n",
    "\n",
    "##### Just a random picture from search\n",
    "img = 'http://ohscurrent.org/wp-content/uploads/2015/09/domus-01-google.jpg'\n",
    "img = requests.get(img)\n",
    "\n",
    "img = Image.open(BytesIO(img.content))\n",
    "\n",
    "# show image\n",
    "img_arr = np.array(img)\n",
    "plt.imshow(img_arr)"
   ]
  },
  {
   "cell_type": "markdown",
   "id": "educational-roads",
   "metadata": {
    "id": "qJIo4JOOey4T"
   },
   "source": [
    "Đọc một hình ảnh thiết kế căn hộ thông qua link."
   ]
  },
  {
   "cell_type": "code",
   "execution_count": 19,
   "id": "close-newsletter",
   "metadata": {
    "colab": {
     "base_uri": "https://localhost:8080/"
    },
    "id": "JKp2iynQe6_z",
    "outputId": "872788aa-29d8-474d-af61-e290e49a8f11"
   },
   "outputs": [
    {
     "name": "stdout",
     "output_type": "stream",
     "text": [
      "skipping\n"
     ]
    }
   ],
   "source": [
    "%%script echo skipping\n",
    "import cv2\n",
    "from PIL import Image\n",
    "import pytesseract\n",
    "\n",
    "img_rgb = cv2.cvtColor(img_arr, cv2.COLOR_BGR2RGB)\n",
    "print(image_to_string(img_rgb))"
   ]
  },
  {
   "cell_type": "markdown",
   "id": "excessive-mounting",
   "metadata": {
    "id": "xILpNQH_e-hy"
   },
   "source": [
    "## 11.2.3. Thông tin địa lý\n",
    "\n",
    "Trong python chúng ta có một package khá phổ biến trong việc khai thác các thông tin địa lý đó là `reverse_geocoder`. Có 2 dạng bài toán chính với thông tin địa lý gồm \n",
    "\n",
    "* geocoding: mã hóa một tọa độ địa lý từ một địa chỉ.\n",
    "* revert geocoding: từ thông tin cung cấp về kinh độ và vĩ độ trả về địa chỉ của địa điểm và các thông tin có liên quan. \n",
    "\n",
    "Cả hai bài toán đều có thể giải quyết thông qua API của google map hoặc OpenStreetMap. Sau đây là ví dụ trích xuất thông tin địa lý từ một địa điểm thông qua kinh độ và vĩ độ."
   ]
  },
  {
   "cell_type": "code",
   "execution_count": 20,
   "id": "furnished-powell",
   "metadata": {
    "colab": {
     "base_uri": "https://localhost:8080/"
    },
    "id": "TfY4whNIfIfy",
    "outputId": "73721dad-0a81-46d3-9287-450354d5b817"
   },
   "outputs": [
    {
     "name": "stdout",
     "output_type": "stream",
     "text": [
      "skipping\n"
     ]
    }
   ],
   "source": [
    "%%script echo skipping\n",
    "# install package reverse_geocoder\n",
    "!pip install reverse_geocoder"
   ]
  },
  {
   "cell_type": "code",
   "execution_count": 21,
   "id": "outdoor-romance",
   "metadata": {
    "colab": {
     "base_uri": "https://localhost:8080/"
    },
    "id": "SKdXGZysfL_D",
    "outputId": "4ad51f5c-c596-47d6-95e8-39cca122fb48"
   },
   "outputs": [
    {
     "name": "stdout",
     "output_type": "stream",
     "text": [
      "Loading formatted geocoded file...\n"
     ]
    },
    {
     "data": {
      "text/plain": [
       "[OrderedDict([('lat', '21.02857'),\n",
       "              ('lon', '105.85064'),\n",
       "              ('name', 'Hoan Kiem'),\n",
       "              ('admin1', 'Ha Noi'),\n",
       "              ('admin2', ''),\n",
       "              ('cc', 'VN')])]"
      ]
     },
     "execution_count": 21,
     "metadata": {},
     "output_type": "execute_result"
    }
   ],
   "source": [
    "import reverse_geocoder as revgc\n",
    "\n",
    "# truyền vào latitude, longitude\n",
    "revgc.search((21.0364466, 105.8450788))"
   ]
  },
  {
   "cell_type": "markdown",
   "id": "outside-citation",
   "metadata": {
    "id": "Ri_y70oAfMtJ"
   },
   "source": [
    "Như chúng ta thấy, từ tọa độ có thể biết được căn hộ này nằm ở quận Hoàn Kiếm, Hà Nội, là một nơi phát triển và có mức sống cao. Như vậy mức giá của nó khả năng sẽ cao hơn. Từ quận và huyện ta xác định được căn hộ có nằm ở trung tâm hay không, các tiện nghi xung quan nó. Những thông tin trên rất quan trọng trong việc đánh giá khả năng bán được của căn hộ. Mặc dù trong bộ dữ liệu gốc không hề xuất hiện nhưng chúng có thể được trích xuất từ tọa độ địa lý."
   ]
  },
  {
   "cell_type": "markdown",
   "id": "responsible-parking",
   "metadata": {
    "id": "kk0IiXDjfQC3"
   },
   "source": [
    "## 11.2.4. Dữ liệu thời gian\n",
    "\n",
    "Trong dự báo, các dữ liệu thường có trạng thái thay đổi. Trạng thái của ngày hôm qua có thể khác biệt so với ngày hôm nay. Chẳng hạn như chiều cao, cân nặng của một người hay giá thị trường của các cổ phiếu. Chính vì thế thời gian là một thông tin có ảnh hưởng lớn tới biến mục tiêu. Từ một mốc thời gian biết trước chúng ta có thể phân rã thông tin thành giờ trong ngày, ngày trong tháng, tháng, quí, năm,.... Sẽ có rất nhiều điều thú vị được khám phá từ các thông tin này. Chẳng hạn như các qui luật của một số chuỗi số thay đổi theo mùa vụ: Nhiệt độ các tháng thay đổi theo mùa, GDP thay đổi theo qui luật quí, doanh số tiêu thụ kem thay đổi theo mùa,.... Yếu tố thời gian còn giúp xác định xu hướng biến đổi của một biến theo thời gian và kết hợp với tính mùa vụ sẽ trở thành một chỉ số quan trọng để ước lượng chuỗi thời gian."
   ]
  },
  {
   "cell_type": "markdown",
   "id": "utility-cowboy",
   "metadata": {
    "id": "OAgtuLhFfYvU"
   },
   "source": [
    "Biến đổi one-hot coding là một phương pháp quan trọng được sử dụng để mã hóa các biến chu kì thời gian. One-hot coding sẽ biến đổi một biến thành các vector có phần tử là 0 hoặc 1, trong đó 1 đại diện cho sự xuất hiện của đặc trưng và 0 đại diện cho các đặc trưng mà biến không có. \n",
    "\n",
    "Ví dụ: Chúng ta có 1 ngày trong tuần có thể rơi vào các thứ từ 2 đến chủ nhật. Như vậy một biểu diễn one-hot encoding của ngày thứ 2 sẽ là một véc tơ có phần tử đầu tiên bằng 1 và các phần tử còn lại bằng 0. Biểu diễn này cũng tương tự như với mã hóa dữ liệu văn bản thành các _sparse vector_. \n",
    "\n",
    "Trong python chúng ta có thể sử dụng hàm weekday() để xác định thứ tự của một ngày trong tuần. Thuộc tính weekday() chỉ tồn tại đối với dữ liệu dạng datetime. Do đó ta cần chuyển đổi các biến ngày đang ở dạng string về dạng datetime thông qua strftime (string format time). Bảng string format time có thể xem [tại đây](https://strftime.org/)."
   ]
  },
  {
   "cell_type": "code",
   "execution_count": 22,
   "id": "collaborative-integral",
   "metadata": {
    "colab": {
     "base_uri": "https://localhost:8080/"
    },
    "id": "0FnARA-8fZke",
    "outputId": "6a32c093-3e51-4d9a-9279-53fbf9678587"
   },
   "outputs": [
    {
     "name": "stdout",
     "output_type": "stream",
     "text": [
      "datetime64[ns]\n"
     ]
    }
   ],
   "source": [
    "from datetime import datetime\n",
    "import pandas as pd\n",
    "\n",
    "dataset = pd.DataFrame({'created': ['2021-08-13 00:00:00', '2021-08-12 00:00:00', '2021-08-11 00:00:00', \n",
    "                                    '2021-08-10 00:00:00', '2021-08-09 00:00:00', '2021-08-08 00:00:00', '2021-08-07 00:00:00']})\n",
    "\n",
    "def parser(x):\n",
    "    # Để biết được định dạng strftime của một chuỗi kí tự ta phải tra trong bàng string format time\n",
    "    return datetime.strptime(x, '%Y-%m-%d %H:%M:%S')\n",
    "\n",
    "dataset['created'] = dataset['created'].map(lambda x: parser(x))\n",
    "print(dataset['created'].dtypes)"
   ]
  },
  {
   "cell_type": "markdown",
   "id": "viral-pointer",
   "metadata": {
    "id": "UdtxxtipfkTe"
   },
   "source": [
    "Như vậy biến created đã được chuyển về dạng datetime. Chúng ta có thể tạo ra một one-hot encoding dựa vào hàm weekday()."
   ]
  },
  {
   "cell_type": "code",
   "execution_count": 23,
   "id": "recognized-concentrate",
   "metadata": {
    "colab": {
     "base_uri": "https://localhost:8080/"
    },
    "id": "48RptEozflP6",
    "outputId": "2eb43832-3fb6-4fd2-90fe-ba4410d9ce11"
   },
   "outputs": [
    {
     "data": {
      "text/plain": [
       "0    4\n",
       "1    3\n",
       "2    2\n",
       "3    1\n",
       "4    0\n",
       "5    6\n",
       "6    5\n",
       "Name: weekday, dtype: int64"
      ]
     },
     "execution_count": 23,
     "metadata": {},
     "output_type": "execute_result"
    }
   ],
   "source": [
    "dataset['weekday'] = dataset['created'].apply(lambda x: x.date().weekday())\n",
    "dataset['weekday']"
   ]
  },
  {
   "cell_type": "markdown",
   "id": "above-edward",
   "metadata": {
    "id": "bv6El19Lfsmd"
   },
   "source": [
    "Ta có thể tạo ra một biến trả về trạng thái ngày có phải là cuối tuần bằng kiểm tra weekday() có rơi vào [5, 6] là những ngày cuối tuần hay không."
   ]
  },
  {
   "cell_type": "code",
   "execution_count": 24,
   "id": "lesser-vintage",
   "metadata": {
    "colab": {
     "base_uri": "https://localhost:8080/"
    },
    "id": "Wd_YGJIyftef",
    "outputId": "ee017337-3c51-4fe3-b6d4-89bb5f5fc2d3"
   },
   "outputs": [
    {
     "data": {
      "text/plain": [
       "0    0\n",
       "1    0\n",
       "2    0\n",
       "3    0\n",
       "4    0\n",
       "5    1\n",
       "6    1\n",
       "Name: is_weekend, dtype: int64"
      ]
     },
     "execution_count": 24,
     "metadata": {},
     "output_type": "execute_result"
    }
   ],
   "source": [
    "dataset['is_weekend'] = dataset['created'].apply(lambda x: 1 if x.date().weekday() in [5, 6] else 0)\n",
    "dataset['is_weekend']"
   ]
  },
  {
   "cell_type": "markdown",
   "id": "broken-cloud",
   "metadata": {
    "id": "ZDSyPntUfxdJ"
   },
   "source": [
    "Trong một số bài toán dữ liệu có thể bị phụ thuộc vào thời gian. Chẳng hạn như lịch trả nợ của thẻ tín dụng sẽ rơi vào kì sao kê là một ngày cụ thể trong tháng. Khi làm việc với dữ liệu chuỗi thời gian chúng ta nên lưu ý tới danh sách các ngày đặc biệt trong năm như nghỉ tết âm lịch, quốc khánh, quốc tế lao động,.... Bởi những ngày này thường sẽ có biến động lớn về dữ liệu kinh doanh."
   ]
  },
  {
   "cell_type": "markdown",
   "id": "consolidated-narrow",
   "metadata": {
    "id": "70xnMGYzd84V"
   },
   "source": [
    "## 11.2.5. Dữ liệu từ website, log\n",
    "\n",
    "Các hệ thống website lớn sẽ tracking lại các session của người dùng. Những thông tin được tracking bao gồm thông tin thiết bị, loại event, customer ID, ... Từ customer ID chúng có thể link tới database người dùng để biết được các thông tin về giới tính, độ tuổi, tài khoản, hành vi giao dịch,.... Trong một số trường hợp một khách hàng có thể thay đổi thiết bị truy cập, do đó không phải hầu hết các trường hợp chúng ta đều map được session với Customer ID trên dữ liệu local. Tuy nhiên từ các thông tin được lưu trong Cookie về người dùng (còn gọi là user agent) cũng cung cấp cho chúng ta khá nhiều điều. Chẳng hạn như: Thiết bị truy cập, trình duyệt, hệ điều hành,... Từ thiết bị di động chúng ta cũng ước đoán được người dùng có mức thu nhập như thế nào: Sử dụng Iphone X thì khả năng cao là người có thu nhập cao, sử dụng điện thoại xiaomi khả năng là người thu nhập trung bình và thấp,.... Để phân loại các thông tin về người dùng chúng ta có thể sử dụng package user_agents trong python."
   ]
  },
  {
   "cell_type": "code",
   "execution_count": 25,
   "id": "simplified-jacob",
   "metadata": {
    "colab": {
     "base_uri": "https://localhost:8080/"
    },
    "id": "aT8GEuZZgfFY",
    "outputId": "cf2ebf28-bcee-4f1c-eb5c-62e67e1e52db"
   },
   "outputs": [
    {
     "name": "stdout",
     "output_type": "stream",
     "text": [
      "skipping\n"
     ]
    }
   ],
   "source": [
    "%%script echo skipping\n",
    "!pip install user_agents"
   ]
  },
  {
   "cell_type": "code",
   "execution_count": 26,
   "id": "concrete-trade",
   "metadata": {
    "colab": {
     "base_uri": "https://localhost:8080/"
    },
    "id": "1JZf9vrLgops",
    "outputId": "749c259d-a7e1-4aca-be5c-111150647253"
   },
   "outputs": [
    {
     "name": "stdout",
     "output_type": "stream",
     "text": [
      "Is a bot?  False\n",
      "Is mobile?  False\n",
      "Is PC?  True\n",
      "OS Family:  Ubuntu\n",
      "OS Version:  ()\n",
      "Browser Family:  Chromium\n",
      "Browser Version:  (56, 0, 2924)\n"
     ]
    }
   ],
   "source": [
    "import user_agents\n",
    "# Giả định có một user agent như bên dưới\n",
    "ua = 'Mozilla/5.0 (X11; Linux x86_64) AppleWebKit/537.36 (KHTML, like Gecko) Ubuntu Chromium/56.0.2924.76 Chrome/56.0.2924.76 Safari/537.36'\n",
    "# Parser thông tin user agent\n",
    "ua = user_agents.parse(ua)\n",
    "# Khai thác các thuộc tính của user\n",
    "print('Is a bot? ', ua.is_bot)\n",
    "print('Is mobile? ', ua.is_mobile)\n",
    "print('Is PC? ',ua.is_pc)\n",
    "print('OS Family: ',ua.os.family)\n",
    "print('OS Version: ',ua.os.version)\n",
    "print('Browser Family: ',ua.browser.family)\n",
    "print('Browser Version: ',ua.browser.version)"
   ]
  },
  {
   "cell_type": "markdown",
   "id": "referenced-providence",
   "metadata": {
    "id": "TlsGsnYXgutV"
   },
   "source": [
    "# 11.3. Biến đổi đặc trưng (feature transformation)\n",
    "\n",
    "Các chiều dữ liệu thường có sự khác biệt về đơn vị (_scale_) và phân phối (_distribution_) và điều đó gây ảnh hưởng tới mô hình ở những khía cạnh sau:\n",
    "\n",
    "* Khi huấn luyện thường dẫn tới hiện tượng _bùng nổ gradient_ (_exploding gradient_). Hiện tượng _bùng nổ gradient_ là một hiện tượng phổ biến khiến cho giá trị dự báo bị quá lớn (thường là giá trị _nan_).\n",
    "\n",
    "* Không chuẩn hoá dữ liệu đầu vào có thể khiến cho quá trình huấn luyện thiếu ổn định và có thể không vượt qua được các _điểm cực trị địa phương_ để đi tới _cực trị toàn cục_.\n",
    "\n",
    "* Giá trị dự báo của biến mục tiêu trở nên nhạy cảm hơn. Đối với những biến có đơn vị lớn và trọng số huấn luyện lớn thì một sự thay đổi nhỏ về giá trị của biến sẽ dẫn tới sự thay đổi lớn của giá trị dự báo.\n",
    "\n",
    "Trong quá trình huấn luyện mô hình, sử dụng các phép biến đổi dữ liệu sẽ luôn giúp ích cho mô hình huấn luyện. Xin trích dẫn:\n",
    "\n",
    "\"In practice it is nearly always advantageous to apply pre-processing transformations to the input data before it is presented to a network. Similarly, the outputs of the network are often post-processed to give the required output values.\"\n",
    "\n",
    "Page 296, [Neural Networks for Pattern Recognition](https://www.amazon.com/Networks-Recognition-Advanced-Econometrics-Paperback/dp/0198538642/ref=as_li_ss_tl?ie=UTF8&qid=1540160671&sr=8-2&keywords=Neural+Networks+for+Pattern+Recognition&linkCode=sl1&tag=inspiredalgor-20&linkId=991aca4ff0fc6769d5dad40a86092458&language=en_US), 1995.\n",
    "\n",
    "Có hai phương pháp chính để biến đổi dữ liệu đó là _scaling_ và _chuẩn hoá_ (_standardize_) mà ta sẽ tìm hiểu bên dưới."
   ]
  },
  {
   "cell_type": "markdown",
   "id": "rubber-choice",
   "metadata": {
    "id": "C4gHiPeHo_f_"
   },
   "source": [
    "## 11.3.1. Chuẩn hoá (_standardization_)\n",
    "\n",
    "Kĩ thuật _chuẩn hoá_ được áp dụng đối với những biến không có phân phối chuẩn. Biến được biến đổi theo kì vọng và độ lệch chuẩn như sau:\n",
    "$$\\mathbf{x}' = \\frac{\\mathbf{x}-\\overline{\\mathbf{x}}}{\\sigma(\\mathbf{x})}$$\n",
    "Từ đó suy ra giá trị của biến sau khi biến đổi ngược lại:\n",
    "$$\\mathbf{x} = \\mathbf{x}'*\\sigma(\\mathbf{x})+\\bar{\\mathbf{x}}$$\n",
    "Các biến sau khi được chuẩn hoá sẽ có cùng một dạng phân phối chuẩn hoá với trung bình bằng 0 và phương sai bằng 1. Nhờ đó quá trình huấn luyện sẽ trở nên ổn định và hội tụ tới nghiệm tối ưu nhanh hơn.\n",
    "\n",
    "![](https://i.imgur.com/Kql3MEH.jpeg)\n",
    "\n",
    "**Hình 5**: Phương pháp _chuẩn hoá_ (_standardization_). Sau chuẩn hoá biến có phần phối chuẩn với trung bình bằng 0 và phương sai bằng 1. \n",
    "\n",
    "Ngoài ra ta còn chứng minh được rằng phương pháp _chuẩn hoá_ còn là một phép co trong không gian mà ở đó khoảng cách giữa 2 điểm bất kì luôn cùng một tỷ lệ so với không gian gốc.\n",
    "\n",
    "Thật vậy. Giả sử ta xét hai điểm là $\\mathbf{x}_1$ và $\\mathbf{x}_2$ trong không gian gốc. Toạ độ hai điểm này sau khi MinMax Scaling lần lượt là $\\mathbf{x}_1'$ và $\\mathbf{x}_2'$. Chúng có mối liên hệ với giá trị gốc theo phương trình:\n",
    "\n",
    "$$\\begin{eqnarray}\\mathbf{x}_1 & = & \\mathbf{x}_{1}' * \\sigma(\\mathbf{x}) + \\bar{\\mathbf{x}}  \\\\\n",
    "\\mathbf{x}_2 & = & \\mathbf{x}_{2}' * \\sigma(\\mathbf{x}) + \\bar{\\mathbf{x}}\n",
    "\\end{eqnarray}$$\n",
    "\n",
    "Suy ra:\n",
    "\n",
    "$$\\frac{\\mathbf{x}_1-\\mathbf{x}_2}{\\mathbf{x}_1' - \\mathbf{x}_2'} = \\sigma(\\mathbf{x}) = \\alpha$$"
   ]
  },
  {
   "cell_type": "code",
   "execution_count": 27,
   "id": "artificial-material",
   "metadata": {
    "colab": {
     "base_uri": "https://localhost:8080/",
     "height": 390
    },
    "id": "zowjQcL5qcvj",
    "outputId": "f75db35c-2d03-44c4-e66e-3f99b27d4ed9"
   },
   "outputs": [
    {
     "data": {
      "image/png": "[encoded data removed]",
      "text/plain": [
       "<Figure size 1440x432 with 2 Axes>"
      ]
     },
     "metadata": {
      "filenames": {
       "image/png": "/home/dell/Downloads/deepai-book/book/_build/jupyter_execute/ch_ml/FeatureEngineering_62_0.png"
      },
      "needs_background": "light"
     },
     "output_type": "display_data"
    }
   ],
   "source": [
    "import matplotlib.pyplot as plt\n",
    "import numpy as np\n",
    "from sklearn.preprocessing import StandardScaler\n",
    "import seaborn as sns\n",
    "\n",
    "# Khởi tạo một biến X ngẫu nhiên\n",
    "X = np.random.randn(1000, 1)*6 + 5\n",
    "# Standardization\n",
    "X_std = StandardScaler().fit_transform(X.reshape(-1, 1))\n",
    "\n",
    "def _plot_dist(x, bins=10, xlim=(-1, 1), varname='x'):\n",
    "  sns.histplot(x, bins = bins, kde = True)\n",
    "  plt.title('histogram of {}'.format(varname))\n",
    "  plt.xlim(xlim)\n",
    "  plt.legend([varname])\n",
    "\n",
    "\n",
    "# Visualization\n",
    "fig = plt.figure(figsize=(20, 6))\n",
    "\n",
    "ax_1 = fig.add_subplot(1, 2, 1)\n",
    "ax_1 = _plot_dist(X, bins=10, xlim=(-15, 25), varname='original data')\n",
    "\n",
    "\n",
    "ax_2 = fig.add_subplot(1, 2, 2)\n",
    "ax_2 = _plot_dist(X_std, bins=10, xlim=(-15, 25), varname='standardized data')"
   ]
  },
  {
   "cell_type": "markdown",
   "id": "tamil-canvas",
   "metadata": {
    "id": "mpLXY8pqz5IM"
   },
   "source": [
    "**Hình 5:** Biến bên trái chưa được chuẩn hoá, khoảng biến thiên của biến trong khoảng từ -15 đến 20 và trung bình là 5. Sau khi chuẩn hoá ta thu được biến bên phải có phân phối chuẩn với trung bình là 0 và khoảng biến thiên từ -2 tới 2. Như vậy chuẩn hoá theo phân phối chuẩn đã giúp giảm độ lớn trung bình và phương sai của biến."
   ]
  },
  {
   "cell_type": "markdown",
   "id": "cooked-strategy",
   "metadata": {
    "id": "R1YjFZ8to9W0"
   },
   "source": [
    "## 11.3.2. Kĩ thuật scaling\n",
    "\n",
    "Đối với kĩ thuật _scaling_ thì chúng ta thường áp dụng trên những biến đã tuân theo phân phối chuẩn. Thông qua _scaling_, toàn bộ giá trị của biến sẽ được đưa về một miền giá trị bị giới hạn trong khoảng $[0, 1]$. Khi đó đối với các điểm outliers xuất hiện trên tập _kiểm tra_ (_test dataset_) thì giá trị của chúng có thể nằm ngoài miền này (tức tồn tại giá trị lớn hơn 1 và nhỏ hơn 0). Dựa trên kĩ thuật _scaling_ chúng ta sẽ cân nhắc thiết lập lại outliers về các điểm đầu mút của miền giới hạn. \n",
    "\n",
    "Trong kĩ thuật scaling thì chúng ta có các phương pháp chính:"
   ]
  },
  {
   "cell_type": "markdown",
   "id": "geological-engine",
   "metadata": {
    "id": "5m4fBTJSSDJ4"
   },
   "source": [
    "### 11.3.2.1. Minmax Scaling\n",
    "\n",
    "Biến được đưa về các range [0,1] theo công thức:\n",
    "\n",
    "$$\\mathbf{x'} = \\frac{\\mathbf{x}-\\min({\\mathbf{x})}}{\\max({\\mathbf{x}}) - \\min({\\mathbf{x}})}$$\n",
    "\n",
    "Như vậy giá trị của biến sau khi biến đổi ngược lại từ scaling sẽ là:\n",
    "\n",
    "$$\\mathbf{x} = \\mathbf{x}' * (\\max(\\mathbf{x}) - \\min(\\mathbf{x})) + \\min(\\mathbf{x})$$"
   ]
  },
  {
   "cell_type": "markdown",
   "id": "thrown-efficiency",
   "metadata": {
    "id": "d0fpDGvPJEp1"
   },
   "source": [
    "MinMax Scaling còn là một phép co trong không gian mà ở đó tỷ lệ khoảng cách giữa 2 điểm bất kì được bảo toàn so với khoảng cách của chúng trong không gian gốc.\n",
    "\n",
    "Thật vậy. Giả sử ta xét hai điểm là $\\mathbf{x}_1$ và $\\mathbf{x}_2$ trong không gian gốc. Toạ độ hai điểm này sau khi MinMax Scaling lần lượt là $\\mathbf{x}_1'$ và $\\mathbf{x}_2'$. Chúng có mối liên hệ với giá trị gốc theo phương trình:\n",
    "\n",
    "$$\\begin{eqnarray}\\mathbf{x}_1 & = & \\mathbf{x}_{1}' * (\\max(\\mathbf{x}) - \\min(\\mathbf{x})) + \\min(\\mathbf{x}) \\\\\n",
    "\\mathbf{x}_2 & = & \\mathbf{x}_{2}' * (\\max(\\mathbf{x}) - \\min(\\mathbf{x})) + \\min(\\mathbf{x}) \n",
    "\\end{eqnarray}$$\n",
    "\n",
    "Suy ra:\n",
    "\n",
    "$$\\frac{\\mathbf{x}_1-\\mathbf{x}_2}{\\mathbf{x}_1' - \\mathbf{x}_2'} = \\max(\\mathbf{x}) - \\min(\\mathbf{x}) = \\alpha$$\n",
    "\n",
    "![](https://i.imgur.com/Txn9nAD.jpeg)\n",
    "\n",
    "**Hình 6**: Hình minh hoạ phương pháp MinMax Scaling."
   ]
  },
  {
   "cell_type": "markdown",
   "id": "identified-queens",
   "metadata": {
    "id": "V_WNdwh7Qwtz"
   },
   "source": [
    "Trên sklearn để thực hiện MinMaxScaler như sau:"
   ]
  },
  {
   "cell_type": "code",
   "execution_count": 28,
   "id": "potential-census",
   "metadata": {
    "colab": {
     "base_uri": "https://localhost:8080/",
     "height": 390
    },
    "id": "LA3_MiojQ0eh",
    "outputId": "38c72788-dd70-471e-8ab8-3cca164e0957"
   },
   "outputs": [
    {
     "data": {
      "image/png": "[encoded data removed]",
      "text/plain": [
       "<Figure size 1440x432 with 2 Axes>"
      ]
     },
     "metadata": {
      "filenames": {
       "image/png": "/home/dell/Downloads/deepai-book/book/_build/jupyter_execute/ch_ml/FeatureEngineering_68_0.png"
      },
      "needs_background": "light"
     },
     "output_type": "display_data"
    }
   ],
   "source": [
    "import matplotlib.pyplot as plt\n",
    "import numpy as np\n",
    "from sklearn.preprocessing import MinMaxScaler\n",
    "import seaborn as sns\n",
    "\n",
    "# Khởi tạo một biến X ngẫu nhiên\n",
    "X = np.random.randn(1000, 1)+5\n",
    "# minmax scaler của X\n",
    "X_minmax = MinMaxScaler().fit_transform(X.reshape(-1, 1))\n",
    "\n",
    "def _plot_dist(x, bins=10, xlim=(-1, 1), varname='x'):\n",
    "  sns.histplot(x, bins = bins, kde = True)\n",
    "  plt.title('histogram of {}'.format(varname))\n",
    "  plt.xlim(xlim)\n",
    "  plt.legend([varname])\n",
    "\n",
    "\n",
    "# Visualization\n",
    "fig = plt.figure(figsize=(20, 6))\n",
    "\n",
    "ax_1 = fig.add_subplot(1, 2, 1)\n",
    "ax_1 = _plot_dist(X, bins=10, xlim=(0, 10), varname='original data')\n",
    "\n",
    "ax_2 = fig.add_subplot(1, 2, 2)\n",
    "ax_2 = _plot_dist(X_minmax, bins=10, xlim=(0, 10), varname='minmax scaling data')"
   ]
  },
  {
   "cell_type": "markdown",
   "id": "normal-thesis",
   "metadata": {
    "id": "HdyQszSzRkiS"
   },
   "source": [
    "**Hình 7**: Bên trái là biến gốc có giá trị nằm trong khoảng từ 2 đến 8. Sau khi chuẩn hoá MinMax Scaling thì giá trị của biến thu hẹp về miền $[0, 1]$."
   ]
  },
  {
   "cell_type": "markdown",
   "id": "smoking-collector",
   "metadata": {
    "id": "LmR56TZ-RzfA"
   },
   "source": [
    "### 11.3.2.2. Unit Length\n",
    "\n",
    "Theo phương pháp này giá trị của biến sẽ được chuẩn hoá bằng cách chia cho norm chuẩn $L_2$.\n",
    "\n",
    "$$\\mathbf{x'} = \\frac{\\mathbf{x}}{||\\mathbf{x}||_2}$$\n",
    "\n",
    "Khi đó trong không gian Euclidean thì biến $\\mathbf{x}'$ sẽ là một véc tơ có độ dài là 1 đơn vị. Chính vì vậy phương pháp chuẩn hoá này còn gọi là chuẩn hoá _độ dài đơn vị_ (_Unit Length_). Ta cũng dễ dàng nhận thấy các giá trị sau khi chuẩn hoá theo _Unit Length_ sẽ nằm trong khoảng $[0, 1]$. So với các phương pháp chuẩn hoá khác như _Standardization_ và _MinMax Scaling_ thì chuẩn hoá theo _Unit Length_ thường có mức độ thu hẹp độ biến động của biến là lớn nhất. Dường như biến sẽ bị co cụm về một miền giá trị rất nhỏ gần 0. Chúng ta có thể kiểm chứng điều này thông qua ví dụ về chuẩn hoá _Unit Length_ trên sklearn bên dưới:"
   ]
  },
  {
   "cell_type": "code",
   "execution_count": 29,
   "id": "atomic-scott",
   "metadata": {
    "colab": {
     "base_uri": "https://localhost:8080/",
     "height": 390
    },
    "id": "FDpOm5NtUToN",
    "outputId": "7e877604-1f83-4396-cae7-27e3a7b66b3f"
   },
   "outputs": [
    {
     "data": {
      "image/png": "[encoded data removed]",
      "text/plain": [
       "<Figure size 1440x432 with 2 Axes>"
      ]
     },
     "metadata": {
      "filenames": {
       "image/png": "/home/dell/Downloads/deepai-book/book/_build/jupyter_execute/ch_ml/FeatureEngineering_71_0.png"
      },
      "needs_background": "light"
     },
     "output_type": "display_data"
    }
   ],
   "source": [
    "import matplotlib.pyplot as plt\n",
    "import numpy as np\n",
    "import seaborn as sns\n",
    "\n",
    "# Khởi tạo một biến X ngẫu nhiên\n",
    "X = np.random.randn(1000, 1)+5\n",
    "# Unit Length scaling\n",
    "X_un = X/np.linalg.norm(X)\n",
    "\n",
    "def _plot_dist(x, bins=10, xlim=(-1, 1), varname='x'):\n",
    "  sns.histplot(x, bins = bins, kde = True)\n",
    "  plt.title('histogram of {}'.format(varname))\n",
    "  plt.xlim(xlim)\n",
    "  plt.legend([varname])\n",
    "\n",
    "# Visualization\n",
    "fig = plt.figure(figsize=(20, 6))\n",
    "\n",
    "ax_1 = fig.add_subplot(1, 2, 1)\n",
    "ax_1 = _plot_dist(X, bins=10, xlim=(0, 10), varname='original data')\n",
    "\n",
    "ax_2 = fig.add_subplot(1, 2, 2)\n",
    "ax_2 = _plot_dist(X_un, bins=10, xlim=(0, 1), varname='unit length scaling data')"
   ]
  },
  {
   "cell_type": "markdown",
   "id": "advised-worker",
   "metadata": {
    "id": "e96UuYyepxdu"
   },
   "source": [
    "**Hình 8**: Bên trái là phân phối của biến gốc và bên phải là phân phối của biến sau khi thực hiện _Unit Length_ scaling. So với các phương pháp phân phối khác thì _Unit Length_ trả về giá trị có khoảng biến thiên hẹp hơn và gần sát với 0."
   ]
  },
  {
   "cell_type": "markdown",
   "id": "musical-liberal",
   "metadata": {
    "id": "_5DZqyrcXQAK"
   },
   "source": [
    "### 11.3.2.3. Robust Scaling\n",
    "\n",
    "Trong trường hợp dữ liệu tồn tại outliers thì các phương pháp chuẩn hoá dựa trên _Standardization_, _MinMax Scaling_ sẽ thường không mang lại hiệu quả. Sự xuất hiện của các outliers thường nằm ở rìa phân phối của biến và chúng có xác suất xảy ra thấp. Điều đó khiến cho phân phối bị lệch sang một bên (hiện tượng _skewness_ cao) và sử dụng các phương pháp chuẩn hoá thông thường như _Standardization_ trở nên khó khăn hơn do bản thân trung bình và độ lệch chuẩn được tính ra cũng đã bị méo bởi sự xuất hiện của những điểm outliers.\n",
    "\n",
    "Một trong những cách tiếp cận để chuẩn hoá dữ liệu khi xuất hiện outliers đó là loại bỏ outliers khỏi tính toán trung bình và độ lệch chuẩn, sau đó sử dụng những giá trị được tính toán để _scaling_ biến.\n",
    "\n",
    "Phương pháp này chính là _Robust Scaler_. Chúng được thực hiện bằng cách tính toán các khoảng phân vị trung vị $Q_2$ (50% percentile), và các khoảng phân vị $Q_1$ (25% percentile), phân vị $Q_3$ (75% percentile). Giá trị của một biến sẽ được trừ đi trung vị $Q_2$ và sau đó chia cho độ dài _khoảng liên phân vị_ _(interquartile range - IQR_,$~\\text{IQR} = Q_3 - Q_1$). Công thức như sau:\n",
    "\n",
    "$$\\mathbf{x}' = \\frac{\\mathbf{x}-Q_2(\\mathbf{x})}{Q_3(\\mathbf{x})-Q_1(\\mathbf{x})}$$\n",
    "\n",
    "Sử dụng _Robust Scaler_ có thể giúp loại bỏ các _outliers_ và sau đó chúng ta có thể tiếp tục thực hiện các phương pháp chuẩn hoá khác sau đó như _Standardization_, _MinMax Scaling_.\n",
    "\n",
    "\n",
    "Phương pháp _Robust Scaler_ được phát triển trong sklearn thông qua class RobustScaler:\n",
    "\n",
    "```\n",
    "sklearn.preprocessing.RobustScaler(\n",
    "with_centering=True,\n",
    "with_scaling=True,\n",
    "quantile_range=(25.0, 75.0),\n",
    "copy=True,\n",
    ")\n",
    "```\n",
    "\n",
    "Trong đó:\n",
    "\n",
    "* _with_centering_: Quyết định xem giá trị có được chuẩn hoá bằng cách trừ đi $Q_2$. Mặc định là True.\n",
    "\n",
    "* _with_scaling_: Có thực hiện scale bằng cách chia cho $\\text{IQR}$ hay không ? Mặc định được thiết lập là True.\n",
    "\n",
    "Chúng ta có thể thay đổi độ dài khoảng $\\text{IQR}$ thông qua thay đổi giá trị của đối số _quantile_range_. Nó nhận giá trị là một khoảng là tập con của $[0, 100]$. Thay đổi giá trị này sẽ thay đổi định nghĩa về outlier và độ lớn scaling.\n",
    "\n",
    "Tiếp theo chúng ta sẽ phân tích kĩ hơn về _Robust Scaler_ thông qua ví dụ bên dưới."
   ]
  },
  {
   "cell_type": "code",
   "execution_count": 30,
   "id": "intermediate-likelihood",
   "metadata": {
    "colab": {
     "base_uri": "https://localhost:8080/",
     "height": 350
    },
    "id": "cLwu5OIChfTz",
    "outputId": "469cf5c9-7fb8-4bbf-f7d0-be0cafcf8710"
   },
   "outputs": [
    {
     "data": {
      "image/png": "[encoded data removed]",
      "text/plain": [
       "<Figure size 1440x360 with 4 Axes>"
      ]
     },
     "metadata": {
      "filenames": {
       "image/png": "/home/dell/Downloads/deepai-book/book/_build/jupyter_execute/ch_ml/FeatureEngineering_74_0.png"
      },
      "needs_background": "light"
     },
     "output_type": "display_data"
    }
   ],
   "source": [
    "import pandas as pd\n",
    "import numpy as np\n",
    "from sklearn.preprocessing import RobustScaler, MinMaxScaler, StandardScaler\n",
    "import matplotlib\n",
    "import matplotlib.pyplot as plt\n",
    "import seaborn as sns\n",
    "  \n",
    "# data\n",
    "x = pd.DataFrame({\n",
    "    # Distribution with lower outliers\n",
    "    'x1': np.concatenate([np.random.normal(20, 2, 1000), np.random.normal(-100, 2, 25)]),\n",
    "    # Distribution with higher outliers\n",
    "    'x2': np.concatenate([np.random.normal(30, 2, 1000), np.random.normal(90, 2, 25)]),\n",
    "})\n",
    "  \n",
    "# robust scaler  \n",
    "scaler = RobustScaler()\n",
    "robust_df = scaler.fit_transform(x)\n",
    "robust_df = pd.DataFrame(robust_df, columns =['x1', 'x2'])\n",
    "\n",
    "# standard scaler\n",
    "scaler = StandardScaler()\n",
    "standard_df = scaler.fit_transform(x)\n",
    "standard_df = pd.DataFrame(standard_df, columns =['x1', 'x2'])\n",
    "\n",
    "# minmax scaler\n",
    "scaler = MinMaxScaler()\n",
    "minmax_df = scaler.fit_transform(x)\n",
    "minmax_df = pd.DataFrame(minmax_df, columns =['x1', 'x2'])\n",
    "\n",
    "# visualization\n",
    "fig, (ax1, ax2, ax3, ax4) = plt.subplots(ncols = 4, figsize =(20, 5))\n",
    "\n",
    "ax1.set_title('Before Scaling')\n",
    "ax1.set_xlabel('x')\n",
    "sns.kdeplot(x['x1'], ax = ax1, color ='r', linewidth=2)\n",
    "sns.kdeplot(x['x2'], ax = ax1, color ='b', linewidth=2)\n",
    "ax1.legend(['x1', 'x2'])\n",
    "\n",
    "ax2.set_title('After Robust Scaling')\n",
    "ax2.set_xlabel('x') \n",
    "sns.kdeplot(robust_df['x1'], ax = ax2, color ='r', linewidth=2)\n",
    "sns.kdeplot(robust_df['x2'], ax = ax2, color ='b', linewidth=2)\n",
    "ax2.legend(['x1', 'x2'])\n",
    "\n",
    "ax3.set_title('After Standard Scaling')\n",
    "ax3.set_xlabel('x')\n",
    "sns.kdeplot(standard_df['x1'], ax = ax3, color ='r', linewidth=2)\n",
    "sns.kdeplot(standard_df['x2'], ax = ax3, color ='b' , linewidth=2)\n",
    "ax3.legend(['x1', 'x2'])\n",
    "\n",
    "ax4.set_title('After MinMax Scaling')\n",
    "ax4.set_xlabel('x')\n",
    "sns.kdeplot(minmax_df['x1'], ax = ax4, color ='r', linewidth=2)\n",
    "sns.kdeplot(minmax_df['x2'], ax = ax4, color ='b', linewidth=2)\n",
    "ax4.legend(['x1', 'x2'])\n",
    "\n",
    "plt.show()"
   ]
  },
  {
   "cell_type": "markdown",
   "id": "supposed-majority",
   "metadata": {
    "id": "3z_qLE5iqUfC"
   },
   "source": [
    "**Hình 9**: Đồ thị so sánh các phương pháp chuẩn hoá khác nhau là _Robust Scaling_, _Standardization_ và _MinMax Scaling_. Biến $\\mathbf{x}_1$ xuất hiện outliers ở các gía trị thấp trong khi biến $\\mathbf{x}_2$ xuất hiện outliers ở các giá trị cao. Chúng ta có thể thấy phân phối của biến bị lệch hẳn sang một bên đối với phương pháp _MinMax Scaling_.  Phương pháp _Standardization_ thì do ảnh hưởng của outliers nên các phân phối sẽ bị lệch trái hoặc lệch phải chứ không hoàn toàn đối xứng qua điểm 0. Trong khi đó _Robust Scaling_ do đã loại bỏ được ảnh hưởng của outliers nên trả về kết quả phân phối đối xứng qua 0."
   ]
  },
  {
   "cell_type": "markdown",
   "id": "fourth-continuity",
   "metadata": {
    "id": "F1OozWpUijnX"
   },
   "source": [
    "# 11.4. Lựa chọn đặc trưng (_feature selection_)\n",
    "\n",
    "Để xây dựng mô hình chúng ta sẽ rất cần đến dữ liệu lớn. Nhưng dữ liệu quá lớn cũng không thực sự tốt. Những hệ thống của các tập đoàn công nghệ lớn có thể có số lượng trường dữ liệu lên tới hàng trăm ngàn. Đây là một con số khổng lồ và sẽ gây ra những hạn chế đó là:\n",
    "\n",
    "* Tăng chi phí tính toán.\n",
    "* Quá nhiều biến giải thích có thể dẫn tới _quá khớp_ (_overfiting_). Tức hiện tượng mô hình hoạt động tốt trên _tập huấn luyện_ nhưng kém trên _tập kiểm tra_.\n",
    "* Trong số các biến sẽ có những biến gây nhiễu và làm giảm chất lượng mô hình.\n",
    "* Rối loạn thông tin do không thể kiểm soát và hiểu hết các biến.\n",
    "\n",
    "Chính vì thế chúng ta cần phải có những phương pháp như giảm chiều dữ liệu hoặc lựa chọn biến quan trọng. Về phương pháp giảm chiều dữ liệu sẽ được trình bày ở một chương khác. Trong chương này này chúng ta sẽ làm quen với một số kĩ thuật lựa chọn biến thông dụng.\n",
    "\n",
    "Bên dưới là những thuật toán quan trọng được sử dụng để lựa chọn các biến."
   ]
  },
  {
   "cell_type": "markdown",
   "id": "suited-trade",
   "metadata": {
    "id": "mN_b5BbxiwX9"
   },
   "source": [
    "## 11.4.1. Phương pháp thống kê\n",
    "\n",
    "Một phương pháp quan trọng trong các phương pháp thống kê nhằm giảm số lượng biến là lựa chọn dựa trên phương sai. Dựa trên phân tích các biến không biến động thì không có tác dụng gì trong việc phân loại hoặc dự báo bởi chúng ta dường như đã biết được giá trị của chúng cho tất cả các quan sát. Do đó ý tưởng chính của phương pháp này là thông qua độ lớn phương sai của toàn bộ các _biến numeric_ để loại bỏ những biến nếu nó nhỏ hơn một ngưỡi nhất định.\n",
    "\n",
    "Trong sklearn chúng ta có thể sử dụng _VarianceThreshold_ để lọc bỏ biến theo phương sai."
   ]
  },
  {
   "cell_type": "code",
   "execution_count": 31,
   "id": "patent-selling",
   "metadata": {
    "colab": {
     "base_uri": "https://localhost:8080/"
    },
    "id": "N7PfY5cBi0om",
    "outputId": "46f47c8a-5699-49e2-abd8-bab4124b240d"
   },
   "outputs": [
    {
     "name": "stdout",
     "output_type": "stream",
     "text": [
      "X shape: (500, 50)\n",
      "y shape: (500,)\n",
      "Total features with thres=0.8: (500, 49)\n",
      "Total features with thres=1.0: (500, 46)\n"
     ]
    }
   ],
   "source": [
    "from sklearn.feature_selection import VarianceThreshold\n",
    "from sklearn.datasets import make_classification\n",
    "\n",
    "# Khởi toạo dữ liệu example\n",
    "X, y = make_classification(n_samples=500, n_features=50, random_state=123)\n",
    "\n",
    "print('X shape:', X.shape)\n",
    "print('y shape:', y.shape)\n",
    "\n",
    "# Lọc bỏ các biến có phương sai nhỏ hơn 0.8\n",
    "print('Total features with thres=0.8: {}'.format(VarianceThreshold(0.8).fit_transform(X).shape))\n",
    "\n",
    "# Lọc bỏ các biến có phương sai nhỏ hơn 1.0\n",
    "X_kvar = VarianceThreshold(0.9).fit_transform(X)\n",
    "print('Total features with thres=1.0: {}'.format(X_kvar.shape))"
   ]
  },
  {
   "cell_type": "markdown",
   "id": "objective-underground",
   "metadata": {
    "id": "7_vWaDdojCpW"
   },
   "source": [
    "Ngoài phương pháp phương sai, chúng ta có thể áp dụng phương pháp thống kê dựa trên các chỉ số của phân phối _chi-squared_ và _Fisher_. Các phương pháp này sẽ đo lường sức mạnh của mô hình khi loại bỏ lần lượt các biến và tìm ra $k$ biến tốt nhất. Chi tiết về [phương pháp thống kê](https://scikit-learn.org/stable/modules/feature_selection.html#univariate-feature-selection) cho bạn đọc quan tâm. Chúng ta sẽ áp dụng cả 2 phương pháp đo lường phương sai và phương pháp thống kê để đánh giá hiệu quả mô hình trước và sau lựa chọn biến."
   ]
  },
  {
   "cell_type": "code",
   "execution_count": 32,
   "id": "registered-outreach",
   "metadata": {
    "colab": {
     "base_uri": "https://localhost:8080/"
    },
    "id": "OO5G-WepjOcg",
    "outputId": "d88a3d74-1d59-4110-a32a-d40479b84380"
   },
   "outputs": [
    {
     "name": "stdout",
     "output_type": "stream",
     "text": [
      "X shape after applying statistical selection:  (500, 5)\n"
     ]
    }
   ],
   "source": [
    "from sklearn.feature_selection import SelectKBest, f_classif\n",
    "from sklearn.linear_model import LogisticRegression\n",
    "from sklearn.model_selection import cross_val_score\n",
    "\n",
    "# Lựa chọn biến dựa trên phương pháp Fisher\n",
    "X_kbest = SelectKBest(f_classif, k = 5).fit_transform(X, y)\n",
    "print('X shape after applying statistical selection: ',X_kbest.shape)"
   ]
  },
  {
   "cell_type": "markdown",
   "id": "collect-steel",
   "metadata": {
    "id": "r9DUMtqUjQpW"
   },
   "source": [
    "Chúng ta sẽ cùng đánh giá hiệu quả mô hình bằng cross-validation trước và sau lựa chọn biến với KFold = 5."
   ]
  },
  {
   "cell_type": "code",
   "execution_count": 33,
   "id": "strategic-windsor",
   "metadata": {
    "colab": {
     "base_uri": "https://localhost:8080/"
    },
    "id": "HwYXqLlWjRIQ",
    "outputId": "cbb8418c-8386-48fe-b610-91b05f585887"
   },
   "outputs": [
    {
     "name": "stdout",
     "output_type": "stream",
     "text": [
      "Accuracy trên dữ liệu gốc: 0.8640000000000001\n",
      "Accuracy áp dụng phương sai: 0.8560000000000001\n",
      "Accuracy dụng pp thống kê: 0.9040000000000001\n"
     ]
    }
   ],
   "source": [
    "# Hồi qui logistic\n",
    "logit = LogisticRegression(solver='lbfgs', random_state=1)\n",
    "\n",
    "# Cross validation cho:\n",
    "# 1.dữ liệu gốc\n",
    "acc_org = cross_val_score(logit, X, y, scoring = 'accuracy', cv = 5).mean()\n",
    "# 2. Áp dụng phương sai\n",
    "acc_var = cross_val_score(logit, X_kvar, y, scoring = 'accuracy', cv = 5).mean()\n",
    "# 3. Áp dụng phương pháp thống kê\n",
    "acc_stat = cross_val_score(logit, X_kbest, y, scoring = 'accuracy', cv = 5).mean()\n",
    "\n",
    "print('Accuracy trên dữ liệu gốc:', acc_org)\n",
    "print('Accuracy áp dụng phương sai:', acc_var)\n",
    "print('Accuracy dụng pp thống kê:', acc_stat)"
   ]
  },
  {
   "cell_type": "markdown",
   "id": "deadly-overview",
   "metadata": {
    "id": "XQaRtczHy3fT"
   },
   "source": [
    "Như vậy ta thấy sau khi áp dụng feature selection đã cải thiện được độ chính xác của mô hình dự báo."
   ]
  },
  {
   "cell_type": "markdown",
   "id": "center-simulation",
   "metadata": {
    "id": "d9yQ02fvjWAa"
   },
   "source": [
    "## 11.4.2. Sử dụng mô hình\n",
    "\n",
    "Đây là phương pháp rất thường xuyên được áp dụng trong các cuộc thi phân tích dữ liệu. Chúng ta sẽ dựa trên một số mô hình cơ sở để đánh giá mức độ quan trọng của các biến. Có hai lớp mô hình thường được sử dụng để đánh biến đó là _Random Forest_ và _Linear Regression_. Ưu điểm của các phương pháp này là kết quả đánh giá rất chuẩn xác, tuy nhiên nhược điểm của chúng là phải xây dựng mô hình hồi qui rồi mới xác định được biến quan trọng. Điều này dường như đi trái lại với thực tế phải lựa chọn biến trước khi huấn luyện mô hình. Để áp dụng phương pháp này chúng ta thực hiện như sau:"
   ]
  },
  {
   "cell_type": "code",
   "execution_count": 34,
   "id": "growing-grade",
   "metadata": {
    "colab": {
     "base_uri": "https://localhost:8080/"
    },
    "id": "a8QDK3nRjdVC",
    "outputId": "05f1cded-cb35-4451-e034-9e9fea4e47de"
   },
   "outputs": [
    {
     "name": "stdout",
     "output_type": "stream",
     "text": [
      "Accuracy theo logit: 0.8640000000000001\n",
      "Accuracy theo random forest: 0.906\n",
      "Accuracy theo pipeline 1: 0.906\n",
      "Accuracy theo pipeline 2: 0.9039999999999999\n"
     ]
    }
   ],
   "source": [
    "from sklearn.ensemble import RandomForestClassifier\n",
    "from sklearn.svm import LinearSVC\n",
    "from sklearn.linear_model import Lasso\n",
    "from sklearn.feature_selection import SelectFromModel\n",
    "from sklearn.model_selection import cross_val_score\n",
    "from sklearn.pipeline import make_pipeline\n",
    "\n",
    "# Hồi qui theo RandomForest\n",
    "rdFrt = RandomForestClassifier(n_estimators = 20, random_state = 1)\n",
    "# Hồi qui theo LinearSVC\n",
    "lnSVC = LinearSVC(C=0.01, penalty=\"l1\", dual=False)\n",
    "# Hồi qui theo Lasso\n",
    "lassoReg = Lasso(alpha = 1.0)\n",
    "# Tạo một pipeline thực hiện lựa chọn biến từ RandomForest model và hồi qui theo logit\n",
    "pipe1 = make_pipeline(StandardScaler(), SelectFromModel(estimator = rdFrt), logit)\n",
    "# Tạo một pipeline thực hiện lựa chọn biến từ Linear SVC model và hồi qui theo logit\n",
    "pipe2 = make_pipeline(StandardScaler(), SelectFromModel(estimator = lnSVC), logit)\n",
    "\n",
    "# Cross validate đối với \n",
    "# 1. Mô hình logit\n",
    "acc_log = cross_val_score(logit, X, y, scoring = 'accuracy', cv = 5).mean()\n",
    "# 2. Mô hình RandomForest\n",
    "acc_rdf = cross_val_score(rdFrt, X, y, scoring = 'accuracy', cv = 5).mean()\n",
    "# 3. Mô hình pipe1\n",
    "acc_pip1 = cross_val_score(pipe1, X, y, scoring = 'accuracy', cv = 5).mean()\n",
    "# 3. Mô hình pipe2\n",
    "acc_pip2 = cross_val_score(pipe2, X, y, scoring = 'accuracy', cv = 5).mean()\n",
    "\n",
    "print('Accuracy theo logit:', acc_log)\n",
    "print('Accuracy theo random forest:', acc_rdf)\n",
    "print('Accuracy theo pipeline 1:', acc_pip1)\n",
    "print('Accuracy theo pipeline 2:', acc_pip2)"
   ]
  },
  {
   "cell_type": "markdown",
   "id": "going-blond",
   "metadata": {
    "id": "w8zLfGzEy2UP"
   },
   "source": [
    "Như vậy select dựa trên mô hình Random Forest và Linear SVC đã có hiệu quả trong việc cải thiện độ chính xác của mô hình. Bên cạnh việc thực hiện lựa chọn biến dựa trên model, chúng ta còn có thể lựa chọn biến theo grid search."
   ]
  },
  {
   "cell_type": "markdown",
   "id": "conscious-developer",
   "metadata": {
    "id": "idYeCz6ajis9"
   },
   "source": [
    "## 11.4.3. Sử dụng GridSearch\n",
    "\n",
    "Đây là phương pháp có thể coi là đáng tin cậy nhất trong việc lựa chọn biến quan trọng. Ý tưởng chính của phương pháp này đó là huấn luyên mô hình trên một tập dữ liệu con, lưu lại kết qủa sau huấn luyện, lập lại quá trình huấn luyện trên những mẫu con khác, so sánh chất lượng các mô hình dự báo để tìm ra một tập các biến tốt nhất. Phương pháp này còn được gọi là [Exhaustive Feature Selection](http://rasbt.github.io/mlxtend/user_guide/feature_selection/ExhaustiveFeatureSelector/)."
   ]
  },
  {
   "cell_type": "markdown",
   "id": "ranging-weapon",
   "metadata": {
    "id": "ZZfRpw7Mjsp9"
   },
   "source": [
    "Nếu như chúng ta tìm kiếm trên toàn bộ các bộ kết hợp tham số của mô hình sẽ rất lâu. Do đó việc đầu tiên ta cần thực hiện là giới hạn không gian search space. Ban đầu ta cố định trước một số lượng biến $N$, đi qua lần lượt các kết hợp của toàn bộ $N$ biến đó và lựa chọn ra bộ kết hợp tốt nhất. Khi xét với $N+1$ biến thì ta sẽ cố định bộ kết hợp tốt nhất của $N$ biến trước đó và chỉ thêm 1 biến mới vào bộ kết hợp này. Quá trình này tiếp tục cho đến khi số lượng các biến đạt mức tối đa hoặc tới khi hàm loss fuction mô hình không giảm nữa. Phương pháp này gọi là [Sequential Feature Selection](http://rasbt.github.io/mlxtend/user_guide/feature_selection/SequentialFeatureSelector/)"
   ]
  },
  {
   "cell_type": "markdown",
   "id": "classical-mention",
   "metadata": {
    "id": "e4RsVkhbjw14"
   },
   "source": [
    "Ý tưởng của _Sequential Feature Selection_ có thể thực hiện ngược lại theo cách cố định một tập hợp lớn nhất các biến, sau đó loại lần lượt các biến cho đến khi hiệu năng của mô hình không còn được cải thiện. Khi đó bộ kết hợp các biến tối ưu sẽ được lựa chọn. Bên dưới ta sẽ tiến hành sử dụng phương pháp lựa chọn grid search đối với _Sequential Feature Selection_."
   ]
  },
  {
   "cell_type": "code",
   "execution_count": 35,
   "id": "simplified-regular",
   "metadata": {
    "colab": {
     "base_uri": "https://localhost:8080/"
    },
    "id": "HqZcFnnij1o-",
    "outputId": "13c7c2f1-7eae-4aa6-843d-0505963acccf"
   },
   "outputs": [
    {
     "name": "stdout",
     "output_type": "stream",
     "text": [
      "skipping\n"
     ]
    }
   ],
   "source": [
    "%%script echo skipping\n",
    "!pip install mlxtend"
   ]
  },
  {
   "cell_type": "code",
   "execution_count": 36,
   "id": "burning-poster",
   "metadata": {
    "colab": {
     "base_uri": "https://localhost:8080/"
    },
    "id": "iuzSaah3j1vu",
    "outputId": "b987ca78-f8f0-40c3-beb3-c165241c8d65"
   },
   "outputs": [
    {
     "name": "stderr",
     "output_type": "stream",
     "text": [
      "[Parallel(n_jobs=-1)]: Using backend LokyBackend with 12 concurrent workers.\n"
     ]
    },
    {
     "name": "stderr",
     "output_type": "stream",
     "text": [
      "[Parallel(n_jobs=-1)]: Done  17 tasks      | elapsed:    1.6s\n",
      "[Parallel(n_jobs=-1)]: Done  50 out of  50 | elapsed:    1.7s finished\n",
      "\n",
      "[2021-08-25 18:52:06] Features: 49/3 -- score: 0.8699999999999999[Parallel(n_jobs=-1)]: Using backend LokyBackend with 12 concurrent workers.\n"
     ]
    },
    {
     "name": "stderr",
     "output_type": "stream",
     "text": [
      "[Parallel(n_jobs=-1)]: Done  26 out of  49 | elapsed:    0.2s remaining:    0.2s\n",
      "[Parallel(n_jobs=-1)]: Done  49 out of  49 | elapsed:    0.3s finished\n",
      "\n",
      "[2021-08-25 18:52:07] Features: 48/3 -- score: 0.8720000000000001[Parallel(n_jobs=-1)]: Using backend LokyBackend with 12 concurrent workers.\n"
     ]
    },
    {
     "name": "stderr",
     "output_type": "stream",
     "text": [
      "[Parallel(n_jobs=-1)]: Done  48 out of  48 | elapsed:    0.3s finished\n",
      "\n",
      "[2021-08-25 18:52:07] Features: 47/3 -- score: 0.876[Parallel(n_jobs=-1)]: Using backend LokyBackend with 12 concurrent workers.\n",
      "[Parallel(n_jobs=-1)]: Done  17 tasks      | elapsed:    0.1s\n"
     ]
    },
    {
     "name": "stderr",
     "output_type": "stream",
     "text": [
      "[Parallel(n_jobs=-1)]: Done  47 out of  47 | elapsed:    0.3s finished\n",
      "\n",
      "[2021-08-25 18:52:07] Features: 46/3 -- score: 0.8779999999999999[Parallel(n_jobs=-1)]: Using backend LokyBackend with 12 concurrent workers.\n",
      "[Parallel(n_jobs=-1)]: Done  17 tasks      | elapsed:    0.1s\n"
     ]
    },
    {
     "name": "stderr",
     "output_type": "stream",
     "text": [
      "[Parallel(n_jobs=-1)]: Done  46 out of  46 | elapsed:    0.3s finished\n",
      "\n",
      "[2021-08-25 18:52:07] Features: 45/3 -- score: 0.8800000000000001[Parallel(n_jobs=-1)]: Using backend LokyBackend with 12 concurrent workers.\n",
      "[Parallel(n_jobs=-1)]: Done  17 tasks      | elapsed:    0.1s\n"
     ]
    },
    {
     "name": "stderr",
     "output_type": "stream",
     "text": [
      "[Parallel(n_jobs=-1)]: Done  45 out of  45 | elapsed:    0.3s remaining:    0.0s\n",
      "[Parallel(n_jobs=-1)]: Done  45 out of  45 | elapsed:    0.3s finished\n",
      "\n",
      "[2021-08-25 18:52:08] Features: 44/3 -- score: 0.884[Parallel(n_jobs=-1)]: Using backend LokyBackend with 12 concurrent workers.\n",
      "[Parallel(n_jobs=-1)]: Done  17 tasks      | elapsed:    0.1s\n"
     ]
    },
    {
     "name": "stderr",
     "output_type": "stream",
     "text": [
      "[Parallel(n_jobs=-1)]: Done  44 out of  44 | elapsed:    0.3s remaining:    0.0s\n",
      "[Parallel(n_jobs=-1)]: Done  44 out of  44 | elapsed:    0.3s finished\n",
      "\n",
      "[2021-08-25 18:52:08] Features: 43/3 -- score: 0.8859999999999999[Parallel(n_jobs=-1)]: Using backend LokyBackend with 12 concurrent workers.\n",
      "[Parallel(n_jobs=-1)]: Done  17 tasks      | elapsed:    0.1s\n"
     ]
    },
    {
     "name": "stderr",
     "output_type": "stream",
     "text": [
      "[Parallel(n_jobs=-1)]: Done  43 out of  43 | elapsed:    0.2s finished\n",
      "\n",
      "[2021-08-25 18:52:08] Features: 42/3 -- score: 0.89[Parallel(n_jobs=-1)]: Using backend LokyBackend with 12 concurrent workers.\n",
      "[Parallel(n_jobs=-1)]: Done  17 tasks      | elapsed:    0.1s\n"
     ]
    },
    {
     "name": "stderr",
     "output_type": "stream",
     "text": [
      "[Parallel(n_jobs=-1)]: Done  42 out of  42 | elapsed:    0.2s finished\n",
      "\n",
      "[2021-08-25 18:52:08] Features: 41/3 -- score: 0.8960000000000001[Parallel(n_jobs=-1)]: Using backend LokyBackend with 12 concurrent workers.\n",
      "[Parallel(n_jobs=-1)]: Done  17 tasks      | elapsed:    0.1s\n"
     ]
    },
    {
     "name": "stderr",
     "output_type": "stream",
     "text": [
      "[Parallel(n_jobs=-1)]: Done  39 out of  41 | elapsed:    0.2s remaining:    0.0s\n",
      "[Parallel(n_jobs=-1)]: Done  41 out of  41 | elapsed:    0.2s finished\n",
      "\n",
      "[2021-08-25 18:52:09] Features: 40/3 -- score: 0.8960000000000001[Parallel(n_jobs=-1)]: Using backend LokyBackend with 12 concurrent workers.\n",
      "[Parallel(n_jobs=-1)]: Done  17 tasks      | elapsed:    0.1s\n"
     ]
    },
    {
     "name": "stderr",
     "output_type": "stream",
     "text": [
      "[Parallel(n_jobs=-1)]: Done  38 out of  40 | elapsed:    0.2s remaining:    0.0s\n",
      "[Parallel(n_jobs=-1)]: Done  40 out of  40 | elapsed:    0.2s finished\n",
      "\n",
      "[2021-08-25 18:52:09] Features: 39/3 -- score: 0.8960000000000001[Parallel(n_jobs=-1)]: Using backend LokyBackend with 12 concurrent workers.\n"
     ]
    },
    {
     "name": "stderr",
     "output_type": "stream",
     "text": [
      "[Parallel(n_jobs=-1)]: Done  36 out of  39 | elapsed:    0.2s remaining:    0.0s\n",
      "[Parallel(n_jobs=-1)]: Done  39 out of  39 | elapsed:    0.2s finished\n",
      "\n",
      "[2021-08-25 18:52:09] Features: 38/3 -- score: 0.8960000000000001[Parallel(n_jobs=-1)]: Using backend LokyBackend with 12 concurrent workers.\n"
     ]
    },
    {
     "name": "stderr",
     "output_type": "stream",
     "text": [
      "[Parallel(n_jobs=-1)]: Done  35 out of  38 | elapsed:    0.2s remaining:    0.0s\n",
      "[Parallel(n_jobs=-1)]: Done  38 out of  38 | elapsed:    0.2s finished\n",
      "\n",
      "[2021-08-25 18:52:09] Features: 37/3 -- score: 0.898[Parallel(n_jobs=-1)]: Using backend LokyBackend with 12 concurrent workers.\n"
     ]
    },
    {
     "name": "stderr",
     "output_type": "stream",
     "text": [
      "[Parallel(n_jobs=-1)]: Done  33 out of  37 | elapsed:    0.2s remaining:    0.0s\n",
      "[Parallel(n_jobs=-1)]: Done  37 out of  37 | elapsed:    0.2s finished\n",
      "\n",
      "[2021-08-25 18:52:10] Features: 36/3 -- score: 0.898[Parallel(n_jobs=-1)]: Using backend LokyBackend with 12 concurrent workers.\n"
     ]
    },
    {
     "name": "stderr",
     "output_type": "stream",
     "text": [
      "[Parallel(n_jobs=-1)]: Done  32 out of  36 | elapsed:    0.2s remaining:    0.0s\n",
      "[Parallel(n_jobs=-1)]: Done  36 out of  36 | elapsed:    0.2s finished\n",
      "\n",
      "[2021-08-25 18:52:10] Features: 35/3 -- score: 0.898[Parallel(n_jobs=-1)]: Using backend LokyBackend with 12 concurrent workers.\n"
     ]
    },
    {
     "name": "stderr",
     "output_type": "stream",
     "text": [
      "[Parallel(n_jobs=-1)]: Done  30 out of  35 | elapsed:    0.2s remaining:    0.0s\n",
      "[Parallel(n_jobs=-1)]: Done  35 out of  35 | elapsed:    0.2s finished\n",
      "\n",
      "[2021-08-25 18:52:10] Features: 34/3 -- score: 0.8960000000000001[Parallel(n_jobs=-1)]: Using backend LokyBackend with 12 concurrent workers.\n"
     ]
    },
    {
     "name": "stderr",
     "output_type": "stream",
     "text": [
      "[Parallel(n_jobs=-1)]: Done  29 out of  34 | elapsed:    0.2s remaining:    0.0s\n",
      "[Parallel(n_jobs=-1)]: Done  34 out of  34 | elapsed:    0.2s finished\n",
      "\n",
      "[2021-08-25 18:52:10] Features: 33/3 -- score: 0.9019999999999999[Parallel(n_jobs=-1)]: Using backend LokyBackend with 12 concurrent workers.\n"
     ]
    },
    {
     "name": "stderr",
     "output_type": "stream",
     "text": [
      "[Parallel(n_jobs=-1)]: Done  27 out of  33 | elapsed:    0.2s remaining:    0.0s\n",
      "[Parallel(n_jobs=-1)]: Done  33 out of  33 | elapsed:    0.2s finished\n",
      "\n",
      "[2021-08-25 18:52:10] Features: 32/3 -- score: 0.9019999999999999[Parallel(n_jobs=-1)]: Using backend LokyBackend with 12 concurrent workers.\n",
      "[Parallel(n_jobs=-1)]: Done  26 out of  32 | elapsed:    0.2s remaining:    0.0s\n"
     ]
    },
    {
     "name": "stderr",
     "output_type": "stream",
     "text": [
      "[Parallel(n_jobs=-1)]: Done  32 out of  32 | elapsed:    0.2s finished\n",
      "\n",
      "[2021-08-25 18:52:11] Features: 31/3 -- score: 0.9019999999999999[Parallel(n_jobs=-1)]: Using backend LokyBackend with 12 concurrent workers.\n",
      "[Parallel(n_jobs=-1)]: Done  24 out of  31 | elapsed:    0.2s remaining:    0.0s\n"
     ]
    },
    {
     "name": "stderr",
     "output_type": "stream",
     "text": [
      "[Parallel(n_jobs=-1)]: Done  31 out of  31 | elapsed:    0.2s finished\n",
      "\n",
      "[2021-08-25 18:52:11] Features: 30/3 -- score: 0.9019999999999999[Parallel(n_jobs=-1)]: Using backend LokyBackend with 12 concurrent workers.\n",
      "[Parallel(n_jobs=-1)]: Done  23 out of  30 | elapsed:    0.2s remaining:    0.1s\n",
      "[Parallel(n_jobs=-1)]: Done  30 out of  30 | elapsed:    0.2s finished\n",
      "\n",
      "[2021-08-25 18:52:11] Features: 29/3 -- score: 0.9[Parallel(n_jobs=-1)]: Using backend LokyBackend with 12 concurrent workers.\n"
     ]
    },
    {
     "name": "stderr",
     "output_type": "stream",
     "text": [
      "[Parallel(n_jobs=-1)]: Done  21 out of  29 | elapsed:    0.2s remaining:    0.1s\n",
      "[Parallel(n_jobs=-1)]: Done  29 out of  29 | elapsed:    0.2s finished\n",
      "\n",
      "[2021-08-25 18:52:11] Features: 28/3 -- score: 0.9[Parallel(n_jobs=-1)]: Using backend LokyBackend with 12 concurrent workers.\n",
      "[Parallel(n_jobs=-1)]: Done  20 out of  28 | elapsed:    0.2s remaining:    0.1s\n"
     ]
    },
    {
     "name": "stderr",
     "output_type": "stream",
     "text": [
      "[Parallel(n_jobs=-1)]: Done  28 out of  28 | elapsed:    0.2s finished\n",
      "\n",
      "[2021-08-25 18:52:11] Features: 27/3 -- score: 0.9[Parallel(n_jobs=-1)]: Using backend LokyBackend with 12 concurrent workers.\n",
      "[Parallel(n_jobs=-1)]: Done  18 out of  27 | elapsed:    0.1s remaining:    0.1s\n",
      "[Parallel(n_jobs=-1)]: Done  27 out of  27 | elapsed:    0.2s finished\n",
      "\n",
      "[2021-08-25 18:52:12] Features: 26/3 -- score: 0.898[Parallel(n_jobs=-1)]: Using backend LokyBackend with 12 concurrent workers.\n"
     ]
    },
    {
     "name": "stderr",
     "output_type": "stream",
     "text": [
      "[Parallel(n_jobs=-1)]: Done  17 out of  26 | elapsed:    0.1s remaining:    0.1s\n",
      "[Parallel(n_jobs=-1)]: Done  26 out of  26 | elapsed:    0.2s finished\n",
      "\n",
      "[2021-08-25 18:52:12] Features: 25/3 -- score: 0.9020000000000001[Parallel(n_jobs=-1)]: Using backend LokyBackend with 12 concurrent workers.\n",
      "[Parallel(n_jobs=-1)]: Done  15 out of  25 | elapsed:    0.1s remaining:    0.1s\n"
     ]
    },
    {
     "name": "stderr",
     "output_type": "stream",
     "text": [
      "[Parallel(n_jobs=-1)]: Done  25 out of  25 | elapsed:    0.2s finished\n",
      "\n",
      "[2021-08-25 18:52:12] Features: 24/3 -- score: 0.9020000000000001[Parallel(n_jobs=-1)]: Using backend LokyBackend with 12 concurrent workers.\n",
      "[Parallel(n_jobs=-1)]: Done  14 out of  24 | elapsed:    0.1s remaining:    0.1s\n",
      "[Parallel(n_jobs=-1)]: Done  24 out of  24 | elapsed:    0.2s finished\n",
      "\n",
      "[2021-08-25 18:52:12] Features: 23/3 -- score: 0.9039999999999999[Parallel(n_jobs=-1)]: Using backend LokyBackend with 12 concurrent workers.\n"
     ]
    },
    {
     "name": "stderr",
     "output_type": "stream",
     "text": [
      "[Parallel(n_jobs=-1)]: Done  12 out of  23 | elapsed:    0.1s remaining:    0.1s\n",
      "[Parallel(n_jobs=-1)]: Done  23 out of  23 | elapsed:    0.2s finished\n",
      "\n",
      "[2021-08-25 18:52:12] Features: 22/3 -- score: 0.908[Parallel(n_jobs=-1)]: Using backend LokyBackend with 12 concurrent workers.\n",
      "[Parallel(n_jobs=-1)]: Done  11 out of  22 | elapsed:    0.1s remaining:    0.1s\n"
     ]
    },
    {
     "name": "stderr",
     "output_type": "stream",
     "text": [
      "[Parallel(n_jobs=-1)]: Done  22 out of  22 | elapsed:    0.2s finished\n",
      "\n",
      "[2021-08-25 18:52:12] Features: 21/3 -- score: 0.908[Parallel(n_jobs=-1)]: Using backend LokyBackend with 12 concurrent workers.\n",
      "[Parallel(n_jobs=-1)]: Done   9 out of  21 | elapsed:    0.1s remaining:    0.1s\n",
      "[Parallel(n_jobs=-1)]: Done  21 out of  21 | elapsed:    0.2s finished\n",
      "\n",
      "[2021-08-25 18:52:13] Features: 20/3 -- score: 0.908[Parallel(n_jobs=-1)]: Using backend LokyBackend with 12 concurrent workers.\n"
     ]
    },
    {
     "name": "stderr",
     "output_type": "stream",
     "text": [
      "[Parallel(n_jobs=-1)]: Done   8 out of  20 | elapsed:    0.1s remaining:    0.1s\n",
      "[Parallel(n_jobs=-1)]: Done  20 out of  20 | elapsed:    0.1s finished\n",
      "\n",
      "[2021-08-25 18:52:13] Features: 19/3 -- score: 0.9119999999999999[Parallel(n_jobs=-1)]: Using backend LokyBackend with 12 concurrent workers.\n",
      "[Parallel(n_jobs=-1)]: Done   6 out of  19 | elapsed:    0.1s remaining:    0.1s\n",
      "[Parallel(n_jobs=-1)]: Done  16 out of  19 | elapsed:    0.1s remaining:    0.0s\n"
     ]
    },
    {
     "name": "stderr",
     "output_type": "stream",
     "text": [
      "[Parallel(n_jobs=-1)]: Done  19 out of  19 | elapsed:    0.1s finished\n",
      "\n",
      "[2021-08-25 18:52:13] Features: 18/3 -- score: 0.914[Parallel(n_jobs=-1)]: Using backend LokyBackend with 12 concurrent workers.\n",
      "[Parallel(n_jobs=-1)]: Done   5 out of  18 | elapsed:    0.1s remaining:    0.1s\n",
      "[Parallel(n_jobs=-1)]: Done  15 out of  18 | elapsed:    0.1s remaining:    0.0s\n",
      "[Parallel(n_jobs=-1)]: Done  18 out of  18 | elapsed:    0.1s finished\n",
      "\n",
      "[2021-08-25 18:52:13] Features: 17/3 -- score: 0.9200000000000002[Parallel(n_jobs=-1)]: Using backend LokyBackend with 12 concurrent workers.\n",
      "[Parallel(n_jobs=-1)]: Done   3 out of  17 | elapsed:    0.1s remaining:    0.3s\n"
     ]
    },
    {
     "name": "stderr",
     "output_type": "stream",
     "text": [
      "[Parallel(n_jobs=-1)]: Done  12 out of  17 | elapsed:    0.1s remaining:    0.0s\n",
      "[Parallel(n_jobs=-1)]: Done  17 out of  17 | elapsed:    0.1s finished\n",
      "\n",
      "[2021-08-25 18:52:13] Features: 16/3 -- score: 0.9200000000000002[Parallel(n_jobs=-1)]: Using backend LokyBackend with 12 concurrent workers.\n",
      "[Parallel(n_jobs=-1)]: Done  11 out of  16 | elapsed:    0.1s remaining:    0.0s\n",
      "[Parallel(n_jobs=-1)]: Done  16 out of  16 | elapsed:    0.1s finished\n",
      "\n",
      "[2021-08-25 18:52:13] Features: 15/3 -- score: 0.916[Parallel(n_jobs=-1)]: Using backend LokyBackend with 12 concurrent workers.\n"
     ]
    },
    {
     "name": "stderr",
     "output_type": "stream",
     "text": [
      "[Parallel(n_jobs=-1)]: Done   8 out of  15 | elapsed:    0.1s remaining:    0.1s\n",
      "[Parallel(n_jobs=-1)]: Done  15 out of  15 | elapsed:    0.1s finished\n",
      "\n",
      "[2021-08-25 18:52:13] Features: 14/3 -- score: 0.914[Parallel(n_jobs=-1)]: Using backend LokyBackend with 12 concurrent workers.\n",
      "[Parallel(n_jobs=-1)]: Done   7 out of  14 | elapsed:    0.1s remaining:    0.1s\n",
      "[Parallel(n_jobs=-1)]: Done  14 out of  14 | elapsed:    0.1s finished\n",
      "\n",
      "[2021-08-25 18:52:13] Features: 13/3 -- score: 0.922[Parallel(n_jobs=-1)]: Using backend LokyBackend with 12 concurrent workers.\n",
      "[Parallel(n_jobs=-1)]: Done   4 out of  13 | elapsed:    0.0s remaining:    0.1s\n"
     ]
    },
    {
     "name": "stderr",
     "output_type": "stream",
     "text": [
      "[Parallel(n_jobs=-1)]: Done  11 out of  13 | elapsed:    0.1s remaining:    0.0s\n",
      "[Parallel(n_jobs=-1)]: Done  13 out of  13 | elapsed:    0.1s finished\n",
      "\n",
      "[2021-08-25 18:52:14] Features: 12/3 -- score: 0.922[Parallel(n_jobs=-1)]: Using backend LokyBackend with 12 concurrent workers.\n",
      "[Parallel(n_jobs=-1)]: Done   3 out of  12 | elapsed:    0.0s remaining:    0.1s\n",
      "[Parallel(n_jobs=-1)]: Done  10 out of  12 | elapsed:    0.1s remaining:    0.0s\n",
      "[Parallel(n_jobs=-1)]: Done  12 out of  12 | elapsed:    0.1s finished\n",
      "\n",
      "[2021-08-25 18:52:14] Features: 11/3 -- score: 0.9199999999999999[Parallel(n_jobs=-1)]: Using backend LokyBackend with 12 concurrent workers.\n",
      "[Parallel(n_jobs=-1)]: Done   6 out of  11 | elapsed:    0.1s remaining:    0.1s\n",
      "[Parallel(n_jobs=-1)]: Done  11 out of  11 | elapsed:    0.1s finished\n",
      "\n",
      "[2021-08-25 18:52:14] Features: 10/3 -- score: 0.922[Parallel(n_jobs=-1)]: Using backend LokyBackend with 12 concurrent workers.\n"
     ]
    },
    {
     "name": "stderr",
     "output_type": "stream",
     "text": [
      "[Parallel(n_jobs=-1)]: Done   5 out of  10 | elapsed:    0.1s remaining:    0.1s\n",
      "[Parallel(n_jobs=-1)]: Done  10 out of  10 | elapsed:    0.1s finished\n",
      "\n",
      "[2021-08-25 18:52:14] Features: 9/3 -- score: 0.922[Parallel(n_jobs=-1)]: Using backend LokyBackend with 12 concurrent workers.\n",
      "[Parallel(n_jobs=-1)]: Done   6 out of   9 | elapsed:    0.1s remaining:    0.0s\n",
      "[Parallel(n_jobs=-1)]: Done   9 out of   9 | elapsed:    0.1s finished\n",
      "\n",
      "[2021-08-25 18:52:14] Features: 8/3 -- score: 0.9179999999999999[Parallel(n_jobs=-1)]: Using backend LokyBackend with 12 concurrent workers.\n",
      "[Parallel(n_jobs=-1)]: Done   5 out of   8 | elapsed:    0.1s remaining:    0.0s\n",
      "[Parallel(n_jobs=-1)]: Done   8 out of   8 | elapsed:    0.1s finished\n",
      "\n",
      "[2021-08-25 18:52:14] Features: 7/3 -- score: 0.914[Parallel(n_jobs=-1)]: Using backend LokyBackend with 12 concurrent workers.\n"
     ]
    },
    {
     "name": "stderr",
     "output_type": "stream",
     "text": [
      "[Parallel(n_jobs=-1)]: Done   4 out of   7 | elapsed:    0.0s remaining:    0.0s\n",
      "[Parallel(n_jobs=-1)]: Done   7 out of   7 | elapsed:    0.1s finished\n",
      "\n",
      "[2021-08-25 18:52:14] Features: 6/3 -- score: 0.9120000000000001[Parallel(n_jobs=-1)]: Using backend LokyBackend with 12 concurrent workers.\n",
      "[Parallel(n_jobs=-1)]: Done   3 out of   6 | elapsed:    0.0s remaining:    0.0s\n",
      "[Parallel(n_jobs=-1)]: Done   6 out of   6 | elapsed:    0.0s finished\n",
      "\n",
      "[2021-08-25 18:52:14] Features: 5/3 -- score: 0.9120000000000001[Parallel(n_jobs=-1)]: Using backend LokyBackend with 12 concurrent workers.\n",
      "[Parallel(n_jobs=-1)]: Done   3 out of   5 | elapsed:    0.0s remaining:    0.0s\n",
      "[Parallel(n_jobs=-1)]: Done   5 out of   5 | elapsed:    0.0s finished\n",
      "\n",
      "[2021-08-25 18:52:14] Features: 4/3 -- score: 0.914[Parallel(n_jobs=-1)]: Using backend LokyBackend with 12 concurrent workers.\n",
      "[Parallel(n_jobs=-1)]: Done   2 out of   4 | elapsed:    0.0s remaining:    0.0s\n",
      "[Parallel(n_jobs=-1)]: Done   4 out of   4 | elapsed:    0.0s finished\n",
      "\n",
      "[2021-08-25 18:52:14] Features: 3/3 -- score: 0.9120000000000001"
     ]
    },
    {
     "data": {
      "text/plain": [
       "SequentialFeatureSelector(estimator=LogisticRegression(random_state=1),\n",
       "                          forward=False, k_features=3, n_jobs=-1,\n",
       "                          scoring='accuracy', verbose=2)"
      ]
     },
     "execution_count": 36,
     "metadata": {},
     "output_type": "execute_result"
    }
   ],
   "source": [
    "from mlxtend.feature_selection import SequentialFeatureSelector\n",
    "\n",
    "selector = SequentialFeatureSelector(logit, scoring = 'accuracy', \n",
    "                                     verbose = 2, \n",
    "                                     k_features = 3,\n",
    "                                     forward = False,\n",
    "                                     n_jobs = -1)\n",
    "\n",
    "selector.fit(X, y)"
   ]
  },
  {
   "cell_type": "markdown",
   "id": "lovely-submission",
   "metadata": {
    "id": "MyTNLolmjzBm"
   },
   "source": [
    "Ta có thể thấy mô hình xuất phát từ 50 biến ban đầu và sau mỗi một quá trình sẽ loại dần các biến cho đến khi số lượng biến tối thiểu đạt được là 3 được khai báo trong hàm _SequentialFeatureSelector_. Sau mỗi quá trình mức độ accuracy sẽ tăng dần."
   ]
  },
  {
   "cell_type": "markdown",
   "id": "intense-neighborhood",
   "metadata": {
    "id": "ijgXjKN0j8p-"
   },
   "source": [
    "# 11.5. Tổng kết\n",
    "\n",
    "Như vậy sau bài này các bạn đã nhận ra được _Feature Engineering_ quan trọng như thế nào trong việc tạo ra một mô hình dự báo có sức mạnh. Tổng hợp lại các phương pháp feature engineering:\n",
    "\n",
    "1. Trích lọc đặc trưng: Ứng dụng trong deep learning như xử lý ảnh và xử lý ngôn ngữ tự nhiên, phân rã thời gian, làm việc với dữ liệu địa lý, dữ liệu người dùng tracking từ các hệ thống web, app.\n",
    "2. Biến đổi đặc trưng: Minmax scaling, Unit length scaling, Standardization, Robust Scaling.\n",
    "3. Lựa chọn đặc trưng: Sử dụng phương pháp thống kê, mô hình hoặc grid search.\n",
    "\n",
    "Câu hỏi đặt ra:\n",
    "\n",
    "> Bên cạnh những thuật toán, modeler có cần kiến thức về lĩnh vực chuyên ngành (_knowledge domain_) không?\n",
    "\n",
    "Để xây dựng một mô hình tốt không chỉ cần có kiến thức về mô hình mà các hiểu biết về lĩnh vực chuyên ngành cũng rất quan trọng. Khi hiểu rõ về lĩnh vực, modeler sẽ nắm rõ bản chất mối quan hệ của các biến không chỉ qua các con số mà còn trên các khía cạnh business thực tiễn. Đó cũng là lý do trong một dự án phân tích dữ liệu luôn cần sự tư vấn từ BA và các chuyên gia trong ngành để giúp modeler hiểu sâu hơn các qui luật tiềm ẩn bên trong dữ liệu đang hoạt động thế nào.\n",
    "\n",
    "> Trong mọi mô hình có nên thực hiện Feature Engineering?\n",
    "\n",
    "Hầu hết các mô hình hiện đại đều thực hiện _Feature Engineering_ trước khi huấn luyện mô hình bởi sau khi thực hiện _Feature Engineering_ chúng ta sẽ có cơ hội tạo ra một mô hình mạnh hơn. Cần so sánh nhiều mô hình khác nhau để lựa chọn ra đâu là mô hình phù hợp nhất, trong một số trường hợp có thể sử dụng kết hợp các mô hình.\n",
    "\n",
    "> Ý tưởng về _Feature Engineering_ rất nhiều? Làm thế nào để tìm ra một _Feature Engineering_ tối ưu?\n",
    "\n",
    "Không có câu trả lời cụ thể cho một phương pháp _Feature Engineering_ nào là tối ưu. Chỉ có quá trình thử và sai để rút ra được phương pháp _Feature Engineering_ nào sẽ phù hợp với bài toán cụ thể nào."
   ]
  },
  {
   "cell_type": "markdown",
   "id": "affecting-saint",
   "metadata": {
    "id": "wgnv51Y7kBp3"
   },
   "source": [
    "# 11.6. Tài liệu tham khảo\n",
    "\n",
    "1. [Giới thiệu về feature engineering - mlcourse.ai](https://mlcourse.ai/notebooks/blob/master/jupyter_english/topic06_features_regression/topic6_feature_engineering_feature_selection.ipynb?flush_cache=true)\n",
    "\n",
    "2. [feature engineering - blog machinelearningcoban - Vu Huu Tiep](https://machinelearningcoban.com/general/2017/02/06/featureengineering/)\n",
    "\n",
    "3. [tfidf - Information retrieval - wiki](https://en.wikipedia.org/wiki/Tf%E2%80%93idf)\n",
    "\n",
    "4. [package pytessaract - ứng dụng trong OCR - blog pyimagesearch](https://www.pyimagesearch.com/2017/07/10/using-tesseract-ocr-python/)\n",
    "\n",
    "5. [extract time in python - blog hamelg](http://hamelg.blogspot.com/2015/11/python-for-data-analysis-part-17.html)\n",
    "\n",
    "6. [feature scaling - rpub phamdinhkhanh](http://rpubs.com/phamdinhkhanh/398690)\n",
    "\n",
    "7. [feature scaling - arsenyinfo](https://www.kaggle.com/arsenyinfo/easy-feature-selection-pipeline-0-55-at-lb)\n",
    "\n",
    "8. [Type of feature transformation and scaling - analyticsvidhya](https://www.analyticsvidhya.com/blog/2020/07/types-of-feature-transformation-and-scaling/)\n",
    "\n",
    "9. [Probabilistic model selection measures](https://machinelearningmastery.com/probabilistic-model-selection-measures/)\n",
    "\n",
    "10. [Sklearn Preprocessing](https://scikit-learn.org/stable/modules/preprocessing.html)"
   ]
  }
 ],
 "metadata": {
  "jupytext": {
   "text_representation": {
    "extension": ".md",
    "format_name": "myst",
    "format_version": 0.12,
    "jupytext_version": "1.8.2"
   }
  },
  "kernelspec": {
   "display_name": "Python 3",
   "name": "python3"
  },
  "language_info": {
   "codemirror_mode": {
    "name": "ipython",
    "version": 3
   },
   "file_extension": ".py",
   "mimetype": "text/x-python",
   "name": "python",
   "nbconvert_exporter": "python",
   "pygments_lexer": "ipython3",
   "version": "3.6.13"
  },
  "source_map": [
   11,
   23,
   35,
   48,
   52,
   60,
   68,
   76,
   91,
   98,
   134,
   138,
   157,
   165,
   178,
   182,
   191,
   205,
   209,
   220,
   224,
   248,
   273,
   279,
   296,
   311,
   329,
   363,
   375,
   422,
   446,
   468,
   475,
   497,
   535,
   559,
   565,
   579,
   583,
   594,
   611,
   619,
   630,
   657,
   661,
   677,
   688,
   700,
   713,
   717,
   724,
   732,
   753,
   757,
   768,
   772,
   783,
   787,
   793,
   804,
   826,
   846,
   872,
   908,
   912,
   921,
   933,
   951,
   955,
   990,
   994,
   1004,
   1037,
   1041,
   1077,
   1145,
   1149,
   1164,
   1172,
   1196,
   1200,
   1216,
   1220,
   1243,
   1248,
   1255,
   1296,
   1300,
   1306,
   1310,
   1314,
   1325,
   1343,
   1347,
   1371
  ]
 },
 "nbformat": 4,
 "nbformat_minor": 5
}