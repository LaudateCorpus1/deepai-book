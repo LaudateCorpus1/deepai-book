{
 "cells": [
  {
   "cell_type": "markdown",
   "id": "perfect-vinyl",
   "metadata": {},
   "source": [
    "# 8.1. Mô hình cây quyết định (_decision tree_)\n",
    "\n",
    "Mô hình _cây quyết định_ là một mô hình được sử dụng khá phổ biến và hiệu quả trong cả hai lớp bài toán phân loại và dự báo của học có giám sát. Khác với những thuật toán khác trong học có giám sát, mô hình _cây quyết định_ không tồn tại phương trình dự báo. Mọi việc chúng ta cần thực hiện đó là tìm ra một cây quyết định dự báo tốt trên tập huấn luyện và sử dụng cây quyết định này dự báo trên tập kiểm tra.\n",
    "\n",
    "Vậy một cây quyết định sẽ được xây dựng như thế nào? Điều gì ẩn chứa sau thuật toán cây quyết định? Để trả lời cho câu hỏi này, chúng ta cùng lấy ví dụ về áp dụng mô hình cây quyết định cho bài toán phân loại giá nhà trên bộ dữ liệu boston."
   ]
  },
  {
   "cell_type": "markdown",
   "id": "planned-scoop",
   "metadata": {
    "id": "gHDalic9pmi9"
   },
   "source": [
    "# 8.2. Bài toán phân loại cây quyết định trên bộ dữ liệu boston"
   ]
  },
  {
   "cell_type": "markdown",
   "id": "understood-nashville",
   "metadata": {
    "id": "zYuJ8hOI8u4m"
   },
   "source": [
    "Bộ dữ liệu được sử dụng cho bài toán này là bộ dữ liệu về giá nhà ở ở boston bao gồm 13 quan sát và 506 biến.\n",
    "\n",
    "Đọc dữ liệu:"
   ]
  },
  {
   "cell_type": "code",
   "execution_count": 1,
   "id": "reflected-dinner",
   "metadata": {
    "colab": {
     "base_uri": "https://localhost:8080/"
    },
    "id": "BDiPwRw88uBb",
    "outputId": "f7b1986a-43cf-403a-cc1c-825e30bbe7e8"
   },
   "outputs": [
    {
     "name": "stdout",
     "output_type": "stream",
     "text": [
      "Input features:  CRIM, ZN, INDUS, CHAS, NOX, RM, AGE, DIS, RAD, TAX, PTRATIO, B, LSTAT\n",
      "(506, 13)\n"
     ]
    }
   ],
   "source": [
    "from sklearn.datasets import load_boston\n",
    "import numpy as np\n",
    "\n",
    "boston = load_boston()\n",
    "X = boston.data\n",
    "y = boston.target\n",
    "y = [1 if price > 20 else 0 for price in y] # 1 nhà giá cao, 0 nhà giá thấp\n",
    "y = np.array(y)\n",
    "\n",
    "print('Input features: ', ', '.join(boston.feature_names))\n",
    "print(X.shape)"
   ]
  },
  {
   "cell_type": "markdown",
   "id": "potential-criminal",
   "metadata": {
    "id": "hGu0WZnO8y24"
   },
   "source": [
    "Ý nghĩa của những trường dữ liệu:\n",
    "\n",
    "Các biến đầu vào:\n",
    "\n",
    "* crim: Tỷ lệ phạm tội phạm bình quân đầu người theo thị trấn.\n",
    "* zn: Tỷ lệ đất ở được quy hoạch cho các lô trên 25.000 foot square.\n",
    "* indus: Tỷ lệ diện tích thuộc lĩnh vực kinh doanh phi bán lẻ trên mỗi thị trấn.\n",
    "* chas: Biến giả, = 1 nếu được bao bởi sông Charles River, = 0 nếu ngược lại.\n",
    "* nox: Nồng độ khí Ni-tơ oxit.\n",
    "* rm: Trung bình số phòng trên một căn hộ.\n",
    "* age: Tỷ lệ căn hộ được xây dựng trước năm 1940.\n",
    "* dis: Khoảng cách trung bình có trọng số tới 5 trung tâm việc làm lớn nhất ở Boston.\n",
    "* rad: Chỉ số về khả năng tiếp cận đường cao tốc.\n",
    "* tax: Giá trị thuế suất tính trên đơn vị 10000$.\n",
    "* ptratio: Tỷ lệ học sinh-giáo viên trên mỗi thị trấn.\n",
    "* black: Tỷ lệ số người da đen trong thị trấn được tính theo công thức: 1000(Bk−0.63)2 ở đây Bk là tỷ lệ người da đen trong thị trấn.\n",
    "* lstat: Tỷ lệ phần trăm dân số thu nhập thấp.\n",
    "\n",
    "Biến mục tiêu: Căn cứ vào giá nhà ở > 20 nghìn USD hoặc nhỏ hơn mà chúng ta phân thành nhãn 1 (giá cao) và nhãn 0 (giá thấp).\n",
    "\n",
    "Tiếp theo ta sẽ xây dựng một mô hình phân loại dự trên cây quyết định với độ sâu tối đa là 3. Độ sâu ở đây chính là số lượng tối đa các câu hỏi khi đi từ _node gốc_ tới _node lá_. Chúng ta khai báo độ sâu thông qua đối số _max_depth_."
   ]
  },
  {
   "cell_type": "code",
   "execution_count": 2,
   "id": "local-jenny",
   "metadata": {
    "colab": {
     "base_uri": "https://localhost:8080/"
    },
    "id": "8HAYDiFYputH",
    "outputId": "7668243d-3fcf-4400-929a-f66e67d918b3"
   },
   "outputs": [
    {
     "data": {
      "text/plain": [
       "DecisionTreeClassifier(max_depth=3)"
      ]
     },
     "execution_count": 2,
     "metadata": {},
     "output_type": "execute_result"
    }
   ],
   "source": [
    "from sklearn.tree import DecisionTreeClassifier\n",
    "tree_clf = DecisionTreeClassifier(max_depth=3)\n",
    "tree_clf.fit(X, y)"
   ]
  },
  {
   "cell_type": "markdown",
   "id": "sustained-substitute",
   "metadata": {
    "id": "qjceCsyb-cFp"
   },
   "source": [
    "Tiếp theo là sử dụng hàm `export_graphviz()` để biểu đồ hoá cây quyết định. Trong hàm này chúng ta chỉ cần truyền vào mô hình, tên các đặc trưng đầu vào thông qua đối số `feature_names` và các nhãn thông qua đối số `class_names`."
   ]
  },
  {
   "cell_type": "code",
   "execution_count": 3,
   "id": "paperback-setting",
   "metadata": {
    "colab": {
     "base_uri": "https://localhost:8080/",
     "height": 598
    },
    "id": "oOglBUYs4Jcr",
    "outputId": "e22774b3-3bb7-4b08-cf75-ab8822f1cc1a"
   },
   "outputs": [
    {
     "data": {
      "image/svg+xml": [
       "<?xml version=\"1.0\" encoding=\"UTF-8\" standalone=\"no\"?>\n",
       "<!DOCTYPE svg PUBLIC \"-//W3C//DTD SVG 1.1//EN\"\n",
       " \"http://www.w3.org/Graphics/SVG/1.1/DTD/svg11.dtd\">\n",
       "<!-- Generated by graphviz version 2.47.3 (20210619.2315)\n",
       " -->\n",
       "<!-- Title: Tree Pages: 1 -->\n",
       "<svg width=\"969pt\" height=\"433pt\"\n",
       " viewBox=\"0.00 0.00 969.00 433.00\" xmlns=\"http://www.w3.org/2000/svg\" xmlns:xlink=\"http://www.w3.org/1999/xlink\">\n",
       "<g id=\"graph0\" class=\"graph\" transform=\"scale(1 1) rotate(0) translate(4 429)\">\n",
       "<title>Tree</title>\n",
       "<polygon fill=\"white\" stroke=\"transparent\" points=\"-4,4 -4,-429 965,-429 965,4 -4,4\"/>\n",
       "<!-- 0 -->\n",
       "<g id=\"node1\" class=\"node\">\n",
       "<title>0</title>\n",
       "<path fill=\"#cbe5f8\" stroke=\"black\" d=\"M537.5,-425C537.5,-425 436.5,-425 436.5,-425 430.5,-425 424.5,-419 424.5,-413 424.5,-413 424.5,-354 424.5,-354 424.5,-348 430.5,-342 436.5,-342 436.5,-342 537.5,-342 537.5,-342 543.5,-342 549.5,-348 549.5,-354 549.5,-354 549.5,-413 549.5,-413 549.5,-419 543.5,-425 537.5,-425\"/>\n",
       "<text text-anchor=\"middle\" x=\"487\" y=\"-409.8\" font-family=\"Helvetica,sans-Serif\" font-size=\"14.00\">LSTAT &lt;= 14.115</text>\n",
       "<text text-anchor=\"middle\" x=\"487\" y=\"-394.8\" font-family=\"Helvetica,sans-Serif\" font-size=\"14.00\">gini = 0.489</text>\n",
       "<text text-anchor=\"middle\" x=\"487\" y=\"-379.8\" font-family=\"Helvetica,sans-Serif\" font-size=\"14.00\">samples = 506</text>\n",
       "<text text-anchor=\"middle\" x=\"487\" y=\"-364.8\" font-family=\"Helvetica,sans-Serif\" font-size=\"14.00\">value = [215, 291]</text>\n",
       "<text text-anchor=\"middle\" x=\"487\" y=\"-349.8\" font-family=\"Helvetica,sans-Serif\" font-size=\"14.00\">class = high</text>\n",
       "</g>\n",
       "<!-- 1 -->\n",
       "<g id=\"node2\" class=\"node\">\n",
       "<title>1</title>\n",
       "<path fill=\"#5fb0ea\" stroke=\"black\" d=\"M413.5,-306C413.5,-306 320.5,-306 320.5,-306 314.5,-306 308.5,-300 308.5,-294 308.5,-294 308.5,-235 308.5,-235 308.5,-229 314.5,-223 320.5,-223 320.5,-223 413.5,-223 413.5,-223 419.5,-223 425.5,-229 425.5,-235 425.5,-235 425.5,-294 425.5,-294 425.5,-300 419.5,-306 413.5,-306\"/>\n",
       "<text text-anchor=\"middle\" x=\"367\" y=\"-290.8\" font-family=\"Helvetica,sans-Serif\" font-size=\"14.00\">RM &lt;= 6.034</text>\n",
       "<text text-anchor=\"middle\" x=\"367\" y=\"-275.8\" font-family=\"Helvetica,sans-Serif\" font-size=\"14.00\">gini = 0.272</text>\n",
       "<text text-anchor=\"middle\" x=\"367\" y=\"-260.8\" font-family=\"Helvetica,sans-Serif\" font-size=\"14.00\">samples = 321</text>\n",
       "<text text-anchor=\"middle\" x=\"367\" y=\"-245.8\" font-family=\"Helvetica,sans-Serif\" font-size=\"14.00\">value = [52, 269]</text>\n",
       "<text text-anchor=\"middle\" x=\"367\" y=\"-230.8\" font-family=\"Helvetica,sans-Serif\" font-size=\"14.00\">class = high</text>\n",
       "</g>\n",
       "<!-- 0&#45;&gt;1 -->\n",
       "<g id=\"edge1\" class=\"edge\">\n",
       "<title>0&#45;&gt;1</title>\n",
       "<path fill=\"none\" stroke=\"black\" d=\"M445.37,-341.91C435.87,-332.65 425.7,-322.73 415.93,-313.21\"/>\n",
       "<polygon fill=\"black\" stroke=\"black\" points=\"418.16,-310.5 408.56,-306.02 413.28,-315.51 418.16,-310.5\"/>\n",
       "<text text-anchor=\"middle\" x=\"408.88\" y=\"-327.32\" font-family=\"Helvetica,sans-Serif\" font-size=\"14.00\">True</text>\n",
       "</g>\n",
       "<!-- 8 -->\n",
       "<g id=\"node9\" class=\"node\">\n",
       "<title>8</title>\n",
       "<path fill=\"#e99254\" stroke=\"black\" d=\"M652.5,-306C652.5,-306 559.5,-306 559.5,-306 553.5,-306 547.5,-300 547.5,-294 547.5,-294 547.5,-235 547.5,-235 547.5,-229 553.5,-223 559.5,-223 559.5,-223 652.5,-223 652.5,-223 658.5,-223 664.5,-229 664.5,-235 664.5,-235 664.5,-294 664.5,-294 664.5,-300 658.5,-306 652.5,-306\"/>\n",
       "<text text-anchor=\"middle\" x=\"606\" y=\"-290.8\" font-family=\"Helvetica,sans-Serif\" font-size=\"14.00\">TAX &lt;= 300.0</text>\n",
       "<text text-anchor=\"middle\" x=\"606\" y=\"-275.8\" font-family=\"Helvetica,sans-Serif\" font-size=\"14.00\">gini = 0.21</text>\n",
       "<text text-anchor=\"middle\" x=\"606\" y=\"-260.8\" font-family=\"Helvetica,sans-Serif\" font-size=\"14.00\">samples = 185</text>\n",
       "<text text-anchor=\"middle\" x=\"606\" y=\"-245.8\" font-family=\"Helvetica,sans-Serif\" font-size=\"14.00\">value = [163, 22]</text>\n",
       "<text text-anchor=\"middle\" x=\"606\" y=\"-230.8\" font-family=\"Helvetica,sans-Serif\" font-size=\"14.00\">class = low</text>\n",
       "</g>\n",
       "<!-- 0&#45;&gt;8 -->\n",
       "<g id=\"edge8\" class=\"edge\">\n",
       "<title>0&#45;&gt;8</title>\n",
       "<path fill=\"none\" stroke=\"black\" d=\"M528.29,-341.91C537.7,-332.65 547.79,-322.73 557.48,-313.21\"/>\n",
       "<polygon fill=\"black\" stroke=\"black\" points=\"560.11,-315.53 564.79,-306.02 555.2,-310.54 560.11,-315.53\"/>\n",
       "<text text-anchor=\"middle\" x=\"564.57\" y=\"-327.32\" font-family=\"Helvetica,sans-Serif\" font-size=\"14.00\">False</text>\n",
       "</g>\n",
       "<!-- 2 -->\n",
       "<g id=\"node3\" class=\"node\">\n",
       "<title>2</title>\n",
       "<path fill=\"#e3f1fb\" stroke=\"black\" d=\"M222,-187C222,-187 136,-187 136,-187 130,-187 124,-181 124,-175 124,-175 124,-116 124,-116 124,-110 130,-104 136,-104 136,-104 222,-104 222,-104 228,-104 234,-110 234,-116 234,-116 234,-175 234,-175 234,-181 228,-187 222,-187\"/>\n",
       "<text text-anchor=\"middle\" x=\"179\" y=\"-171.8\" font-family=\"Helvetica,sans-Serif\" font-size=\"14.00\">DIS &lt;= 4.714</text>\n",
       "<text text-anchor=\"middle\" x=\"179\" y=\"-156.8\" font-family=\"Helvetica,sans-Serif\" font-size=\"14.00\">gini = 0.497</text>\n",
       "<text text-anchor=\"middle\" x=\"179\" y=\"-141.8\" font-family=\"Helvetica,sans-Serif\" font-size=\"14.00\">samples = 78</text>\n",
       "<text text-anchor=\"middle\" x=\"179\" y=\"-126.8\" font-family=\"Helvetica,sans-Serif\" font-size=\"14.00\">value = [36, 42]</text>\n",
       "<text text-anchor=\"middle\" x=\"179\" y=\"-111.8\" font-family=\"Helvetica,sans-Serif\" font-size=\"14.00\">class = high</text>\n",
       "</g>\n",
       "<!-- 1&#45;&gt;2 -->\n",
       "<g id=\"edge2\" class=\"edge\">\n",
       "<title>1&#45;&gt;2</title>\n",
       "<path fill=\"none\" stroke=\"black\" d=\"M308.29,-226.96C287.46,-214 263.92,-199.35 242.69,-186.14\"/>\n",
       "<polygon fill=\"black\" stroke=\"black\" points=\"244.4,-183.08 234.06,-180.77 240.7,-189.02 244.4,-183.08\"/>\n",
       "</g>\n",
       "<!-- 5 -->\n",
       "<g id=\"node6\" class=\"node\">\n",
       "<title>5</title>\n",
       "<path fill=\"#47a4e7\" stroke=\"black\" d=\"M416.5,-187C416.5,-187 317.5,-187 317.5,-187 311.5,-187 305.5,-181 305.5,-175 305.5,-175 305.5,-116 305.5,-116 305.5,-110 311.5,-104 317.5,-104 317.5,-104 416.5,-104 416.5,-104 422.5,-104 428.5,-110 428.5,-116 428.5,-116 428.5,-175 428.5,-175 428.5,-181 422.5,-187 416.5,-187\"/>\n",
       "<text text-anchor=\"middle\" x=\"367\" y=\"-171.8\" font-family=\"Helvetica,sans-Serif\" font-size=\"14.00\">LSTAT &lt;= 11.815</text>\n",
       "<text text-anchor=\"middle\" x=\"367\" y=\"-156.8\" font-family=\"Helvetica,sans-Serif\" font-size=\"14.00\">gini = 0.123</text>\n",
       "<text text-anchor=\"middle\" x=\"367\" y=\"-141.8\" font-family=\"Helvetica,sans-Serif\" font-size=\"14.00\">samples = 243</text>\n",
       "<text text-anchor=\"middle\" x=\"367\" y=\"-126.8\" font-family=\"Helvetica,sans-Serif\" font-size=\"14.00\">value = [16, 227]</text>\n",
       "<text text-anchor=\"middle\" x=\"367\" y=\"-111.8\" font-family=\"Helvetica,sans-Serif\" font-size=\"14.00\">class = high</text>\n",
       "</g>\n",
       "<!-- 1&#45;&gt;5 -->\n",
       "<g id=\"edge5\" class=\"edge\">\n",
       "<title>1&#45;&gt;5</title>\n",
       "<path fill=\"none\" stroke=\"black\" d=\"M367,-222.91C367,-214.65 367,-205.86 367,-197.3\"/>\n",
       "<polygon fill=\"black\" stroke=\"black\" points=\"370.5,-197.02 367,-187.02 363.5,-197.02 370.5,-197.02\"/>\n",
       "</g>\n",
       "<!-- 3 -->\n",
       "<g id=\"node4\" class=\"node\">\n",
       "<title>3</title>\n",
       "<path fill=\"#96cbf1\" stroke=\"black\" d=\"M98,-68C98,-68 12,-68 12,-68 6,-68 0,-62 0,-56 0,-56 0,-12 0,-12 0,-6 6,0 12,0 12,0 98,0 98,0 104,0 110,-6 110,-12 110,-12 110,-56 110,-56 110,-62 104,-68 98,-68\"/>\n",
       "<text text-anchor=\"middle\" x=\"55\" y=\"-52.8\" font-family=\"Helvetica,sans-Serif\" font-size=\"14.00\">gini = 0.435</text>\n",
       "<text text-anchor=\"middle\" x=\"55\" y=\"-37.8\" font-family=\"Helvetica,sans-Serif\" font-size=\"14.00\">samples = 50</text>\n",
       "<text text-anchor=\"middle\" x=\"55\" y=\"-22.8\" font-family=\"Helvetica,sans-Serif\" font-size=\"14.00\">value = [16, 34]</text>\n",
       "<text text-anchor=\"middle\" x=\"55\" y=\"-7.8\" font-family=\"Helvetica,sans-Serif\" font-size=\"14.00\">class = high</text>\n",
       "</g>\n",
       "<!-- 2&#45;&gt;3 -->\n",
       "<g id=\"edge3\" class=\"edge\">\n",
       "<title>2&#45;&gt;3</title>\n",
       "<path fill=\"none\" stroke=\"black\" d=\"M132.83,-103.73C122.19,-94.33 110.88,-84.35 100.28,-74.99\"/>\n",
       "<polygon fill=\"black\" stroke=\"black\" points=\"102.52,-72.3 92.71,-68.3 97.89,-77.54 102.52,-72.3\"/>\n",
       "</g>\n",
       "<!-- 4 -->\n",
       "<g id=\"node5\" class=\"node\">\n",
       "<title>4</title>\n",
       "<path fill=\"#efb388\" stroke=\"black\" d=\"M218,-68C218,-68 140,-68 140,-68 134,-68 128,-62 128,-56 128,-56 128,-12 128,-12 128,-6 134,0 140,0 140,0 218,0 218,0 224,0 230,-6 230,-12 230,-12 230,-56 230,-56 230,-62 224,-68 218,-68\"/>\n",
       "<text text-anchor=\"middle\" x=\"179\" y=\"-52.8\" font-family=\"Helvetica,sans-Serif\" font-size=\"14.00\">gini = 0.408</text>\n",
       "<text text-anchor=\"middle\" x=\"179\" y=\"-37.8\" font-family=\"Helvetica,sans-Serif\" font-size=\"14.00\">samples = 28</text>\n",
       "<text text-anchor=\"middle\" x=\"179\" y=\"-22.8\" font-family=\"Helvetica,sans-Serif\" font-size=\"14.00\">value = [20, 8]</text>\n",
       "<text text-anchor=\"middle\" x=\"179\" y=\"-7.8\" font-family=\"Helvetica,sans-Serif\" font-size=\"14.00\">class = low</text>\n",
       "</g>\n",
       "<!-- 2&#45;&gt;4 -->\n",
       "<g id=\"edge4\" class=\"edge\">\n",
       "<title>2&#45;&gt;4</title>\n",
       "<path fill=\"none\" stroke=\"black\" d=\"M179,-103.73C179,-95.52 179,-86.86 179,-78.56\"/>\n",
       "<polygon fill=\"black\" stroke=\"black\" points=\"182.5,-78.3 179,-68.3 175.5,-78.3 182.5,-78.3\"/>\n",
       "</g>\n",
       "<!-- 6 -->\n",
       "<g id=\"node7\" class=\"node\">\n",
       "<title>6</title>\n",
       "<path fill=\"#3e9fe6\" stroke=\"black\" d=\"M346,-68C346,-68 260,-68 260,-68 254,-68 248,-62 248,-56 248,-56 248,-12 248,-12 248,-6 254,0 260,0 260,0 346,0 346,0 352,0 358,-6 358,-12 358,-12 358,-56 358,-56 358,-62 352,-68 346,-68\"/>\n",
       "<text text-anchor=\"middle\" x=\"303\" y=\"-52.8\" font-family=\"Helvetica,sans-Serif\" font-size=\"14.00\">gini = 0.045</text>\n",
       "<text text-anchor=\"middle\" x=\"303\" y=\"-37.8\" font-family=\"Helvetica,sans-Serif\" font-size=\"14.00\">samples = 216</text>\n",
       "<text text-anchor=\"middle\" x=\"303\" y=\"-22.8\" font-family=\"Helvetica,sans-Serif\" font-size=\"14.00\">value = [5, 211]</text>\n",
       "<text text-anchor=\"middle\" x=\"303\" y=\"-7.8\" font-family=\"Helvetica,sans-Serif\" font-size=\"14.00\">class = high</text>\n",
       "</g>\n",
       "<!-- 5&#45;&gt;6 -->\n",
       "<g id=\"edge6\" class=\"edge\">\n",
       "<title>5&#45;&gt;6</title>\n",
       "<path fill=\"none\" stroke=\"black\" d=\"M343.17,-103.73C338.1,-95.06 332.75,-85.9 327.65,-77.18\"/>\n",
       "<polygon fill=\"black\" stroke=\"black\" points=\"330.53,-75.17 322.46,-68.3 324.49,-78.7 330.53,-75.17\"/>\n",
       "</g>\n",
       "<!-- 7 -->\n",
       "<g id=\"node8\" class=\"node\">\n",
       "<title>7</title>\n",
       "<path fill=\"#c1e0f7\" stroke=\"black\" d=\"M474,-68C474,-68 388,-68 388,-68 382,-68 376,-62 376,-56 376,-56 376,-12 376,-12 376,-6 382,0 388,0 388,0 474,0 474,0 480,0 486,-6 486,-12 486,-12 486,-56 486,-56 486,-62 480,-68 474,-68\"/>\n",
       "<text text-anchor=\"middle\" x=\"431\" y=\"-52.8\" font-family=\"Helvetica,sans-Serif\" font-size=\"14.00\">gini = 0.483</text>\n",
       "<text text-anchor=\"middle\" x=\"431\" y=\"-37.8\" font-family=\"Helvetica,sans-Serif\" font-size=\"14.00\">samples = 27</text>\n",
       "<text text-anchor=\"middle\" x=\"431\" y=\"-22.8\" font-family=\"Helvetica,sans-Serif\" font-size=\"14.00\">value = [11, 16]</text>\n",
       "<text text-anchor=\"middle\" x=\"431\" y=\"-7.8\" font-family=\"Helvetica,sans-Serif\" font-size=\"14.00\">class = high</text>\n",
       "</g>\n",
       "<!-- 5&#45;&gt;7 -->\n",
       "<g id=\"edge7\" class=\"edge\">\n",
       "<title>5&#45;&gt;7</title>\n",
       "<path fill=\"none\" stroke=\"black\" d=\"M390.83,-103.73C395.9,-95.06 401.25,-85.9 406.35,-77.18\"/>\n",
       "<polygon fill=\"black\" stroke=\"black\" points=\"409.51,-78.7 411.54,-68.3 403.47,-75.17 409.51,-78.7\"/>\n",
       "</g>\n",
       "<!-- 9 -->\n",
       "<g id=\"node10\" class=\"node\">\n",
       "<title>9</title>\n",
       "<path fill=\"#d1e8f9\" stroke=\"black\" d=\"M649,-187C649,-187 563,-187 563,-187 557,-187 551,-181 551,-175 551,-175 551,-116 551,-116 551,-110 557,-104 563,-104 563,-104 649,-104 649,-104 655,-104 661,-110 661,-116 661,-116 661,-175 661,-175 661,-181 655,-187 649,-187\"/>\n",
       "<text text-anchor=\"middle\" x=\"606\" y=\"-171.8\" font-family=\"Helvetica,sans-Serif\" font-size=\"14.00\">AGE &lt;= 94.55</text>\n",
       "<text text-anchor=\"middle\" x=\"606\" y=\"-156.8\" font-family=\"Helvetica,sans-Serif\" font-size=\"14.00\">gini = 0.491</text>\n",
       "<text text-anchor=\"middle\" x=\"606\" y=\"-141.8\" font-family=\"Helvetica,sans-Serif\" font-size=\"14.00\">samples = 23</text>\n",
       "<text text-anchor=\"middle\" x=\"606\" y=\"-126.8\" font-family=\"Helvetica,sans-Serif\" font-size=\"14.00\">value = [10, 13]</text>\n",
       "<text text-anchor=\"middle\" x=\"606\" y=\"-111.8\" font-family=\"Helvetica,sans-Serif\" font-size=\"14.00\">class = high</text>\n",
       "</g>\n",
       "<!-- 8&#45;&gt;9 -->\n",
       "<g id=\"edge9\" class=\"edge\">\n",
       "<title>8&#45;&gt;9</title>\n",
       "<path fill=\"none\" stroke=\"black\" d=\"M606,-222.91C606,-214.65 606,-205.86 606,-197.3\"/>\n",
       "<polygon fill=\"black\" stroke=\"black\" points=\"609.5,-197.02 606,-187.02 602.5,-197.02 609.5,-197.02\"/>\n",
       "</g>\n",
       "<!-- 12 -->\n",
       "<g id=\"node13\" class=\"node\">\n",
       "<title>12</title>\n",
       "<path fill=\"#e78845\" stroke=\"black\" d=\"M828,-187C828,-187 742,-187 742,-187 736,-187 730,-181 730,-175 730,-175 730,-116 730,-116 730,-110 736,-104 742,-104 742,-104 828,-104 828,-104 834,-104 840,-110 840,-116 840,-116 840,-175 840,-175 840,-181 834,-187 828,-187\"/>\n",
       "<text text-anchor=\"middle\" x=\"785\" y=\"-171.8\" font-family=\"Helvetica,sans-Serif\" font-size=\"14.00\">AGE &lt;= 43.3</text>\n",
       "<text text-anchor=\"middle\" x=\"785\" y=\"-156.8\" font-family=\"Helvetica,sans-Serif\" font-size=\"14.00\">gini = 0.105</text>\n",
       "<text text-anchor=\"middle\" x=\"785\" y=\"-141.8\" font-family=\"Helvetica,sans-Serif\" font-size=\"14.00\">samples = 162</text>\n",
       "<text text-anchor=\"middle\" x=\"785\" y=\"-126.8\" font-family=\"Helvetica,sans-Serif\" font-size=\"14.00\">value = [153, 9]</text>\n",
       "<text text-anchor=\"middle\" x=\"785\" y=\"-111.8\" font-family=\"Helvetica,sans-Serif\" font-size=\"14.00\">class = low</text>\n",
       "</g>\n",
       "<!-- 8&#45;&gt;12 -->\n",
       "<g id=\"edge12\" class=\"edge\">\n",
       "<title>8&#45;&gt;12</title>\n",
       "<path fill=\"none\" stroke=\"black\" d=\"M664.61,-225.19C682.83,-213.28 702.99,-200.11 721.52,-188\"/>\n",
       "<polygon fill=\"black\" stroke=\"black\" points=\"723.45,-190.91 729.9,-182.51 719.62,-185.06 723.45,-190.91\"/>\n",
       "</g>\n",
       "<!-- 10 -->\n",
       "<g id=\"node11\" class=\"node\">\n",
       "<title>10</title>\n",
       "<path fill=\"#85c3ef\" stroke=\"black\" d=\"M594,-68C594,-68 516,-68 516,-68 510,-68 504,-62 504,-56 504,-56 504,-12 504,-12 504,-6 510,0 516,0 516,0 594,0 594,0 600,0 606,-6 606,-12 606,-12 606,-56 606,-56 606,-62 600,-68 594,-68\"/>\n",
       "<text text-anchor=\"middle\" x=\"555\" y=\"-52.8\" font-family=\"Helvetica,sans-Serif\" font-size=\"14.00\">gini = 0.401</text>\n",
       "<text text-anchor=\"middle\" x=\"555\" y=\"-37.8\" font-family=\"Helvetica,sans-Serif\" font-size=\"14.00\">samples = 18</text>\n",
       "<text text-anchor=\"middle\" x=\"555\" y=\"-22.8\" font-family=\"Helvetica,sans-Serif\" font-size=\"14.00\">value = [5, 13]</text>\n",
       "<text text-anchor=\"middle\" x=\"555\" y=\"-7.8\" font-family=\"Helvetica,sans-Serif\" font-size=\"14.00\">class = high</text>\n",
       "</g>\n",
       "<!-- 9&#45;&gt;10 -->\n",
       "<g id=\"edge10\" class=\"edge\">\n",
       "<title>9&#45;&gt;10</title>\n",
       "<path fill=\"none\" stroke=\"black\" d=\"M587.01,-103.73C583.02,-95.15 578.79,-86.09 574.77,-77.46\"/>\n",
       "<polygon fill=\"black\" stroke=\"black\" points=\"577.9,-75.89 570.51,-68.3 571.56,-78.84 577.9,-75.89\"/>\n",
       "</g>\n",
       "<!-- 11 -->\n",
       "<g id=\"node12\" class=\"node\">\n",
       "<title>11</title>\n",
       "<path fill=\"#e58139\" stroke=\"black\" d=\"M707.5,-68C707.5,-68 636.5,-68 636.5,-68 630.5,-68 624.5,-62 624.5,-56 624.5,-56 624.5,-12 624.5,-12 624.5,-6 630.5,0 636.5,0 636.5,0 707.5,0 707.5,0 713.5,0 719.5,-6 719.5,-12 719.5,-12 719.5,-56 719.5,-56 719.5,-62 713.5,-68 707.5,-68\"/>\n",
       "<text text-anchor=\"middle\" x=\"672\" y=\"-52.8\" font-family=\"Helvetica,sans-Serif\" font-size=\"14.00\">gini = 0.0</text>\n",
       "<text text-anchor=\"middle\" x=\"672\" y=\"-37.8\" font-family=\"Helvetica,sans-Serif\" font-size=\"14.00\">samples = 5</text>\n",
       "<text text-anchor=\"middle\" x=\"672\" y=\"-22.8\" font-family=\"Helvetica,sans-Serif\" font-size=\"14.00\">value = [5, 0]</text>\n",
       "<text text-anchor=\"middle\" x=\"672\" y=\"-7.8\" font-family=\"Helvetica,sans-Serif\" font-size=\"14.00\">class = low</text>\n",
       "</g>\n",
       "<!-- 9&#45;&gt;11 -->\n",
       "<g id=\"edge11\" class=\"edge\">\n",
       "<title>9&#45;&gt;11</title>\n",
       "<path fill=\"none\" stroke=\"black\" d=\"M630.58,-103.73C635.85,-94.97 641.44,-85.7 646.74,-76.91\"/>\n",
       "<polygon fill=\"black\" stroke=\"black\" points=\"649.76,-78.67 651.93,-68.3 643.77,-75.06 649.76,-78.67\"/>\n",
       "</g>\n",
       "<!-- 13 -->\n",
       "<g id=\"node14\" class=\"node\">\n",
       "<title>13</title>\n",
       "<path fill=\"#399de5\" stroke=\"black\" d=\"M820.5,-68C820.5,-68 749.5,-68 749.5,-68 743.5,-68 737.5,-62 737.5,-56 737.5,-56 737.5,-12 737.5,-12 737.5,-6 743.5,0 749.5,0 749.5,0 820.5,0 820.5,0 826.5,0 832.5,-6 832.5,-12 832.5,-12 832.5,-56 832.5,-56 832.5,-62 826.5,-68 820.5,-68\"/>\n",
       "<text text-anchor=\"middle\" x=\"785\" y=\"-52.8\" font-family=\"Helvetica,sans-Serif\" font-size=\"14.00\">gini = 0.0</text>\n",
       "<text text-anchor=\"middle\" x=\"785\" y=\"-37.8\" font-family=\"Helvetica,sans-Serif\" font-size=\"14.00\">samples = 2</text>\n",
       "<text text-anchor=\"middle\" x=\"785\" y=\"-22.8\" font-family=\"Helvetica,sans-Serif\" font-size=\"14.00\">value = [0, 2]</text>\n",
       "<text text-anchor=\"middle\" x=\"785\" y=\"-7.8\" font-family=\"Helvetica,sans-Serif\" font-size=\"14.00\">class = high</text>\n",
       "</g>\n",
       "<!-- 12&#45;&gt;13 -->\n",
       "<g id=\"edge13\" class=\"edge\">\n",
       "<title>12&#45;&gt;13</title>\n",
       "<path fill=\"none\" stroke=\"black\" d=\"M785,-103.73C785,-95.52 785,-86.86 785,-78.56\"/>\n",
       "<polygon fill=\"black\" stroke=\"black\" points=\"788.5,-78.3 785,-68.3 781.5,-78.3 788.5,-78.3\"/>\n",
       "</g>\n",
       "<!-- 14 -->\n",
       "<g id=\"node15\" class=\"node\">\n",
       "<title>14</title>\n",
       "<path fill=\"#e68742\" stroke=\"black\" d=\"M949,-68C949,-68 863,-68 863,-68 857,-68 851,-62 851,-56 851,-56 851,-12 851,-12 851,-6 857,0 863,0 863,0 949,0 949,0 955,0 961,-6 961,-12 961,-12 961,-56 961,-56 961,-62 955,-68 949,-68\"/>\n",
       "<text text-anchor=\"middle\" x=\"906\" y=\"-52.8\" font-family=\"Helvetica,sans-Serif\" font-size=\"14.00\">gini = 0.084</text>\n",
       "<text text-anchor=\"middle\" x=\"906\" y=\"-37.8\" font-family=\"Helvetica,sans-Serif\" font-size=\"14.00\">samples = 160</text>\n",
       "<text text-anchor=\"middle\" x=\"906\" y=\"-22.8\" font-family=\"Helvetica,sans-Serif\" font-size=\"14.00\">value = [153, 7]</text>\n",
       "<text text-anchor=\"middle\" x=\"906\" y=\"-7.8\" font-family=\"Helvetica,sans-Serif\" font-size=\"14.00\">class = low</text>\n",
       "</g>\n",
       "<!-- 12&#45;&gt;14 -->\n",
       "<g id=\"edge14\" class=\"edge\">\n",
       "<title>12&#45;&gt;14</title>\n",
       "<path fill=\"none\" stroke=\"black\" d=\"M830.06,-103.73C840.34,-94.42 851.25,-84.54 861.51,-75.26\"/>\n",
       "<polygon fill=\"black\" stroke=\"black\" points=\"864.14,-77.6 869.2,-68.3 859.44,-72.41 864.14,-77.6\"/>\n",
       "</g>\n",
       "</g>\n",
       "</svg>\n"
      ],
      "text/plain": [
       "<graphviz.files.Source at 0x7f3f6ada2eb8>"
      ]
     },
     "execution_count": 3,
     "metadata": {
      "filenames": {
       "image/svg+xml": "/home/dell/Downloads/deepai-book/book/_build/jupyter_execute/ch_ml/DecisionTree_7_0.svg"
      }
     },
     "output_type": "execute_result"
    }
   ],
   "source": [
    "import graphviz\n",
    "from sklearn import tree\n",
    "\n",
    "dot_data = tree.export_graphviz(tree_clf, out_file=None, \n",
    "                                feature_names=boston.feature_names,  \n",
    "                                class_names=['low', 'high'],\n",
    "                                rounded=True,\n",
    "                                filled=True)\n",
    "\n",
    "graph = graphviz.Source(dot_data, format=\"png\")\n",
    "graph"
   ]
  },
  {
   "cell_type": "markdown",
   "id": "atomic-sullivan",
   "metadata": {
    "id": "OIraNmRVB2aU"
   },
   "source": [
    "**Cách dự báo từ cây quyết định?**\n",
    "\n",
    "Từ cây quyết định ở trên, dựa trên việc rẽ nhánh, chúng ta suy ra được nhãn dự báo cho các quan sát. Giả sử quan sát đầu vào có giá trị: `LSTAT = 10, RM = 6, DIS = 3`. Khi đó xuất phát từ _node gốc_ ta tuần tự đặt và trả lời các câu hỏi:\n",
    "\n",
    "* LSTAT <= 14.115 là đúng, như vậy tại _node gốc_ ta rẽ sang nhánh True bên trái.\n",
    "* Tiếp theo ta lại xét tiếp câu hỏi RM <= 6.034, kết quả trả về là True. Do đó ta lại rẽ sang nhánh bên trái.\n",
    "* Tiếp theo xét tiếp câu hỏi DIS <= 4.714, kết quả trả về tiếp tục là True. Do đó ta rẽ sang bên trái và thu được kết quả dự báo ở _node lá_ là nhãn high.\n",
    "\n",
    "Để minh chứng cho nhận định trên, ta sẽ thử nghiệm dự báo cho 5 quan sát sao cho giá trị `LSTAT = 10, RM = 6, DIS = 3` là cố định và những giá trị khác thay đổi ngẫu nhiên và kiểm tra kết quả dự báo."
   ]
  },
  {
   "cell_type": "code",
   "execution_count": 4,
   "id": "brave-persian",
   "metadata": {
    "colab": {
     "base_uri": "https://localhost:8080/"
    },
    "id": "QZnRf5SOC56C",
    "outputId": "52ee55fd-2b99-48c3-9331-53cc031ce4de"
   },
   "outputs": [
    {
     "name": "stdout",
     "output_type": "stream",
     "text": [
      "probability low 0.32, high 0.68\n",
      "predicted label 1\n",
      "probability low 0.32, high 0.68\n",
      "predicted label 1\n",
      "probability low 0.32, high 0.68\n",
      "predicted label 1\n",
      "probability low 0.32, high 0.68\n",
      "predicted label 1\n",
      "probability low 0.32, high 0.68\n",
      "predicted label 1\n"
     ]
    }
   ],
   "source": [
    "import pandas as pd\n",
    "\n",
    "# LSTAT = 10, RM = 6, DIS = 3, các giá trị khác có thể thay đổi tuỳ ý\n",
    "\n",
    "for i in range(5):\n",
    "  CRIM = np.random.randint(0, 100)\n",
    "  INDUS = np.random.randint(0, 100)\n",
    "  ZN = np.random.randint(0, 100)\n",
    "  CHAS = np.random.randint(0, 100)\n",
    "  NOX = np.random.randint(0, 100)\n",
    "  AGE = np.random.randint(0, 100)\n",
    "  RAD = np.random.randint(0, 100)\n",
    "  TAX = np.random.randint(0, 100)\n",
    "  PTRATIO = np.random.randint(0, 100)\n",
    "  B = np.random.randint(0, 100)\n",
    "\n",
    "  x = pd.DataFrame({'CRIM':CRIM, 'ZN':ZN, 'INDUS':INDUS, 'CHAS':CHAS, 'NOX':NOX, 'RM':[6], 'AGE':AGE, 'DIS':[3], 'RAD':RAD, 'TAX':TAX, 'PTRATIO':PTRATIO, 'B':B, 'LSTAT':[10]})\n",
    "  y_pred = tree_clf.predict_proba(x)[0]\n",
    "  print('probability low {}, high {}'.format(y_pred[0], y_pred[1]))\n",
    "  print('predicted label {}'.format(tree_clf.predict(x)[0]))"
   ]
  },
  {
   "cell_type": "markdown",
   "id": "visible-caribbean",
   "metadata": {
    "id": "6-Z2pbH72t7H"
   },
   "source": [
    "Chúng ta thấy dù có thay đổi các giá trị khác như thế nào, miễn là 3 giá trị `LSTAT = 10, RM = 6, DIS = 3` thoả mãn thì chúng ta đều thu được dự báo có nhãn là 1. Điều này cho thấy dự báo từ cây nhị phân đã tuân theo qui luật rẽ nhánh in đậm như bên dưới:\n",
    "\n",
    "\n",
    "![](https://imgur.com/V8Gyi63.png)"
   ]
  },
  {
   "cell_type": "markdown",
   "id": "decimal-characterization",
   "metadata": {
    "id": "kTUvPiTP62jj"
   },
   "source": [
    "# 8.3. Đường biên phân chia của cây quyết định\n",
    "\n",
    "Đường biên phân chia của cây quyết định sẽ dựa trên kịch bản rẽ nhánh mà chúng ta lựa chọn. Gỉa định chúng ta đi từ node `(LSTAT <= 14.115) --> (RM <= 6.034) --> (DIS <= 4.714)`. Khi đó đường biên phân chia là những đường thẳng trong hình bên dưới đi qua ngưỡng threshold.\n",
    "\n",
    "![](https://i.imgur.com/8qAE60t.jpeg)\n",
    "\n",
    "* Bước 1: Đường thẳng $x = 14.115$ sẽ phân mặt phẳng thành 2 phần là $x \\leq 14.115$ và $x > 14.115$. Theo phương án rẽ nhánh tại _node gốc_ tương ứng với biến `LSTAT`, chúng ta lựa chọn nửa mặt phẳng $x \\leq 14.115$ nằm bên trái để dự báo nhãn.\n",
    "\n",
    "* Bước 2: Đối với nửa mặt phẳng $x \\leq 14.115$ chúng ta lại xét tiếp trục y tương ứng với biến `RM`. Đường thẳng $y = 6.034$ sẽ tiếp tục chia nửa mặt phẳng này thành hai phần là $y > 6.034$ và $y \\leq 6.034$. Theo kịch bản chúng ta sẽ lựa chọn hình chữ nhật bị giới hạn bởi $x \\geq 14.115$ và $y \\geq 6.034$. Lúc này cây quyết định vẫn chưa kết thúc. Do mô hình có độ sâu là 3 nên chúng ta phải tiếp tục phân chia tiếp theo threshold của biến `DIS`.\n",
    "\n",
    "* Đường thẳng $x = 4.714$ sẽ tiếp tục phân chia hình chữ nhật thu được ở bước 2 thành hai hình chữ nhật con. Ta chỉ lấy hình chữ nhật nằm bên trái. Đó chính là hình chữ nhật bị giới hạn bởi các cạnh in đậm.\n",
    " \n",
    "Chúng ta để ý thấy rằng mọi điểm nằm trong hình chữ nhật có các cạnh in đậm sẽ cùng được dự báo thuộc về nhóm `high` hình tròn như hình vẽ. Các cạnh in đậm của hình chữ nhật chính là đường biên phân chia của cây quyết định. Đối với những điểm nằm ngoài hình chữ nhật này thì có thể lẫn cả nhãn `high` và nhãn `low` và chúng ta cần những kịch bản rẽ nhánh khác để dự báo nhãn cho chúng.\n",
    "\n",
    "Như vậy đường biên phân chia của cây quyết định là khá đơn giản và trực quan. Chúng ta không cần giải bài toán tối ưu như SVM hay Logistic để tìm ra được đường biên phân chia này mà đơn thuần chúng chỉ là một siêu phẳng đi qua một ngưỡng threshold cố định. Những mô hình có đường biên phân chia có thể giải thích được như vậy được gọi là _white box models_. Trái lại, trong machine learning tồn tại những mô hình mà chúng ta không thể giải thích được vì sao mô hình lại đưa ra quyết định như vậy. Chẳng hạn như trong mạng nơ ron, mô hình có thể dễ dàng dự báo một bức ảnh là chó hay mèo nhưng ta không thể nói được vì sao mô hình lại dự báo đó là chó hoặc mèo. Kết quả dự báo căn cứ vào bao nhiêu phần trăm quyết định được đưa ra dựa trên các đặc trưng như lông, đuôi, mắt, mũi, miệng của chúng? Những mô hình như vậy được gọi là _black box models_."
   ]
  },
  {
   "cell_type": "markdown",
   "id": "hearing-sword",
   "metadata": {
    "id": "0rr8arN3nd-_"
   },
   "source": [
    "# 8.4. Cách khởi tạo cây quyết định\n",
    "\n",
    "Để trả lời cho câu hỏi một cây quyết định được tạo ra như thế nào? Chúng ta cần biết được **thứ tự câu hỏi** là gì và **cách đặt câu hỏi** như thế nào? \n",
    "\n",
    "\n",
    "**Thứ tự lựa chọn câu hỏi**\n",
    "\n",
    "Đối với những bộ dữ liệu có số lượng biến đầu vào $d$ lớn, việc lựa chọn biến nào sẽ được đặt ở _node gốc_ là điều không dễ dàng. Một kịch bản lựa chọn ngẫu nhiên chỉ có xác suất đúng là $\\frac{1}{d}$ và dường như khả năng chúng ta chọn sai là rất cao. Do đó chúng ta cần phải có một tiêu chí nào đó để lựa chọn biến phù hợp. Xuất phát từ yêu cầu này, chúng ta hình thành nên các độ đo như _entropy, Gini_ đo lường mức độ tinh khiến (_purity_) và vẩn đục (_impurity_) của một biến mà ta sẽ tìm hiểu bên dưới."
   ]
  },
  {
   "cell_type": "markdown",
   "id": "deluxe-being",
   "metadata": {
    "id": "-KbTlKDFdv42"
   },
   "source": [
    "## 8.4.1. Tinh khiết và vẩn đục\n",
    "\n",
    "Giả định chúng ta đang xây dựng một cây quyết định mà tại một _node quyết định_ chúng ta có 50 quan sát rơi vào chúng. Có ba phương án lựa chọn node lá tiếp theo tương ứng với 3 biến, chúng có kết quả thống kê tại _node lá_ lần lượt là:\n",
    "\n",
    "* Biến 1: 25 nhãn 1, 25 nhãn 0.\n",
    "* Biến 2: 20 nhãn 1, 30 nhãn 0.\n",
    "* Biến 3: 0 nhãn 1, 50 nhãn 0.\n",
    "\n",
    "Theo bạn đâu sẽ là biến phù hợp nhất được lựa chọn tại node lá?\n",
    "\n",
    "Kịch bản lựa chọn biến 1 dường như là vô nghĩa vì nó tương đương với dự báo ngẫu nhiên nhãn 0 và 1.\n",
    "\n",
    "Kịch bản tương ứng với biến 2 có xu hướng dự báo thiên về nhãn 0 nhưng tỷ lệ dự báo sai nhãn 1 vẫn còn cao.\n",
    "\n",
    "Lựa chọn biến 3 là tuyệt vời vì chúng ta đã dự báo đúng hoàn toàn nhãn 0. \n",
    "\n",
    "Như vậy mục tiêu của chúng ta khi đối diện với việc phân loại đó là kết quả trả về tại _node lá_ chỉ thuộc về một lớp. Chúng ta sử dụng một thuật ngữ ngắn gọn để gọi tên trường hợp này là _tinh khiết_ (_purity_). Trái ngược lại với _tinh khiết_ sẽ là khái niệm _vấn đục_ (_impurity_), tức phân phối của các nhãn tại node lá còn khá mập mờ, không có xu hướng thiên về một nhãn nào cụ thể. Nếu ra quyết định phân loại dựa trên kịch bản dẫn tới node lá sẽ trả về kết quả không đáng tin cậy."
   ]
  },
  {
   "cell_type": "markdown",
   "id": "fleet-glass",
   "metadata": {
    "id": "Y4IWg8qdHyuI"
   },
   "source": [
    "## 8.4.2. Thước đo cho mức độ _tinh khiết_ (_purity_)\n",
    "\n",
    "_Entropy_ là một khái niệm khoa học được sử dụng lần đầu tiên trong nhiệt động lực học và sau đó được phổ biến trong các lĩnh vực khác như vật lý, hoá học, y sinh, lý thuyết thông tin,.... Trong nhiệt động lực học thì Entropy là một đặc tính vật lý có thể đo lường được có sự liên kết với trạng thái hỗn loạn (_disorder_) hoặc không chắc chắn (_uncertainty_).\n",
    "\n",
    "Trong thuật toán _cây quyết định_ chúng ta sẽ sử dụng _Entropy_ để đánh giá mức độ _tinh khiết_ của phân phối xác suất của một sự kiện.\n",
    "\n",
    "Giả sử một sự kiện xảy ra với phân phối xác suất là $\\mathbf{p} = (p_1, p_2, \\dots, p_C)$ thoả mãn $\\sum_{i=1}^{C} p_i = 1$. Khi đó hàm _entropy_ đối với sự kiện trên là:\n",
    "\n",
    "$$\\mathbf{H}(\\mathbf{p}) = -\\sum_{i=1}^{C}p_i \\log p_i  \\tag{1}$$\n",
    "\n",
    "Trong trường hợp $p_i = 0$ thì hàm _entropy_ là không xác định do $\\log p_i$ không tồn tại, tuy nhiên căn cứ vào giá trị hội tụ thì chúng ta sẽ qui ước giá trị của _entropy_ trong trường hợp này là 0.\n",
    "\n",
    "Trong lý thuyết thông tin thì hàm $\\log$ ở phương trình $(1)$ là hàm logarith với cơ số 2. Tuy nhiên ở đây chúng ta có thể sử dụng hàm logarith cơ số tự nhiên $e$ mà không thay đổi bản chất do giá trị đạt được tương đương với việc nhân với một hằng số.\n",
    "\n",
    "Khảo sát hàm _entropy_ chúng ta sẽ nhận thấy đây là một hàm không âm có giá trị tối đa đạt được khi phân phối xác suất là đồng đều trên toàn bộ các nhãn. Để đơn giản bên dưới chúng ta vẽ đồ thị và khảo sát hàm _entropy_ đối với bài toán phân loại nhị phân."
   ]
  },
  {
   "cell_type": "code",
   "execution_count": 5,
   "id": "worldwide-trinity",
   "metadata": {
    "colab": {
     "base_uri": "https://localhost:8080/",
     "height": 513
    },
    "id": "p2J0T3sPlqsO",
    "outputId": "017d5e62-5630-4d23-df0e-2c7e2493b160"
   },
   "outputs": [
    {
     "data": {
      "image/png": "[encoded data removed]",
      "text/plain": [
       "<Figure size 864x576 with 1 Axes>"
      ]
     },
     "metadata": {
      "filenames": {
       "image/png": "/home/dell/Downloads/deepai-book/book/_build/jupyter_execute/ch_ml/DecisionTree_15_0.png"
      },
      "needs_background": "light"
     },
     "output_type": "display_data"
    }
   ],
   "source": [
    "import numpy as np\n",
    "import matplotlib.pyplot as plt\n",
    "\n",
    "# Tính entropy theo p\n",
    "def _entropy(p):\n",
    "  return -(p*np.log(p)+(1-p)*np.log((1-p)))\n",
    "\n",
    "# Khởi tạo gía trị yhat từ 0 đến 1\n",
    "p = np.linspace(0.001, 0.999, 200)\n",
    "\n",
    "# Hàm visualize cross entropy\n",
    "def _plot_crs(p):\n",
    "  entropy = _entropy(p)\n",
    "  plt.figure(figsize = (12, 8))\n",
    "  plt.plot(p, entropy)\n",
    "  plt.xlabel('p')\n",
    "  plt.ylabel('entropy')\n",
    "  plt.title('Entropy')\n",
    "  plt.show()\n",
    "\n",
    "_plot_crs(p)"
   ]
  },
  {
   "cell_type": "markdown",
   "id": "blond-champion",
   "metadata": {
    "id": "FB5WusCWFr9E"
   },
   "source": [
    "Giá trị lớn nhất đạt được khi $p_0 = p_1 = \\frac{1}{2}$. Trong khi giá trị nhỏ nhất đạt được khi một trong hai xác suất bằng 1 và xác suất còn lại bằng 0.\n",
    "\n",
    "**Bên dưới là lời giải cho bài toán cực trị entropy cho bạn nào thực sự quan tâm**\n",
    "\n",
    "Ta dễ dàng tìm được cực trị $\\mathbf{H}(\\mathbf{p})$. Thật vậy, vì $1 \\geq p_i \\geq 0$ nên giá trị $\\mathbf{H}(\\mathbf{p}) \\geq 0$ là hiển nhiên. Đẳng thức xảy ra khi tồn tại một giá trị $p_i = 1$ và các giá trị còn lại bằng 0.\n",
    "\n",
    "Để tìm cực đại chúng ta xét hàm $f(x) = -x\\log{x}$. Hàm này có đạo hàm bậc 2 là $f''(x) = \\frac{-1}{x} \\leq 0$ nên là một hàm lõm trên khoảng $(0, 1]$. Áp dụng bất đẳng thức Jensen ta có:\n",
    "\n",
    "$$\n",
    "\\mathbf{H}(\\mathbf{p}) = \\sum_{i=1}^C f(p_1) \\geq  C f(\\frac{\\sum_{i=1}^C p_i}{C}) = Cf(\\frac{1}{C}) = -\\log C\n",
    "$$\n",
    "\n",
    "Đẳng thức xảy ra khi $p_0=p_1= \\dots =p_C=\\frac{1}{C}$.\n",
    "\n",
    "Kết luận giá trị _entropy_ cực tiểu đạt được khi phân phối $\\mathbf{p}$ là tinh khiết nhất, tức phân phối hoàn toàn thuộc về một nhóm. Trái lại, _entropy_ cực đại đạt được khi toàn bộ xác suất thuộc về các nhóm là bằng nhau. Một phân phối có _entropy_ càng cao thì mức độ tinh khiết của phân phối đó sẽ càng thấp và ngược lại."
   ]
  },
  {
   "cell_type": "markdown",
   "id": "congressional-charter",
   "metadata": {
    "id": "CwU_u3KPl3-_"
   },
   "source": [
    "Như vậy về bản chất thì _entropy_ là một thước đo về độ tinh khiết của phân phối xác suất. Dựa trên _entropy_ chúng ta có thể đánh giá tính hiệu quả của câu hỏi ở mỗi node và quyết định xem đâu là câu hỏi hiệu quả hơn (có độ tinh khiết lớn hơn, _entropy_ nhỏ hơn). Tiếp theo chúng ta sẽ cùng tìm hiểu giải thuật tìm kiếm _tham lam_ (_greedy_) theo chiều từ trên xuống để xây dựng nên cây quyết định dựa trên hàm _entropy_."
   ]
  },
  {
   "cell_type": "markdown",
   "id": "maritime-grammar",
   "metadata": {
    "id": "rueZOrFxluqp"
   },
   "source": [
    "## 8.4.3. Tìm kiếm tham lam và truy hồi\n",
    "\n",
    "Giả sử số lượng biến của bạn là $n$ rất lớn. Bạn muốn tạo ra một cây nhị phân với độ sâu tối đa là $d$. Số khả năng lựa chọn $d$ biến (có xét đến tính thứ tự) từ $m$ biến để tạo thành một cây nhị phân là chỉnh hợp $A_n^d = \\frac{d!}{(d-n)!}$. Khi $n$ và $d$ lớn thì đây là một con số rất lớn. Do đó rất khó để chúng ta tìm được đúng cây nhị phân tối ưu ngay chỉ trong một lần. Thay vào đó, một chiến lược hợp lý và khôn ngoan hơn là đi từng bước nhỏ và tìm cách lựa chọn câu hỏi tối ưu ở mỗi node. Chiến lược như vậy được gọi là _tìm kiếm tham lam_.\n",
    "\n",
    "Ngoài ra quá trình lựa chọn này sẽ tiếp diễn một cách truy hồi (_recursive_) theo chiều từ trên xuống dưới cho đến khi đạt ngưỡng về độ sâu hoặc node cuối cùng hoàn toàn thuộc về một nhóm. Ở một số thuật toán, để hạn chế hiện tượng _quá khớp_ chúng ta có thể dừng phân chia nếu chạm ngưỡng số lượng quan sát tối thiểu ở node lá hoặc giới hạn về độ sâu của nhánh (chúng ta sẽ làm rõ hơn điều này ở phần bên dưới).\n",
    "\n",
    "Cách xây dựng cây quyết định theo phương pháp tìm kiếm tham lam và truy hồi dựa trên thuật toán ID3 mà ta sẽ tìm hiểu bên dưới."
   ]
  },
  {
   "cell_type": "markdown",
   "id": "psychological-dynamics",
   "metadata": {
    "id": "uS-xH7m2qPfy"
   },
   "source": [
    "# 8.5. Thuật toán ID3 và CART\n",
    "\n",
    "Thuật toán ID3 (viết tắt của _Iterative Dichotomiser 3_) là một giải thuật khá lâu đời được tạo ra bởi `Ross Quinlan` nhằm xây dựng cây quyết định phù hợp từ một bộ dữ liệu. Đây là giải thuật tiền đề mà dựa trên cơ sở đó, rất nhiều những giải thuật khác liên quan tới cây quyết định được kế thừa và phá triển:\n",
    "\n",
    "* C4.5: Kế thừa của thuật toán ID3. Giải thuật này được sử dụng phổ biến trong machine learning và xử lý ngôn ngữ tự nhiên.\n",
    "* CART: Viết tắt của cụm từ _Classification And Regression Tree_. Ưu điểm của nó là có thể sử dụng cho cả bài toán phân loại và hồi qui.\n",
    "* CHAID: Sử dụng phân phối $\\chi^2$ để tự động tương tác phát hiện phân chia  khi tính toán cây phân loại.\n",
    "* MARS: Áp dụng hồi qui đa biến theo splines. Đây là một phương pháp hồi qui chia để trị, có thể loại bỏ ảnh hưởng của outliers.\n",
    "\n",
    "Trong khuôn khổ bài viết này chúng ta sẽ tìm hiểu về thuật toán CART. Đây là thuật toán được sử dụng phổ biến nhất trong machine learning và có thể được sử dụng trong cả hai bài toán phân loại và hồi qui.\n",
    "\n",
    "## 8.5.1. Trường hợp cây nhị phân với biến liên tục\n",
    "\n",
    "Giả định chúng ta đang đứng ở node lá bất kỳ, các quan sát tại node này là tập $\\mathcal{S}$ có kích thước $|\\mathcal{S}|=N$. Tại node lá này thì mức độ tinh khiết được đánh giá thông qua hàm _entropy_ được tính theo công thức:\n",
    "\n",
    "$$\\mathbf{H}(\\mathcal{S}) = - \\sum_{i=1}^C p_i \\log(p_i)$$\n",
    "\n",
    "Trong đó $p_i$ là tỷ lệ phần trăm các quán sát thuộc về nhãn $i$. Lưu ý nhãn dự báo tại node lá trùng với nhãn mà có tỷ lệ lớn nhất.\n",
    "\n",
    "Trong thuật toán CART, _hàm mất mát_ được định nghĩa là tổng có trọng số của _entropy_ trên toàn bộ các _node lá_. Trọng số ở đây được lấy theo tỷ lệ phần trăm quan sát trên từng _node lá_. Điều đó có nghĩa rằng với những _node lá_ có số lượng quan sát lớn thì ảnh hưởng của nó lên hàm mất mát là lớn hơn so với những _node lá_ có số lượng quan sát nhỏ. Nhận định này là hợp lý vì việc phân loại sai những node lá lớn gây hậu quả nghiêm trọng hơn so với phân loại sai node nhỏ. Để tối thiểu hoá _hàm mất mát_ thì chúng ta phải lựa chọn biến và ngưỡng sao cho tổng giá trị của _hàm mất mát_ là nhỏ nhất.\n",
    "\n",
    "Tại note hiện tại, một câu hỏi đặt ra là liệu tiếp tục phân chia thì có tốt hơn không? Tốt hơn được thể hiện thông qua giá trị entropy phải giảm nhiều nhất. Nếu tốt hơn thì chúng ta phải lựa chọn biến nào tiếp theo? nếu là biến liên tục thì lựa chọn ngưỡng phân chia như thế nào? \n",
    "\n",
    "Lưu ý trong thuật toán ID3 thì chúng ta chỉ áp dụng trên các biến phân loại (_category_). Thuật toán CART cho phép ta tuning threshold để biến đổi biến liên tục sang các đặc trưng (_features_). Chẳng hạn biến được lựa chọn là $x^{(j)}$ có ngưỡng phân chia là $t$ thì hai _đặc trưng_ tương ứng là $x^{(j)} > t$ và $x^{(j)} \\leq t$. Ngưỡng $t$ giúp phân loại tập $\\mathcal{S}$ thành hai tập con tương ứng là:\n",
    "\n",
    "$$\n",
    "\\begin{split}\n",
    "\\left\\{\n",
    "\\begin{matrix}\n",
    "\\mathcal{S}_0 = \\{ \\mathbf{x}_i | x_{i}^{(j)} \\leq t, \\mathbf{x}_i \\in \\mathcal{S} \\} \\\\\n",
    "\\mathcal{S}_1 = \\{ \\mathbf{x}_i | x_{i}^{(j)} > t, \\mathbf{x}_i \\in \\mathcal{S} \\}\\end{matrix}\n",
    "\\right.\\end{split}\n",
    "$$\n",
    "\n",
    "Trong đó $\\mathbf{x}_i \\in \\mathbb{R}^{m}$ là quan sát thứ $i$ của tập $\\mathcal{S}$. Quan sát này bao gồm $m$ chiều tương ứng với số lượng biến đầu vào. $x_{i}^{(j)}$ là quan sát thứ $i$ của biến $x^{(j)}$. Giả sử $N_0 = |\\mathcal{S}_0|$ và $N_1 = |\\mathcal{S}_1|$. Do hai tập con $\\mathcal{S}_1, \\mathcal{S}_0$ là không giao nhau nên $N = N_0 + N_1$.\n",
    "\n",
    "**Làm sao để lựa chọn được ngưỡng t tốt nhất?**\n",
    "\n",
    "Kịch bản phân chia trên giúp tạo thành hai node lá. Mức độ tinh khiết sau phân chia sẽ bằng tổng có trọng số của _entropy_ tại mỗi node lá mới. Giá trị này được gọi là _entropy_ sau phân chia:\n",
    "\n",
    "$$\\mathbf{H}(x^{(j)}, t; \\mathcal{S}) = \\frac{N_0}{N}\\mathbf{H}(\\mathcal{S}_0) + \\frac{N_1}{N} \\mathbf{H}(\\mathcal{S}_1)$$\n",
    "\n",
    "Ngưỡng $t$ sẽ được tuning trong miền xác định của biến $x^{(j)}$ sao cho _entropy_ sau phân chia đạt được là nhỏ nhất. Điều này cũng đồng nghĩa với mức độ tinh khiết thu được tại node lá là tinh khiết nhất. Đối với biến _phân loại_ thì chúng ta không cần phải tuning ngưỡng mà có thể trực tiếp tính ngay _entropy_.\n",
    "\n",
    "Một kịch bản phân chia được coi là mang lại kết quả tối hơn so với không phân chia nếu như kết quả sau phân chia giúp gia tăng độ tinh khiết. Tức là giá trị _entropy_ **trước phân chia** so với **sau phân chia** là giảm và đồng thời chúng ta muốn mức độ giảm này là tối đa để mức độ tinh khiết đạt được cải thiện nhiều nhất. Giá trị _entropy_ giảm chính là lượng thông tin mà ta biết thêm, giúp ích cho việc phân loại, chúng ta định nghĩa chúng dưới dạng một hàm số mới gọi là _hàm tin thu_ (_information gain_):\n",
    "\n",
    "$$\\begin{eqnarray}\\mathbf{G}(x^{(j)}, t; \\mathcal{S}) & = & \\mathbf{H}(\\mathcal{S}) - \\mathbf{H}(x^{(j)}, t; \\mathcal{S}) \\\\\n",
    "& = & \\mathbf{H}(\\mathcal{S}) - \\frac{N_0}{N}\\mathbf{H}(\\mathcal{S}_0) - \\frac{N_1}{N} \\mathbf{H}(\\mathcal{S}_1)\\end{eqnarray}$$\n",
    "\n",
    "Ở mỗi lượt, giải thuật _tìm kiếm tham lam_ sẽ tìm kiếm theo thứ tự _từ trên xuống dưới_ biến $x^{(j)}$ và ngưỡng $t$ tương ứng, sao cho giá trị _hàm tin thu_ đạt cực đại. Tức là $j, t$ là nghiệm của bài toán tối ưu:\n",
    "\n",
    "$$\\hat{j}, \\hat{t}  = \\arg \\max_{j, t} \\mathbf{G}(x^{(j)}, t; \\mathcal{S}) $$\n",
    "\n",
    "Như vậy chiến lược lựa chọn của thuật toán CART tại mỗi bước đó là tìm ra biến và ngưỡng phân chia mà _hàm tin thu_ là lớn nhất. Các sự việc xảy ra trước khi quyết định phân chia tiếp được xem như là sự đã rồi và chúng ta không thay đổi được. Chính vì thế có thể coi _entropy_ trước phân chia $\\mathbf{H}(\\mathcal{S})$ là không đổi. Khi đó giá trị **tối đa** của _hàm tin thu_ đạt được tương đương với giá trị của _entropy_ sau phân chia là **tối thiểu**. Điều này đồng nghĩa với chúng ta có thể lựa chọn câu hỏi để _hàm tin thu_ hoặc _entropy_ sau phân chia là lớn nhất.\n",
    "\n",
    "Giá trị dự báo cho các quan sát thuộc về một node lá sẽ chính là nhãn có xác suất xảy ra là lớn nhất."
   ]
  },
  {
   "cell_type": "markdown",
   "id": "double-salad",
   "metadata": {
    "id": "l2aed7Uk5rLo"
   },
   "source": [
    "**Bài tập:** Cho bảng số liệu dự báo khả năng mưa (_rain_) dựa trên các thông tin đầu vào gồm: có mây (_cloudy_), có nắng (_sunny_), có gió (_windy_):\n",
    "\n",
    "![](https://imgur.com/UN5IdXn.png)\n",
    "\n",
    "1. Nếu _node gốc_ là `windy` thì _entropy_ thu được bằng bao nhiêu?\n",
    "2. Hãy tính _entropy_ cho trường hợp nếu _node gốc_ là _cloudy_ và _sunny_. So sánh _entropy_ thu được giữa 3 nodes và kết luận đâu là biến phù hợp nhất tại vị trí _node gốc_?\n",
    "3. Tiếp tục lựa chọn ra node con tiếp theo phù hợp nhất dựa trên giá trị _hàm tin thu_ thu được là lớn nhất.\n",
    "\n",
    "## 8.5.2. Trường hợp không phải cây nhị phân\n",
    "\n",
    "Ở trên là bài toán tối ưu cho trường hợp cây nhị phân (mỗi node quyết định chỉ gôm hai nhánh rẽ). Chúng ta có thể khái quát bài toán cho trường hợp sau rẽ nhánh tập $\\mathcal{S}$ tạo thành $k$ tập $\\mathcal{S}_1, \\mathcal{S}_2,\\dots,\\mathcal{S}_{k}$. Khi đó hàm _entropy_ sau phân chia:\n",
    "\n",
    "$$\\mathbf{H}(x^{(j)}, \\mathbf{t}; \\mathcal{S}) = \\sum_{i=1}^{k}\\frac{N_i}{N}\\mathbf{H}(\\mathcal{S}_i)$$\n",
    "\n",
    "Với $\\mathbf{t} = (t_1, t_2, \\dots, t_k-1)$ là véc tơ các ngưỡng phân chia để tạo thành $k$ tập con.\n",
    "\n",
    "và _hàm tin thu_:\n",
    "\n",
    "$$\\begin{eqnarray}\\mathbf{G}(x^{(j)}, \\mathbf{t}; \\mathcal{S}) & = & \\mathbf{H}(\\mathcal{S}) - \\mathbf{H}(x^{(j)}, \\mathbf{t}; \\mathcal{S}) \\\\\n",
    "& = & \\mathbf{H}(\\mathcal{S}) - \\sum_{i=1}^{k}\\frac{N_i}{N}\\mathbf{H}(\\mathcal{S}_i)\\end{eqnarray}$$\n",
    "\n",
    "Giải thuật tìm kiếm tham lam cũng thực hiện từ trên xuống dưới và truy hồi tương tự như với trường hợp nhị phân."
   ]
  },
  {
   "cell_type": "markdown",
   "id": "likely-magnet",
   "metadata": {
    "id": "LpH711hFHh07"
   },
   "source": [
    "# 8.6. Chỉ số Gini\n",
    "\n",
    "Chỉ số Gini là một lựa chọn khác bên cạnh hàm _entropy_ được sử dụng để đo lường mức độ bất bình đẳng trong phân phối của các lớp. Chỉ số này được tính bằng cách lấy 1 trừ đi tổng bình phương tỷ lệ phần trăm ở mỗi lớp.\n",
    "\n",
    "$$\\text{Gini} = 1-\\sum_{i=1}^{C} p_i^2$$\n",
    "\n",
    "Với $\\sum_{i=1}^C p_i = 1$ do $p_i$ là xác suất tương ứng với $p_i = p(y=i)$.\n",
    "\n",
    "Một cách khá dễ dàng ta chứng minh được giá trị của _Gini_ dao động trong khoảng từ 0 đến $1-\\frac{1}{C}$. Thật vậy.\n",
    "\n",
    "$$\\begin{eqnarray}(\\underbrace{\\sum_{i=1}^C p_i}_{1})^2 & = & \\sum_{i=1}^C p_i^2 + 2\\sum_{C \\geq i > j \\geq 1} p_i p_j \\geq \\sum_{i=1}^C p_i^2 \\\\\n",
    "\\leftrightarrow 1 & \\geq & \\sum_{i=1}^C p_i^2 \\tag{1}\n",
    "\\end{eqnarray}$$\n",
    "\n",
    "Đẳng thức xảy ra khi phân phối xác suất $\\mathbf{p}$ hoàn toàn thuộc về một lớp, tức ta thu được một cách phân chia tại node lá là tinh khiến thuần tuý mà không bị vẩn đục.\n",
    "\n",
    "Ở khía cạnh khác, theo bất đẳng thức cauchuy-schawrz thì:\n",
    "\n",
    "$$\\begin{eqnarray}(\\sum_{i=1}^{C}p_i)^2 & \\leq & C (\\sum_{i=1}^{C} p_i^2) \\\\\n",
    "\\leftrightarrow & \\frac{1}{C}\\leq & \\sum_{i=1}^{C} p_i^2 \\tag{2}\n",
    "\\end{eqnarray}$$\n",
    "\n",
    "Đẳng thức thu được khi phân phối xác suất hoàn toàn là đồng đều giữa các lớp. Đây là trường hợp được xem là vẩn đục mà chúng ta không mong đợi xảy ra vì mục tiêu của phân chia vẫn là các quan sát bị dồn về một nhóm.\n",
    "\n",
    "Như vậy từ $(1)$ và $(2)$ ta suy ra $0 \\leq \\text{Gini} \\leq 1-\\frac{1}{C}$.\n",
    "\n",
    "Gini thường được dùng đối với những biến rời rạc có số lượng các trường hợp là lớn vì nó có tốc độ tính toán nhanh hơn so với hàm entropy. Trong thuật toán CART của sklearn thì chỉ số gini được sử dụng thay cho hàm entropy."
   ]
  },
  {
   "cell_type": "markdown",
   "id": "upper-shopping",
   "metadata": {
    "id": "MV7C9shQGif8"
   },
   "source": [
    "# 8.7. Cây quyết định cho bài toán dự báo\n",
    "\n",
    "Chúng ta có thể áp dụng cây quyết định cho bài toán dự báo cũng tương tự như bài toán phân loại. Điểm khác biệt đó là chúng ta không sử dụng _hàm tin thu_ mà thay vào đó là độ suy giảm của phương sai (_reduction in variance_).\n",
    "\n",
    "Đầu tiên chúng ta tính phương sai trước khi phân chia của biến mục tiêu $y$ tại node $S$.\n",
    "\n",
    "$$\\text{S}(y; \\mathcal{S}) = \\frac{\\sum_{i=1}^{N}(y_i-\\bar{y})^2}{N}$$\n",
    "\n",
    "Phương sai của biến mục tiêu sau khi phân chia sẽ bằng tổng có trọng số của phương sai trên từng nhóm:\n",
    "\n",
    "$$\\text{S}(y, x^{(j)}, \\mathbf{t}; \\mathcal{S}) = \\sum_{i=1}^{k} \\frac{N_i}{N}\\text{S}(y;\\mathcal{S_i})$$\n",
    "\n",
    "Giá trị của _độ suy giảm phương sai_ sau phân chia:\n",
    "\n",
    "$$\\text{RV}(y, x^{(j)}, \\mathbf{t}; \\mathcal{S}) = \\text{S}(y; \\mathcal{S}) - \\text{S}(y, x^{(j)}, \\mathbf{t}; \\mathcal{S})$$\n",
    "\n",
    "Thuật toán tìm kiếm tham lam sẽ tìm cách lựa chọn $x_i$ và ngưỡng phân chia sao cho _độ suy giảm phương sai_ $\\text{RV}(y, x_j, \\mathbf{t}; \\mathcal{S})$ là lớn nhất. Điều này cũng có nghĩa rằng các quan sát được phân về cùng một node lá thì có giá trị dự báo sát nhau. Như vậy ta có thể đưa ra một ước lượng chung cho node lá bằng trung bình cộng của biến mục tiêu mà không lo lắng giá trị dự báo bị chệch. Như vậy giá trị ước lượng của một quan sát $(\\mathbf{x}_i, y_i)$ thuộc về node $\\mathcal{S}_j$ sẽ bằng trung bình cộng biến mục tiêu của node:\n",
    "\n",
    "$$\\hat{y}_i = \\frac{1}{|S_j|}\\sum_{k=1}^{|S_j|} y_k$$"
   ]
  },
  {
   "cell_type": "markdown",
   "id": "proper-sheffield",
   "metadata": {
    "id": "K31iSt-9yC3c"
   },
   "source": [
    "# 8.8. Điều kiện dừng để giảm quá khớp (_overfitting_)\n",
    "\n",
    "Nếu chúng ta tiếp tục phân chia cây quyết định liên tục thì số lượng các quan sát ở mỗi node lá sẽ giảm dần. Cho tới một ngưỡng độ sâu $p$ nào đó, số quan sát còn lại ở mỗi node lá sẽ rất nhỏ và thậm chí chỉ một vài quan sát. Các kết quả dự báo dựa trên tập mẫu rất nhỏ này không còn mang tính tổng quát và do đó hiện tượng _quá khớp_ thường xảy ra. Để tránh hiện tượng quá khớp cũng như tiết kiệm chi phí tính toán, chúng ta sẽ dừng việc phân chia khi đạt một số điều kiện:\n",
    "\n",
    "* Độ sâu của cây nhị phân chạm một ngưỡng tối thiểu.\n",
    "* Số lượng các quan sát của một node lá đạt ngưỡng tối thiểu. Chẳng hạn như: 30 quan sát thuộc node lá cho bài toán phân loại nhị phân thì quyết định phân lớp là đủ tin cậy.\n",
    "* Node lá hoàn toàn thuộc về một nhóm duy nhất. Tức node phân chia là hoàn toàn tinh khiết.\n",
    "* Số lượng các node phân chia đạt ngưỡng.\n",
    "* Số lượng các node lá đạt ngưỡng. Số lượng node lá càng nhiều thì mô hình càng trở nên phức tạp.\n",
    "* _hàm tin thu_ giảm dưới một ngưỡng rất nhỏ. Đồng nghĩa với việc phân chia thêm cũng không có nhiều ý nghĩa.\n",
    "\n",
    "Ngoài các phương pháp giảm thiểu quá khớp nêu trên chúng ta còn có thể giảm thiểu quá khớp thông qua phương pháp _cắt tỉa_ (_pruning_)."
   ]
  },
  {
   "cell_type": "markdown",
   "id": "selected-toner",
   "metadata": {
    "id": "gNv9i1HW6ekx"
   },
   "source": [
    "# 8.9. Cắt tỉa  (_pruning_)\n",
    "\n",
    "Nội dung của phương pháp cắt tỉa đó là đầu tiên chúng ta sẽ huấn luyện mô hình cây quyết định trên tập tập huấn luyện (_train dataset_) sao cho toàn bộ các quan sát đều được phân loại về đúng nhãn. Sau đó loại bỏ dần các node lá ở bên dưới và chuyển node cha trực tiếp của chúng thành node lá. Các node lá chỉ bị loại bỏ khi độ chính xác dự báo trên tập kiểm định (validation dataset) được cải thiện. Quá trình sẽ dừng khi độ chính xác trên tập kiểm tra không còn tiếp tục được cải thiện. Phương pháp trên được gọi là phương pháp _giảm thiểu sai số cắt tỉa_ (_reducing error pruning_).\n",
    "\n",
    "Ngoài ra còn một kỹ thuật khác sẽ tìm cách giảm thiểu mức độ cồng kềnh của cây quyết định thông qua kiểm soát số lượng _node lá_. Theo đó phương pháp này cộng thêm thành phần $K$ là số lượng _node lá_ vào hàm mất mát là tổng entropy có trọng số của các node con. Giả sử cây quyết định cuối cùng phân loại đúng toàn bộ các quan sát về $K$ tập tại node lá là $\\mathcal{S}_1, \\mathcal{S}_2, \\dots , \\mathcal{S}_K$:\n",
    "\n",
    "$$\\mathcal{L}(\\text{final_tree}) = \\sum_{i=1}^{K} \\frac{|\\mathcal{S}_i|}{N} \\mathbf{H}(\\mathcal{S}_i) + \\lambda K$$\n",
    "\n",
    "Trong đó $N$ là số lượng quan sát và $|\\mathcal{S}_i|$ là kích thước của node lá.\n",
    "\n",
    "Cũng giống như các phương pháp điều chuẩn khác, chúng ta lựa chọn $\\lambda$ là một giá trị dương tương đối nhỏ đại diện cho thành phần kiểm soát. Gía trị này lớn thể hiện vai trò của số lượng node lá tác động lên hàm chi phí lớn. Ở thời điểm ban đầu để phân loại đúng toàn bộ các quan sát thì cần số lượng node lá là $K$ tương đối lớn. Sau đó chúng ta sẽ cắt tỉa dần cây quyết định sao cho mỗi một lượt cắt tỉa hàm mất mát giảm một lượng là lớn nhất. Quá trình cắt tỉa sẽ dừng cho tới khi hàm mất mát không còn tiếp tục giảm được nữa."
   ]
  },
  {
   "cell_type": "markdown",
   "id": "toxic-poker",
   "metadata": {
    "id": "EK2xNwa7QIyg"
   },
   "source": [
    "# 8.10. Tuning siêu tham số cho mô hình cây quyết định\n",
    "\n",
    "Trong thuật toán cây quyết định chúng ta có thể quan tâm tới một số tham số có thể được sử dụng để tuning. Đó là những tham số chính bên dưới:\n",
    "\n",
    "```\n",
    "DecisionTreeRegressor(*, \n",
    "criterion='gini', \n",
    "splitter='best', \n",
    "max_depth=None, \n",
    "min_samples_split=2, \n",
    "min_samples_leaf=1, \n",
    "max_features=None,\n",
    "max_leaf_nodes=None, \n",
    "min_impurity_decrease=0.0, \n",
    "min_impurity_split=None\n",
    ")\n",
    "```\n",
    "\n",
    "Trong đó:\n",
    "\n",
    "* criterion: Là hàm số để đo lường chất lượng phân chia ở mỗi node. Có hai lựa chọn là `gini` và `entropy`.\n",
    "\n",
    "* max_depth: Độ sâu tối đa cho một cây quyết định. Đối với mô hình bị quá khớp thì chúng ta cần gia tăng độ sâu và vị khớp thì giảm độ sâu.\n",
    "\n",
    "* min_samples_split: Kích thước mẫu tối thiểu được yêu cầu để tiếp tục phân chia đối với node quyết định. Được sử dụng để tránh kích thước của node lá quá nhỏ nhằm giảm thiểu hiện tượng quá khớp.\n",
    "\n",
    "* max_features: Số lượng các biến được lựa chọn để tìm kiếm ra biến phân chia tốt nhất ở mỗi lượt phân chia.\n",
    "\n",
    "* max_leaf_nodes: Số lượng các node lá tối đa của cây quyết định. Thường được thiết lập khi muốn kiểm soát hiện tượng quá khớp.\n",
    "\n",
    "* min_impurity_decrease: Chúng ta sẽ tiếp tục phân chia một node nếu như sự suy giảm của độ tinh khiết nếu phân chia lớn hơn ngưỡng này.\n",
    "im\n",
    "* min_impurity_split: Ngưỡng dừng sớm để kiểm soát sự gia tăng của cây quyết định. Thường được sử dụng để tránh hiện tượng quá khớp. Chúng ta sẽ tiếp tục chia node nếu độ tinh khiết cao hơn ngưỡng này."
   ]
  },
  {
   "cell_type": "code",
   "execution_count": 6,
   "id": "approved-warehouse",
   "metadata": {
    "colab": {
     "base_uri": "https://localhost:8080/"
    },
    "id": "_-rbJTSQprrv",
    "outputId": "1a703497-ce06-46ee-9a78-a4fc0a228155"
   },
   "outputs": [
    {
     "name": "stdout",
     "output_type": "stream",
     "text": [
      "Fitting 5 folds for each of 108 candidates, totalling 540 fits\n"
     ]
    },
    {
     "data": {
      "text/plain": [
       "GridSearchCV(cv=5, error_score=0,\n",
       "             estimator=Pipeline(steps=[('clf', DecisionTreeClassifier())]),\n",
       "             n_jobs=12,\n",
       "             param_grid={'clf__criterion': ['gini', 'entropy'],\n",
       "                         'clf__max_depth': [2, 3, 4],\n",
       "                         'clf__max_leaf_nodes': [8, 16, 32],\n",
       "                         'clf__min_samples_leaf': [5, 10, 13],\n",
       "                         'clf__min_samples_split': [2, 4]},\n",
       "             return_train_score=True, scoring='accuracy', verbose=3)"
      ]
     },
     "execution_count": 6,
     "metadata": {},
     "output_type": "execute_result"
    }
   ],
   "source": [
    "from sklearn.pipeline import Pipeline\n",
    "from sklearn.tree import DecisionTreeClassifier\n",
    "from sklearn.model_selection import GridSearchCV\n",
    "\n",
    "parameters = {\n",
    "    'clf__max_depth':[2, 3, 4],\n",
    "    'clf__criterion':['gini', 'entropy'],\n",
    "    'clf__min_samples_split': [2, 4], \n",
    "    'clf__min_samples_leaf': [5, 10, 13],\n",
    "    'clf__max_leaf_nodes': [8, 16, 32],   \n",
    "}\n",
    "\n",
    "\n",
    "pipeline = Pipeline(\n",
    "    steps=[(\"clf\", DecisionTreeClassifier())]\n",
    ")\n",
    "\n",
    "gscv = GridSearchCV(pipeline, parameters, cv=5, n_jobs=12, scoring='accuracy', return_train_score=True, error_score=0, verbose=3)\n",
    "gscv.fit(X, y)"
   ]
  },
  {
   "cell_type": "markdown",
   "id": "liberal-arena",
   "metadata": {
    "id": "DzH1Kwqc6t9Q"
   },
   "source": [
    "# 8.11. Bài tập\n",
    "\n",
    "1. Một cây nhị phân có độ sâu là 5. Hỏi số lượng các node lá của nó là bao nhiêu?\n",
    "\n",
    "2. Nếu cây nhị phân trên có được hồi qui trên một bộ dữ liệu kích thước là 10000 quan sát thì trung bình mỗi node lá có bao nhiêu quan sát ? Số lượng quan sát này có đủ lớn để tin cậy vào kết luận phân loại ở các node lá không ?\n",
    "\n",
    "3. Một cây quyết định có độ sâu là 5 thì giá trị dự báo về nhãn của nó được tạo thành từ bao nhiêu câu hỏi ?\n",
    "\n",
    "4. Một bài toán phân loại gồm 5 lớp. Giá trị hàm entropy lớn nhất có thể thu được ở mỗi node lá là bao nhiêu?\n",
    "\n",
    "5. Gía trị lớn nhất của chỉ số Gini thu được ở bài toán phân loại ở câu 3 nhưng áp dụng trên mỗi node lá là bao nhiêu?\n",
    "\n",
    "6. Khi mô hình gặp hiện tượng quá khớp thì chúng ta nên tăng độ sâu hay giảm độ sâu của cây quyết định?\n",
    "\n",
    "7. Trong bài toán dự báo thì giá trị dự báo của các quan sát thuộc cùng một node được tính như thế nào?\n",
    "\n",
    "8. Sử dụng bộ dữ liệu iris. Hãy xây dựng bài toán dự báo biến mục tiêu là 1: nếu rơi vào loài hoa Versicolor và 0 nếu là các loài hoa còn lại. Biến đầu vào là 4 trường kích thước dài, rộng của đài hoa và cánh hoa. Hãy thực hiện grid search trên các tham số chẳng hạn như độ sâu, số lượng mẫu tối thiểu tại node lá, số lượng node lá tối đa,... để tìm ra mô hình có độ chính xác tốt nhất."
   ]
  },
  {
   "cell_type": "markdown",
   "id": "saving-snapshot",
   "metadata": {
    "id": "miKv1U7R6rhF"
   },
   "source": [
    "# 8. 12. Tài liệu tham khảo\n",
    "\n",
    "\n",
    "1. https://towardsdatascience.com/decision-trees-in-machine-learning-641b9c4e8052\n",
    "\n",
    "2. https://www.kdnuggets.com/2020/01/decision-tree-algorithm-explained.html\n",
    "\n",
    "3. https://towardsdatascience.com/under-the-hood-decision-tree-454f8581684e\n",
    "\n",
    "4. https://machinelearningcoban.com/2018/01/14/id3/"
   ]
  }
 ],
 "metadata": {
  "jupytext": {
   "text_representation": {
    "extension": ".md",
    "format_name": "myst",
    "format_version": 0.12,
    "jupytext_version": "1.8.2"
   }
  },
  "kernelspec": {
   "display_name": "Python 3",
   "name": "python3"
  },
  "language_info": {
   "codemirror_mode": {
    "name": "ipython",
    "version": 3
   },
   "file_extension": ".py",
   "mimetype": "text/x-python",
   "name": "python",
   "nbconvert_exporter": "python",
   "pygments_lexer": "ipython3",
   "version": "3.6.13"
  },
  "source_map": [
   11,
   20,
   24,
   30,
   50,
   74,
   86,
   90,
   111,
   125,
   154,
   161,
   179,
   193,
   213,
   231,
   262,
   280,
   284,
   294,
   353,
   378,
   409,
   431,
   448,
   462,
   499,
   527,
   550
  ]
 },
 "nbformat": 4,
 "nbformat_minor": 5
}