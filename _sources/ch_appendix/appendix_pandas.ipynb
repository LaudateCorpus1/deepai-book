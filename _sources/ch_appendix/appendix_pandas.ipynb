{
 "cells": [
  {
   "cell_type": "markdown",
   "id": "typical-footage",
   "metadata": {},
   "source": [
    "# 2.1. Khởi tạo dataframe\n",
    "\n",
    "Đây là cách thường ít được áp dụng vì khi làm việc chúng ta thường đọc dữ liệu từ những file dữ liệu có sẵn được lưu dưới dạng `csv` hoặc `txt`. Nhưng đôi khi chúng ta cũng cần khởi tạo dataframe từ đầu chẳng hạn như bạn muốn lưu kết quả log file của chương trình vào một dataframe và save dưới dạng `csv` sau đó. Việc lưu trữ dưới dạng dataframe sẽ giúp cho bạn dễ dàng thực hiện các phép lọc, thống kê và visualize trực tiếp từ dataframe một cách dễ dàng hơn. \n",
    "\n",
    "Đưới đây mình sẽ giới thiệu hai cách khởi tạo dataframe chính trực tiếp từ câu lệnh `pd.DataFrame(.)`."
   ]
  },
  {
   "cell_type": "markdown",
   "id": "common-collapse",
   "metadata": {
    "id": "XUX-h_E5trFF"
   },
   "source": [
    "## 2.1.1. Khởi tạo thông qua dictionary\n",
    "\n",
    "Về định dạng dictionary chúng ta đã được học ở [chương phụ lục - dictionary](https://phamdinhkhanh.github.io/deepai-book/ch_appendix/appendix_dtypes_basic.html#dictionary). Nội dung của dictionary sẽ gồm key là tên cột và value là list giá trị của cột tương ứng."
   ]
  },
  {
   "cell_type": "code",
   "execution_count": 1,
   "id": "decimal-alexandria",
   "metadata": {
    "colab": {
     "base_uri": "https://localhost:8080/",
     "height": 173
    },
    "id": "ki4Ajy-qig-y",
    "outputId": "3040df50-8988-445d-cf9c-be36d4aa86d7"
   },
   "outputs": [
    {
     "data": {
      "text/html": [
       "<div>\n",
       "<style scoped>\n",
       "    .dataframe tbody tr th:only-of-type {\n",
       "        vertical-align: middle;\n",
       "    }\n",
       "\n",
       "    .dataframe tbody tr th {\n",
       "        vertical-align: top;\n",
       "    }\n",
       "\n",
       "    .dataframe thead th {\n",
       "        text-align: right;\n",
       "    }\n",
       "</style>\n",
       "<table border=\"1\" class=\"dataframe\">\n",
       "  <thead>\n",
       "    <tr style=\"text-align: right;\">\n",
       "      <th></th>\n",
       "      <th>contents</th>\n",
       "      <th>infos</th>\n",
       "      <th>numbers</th>\n",
       "    </tr>\n",
       "  </thead>\n",
       "  <tbody>\n",
       "    <tr>\n",
       "      <th>0</th>\n",
       "      <td>Author</td>\n",
       "      <td>Pham Dinh Khanh</td>\n",
       "      <td>1993</td>\n",
       "    </tr>\n",
       "    <tr>\n",
       "      <th>1</th>\n",
       "      <td>Book</td>\n",
       "      <td>ML algorithms to Practice</td>\n",
       "      <td>2021</td>\n",
       "    </tr>\n",
       "    <tr>\n",
       "      <th>2</th>\n",
       "      <td>Target</td>\n",
       "      <td>Vi mot cong dong AI vung manh hon</td>\n",
       "      <td>1</td>\n",
       "    </tr>\n",
       "    <tr>\n",
       "      <th>3</th>\n",
       "      <td>No_Donation</td>\n",
       "      <td>Community</td>\n",
       "      <td>2</td>\n",
       "    </tr>\n",
       "  </tbody>\n",
       "</table>\n",
       "</div>"
      ],
      "text/plain": [
       "      contents                              infos  numbers\n",
       "0       Author                    Pham Dinh Khanh     1993\n",
       "1         Book          ML algorithms to Practice     2021\n",
       "2       Target  Vi mot cong dong AI vung manh hon        1\n",
       "3  No_Donation                          Community        2"
      ]
     },
     "metadata": {},
     "output_type": "display_data"
    }
   ],
   "source": [
    "import pandas as pd\n",
    "from IPython.display import display\n",
    "pd.set_option('max_colwidth', 40)\n",
    "pd.set_option('precision', 5)\n",
    "pd.set_option('max_rows', 10)\n",
    "pd.set_option('max_columns', 30)\n",
    "\n",
    "\n",
    "dict_columns = {\n",
    "    'contents':['Author', 'Book', 'Target', 'No_Donation'],\n",
    "    'infos':['Pham Dinh Khanh', 'ML algorithms to Practice', 'Vi mot cong dong AI vung manh hon', 'Community'],\n",
    "    'numbers':[1993, 2021, 1, 2]\n",
    "}\n",
    "\n",
    "df = pd.DataFrame(dict_columns)\n",
    "display(df)"
   ]
  },
  {
   "cell_type": "markdown",
   "id": "formed-incidence",
   "metadata": {
    "id": "3mZfjB3FmHjn"
   },
   "source": [
    "Hàm display của `IPython` giúp cho DataFrame hiển thị được trên code khi run dưới dạng script file. các options của `pd.set_option()` lần lượt có tác dụng:\n",
    "\n",
    "* `max_colwidth`: Qui định chiều rộng tối đa của một cột.\n",
    "* `precision`: Độ chính xác của các sau dấu phảy của các cột định dạng float.\n",
    "* `max_columns`, `max_rows`: Lần lượt là độ số lượng cột và số lượng dòng tối đa được hiển thị.\n",
    "\n",
    "Tiếp theo chúng ta sẽ khởi tạo thông qua list các dòng.\n",
    "\n",
    "## 2.1.2. Khởi tạo thông qua list các dòng\n",
    "\n",
    "Theo cách này chúng ta sẽ truyền vào data là một list gồm các tupple mà mỗi tupple là một dòng dữ liệu. đối số `columns` sẽ qui định tên cột theo đúng thứ tự được qui định ở mỗi dòng."
   ]
  },
  {
   "cell_type": "code",
   "execution_count": 2,
   "id": "helpful-buyer",
   "metadata": {
    "colab": {
     "base_uri": "https://localhost:8080/",
     "height": 173
    },
    "deletable": true,
    "editable": true,
    "id": "idzxlT3BSzJe",
    "outputId": "7d4c511a-c142-4bb1-9f3e-62fc6405d5ac"
   },
   "outputs": [
    {
     "data": {
      "text/html": [
       "<div>\n",
       "<style scoped>\n",
       "    .dataframe tbody tr th:only-of-type {\n",
       "        vertical-align: middle;\n",
       "    }\n",
       "\n",
       "    .dataframe tbody tr th {\n",
       "        vertical-align: top;\n",
       "    }\n",
       "\n",
       "    .dataframe thead th {\n",
       "        text-align: right;\n",
       "    }\n",
       "</style>\n",
       "<table border=\"1\" class=\"dataframe\">\n",
       "  <thead>\n",
       "    <tr style=\"text-align: right;\">\n",
       "      <th></th>\n",
       "      <th>contents</th>\n",
       "      <th>infos</th>\n",
       "      <th>numbers</th>\n",
       "    </tr>\n",
       "  </thead>\n",
       "  <tbody>\n",
       "    <tr>\n",
       "      <th>0</th>\n",
       "      <td>Author</td>\n",
       "      <td>Pham Dinh Khanh</td>\n",
       "      <td>1993</td>\n",
       "    </tr>\n",
       "    <tr>\n",
       "      <th>1</th>\n",
       "      <td>Book</td>\n",
       "      <td>ML algorithms to Practice</td>\n",
       "      <td>2021</td>\n",
       "    </tr>\n",
       "    <tr>\n",
       "      <th>2</th>\n",
       "      <td>Target</td>\n",
       "      <td>Vi mot cong dong AI vung manh hon</td>\n",
       "      <td>1</td>\n",
       "    </tr>\n",
       "    <tr>\n",
       "      <th>3</th>\n",
       "      <td>No_Donation</td>\n",
       "      <td>Community</td>\n",
       "      <td>2</td>\n",
       "    </tr>\n",
       "  </tbody>\n",
       "</table>\n",
       "</div>"
      ],
      "text/plain": [
       "      contents                              infos  numbers\n",
       "0       Author                    Pham Dinh Khanh     1993\n",
       "1         Book          ML algorithms to Practice     2021\n",
       "2       Target  Vi mot cong dong AI vung manh hon        1\n",
       "3  No_Donation                          Community        2"
      ]
     },
     "execution_count": 2,
     "metadata": {},
     "output_type": "execute_result"
    }
   ],
   "source": [
    "import pandas as pd\n",
    "\n",
    "records = [('Author', 'Pham Dinh Khanh', 1993), \n",
    "           ('Book', 'ML algorithms to Practice', 2021), \n",
    "           ('Target', 'Vi mot cong dong AI vung manh hon', 1), \n",
    "           ('No_Donation', 'Community', 2)]\n",
    "           \n",
    "# Khởi tạo DataFrame\n",
    "df = pd.DataFrame(data = records, columns = ['contents', 'infos', 'numbers'])\n",
    "df"
   ]
  },
  {
   "cell_type": "markdown",
   "id": "israeli-manufacturer",
   "metadata": {
    "id": "oKhh-Uwap4aD"
   },
   "source": [
    "Để lưu trữ một dataframe dưới dạng một file `csv` chúng ta dùng hàm `.to_csv(.)` tham số truyền vào là đường link save file. Chẳng hạn bên dưới ta lưu dataframe vào một file \"data.csv\" cùng thư mục với file notebook."
   ]
  },
  {
   "cell_type": "code",
   "execution_count": 3,
   "id": "continuing-underwear",
   "metadata": {
    "id": "4GV9k0OxqFAP"
   },
   "outputs": [],
   "source": [
    "df.to_csv(\"data.csv\")"
   ]
  },
  {
   "cell_type": "markdown",
   "id": "nuclear-privacy",
   "metadata": {
    "id": "Tq6hF0D4pcg7"
   },
   "source": [
    "## 2.1.3. Đọc dữ liệu từ file\n",
    "\n",
    "Chúng ta cũng có thể khởi tạo bảng bằng cách đọc file `csv, txt, xls, xlsx, dat` thông qua hàm `pd.read_csv(.)`. Hàm này không chỉ đọc được những file có trên máy tính của bạn mà còn có thể download những file có trên mạng. Bên dưới chúng ta thực hành đọc dữ liệu về giá nhà ở tại Boston từ bộ dữ liệu `BostonHousing`. Bộ dữ liệu này gồm các trường:\n",
    "\n",
    "\n",
    "* crim: Tỷ lệ phạm tội phạm bình quân đầu người theo thị trấn.\n",
    "* zn: Tỷ lệ đất ở được quy hoạch cho các lô trên 25.000 foot square.\n",
    "* indus: Tỷ lệ diện tích thuộc lĩnh vực _kinh doanh phi bán lẻ_ trên mỗi thị trấn.\n",
    "* chas: Biến giả, = 1 nếu được bao bởi sông Charles River, = 0 nếu ngược lại.\n",
    "* nox: Nồng độ khí Ni-tơ oxit.\n",
    "* rm: Trung bình số phòng trên một căn hộ.\n",
    "* age: Tỷ lệ căn hộ được xây dựng trước năm 1940.\n",
    "* dis: Khoảng cách trung bình có trọng số tới 5 trung tâm việc làm lớn nhất ở Boston.\n",
    "* rad: Chỉ số về khả năng tiếp cận đường cao tốc.\n",
    "* tax: Giá trị thuế suất tính trên đơn vị `10000$`.\n",
    "* ptratio: Tỷ lệ học sinh-giáo viên trên mỗi thị trấn.\n",
    "* black: Tỷ lệ số người da đen trong thị trấn được tính theo công thức:\n",
    "$1000(\\text{Bk} - 0.63)^2$ ở đây $\\text{Bk}$ là tỷ lệ người da đen trong thị trấn.\n",
    "* lstat: Tỷ lệ phần trăm dân số thu nhập thấp.\n",
    "* medv: median giá trị của nhà có người sở hữu tính trên đơn vị `1000$`."
   ]
  },
  {
   "cell_type": "code",
   "execution_count": 4,
   "id": "threaded-radar",
   "metadata": {
    "colab": {
     "base_uri": "https://localhost:8080/",
     "height": 204
    },
    "id": "l5ZQBcFbcC51",
    "outputId": "855d245c-06dc-43df-ea9a-5c40b1c23847"
   },
   "outputs": [
    {
     "ename": "URLError",
     "evalue": "<urlopen error [SSL: WRONG_VERSION_NUMBER] wrong version number (_ssl.c:852)>",
     "output_type": "error",
     "traceback": [
      "\u001b[0;31m---------------------------------------------------------------------------\u001b[0m",
      "\u001b[0;31mSSLError\u001b[0m                                  Traceback (most recent call last)",
      "\u001b[0;32m~/miniconda3/envs/deepai-book/lib/python3.6/urllib/request.py\u001b[0m in \u001b[0;36mdo_open\u001b[0;34m(self, http_class, req, **http_conn_args)\u001b[0m\n\u001b[1;32m   1348\u001b[0m                 h.request(req.get_method(), req.selector, req.data, headers,\n\u001b[0;32m-> 1349\u001b[0;31m                           encode_chunked=req.has_header('Transfer-encoding'))\n\u001b[0m\u001b[1;32m   1350\u001b[0m             \u001b[0;32mexcept\u001b[0m \u001b[0mOSError\u001b[0m \u001b[0;32mas\u001b[0m \u001b[0merr\u001b[0m\u001b[0;34m:\u001b[0m \u001b[0;31m# timeout error\u001b[0m\u001b[0;34m\u001b[0m\u001b[0;34m\u001b[0m\u001b[0m\n",
      "\u001b[0;32m~/miniconda3/envs/deepai-book/lib/python3.6/http/client.py\u001b[0m in \u001b[0;36mrequest\u001b[0;34m(self, method, url, body, headers, encode_chunked)\u001b[0m\n\u001b[1;32m   1286\u001b[0m         \u001b[0;34m\"\"\"Send a complete request to the server.\"\"\"\u001b[0m\u001b[0;34m\u001b[0m\u001b[0;34m\u001b[0m\u001b[0m\n\u001b[0;32m-> 1287\u001b[0;31m         \u001b[0mself\u001b[0m\u001b[0;34m.\u001b[0m\u001b[0m_send_request\u001b[0m\u001b[0;34m(\u001b[0m\u001b[0mmethod\u001b[0m\u001b[0;34m,\u001b[0m \u001b[0murl\u001b[0m\u001b[0;34m,\u001b[0m \u001b[0mbody\u001b[0m\u001b[0;34m,\u001b[0m \u001b[0mheaders\u001b[0m\u001b[0;34m,\u001b[0m \u001b[0mencode_chunked\u001b[0m\u001b[0;34m)\u001b[0m\u001b[0;34m\u001b[0m\u001b[0;34m\u001b[0m\u001b[0m\n\u001b[0m\u001b[1;32m   1288\u001b[0m \u001b[0;34m\u001b[0m\u001b[0m\n",
      "\u001b[0;32m~/miniconda3/envs/deepai-book/lib/python3.6/http/client.py\u001b[0m in \u001b[0;36m_send_request\u001b[0;34m(self, method, url, body, headers, encode_chunked)\u001b[0m\n\u001b[1;32m   1332\u001b[0m             \u001b[0mbody\u001b[0m \u001b[0;34m=\u001b[0m \u001b[0m_encode\u001b[0m\u001b[0;34m(\u001b[0m\u001b[0mbody\u001b[0m\u001b[0;34m,\u001b[0m \u001b[0;34m'body'\u001b[0m\u001b[0;34m)\u001b[0m\u001b[0;34m\u001b[0m\u001b[0;34m\u001b[0m\u001b[0m\n\u001b[0;32m-> 1333\u001b[0;31m         \u001b[0mself\u001b[0m\u001b[0;34m.\u001b[0m\u001b[0mendheaders\u001b[0m\u001b[0;34m(\u001b[0m\u001b[0mbody\u001b[0m\u001b[0;34m,\u001b[0m \u001b[0mencode_chunked\u001b[0m\u001b[0;34m=\u001b[0m\u001b[0mencode_chunked\u001b[0m\u001b[0;34m)\u001b[0m\u001b[0;34m\u001b[0m\u001b[0;34m\u001b[0m\u001b[0m\n\u001b[0m\u001b[1;32m   1334\u001b[0m \u001b[0;34m\u001b[0m\u001b[0m\n",
      "\u001b[0;32m~/miniconda3/envs/deepai-book/lib/python3.6/http/client.py\u001b[0m in \u001b[0;36mendheaders\u001b[0;34m(self, message_body, encode_chunked)\u001b[0m\n\u001b[1;32m   1281\u001b[0m             \u001b[0;32mraise\u001b[0m \u001b[0mCannotSendHeader\u001b[0m\u001b[0;34m(\u001b[0m\u001b[0;34m)\u001b[0m\u001b[0;34m\u001b[0m\u001b[0;34m\u001b[0m\u001b[0m\n\u001b[0;32m-> 1282\u001b[0;31m         \u001b[0mself\u001b[0m\u001b[0;34m.\u001b[0m\u001b[0m_send_output\u001b[0m\u001b[0;34m(\u001b[0m\u001b[0mmessage_body\u001b[0m\u001b[0;34m,\u001b[0m \u001b[0mencode_chunked\u001b[0m\u001b[0;34m=\u001b[0m\u001b[0mencode_chunked\u001b[0m\u001b[0;34m)\u001b[0m\u001b[0;34m\u001b[0m\u001b[0;34m\u001b[0m\u001b[0m\n\u001b[0m\u001b[1;32m   1283\u001b[0m \u001b[0;34m\u001b[0m\u001b[0m\n",
      "\u001b[0;32m~/miniconda3/envs/deepai-book/lib/python3.6/http/client.py\u001b[0m in \u001b[0;36m_send_output\u001b[0;34m(self, message_body, encode_chunked)\u001b[0m\n\u001b[1;32m   1041\u001b[0m         \u001b[0;32mdel\u001b[0m \u001b[0mself\u001b[0m\u001b[0;34m.\u001b[0m\u001b[0m_buffer\u001b[0m\u001b[0;34m[\u001b[0m\u001b[0;34m:\u001b[0m\u001b[0;34m]\u001b[0m\u001b[0;34m\u001b[0m\u001b[0;34m\u001b[0m\u001b[0m\n\u001b[0;32m-> 1042\u001b[0;31m         \u001b[0mself\u001b[0m\u001b[0;34m.\u001b[0m\u001b[0msend\u001b[0m\u001b[0;34m(\u001b[0m\u001b[0mmsg\u001b[0m\u001b[0;34m)\u001b[0m\u001b[0;34m\u001b[0m\u001b[0;34m\u001b[0m\u001b[0m\n\u001b[0m\u001b[1;32m   1043\u001b[0m \u001b[0;34m\u001b[0m\u001b[0m\n",
      "\u001b[0;32m~/miniconda3/envs/deepai-book/lib/python3.6/http/client.py\u001b[0m in \u001b[0;36msend\u001b[0;34m(self, data)\u001b[0m\n\u001b[1;32m    979\u001b[0m             \u001b[0;32mif\u001b[0m \u001b[0mself\u001b[0m\u001b[0;34m.\u001b[0m\u001b[0mauto_open\u001b[0m\u001b[0;34m:\u001b[0m\u001b[0;34m\u001b[0m\u001b[0;34m\u001b[0m\u001b[0m\n\u001b[0;32m--> 980\u001b[0;31m                 \u001b[0mself\u001b[0m\u001b[0;34m.\u001b[0m\u001b[0mconnect\u001b[0m\u001b[0;34m(\u001b[0m\u001b[0;34m)\u001b[0m\u001b[0;34m\u001b[0m\u001b[0;34m\u001b[0m\u001b[0m\n\u001b[0m\u001b[1;32m    981\u001b[0m             \u001b[0;32melse\u001b[0m\u001b[0;34m:\u001b[0m\u001b[0;34m\u001b[0m\u001b[0;34m\u001b[0m\u001b[0m\n",
      "\u001b[0;32m~/miniconda3/envs/deepai-book/lib/python3.6/http/client.py\u001b[0m in \u001b[0;36mconnect\u001b[0;34m(self)\u001b[0m\n\u001b[1;32m   1447\u001b[0m             self.sock = self._context.wrap_socket(self.sock,\n\u001b[0;32m-> 1448\u001b[0;31m                                                   server_hostname=server_hostname)\n\u001b[0m\u001b[1;32m   1449\u001b[0m             \u001b[0;32mif\u001b[0m \u001b[0;32mnot\u001b[0m \u001b[0mself\u001b[0m\u001b[0;34m.\u001b[0m\u001b[0m_context\u001b[0m\u001b[0;34m.\u001b[0m\u001b[0mcheck_hostname\u001b[0m \u001b[0;32mand\u001b[0m \u001b[0mself\u001b[0m\u001b[0;34m.\u001b[0m\u001b[0m_check_hostname\u001b[0m\u001b[0;34m:\u001b[0m\u001b[0;34m\u001b[0m\u001b[0;34m\u001b[0m\u001b[0m\n",
      "\u001b[0;32m~/miniconda3/envs/deepai-book/lib/python3.6/ssl.py\u001b[0m in \u001b[0;36mwrap_socket\u001b[0;34m(self, sock, server_side, do_handshake_on_connect, suppress_ragged_eofs, server_hostname, session)\u001b[0m\n\u001b[1;32m    406\u001b[0m                          \u001b[0mserver_hostname\u001b[0m\u001b[0;34m=\u001b[0m\u001b[0mserver_hostname\u001b[0m\u001b[0;34m,\u001b[0m\u001b[0;34m\u001b[0m\u001b[0;34m\u001b[0m\u001b[0m\n\u001b[0;32m--> 407\u001b[0;31m                          _context=self, _session=session)\n\u001b[0m\u001b[1;32m    408\u001b[0m \u001b[0;34m\u001b[0m\u001b[0m\n",
      "\u001b[0;32m~/miniconda3/envs/deepai-book/lib/python3.6/ssl.py\u001b[0m in \u001b[0;36m__init__\u001b[0;34m(self, sock, keyfile, certfile, server_side, cert_reqs, ssl_version, ca_certs, do_handshake_on_connect, family, type, proto, fileno, suppress_ragged_eofs, npn_protocols, ciphers, server_hostname, _context, _session)\u001b[0m\n\u001b[1;32m    816\u001b[0m                         \u001b[0;32mraise\u001b[0m \u001b[0mValueError\u001b[0m\u001b[0;34m(\u001b[0m\u001b[0;34m\"do_handshake_on_connect should not be specified for non-blocking sockets\"\u001b[0m\u001b[0;34m)\u001b[0m\u001b[0;34m\u001b[0m\u001b[0;34m\u001b[0m\u001b[0m\n\u001b[0;32m--> 817\u001b[0;31m                     \u001b[0mself\u001b[0m\u001b[0;34m.\u001b[0m\u001b[0mdo_handshake\u001b[0m\u001b[0;34m(\u001b[0m\u001b[0;34m)\u001b[0m\u001b[0;34m\u001b[0m\u001b[0;34m\u001b[0m\u001b[0m\n\u001b[0m\u001b[1;32m    818\u001b[0m \u001b[0;34m\u001b[0m\u001b[0m\n",
      "\u001b[0;32m~/miniconda3/envs/deepai-book/lib/python3.6/ssl.py\u001b[0m in \u001b[0;36mdo_handshake\u001b[0;34m(self, block)\u001b[0m\n\u001b[1;32m   1076\u001b[0m                 \u001b[0mself\u001b[0m\u001b[0;34m.\u001b[0m\u001b[0msettimeout\u001b[0m\u001b[0;34m(\u001b[0m\u001b[0;32mNone\u001b[0m\u001b[0;34m)\u001b[0m\u001b[0;34m\u001b[0m\u001b[0;34m\u001b[0m\u001b[0m\n\u001b[0;32m-> 1077\u001b[0;31m             \u001b[0mself\u001b[0m\u001b[0;34m.\u001b[0m\u001b[0m_sslobj\u001b[0m\u001b[0;34m.\u001b[0m\u001b[0mdo_handshake\u001b[0m\u001b[0;34m(\u001b[0m\u001b[0;34m)\u001b[0m\u001b[0;34m\u001b[0m\u001b[0;34m\u001b[0m\u001b[0m\n\u001b[0m\u001b[1;32m   1078\u001b[0m         \u001b[0;32mfinally\u001b[0m\u001b[0;34m:\u001b[0m\u001b[0;34m\u001b[0m\u001b[0;34m\u001b[0m\u001b[0m\n",
      "\u001b[0;32m~/miniconda3/envs/deepai-book/lib/python3.6/ssl.py\u001b[0m in \u001b[0;36mdo_handshake\u001b[0;34m(self)\u001b[0m\n\u001b[1;32m    688\u001b[0m         \u001b[0;34m\"\"\"Start the SSL/TLS handshake.\"\"\"\u001b[0m\u001b[0;34m\u001b[0m\u001b[0;34m\u001b[0m\u001b[0m\n\u001b[0;32m--> 689\u001b[0;31m         \u001b[0mself\u001b[0m\u001b[0;34m.\u001b[0m\u001b[0m_sslobj\u001b[0m\u001b[0;34m.\u001b[0m\u001b[0mdo_handshake\u001b[0m\u001b[0;34m(\u001b[0m\u001b[0;34m)\u001b[0m\u001b[0;34m\u001b[0m\u001b[0;34m\u001b[0m\u001b[0m\n\u001b[0m\u001b[1;32m    690\u001b[0m         \u001b[0;32mif\u001b[0m \u001b[0mself\u001b[0m\u001b[0;34m.\u001b[0m\u001b[0mcontext\u001b[0m\u001b[0;34m.\u001b[0m\u001b[0mcheck_hostname\u001b[0m\u001b[0;34m:\u001b[0m\u001b[0;34m\u001b[0m\u001b[0;34m\u001b[0m\u001b[0m\n",
      "\u001b[0;31mSSLError\u001b[0m: [SSL: WRONG_VERSION_NUMBER] wrong version number (_ssl.c:852)",
      "\nDuring handling of the above exception, another exception occurred:\n",
      "\u001b[0;31mURLError\u001b[0m                                  Traceback (most recent call last)",
      "\u001b[0;32m<ipython-input-4-2c6a1a3d54e0>\u001b[0m in \u001b[0;36m<module>\u001b[0;34m\u001b[0m\n\u001b[1;32m      1\u001b[0m \u001b[0;32mimport\u001b[0m \u001b[0mpandas\u001b[0m \u001b[0;32mas\u001b[0m \u001b[0mpd\u001b[0m\u001b[0;34m\u001b[0m\u001b[0;34m\u001b[0m\u001b[0m\n\u001b[1;32m      2\u001b[0m \u001b[0;34m\u001b[0m\u001b[0m\n\u001b[0;32m----> 3\u001b[0;31m \u001b[0mdf\u001b[0m \u001b[0;34m=\u001b[0m \u001b[0mpd\u001b[0m\u001b[0;34m.\u001b[0m\u001b[0mread_csv\u001b[0m\u001b[0;34m(\u001b[0m\u001b[0;34m\"https://raw.githubusercontent.com/phamdinhkhanh/datasets/master/BostonHousing.csv\"\u001b[0m\u001b[0;34m,\u001b[0m \u001b[0msep\u001b[0m\u001b[0;34m=\u001b[0m\u001b[0;34m\",\"\u001b[0m\u001b[0;34m,\u001b[0m \u001b[0mheader\u001b[0m \u001b[0;34m=\u001b[0m \u001b[0;36m0\u001b[0m\u001b[0;34m,\u001b[0m \u001b[0mindex_col\u001b[0m \u001b[0;34m=\u001b[0m \u001b[0;32mNone\u001b[0m\u001b[0;34m)\u001b[0m\u001b[0;34m\u001b[0m\u001b[0;34m\u001b[0m\u001b[0m\n\u001b[0m\u001b[1;32m      4\u001b[0m \u001b[0mdf\u001b[0m\u001b[0;34m.\u001b[0m\u001b[0mhead\u001b[0m\u001b[0;34m(\u001b[0m\u001b[0;34m)\u001b[0m\u001b[0;34m\u001b[0m\u001b[0;34m\u001b[0m\u001b[0m\n",
      "\u001b[0;32m~/.local/lib/python3.6/site-packages/pandas/io/parsers.py\u001b[0m in \u001b[0;36mparser_f\u001b[0;34m(filepath_or_buffer, sep, delimiter, header, names, index_col, usecols, squeeze, prefix, mangle_dupe_cols, dtype, engine, converters, true_values, false_values, skipinitialspace, skiprows, skipfooter, nrows, na_values, keep_default_na, na_filter, verbose, skip_blank_lines, parse_dates, infer_datetime_format, keep_date_col, date_parser, dayfirst, cache_dates, iterator, chunksize, compression, thousands, decimal, lineterminator, quotechar, quoting, doublequote, escapechar, comment, encoding, dialect, error_bad_lines, warn_bad_lines, delim_whitespace, low_memory, memory_map, float_precision)\u001b[0m\n\u001b[1;32m    674\u001b[0m         )\n\u001b[1;32m    675\u001b[0m \u001b[0;34m\u001b[0m\u001b[0m\n\u001b[0;32m--> 676\u001b[0;31m         \u001b[0;32mreturn\u001b[0m \u001b[0m_read\u001b[0m\u001b[0;34m(\u001b[0m\u001b[0mfilepath_or_buffer\u001b[0m\u001b[0;34m,\u001b[0m \u001b[0mkwds\u001b[0m\u001b[0;34m)\u001b[0m\u001b[0;34m\u001b[0m\u001b[0;34m\u001b[0m\u001b[0m\n\u001b[0m\u001b[1;32m    677\u001b[0m \u001b[0;34m\u001b[0m\u001b[0m\n\u001b[1;32m    678\u001b[0m     \u001b[0mparser_f\u001b[0m\u001b[0;34m.\u001b[0m\u001b[0m__name__\u001b[0m \u001b[0;34m=\u001b[0m \u001b[0mname\u001b[0m\u001b[0;34m\u001b[0m\u001b[0;34m\u001b[0m\u001b[0m\n",
      "\u001b[0;32m~/.local/lib/python3.6/site-packages/pandas/io/parsers.py\u001b[0m in \u001b[0;36m_read\u001b[0;34m(filepath_or_buffer, kwds)\u001b[0m\n\u001b[1;32m    429\u001b[0m     \u001b[0;31m# See https://github.com/python/mypy/issues/1297\u001b[0m\u001b[0;34m\u001b[0m\u001b[0;34m\u001b[0m\u001b[0;34m\u001b[0m\u001b[0m\n\u001b[1;32m    430\u001b[0m     fp_or_buf, _, compression, should_close = get_filepath_or_buffer(\n\u001b[0;32m--> 431\u001b[0;31m         \u001b[0mfilepath_or_buffer\u001b[0m\u001b[0;34m,\u001b[0m \u001b[0mencoding\u001b[0m\u001b[0;34m,\u001b[0m \u001b[0mcompression\u001b[0m\u001b[0;34m\u001b[0m\u001b[0;34m\u001b[0m\u001b[0m\n\u001b[0m\u001b[1;32m    432\u001b[0m     )\n\u001b[1;32m    433\u001b[0m     \u001b[0mkwds\u001b[0m\u001b[0;34m[\u001b[0m\u001b[0;34m\"compression\"\u001b[0m\u001b[0;34m]\u001b[0m \u001b[0;34m=\u001b[0m \u001b[0mcompression\u001b[0m\u001b[0;34m\u001b[0m\u001b[0;34m\u001b[0m\u001b[0m\n",
      "\u001b[0;32m~/.local/lib/python3.6/site-packages/pandas/io/common.py\u001b[0m in \u001b[0;36mget_filepath_or_buffer\u001b[0;34m(filepath_or_buffer, encoding, compression, mode)\u001b[0m\n\u001b[1;32m    170\u001b[0m \u001b[0;34m\u001b[0m\u001b[0m\n\u001b[1;32m    171\u001b[0m     \u001b[0;32mif\u001b[0m \u001b[0misinstance\u001b[0m\u001b[0;34m(\u001b[0m\u001b[0mfilepath_or_buffer\u001b[0m\u001b[0;34m,\u001b[0m \u001b[0mstr\u001b[0m\u001b[0;34m)\u001b[0m \u001b[0;32mand\u001b[0m \u001b[0mis_url\u001b[0m\u001b[0;34m(\u001b[0m\u001b[0mfilepath_or_buffer\u001b[0m\u001b[0;34m)\u001b[0m\u001b[0;34m:\u001b[0m\u001b[0;34m\u001b[0m\u001b[0;34m\u001b[0m\u001b[0m\n\u001b[0;32m--> 172\u001b[0;31m         \u001b[0mreq\u001b[0m \u001b[0;34m=\u001b[0m \u001b[0murlopen\u001b[0m\u001b[0;34m(\u001b[0m\u001b[0mfilepath_or_buffer\u001b[0m\u001b[0;34m)\u001b[0m\u001b[0;34m\u001b[0m\u001b[0;34m\u001b[0m\u001b[0m\n\u001b[0m\u001b[1;32m    173\u001b[0m         \u001b[0mcontent_encoding\u001b[0m \u001b[0;34m=\u001b[0m \u001b[0mreq\u001b[0m\u001b[0;34m.\u001b[0m\u001b[0mheaders\u001b[0m\u001b[0;34m.\u001b[0m\u001b[0mget\u001b[0m\u001b[0;34m(\u001b[0m\u001b[0;34m\"Content-Encoding\"\u001b[0m\u001b[0;34m,\u001b[0m \u001b[0;32mNone\u001b[0m\u001b[0;34m)\u001b[0m\u001b[0;34m\u001b[0m\u001b[0;34m\u001b[0m\u001b[0m\n\u001b[1;32m    174\u001b[0m         \u001b[0;32mif\u001b[0m \u001b[0mcontent_encoding\u001b[0m \u001b[0;34m==\u001b[0m \u001b[0;34m\"gzip\"\u001b[0m\u001b[0;34m:\u001b[0m\u001b[0;34m\u001b[0m\u001b[0;34m\u001b[0m\u001b[0m\n",
      "\u001b[0;32m~/.local/lib/python3.6/site-packages/pandas/io/common.py\u001b[0m in \u001b[0;36murlopen\u001b[0;34m(*args, **kwargs)\u001b[0m\n\u001b[1;32m    139\u001b[0m     \u001b[0;32mimport\u001b[0m \u001b[0murllib\u001b[0m\u001b[0;34m.\u001b[0m\u001b[0mrequest\u001b[0m\u001b[0;34m\u001b[0m\u001b[0;34m\u001b[0m\u001b[0m\n\u001b[1;32m    140\u001b[0m \u001b[0;34m\u001b[0m\u001b[0m\n\u001b[0;32m--> 141\u001b[0;31m     \u001b[0;32mreturn\u001b[0m \u001b[0murllib\u001b[0m\u001b[0;34m.\u001b[0m\u001b[0mrequest\u001b[0m\u001b[0;34m.\u001b[0m\u001b[0murlopen\u001b[0m\u001b[0;34m(\u001b[0m\u001b[0;34m*\u001b[0m\u001b[0margs\u001b[0m\u001b[0;34m,\u001b[0m \u001b[0;34m**\u001b[0m\u001b[0mkwargs\u001b[0m\u001b[0;34m)\u001b[0m\u001b[0;34m\u001b[0m\u001b[0;34m\u001b[0m\u001b[0m\n\u001b[0m\u001b[1;32m    142\u001b[0m \u001b[0;34m\u001b[0m\u001b[0m\n\u001b[1;32m    143\u001b[0m \u001b[0;34m\u001b[0m\u001b[0m\n",
      "\u001b[0;32m~/miniconda3/envs/deepai-book/lib/python3.6/urllib/request.py\u001b[0m in \u001b[0;36murlopen\u001b[0;34m(url, data, timeout, cafile, capath, cadefault, context)\u001b[0m\n\u001b[1;32m    221\u001b[0m     \u001b[0;32melse\u001b[0m\u001b[0;34m:\u001b[0m\u001b[0;34m\u001b[0m\u001b[0;34m\u001b[0m\u001b[0m\n\u001b[1;32m    222\u001b[0m         \u001b[0mopener\u001b[0m \u001b[0;34m=\u001b[0m \u001b[0m_opener\u001b[0m\u001b[0;34m\u001b[0m\u001b[0;34m\u001b[0m\u001b[0m\n\u001b[0;32m--> 223\u001b[0;31m     \u001b[0;32mreturn\u001b[0m \u001b[0mopener\u001b[0m\u001b[0;34m.\u001b[0m\u001b[0mopen\u001b[0m\u001b[0;34m(\u001b[0m\u001b[0murl\u001b[0m\u001b[0;34m,\u001b[0m \u001b[0mdata\u001b[0m\u001b[0;34m,\u001b[0m \u001b[0mtimeout\u001b[0m\u001b[0;34m)\u001b[0m\u001b[0;34m\u001b[0m\u001b[0;34m\u001b[0m\u001b[0m\n\u001b[0m\u001b[1;32m    224\u001b[0m \u001b[0;34m\u001b[0m\u001b[0m\n\u001b[1;32m    225\u001b[0m \u001b[0;32mdef\u001b[0m \u001b[0minstall_opener\u001b[0m\u001b[0;34m(\u001b[0m\u001b[0mopener\u001b[0m\u001b[0;34m)\u001b[0m\u001b[0;34m:\u001b[0m\u001b[0;34m\u001b[0m\u001b[0;34m\u001b[0m\u001b[0m\n",
      "\u001b[0;32m~/miniconda3/envs/deepai-book/lib/python3.6/urllib/request.py\u001b[0m in \u001b[0;36mopen\u001b[0;34m(self, fullurl, data, timeout)\u001b[0m\n\u001b[1;32m    524\u001b[0m             \u001b[0mreq\u001b[0m \u001b[0;34m=\u001b[0m \u001b[0mmeth\u001b[0m\u001b[0;34m(\u001b[0m\u001b[0mreq\u001b[0m\u001b[0;34m)\u001b[0m\u001b[0;34m\u001b[0m\u001b[0;34m\u001b[0m\u001b[0m\n\u001b[1;32m    525\u001b[0m \u001b[0;34m\u001b[0m\u001b[0m\n\u001b[0;32m--> 526\u001b[0;31m         \u001b[0mresponse\u001b[0m \u001b[0;34m=\u001b[0m \u001b[0mself\u001b[0m\u001b[0;34m.\u001b[0m\u001b[0m_open\u001b[0m\u001b[0;34m(\u001b[0m\u001b[0mreq\u001b[0m\u001b[0;34m,\u001b[0m \u001b[0mdata\u001b[0m\u001b[0;34m)\u001b[0m\u001b[0;34m\u001b[0m\u001b[0;34m\u001b[0m\u001b[0m\n\u001b[0m\u001b[1;32m    527\u001b[0m \u001b[0;34m\u001b[0m\u001b[0m\n\u001b[1;32m    528\u001b[0m         \u001b[0;31m# post-process response\u001b[0m\u001b[0;34m\u001b[0m\u001b[0;34m\u001b[0m\u001b[0;34m\u001b[0m\u001b[0m\n",
      "\u001b[0;32m~/miniconda3/envs/deepai-book/lib/python3.6/urllib/request.py\u001b[0m in \u001b[0;36m_open\u001b[0;34m(self, req, data)\u001b[0m\n\u001b[1;32m    542\u001b[0m         \u001b[0mprotocol\u001b[0m \u001b[0;34m=\u001b[0m \u001b[0mreq\u001b[0m\u001b[0;34m.\u001b[0m\u001b[0mtype\u001b[0m\u001b[0;34m\u001b[0m\u001b[0;34m\u001b[0m\u001b[0m\n\u001b[1;32m    543\u001b[0m         result = self._call_chain(self.handle_open, protocol, protocol +\n\u001b[0;32m--> 544\u001b[0;31m                                   '_open', req)\n\u001b[0m\u001b[1;32m    545\u001b[0m         \u001b[0;32mif\u001b[0m \u001b[0mresult\u001b[0m\u001b[0;34m:\u001b[0m\u001b[0;34m\u001b[0m\u001b[0;34m\u001b[0m\u001b[0m\n\u001b[1;32m    546\u001b[0m             \u001b[0;32mreturn\u001b[0m \u001b[0mresult\u001b[0m\u001b[0;34m\u001b[0m\u001b[0;34m\u001b[0m\u001b[0m\n",
      "\u001b[0;32m~/miniconda3/envs/deepai-book/lib/python3.6/urllib/request.py\u001b[0m in \u001b[0;36m_call_chain\u001b[0;34m(self, chain, kind, meth_name, *args)\u001b[0m\n\u001b[1;32m    502\u001b[0m         \u001b[0;32mfor\u001b[0m \u001b[0mhandler\u001b[0m \u001b[0;32min\u001b[0m \u001b[0mhandlers\u001b[0m\u001b[0;34m:\u001b[0m\u001b[0;34m\u001b[0m\u001b[0;34m\u001b[0m\u001b[0m\n\u001b[1;32m    503\u001b[0m             \u001b[0mfunc\u001b[0m \u001b[0;34m=\u001b[0m \u001b[0mgetattr\u001b[0m\u001b[0;34m(\u001b[0m\u001b[0mhandler\u001b[0m\u001b[0;34m,\u001b[0m \u001b[0mmeth_name\u001b[0m\u001b[0;34m)\u001b[0m\u001b[0;34m\u001b[0m\u001b[0;34m\u001b[0m\u001b[0m\n\u001b[0;32m--> 504\u001b[0;31m             \u001b[0mresult\u001b[0m \u001b[0;34m=\u001b[0m \u001b[0mfunc\u001b[0m\u001b[0;34m(\u001b[0m\u001b[0;34m*\u001b[0m\u001b[0margs\u001b[0m\u001b[0;34m)\u001b[0m\u001b[0;34m\u001b[0m\u001b[0;34m\u001b[0m\u001b[0m\n\u001b[0m\u001b[1;32m    505\u001b[0m             \u001b[0;32mif\u001b[0m \u001b[0mresult\u001b[0m \u001b[0;32mis\u001b[0m \u001b[0;32mnot\u001b[0m \u001b[0;32mNone\u001b[0m\u001b[0;34m:\u001b[0m\u001b[0;34m\u001b[0m\u001b[0;34m\u001b[0m\u001b[0m\n\u001b[1;32m    506\u001b[0m                 \u001b[0;32mreturn\u001b[0m \u001b[0mresult\u001b[0m\u001b[0;34m\u001b[0m\u001b[0;34m\u001b[0m\u001b[0m\n",
      "\u001b[0;32m~/miniconda3/envs/deepai-book/lib/python3.6/urllib/request.py\u001b[0m in \u001b[0;36mhttps_open\u001b[0;34m(self, req)\u001b[0m\n\u001b[1;32m   1390\u001b[0m         \u001b[0;32mdef\u001b[0m \u001b[0mhttps_open\u001b[0m\u001b[0;34m(\u001b[0m\u001b[0mself\u001b[0m\u001b[0;34m,\u001b[0m \u001b[0mreq\u001b[0m\u001b[0;34m)\u001b[0m\u001b[0;34m:\u001b[0m\u001b[0;34m\u001b[0m\u001b[0;34m\u001b[0m\u001b[0m\n\u001b[1;32m   1391\u001b[0m             return self.do_open(http.client.HTTPSConnection, req,\n\u001b[0;32m-> 1392\u001b[0;31m                 context=self._context, check_hostname=self._check_hostname)\n\u001b[0m\u001b[1;32m   1393\u001b[0m \u001b[0;34m\u001b[0m\u001b[0m\n\u001b[1;32m   1394\u001b[0m         \u001b[0mhttps_request\u001b[0m \u001b[0;34m=\u001b[0m \u001b[0mAbstractHTTPHandler\u001b[0m\u001b[0;34m.\u001b[0m\u001b[0mdo_request_\u001b[0m\u001b[0;34m\u001b[0m\u001b[0;34m\u001b[0m\u001b[0m\n",
      "\u001b[0;32m~/miniconda3/envs/deepai-book/lib/python3.6/urllib/request.py\u001b[0m in \u001b[0;36mdo_open\u001b[0;34m(self, http_class, req, **http_conn_args)\u001b[0m\n\u001b[1;32m   1349\u001b[0m                           encode_chunked=req.has_header('Transfer-encoding'))\n\u001b[1;32m   1350\u001b[0m             \u001b[0;32mexcept\u001b[0m \u001b[0mOSError\u001b[0m \u001b[0;32mas\u001b[0m \u001b[0merr\u001b[0m\u001b[0;34m:\u001b[0m \u001b[0;31m# timeout error\u001b[0m\u001b[0;34m\u001b[0m\u001b[0;34m\u001b[0m\u001b[0m\n\u001b[0;32m-> 1351\u001b[0;31m                 \u001b[0;32mraise\u001b[0m \u001b[0mURLError\u001b[0m\u001b[0;34m(\u001b[0m\u001b[0merr\u001b[0m\u001b[0;34m)\u001b[0m\u001b[0;34m\u001b[0m\u001b[0;34m\u001b[0m\u001b[0m\n\u001b[0m\u001b[1;32m   1352\u001b[0m             \u001b[0mr\u001b[0m \u001b[0;34m=\u001b[0m \u001b[0mh\u001b[0m\u001b[0;34m.\u001b[0m\u001b[0mgetresponse\u001b[0m\u001b[0;34m(\u001b[0m\u001b[0;34m)\u001b[0m\u001b[0;34m\u001b[0m\u001b[0;34m\u001b[0m\u001b[0m\n\u001b[1;32m   1353\u001b[0m         \u001b[0;32mexcept\u001b[0m\u001b[0;34m:\u001b[0m\u001b[0;34m\u001b[0m\u001b[0;34m\u001b[0m\u001b[0m\n",
      "\u001b[0;31mURLError\u001b[0m: <urlopen error [SSL: WRONG_VERSION_NUMBER] wrong version number (_ssl.c:852)>"
     ]
    }
   ],
   "source": [
    "import pandas as pd\n",
    "\n",
    "df = pd.read_csv(\"https://raw.githubusercontent.com/phamdinhkhanh/datasets/master/BostonHousing.csv\", sep=\",\", header = 0, index_col = None)\n",
    "df.head()"
   ]
  },
  {
   "cell_type": "markdown",
   "id": "ready-cooking",
   "metadata": {
    "id": "enkuwJmyqOrE"
   },
   "source": [
    "Trong hàm `pd.read_csv()` chúng ta sẽ khai báo các thông số chính bao gồm :\n",
    "\n",
    "* sep: Là viết tắt của seperator, ký hiệu ngăn cách các trường trong cùng một dòng, thường và mặc định là dấu phảy.\n",
    "* header: Mặc định là indice của dòng được chọn làm column name. Thường là dòng đầu tiên của file. Trường hợp file không có header thì để `header = None`. Khi đó indices cho column name sẽ được mặc định là các số tự nhiên liên tiếp từ 0 cho đến indice column cuối cùng.\n",
    "* index_col: Là indice của column được sử dụng làm giá trị index cho dataframe. cột index phải có giá trị khác nhau để phân biệt giữa các dòng và khi chúng ta để index_col = None thì giá trị index sẽ được đánh mặc định từ 0 cho đến dòng cuối cùng."
   ]
  },
  {
   "cell_type": "markdown",
   "id": "variable-package",
   "metadata": {
    "id": "lDNmOXEVkFJ0"
   },
   "source": [
    "Hàm `df.head()` mặc định sẽ hiển thị ra 5 quan sát đầu tiên của dataframe. Chúng ta muốn hiển thị 5 quan sát cuối cùng thì dùng hàm `df.tail()` và 5 quan sát ngẫu nhiên thì dùng hàm `df.sample(5)`."
   ]
  },
  {
   "cell_type": "markdown",
   "id": "excess-division",
   "metadata": {
    "id": "MtEf_Mosjd1P"
   },
   "source": [
    "Hàm `df.info()` sẽ cho ta biết định dạng và số lượng quan sát `not-null` của mỗi trường trong dataframe."
   ]
  },
  {
   "cell_type": "code",
   "execution_count": null,
   "id": "front-yeast",
   "metadata": {
    "colab": {
     "base_uri": "https://localhost:8080/"
    },
    "id": "1EpBPw5EjoCl",
    "outputId": "50f25d60-191a-438d-dd79-6d7bae213ed0"
   },
   "outputs": [],
   "source": [
    "df.info()"
   ]
  },
  {
   "cell_type": "markdown",
   "id": "minute-sigma",
   "metadata": {
    "id": "99yomrSTkrYX"
   },
   "source": [
    "Hoặc chúng ta có thể dùng hàm `df.dtypes` để kiểm tra định dạng dữ liệu các trường của một bảng."
   ]
  },
  {
   "cell_type": "code",
   "execution_count": null,
   "id": "affiliated-activity",
   "metadata": {
    "colab": {
     "base_uri": "https://localhost:8080/"
    },
    "deletable": true,
    "editable": true,
    "id": "BuSwc1UDSzJs",
    "outputId": "2f9f3613-ed14-4084-f381-26a6d424fb05"
   },
   "outputs": [],
   "source": [
    "# Check for datatype\n",
    "df.dtypes"
   ]
  },
  {
   "cell_type": "markdown",
   "id": "indirect-framework",
   "metadata": {
    "id": "h3WBoFA_s_fZ"
   },
   "source": [
    "Nếu muốn kiểm tra chi tiết hơn những thống kê mô tả của dataframe như trung bình, phương sai, min, max, median của một trường dữ liệu chúng ta dùng hàm `df.describe()`"
   ]
  },
  {
   "cell_type": "code",
   "execution_count": null,
   "id": "laughing-background",
   "metadata": {
    "colab": {
     "base_uri": "https://localhost:8080/",
     "height": 297
    },
    "deletable": true,
    "editable": true,
    "id": "_I58Z6Z5SzJ7",
    "outputId": "0a32cdc0-f68c-4e63-b5f6-87a261e5ffe2"
   },
   "outputs": [],
   "source": [
    "# Thống kê mô tả dữ liệu\n",
    "df.describe()"
   ]
  },
  {
   "cell_type": "markdown",
   "id": "other-tutorial",
   "metadata": {
    "id": "ETd2i2lpuevj"
   },
   "source": [
    "## 2.1.4. Export to CSV, EXCEL, TXT, JSON\n",
    "\n",
    "Đây là câu lệnh được sử dụng khá phổ biến để lưu trữ các file dữ liệu từ dataframe sang những định dạng khác nhau. Những định dạng này sẽ cho phép chúng ta load lại dữ liệu bằng các hàm `read_csv(), read_xlsx(), read_txt(), read_json()` sau đó."
   ]
  },
  {
   "cell_type": "code",
   "execution_count": null,
   "id": "baking-glasgow",
   "metadata": {
    "class": "no-execute",
    "id": "wAySTF-XugIY"
   },
   "outputs": [],
   "source": [
    "%%script echo skipping\n",
    "\n",
    "# Lưu dữ liệu sang file csv\n",
    "df.to_csv('BostonHousing.csv', index = False)\n",
    "# Lưu file excel\n",
    "df.to_excel('BostonHousing.xls', index = False)\n",
    "# Lưu dữ file json\n",
    "df.to_json('BostonHousing.json') #do not include index = False, index only use for table orient"
   ]
  },
  {
   "cell_type": "markdown",
   "id": "stuffed-prefix",
   "metadata": {
    "deletable": true,
    "editable": true,
    "id": "ICRmGEYGSzKZ"
   },
   "source": [
    "# 2.2. Thao tác với dataframe"
   ]
  },
  {
   "cell_type": "markdown",
   "id": "simple-jesus",
   "metadata": {
    "id": "fk0tPbXNI6p4"
   },
   "source": [
    "## 2.2.1. Truy cập dataframe\n",
    "\n",
    "Chúng ta có thể truy cập dataframe theo hai cách.\n",
    "\n",
    "**Truy cập theo slice index:** Theo cách này chúng ta chỉ cần truyền vào index của dòng và cột và sử dụng hàm `df.iloc[rows_slice, columns_slice]` để trích xuất ra các dòng và cột tương ứng. Cách lấy slice cho rows và columns hoàn toàn tương tự như truy cập slice index trong [list](https://phamdinhkhanh.github.io/deepai-book/ch_appendix/appendix_dtypes_basic.html#list). \n",
    "\n",
    "_Note:_ `iloc` là viết tắt của indice location, tức là truy cập quan indice."
   ]
  },
  {
   "cell_type": "code",
   "execution_count": null,
   "id": "accomplished-wallet",
   "metadata": {
    "colab": {
     "base_uri": "https://localhost:8080/",
     "height": 204
    },
    "id": "VHG7YUzRRfvM",
    "outputId": "635b034c-c6a1-4851-b2b0-e4a1015e8ce0"
   },
   "outputs": [],
   "source": [
    "# Lựa chọn 5 dòng đầu và 5 cột đầu của df\n",
    "df.iloc[:5, :5]"
   ]
  },
  {
   "cell_type": "code",
   "execution_count": null,
   "id": "becoming-profession",
   "metadata": {
    "colab": {
     "base_uri": "https://localhost:8080/",
     "height": 204
    },
    "id": "bg9DUpfRRdot",
    "outputId": "f4faa30d-e74f-49d0-f127-8b29d85d9e31"
   },
   "outputs": [],
   "source": [
    "# Lựa chọn 5 dòng từ 5:10 và 2 cột từ 2:4\n",
    "df.iloc[5:10, 2:4]"
   ]
  },
  {
   "cell_type": "code",
   "execution_count": null,
   "id": "original-fancy",
   "metadata": {
    "colab": {
     "base_uri": "https://localhost:8080/",
     "height": 204
    },
    "id": "89TxUvLHRxgn",
    "outputId": "8e764ab3-24f2-42fa-a2ec-bc494475e393"
   },
   "outputs": [],
   "source": [
    "# Lựa chọn 5 dòng cuối và các cột 1 và 3\n",
    "df.iloc[-5:, [1, 3]]"
   ]
  },
  {
   "cell_type": "markdown",
   "id": "thorough-fence",
   "metadata": {
    "id": "69Vl8zuxSAIq"
   },
   "source": [
    "Ngoài ra ta cũng có thể truy cập các dòng theo row index của dataframe thông qua câu lệnh `df.loc[]`."
   ]
  },
  {
   "cell_type": "code",
   "execution_count": null,
   "id": "turkish-motivation",
   "metadata": {
    "colab": {
     "base_uri": "https://localhost:8080/",
     "height": 235
    },
    "id": "AGUpcbzFSKbr",
    "outputId": "0256b8e3-b670-4a80-c25d-19838e68be21"
   },
   "outputs": [],
   "source": [
    "# Truy cập các dòng có index là 10:15\n",
    "df.loc[10:15]"
   ]
  },
  {
   "cell_type": "markdown",
   "id": "integral-tiger",
   "metadata": {
    "id": "91f7rXWrR96K"
   },
   "source": [
    "**Truy cập theo column names:** Đây là cách được sử dụng phổ biến vì nó tường minh hơn. Theo cách này chúng ta sẽ truy cập các trường của dataframe bằng cách khai báo list column_names của chúng.\n",
    "\n",
    "Ví dụ bên dưới chúng ta cần lấy ra các trường `['crim', 'tax', 'rad']` từ bảng `df`. Ta sẽ làm như sau:"
   ]
  },
  {
   "cell_type": "code",
   "execution_count": null,
   "id": "industrial-generation",
   "metadata": {
    "colab": {
     "base_uri": "https://localhost:8080/",
     "height": 204
    },
    "id": "6he7OmOyTo57",
    "outputId": "891ff46f-e0df-4ca3-dc4c-89ca7ef59f0c"
   },
   "outputs": [],
   "source": [
    "df[['crim', 'tax', 'rad']].head()"
   ]
  },
  {
   "cell_type": "markdown",
   "id": "following-wallace",
   "metadata": {
    "id": "Wh_E3q8qTwtv"
   },
   "source": [
    "**Kết hợp cả hai cách**: Chúng ta có thể truy cập dataframe bằng cách kết hợp cả hai cách theo hướng sử dụng column names đối với cột và slice index đối với dòng:"
   ]
  },
  {
   "cell_type": "code",
   "execution_count": null,
   "id": "warming-exclusion",
   "metadata": {
    "colab": {
     "base_uri": "https://localhost:8080/",
     "height": 204
    },
    "id": "eqGPl5P3UG_V",
    "outputId": "29e4116f-e724-47a4-ae0d-e008e7450e85"
   },
   "outputs": [],
   "source": [
    "# Lấy ra các dòng từ 10:15 của các trường 'crim', 'tax', 'rad'\n",
    "df[['crim', 'tax', 'rad']].iloc[10:15]"
   ]
  },
  {
   "cell_type": "markdown",
   "id": "motivated-apartment",
   "metadata": {
    "id": "eDoGlT-IplRF"
   },
   "source": [
    "## 2.2.2. Lọc dataframe\n",
    "\n",
    "Chúng ta có thể lọc dataframe thông qua các điều kiện đối với các trường. Điều kiện của trường được thể hiện như một biểu thức logic và bao trong dấu `[]`. Giả sử chúng ta muốn lọc ra các thị trấn mà có số phòng ở trung bình trên căn hộ là trên 4 thì truyền vào dấu `[]` điều kiện `df['rm'] > 4`."
   ]
  },
  {
   "cell_type": "code",
   "execution_count": null,
   "id": "laden-findings",
   "metadata": {
    "colab": {
     "base_uri": "https://localhost:8080/",
     "height": 204
    },
    "id": "SoQVlccfp0ov",
    "outputId": "57c284c6-dbfc-436d-829b-c191963b420e"
   },
   "outputs": [],
   "source": [
    "df[df['rm'] > 4].head()"
   ]
  },
  {
   "cell_type": "markdown",
   "id": "static-potential",
   "metadata": {
    "id": "GtGYWFP6seqN"
   },
   "source": [
    "Nếu chúng ta muốn kết hợp nhiều điều kiện thì dùng biểu thức logic `and` hoặc `or`. Ví dụ: Muốn lọc thêm điều kiện thuế suất trên 250 ngoài điều kiện số phòng thì ta làm như sau:"
   ]
  },
  {
   "cell_type": "code",
   "execution_count": null,
   "id": "contained-maria",
   "metadata": {
    "colab": {
     "base_uri": "https://localhost:8080/",
     "height": 204
    },
    "id": "Q7Mky5hPs2RU",
    "outputId": "a20d47c3-24f4-441f-aae0-da37df8ad7f1"
   },
   "outputs": [],
   "source": [
    "df[(df['rm']>4) & (df['tax']>250)].head()"
   ]
  },
  {
   "cell_type": "markdown",
   "id": "informative-annual",
   "metadata": {
    "id": "tgUpVCMgtQKw"
   },
   "source": [
    "**Muốn lọc các cột theo định dạng dữ liệu thì như thế nào?**\n",
    "\n",
    "Ta dùng hàm `df.select_dtypes()` để lọc các cột theo định dạng dữ liệu. Những định dạng chính bao gồm `integer, float, object, boolean`. Ví dụ: Bên dưới chúng ta lọc các trường có định dạng dữ liệu là `float`."
   ]
  },
  {
   "cell_type": "code",
   "execution_count": null,
   "id": "downtown-pledge",
   "metadata": {
    "colab": {
     "base_uri": "https://localhost:8080/",
     "height": 204
    },
    "id": "kZOkjAettlBF",
    "outputId": "e820d4cf-6b50-43a2-e83a-0c3d8322bb47"
   },
   "outputs": [],
   "source": [
    "df.select_dtypes('float').head()"
   ]
  },
  {
   "cell_type": "markdown",
   "id": "adjustable-contributor",
   "metadata": {
    "id": "TWenj3EKzhYo"
   },
   "source": [
    "**Lọc các cột theo pattern của tên cột**\n",
    "\n",
    "Khi làm việc với dữ liệu lớn sẽ có những tình huống mà bạn bắt gặp các cột thuộc về cùng một nhóm và chúng có chung một pattern. Chẳng hạn như về age sẽ có `age_1, age_2, age_3`,.... Làm thế nào để bạn lọc ra được những biến này từ dữ liệu? Chúng ta sẽ dùng hàm filter. Đây là hàm cực kỳ tiện ích khi lọc cột từ những bộ dữ liệu lớn mà bạn sẽ thường xuyên sử dụng sau này."
   ]
  },
  {
   "cell_type": "code",
   "execution_count": null,
   "id": "neutral-trademark",
   "metadata": {
    "colab": {
     "base_uri": "https://localhost:8080/",
     "height": 204
    },
    "id": "7kK6Ne7X0O68",
    "outputId": "2b25e043-d51d-45b2-86b2-a5909305976e"
   },
   "outputs": [],
   "source": [
    "df2 = pd.DataFrame({\n",
    "    'name':['a', 'b', 'c', 'd', 'e'],\n",
    "    'age_1':[1, 2, 3, 4, 5],\n",
    "    'age_2':[3, 5, 7, 9 , 10],\n",
    "    'age_3':[2, 5, 2, 5, 6]\n",
    "})\n",
    "\n",
    "df2.head()"
   ]
  },
  {
   "cell_type": "markdown",
   "id": "governing-money",
   "metadata": {
    "id": "JPh7n2Ty0l29"
   },
   "source": [
    "Lựa chọn các cột bắt đầu là `age` thông qua hàm filter."
   ]
  },
  {
   "cell_type": "code",
   "execution_count": null,
   "id": "political-bacteria",
   "metadata": {
    "colab": {
     "base_uri": "https://localhost:8080/",
     "height": 204
    },
    "id": "KAukQpBs0ptf",
    "outputId": "1f076a3f-e340-48fb-9aff-e2f1b70ee70a"
   },
   "outputs": [],
   "source": [
    "df2.filter(regex='^age', axis=1)"
   ]
  },
  {
   "cell_type": "markdown",
   "id": "bored-grenada",
   "metadata": {
    "id": "2IWsc4Sc1-w7"
   },
   "source": [
    "Trong pandas thì `axis=1` là làm việc với cột và `axis=0` là làm việc với dòng. Giá trị của `regex=^age` có nghĩa là lọc các cột có chuỗi ký tự là `age` đứng đầu."
   ]
  },
  {
   "cell_type": "markdown",
   "id": "palestinian-suggestion",
   "metadata": {
    "id": "lBG6yLOp3ROI"
   },
   "source": [
    "## 2.2.3. Sort dữ liệu\n",
    "\n",
    "Trong nhiều trường hợp bạn sẽ cần sort dữ liệu theo chiều từ thấp lên cao hoặc từ cao xuống thấp để biết đâu là những quan sát nhỏ nhất và lớn nhất cũng như việc tạo ra một đồ thị có trend rõ ràng và thể hiện quan hệ tuyến tính giữa các biến theo trend.\n",
    "\n",
    "Để sort dữ liệu chúng ta sử dụng hàm `df.sort_values(.)`. Lựa chọn là `ascending = True` giúp sort theo thứ tự tăng dần, trường hợp `False` sẽ giảm dần.\n",
    "\n",
    "Giả sử bên dưới chúng ta cùng sort giá trị của căn nhà theo chiều giảm dần."
   ]
  },
  {
   "cell_type": "code",
   "execution_count": null,
   "id": "upset-adult",
   "metadata": {
    "colab": {
     "base_uri": "https://localhost:8080/",
     "height": 204
    },
    "deletable": true,
    "editable": true,
    "id": "tVOlfl66SzKe",
    "outputId": "20abdf6d-3405-4a7c-846e-3c75483c831f"
   },
   "outputs": [],
   "source": [
    "#Sort data\n",
    "df.sort_values('medv', ascending = False).head()"
   ]
  },
  {
   "cell_type": "markdown",
   "id": "postal-firmware",
   "metadata": {
    "id": "B8aY1uMg4wwM"
   },
   "source": [
    "chúng ta cũng có thể sort theo một nhóm các trường. Ví dụ để sort đồng thời giá trị của căn nhà và giá trị thuế suất thì ta truyền vào list các trường cần sort là `['medv', 'tax']`."
   ]
  },
  {
   "cell_type": "code",
   "execution_count": null,
   "id": "generic-quebec",
   "metadata": {
    "colab": {
     "base_uri": "https://localhost:8080/",
     "height": 204
    },
    "id": "--W6U5kN46OH",
    "outputId": "142ba670-116a-4549-ee94-5e0f2e675faa"
   },
   "outputs": [],
   "source": [
    "df.sort_values(['medv', 'tax'], ascending = False).head()"
   ]
  },
  {
   "cell_type": "markdown",
   "id": "excited-quilt",
   "metadata": {
    "id": "6hs8u-KI58Em"
   },
   "source": [
    "## 2.2.4. Các hàm đối với một trường"
   ]
  },
  {
   "cell_type": "markdown",
   "id": "continental-tackle",
   "metadata": {
    "id": "SLhCPegz9iot"
   },
   "source": [
    "### 2.2.4.1. Min, max, mean, meadian, sum\n",
    "\n",
    "Trên một trường dữ liệu của dataframe đã tích hợp sẵn các hàm tính toán như `min, max, mean, median, sum` để tính các giá trị đặc trưng cho từng trường."
   ]
  },
  {
   "cell_type": "code",
   "execution_count": null,
   "id": "administrative-planet",
   "metadata": {
    "colab": {
     "base_uri": "https://localhost:8080/"
    },
    "deletable": true,
    "editable": true,
    "id": "8f1IvxVaSzKv",
    "outputId": "62fde870-3d84-434f-9a1e-a50589e29b4a"
   },
   "outputs": [],
   "source": [
    "# min, max, mean, median, sum\n",
    "print(df['tax'].min(), df['tax'].max(), df['tax'].mean(), df['tax'].median(), df['tax'].sum())"
   ]
  },
  {
   "cell_type": "markdown",
   "id": "proved-tracy",
   "metadata": {
    "id": "Q2br0ypm6yzR"
   },
   "source": [
    "### 2.2.4.2. Hàm cut\n",
    "\n",
    "Hàm cut giúp ta phân chia giá trị của một trường liên tục vào những khoảng theo ngưỡng cắt. Kết quả trả ra là nhãn của từng khoảng mà chúng ta khai báo."
   ]
  },
  {
   "cell_type": "code",
   "execution_count": null,
   "id": "higher-american",
   "metadata": {
    "colab": {
     "base_uri": "https://localhost:8080/",
     "height": 204
    },
    "id": "Ys2dkJAa61Tw",
    "outputId": "b5f0603d-147b-4c3c-c906-d00a3639f7b2"
   },
   "outputs": [],
   "source": [
    "bins = [-999999, 250, 400, 999999]\n",
    "labels = ['low', 'normal', 'high']\n",
    "# low: -999999 <- 250\n",
    "# normal: 250 <- 400\n",
    "# high: 400 <- 999999\n",
    "df['tax_labels'] = pd.cut(df['tax'], bins=bins, labels=labels)\n",
    "df[df['tax_labels']=='high'].head()"
   ]
  },
  {
   "cell_type": "markdown",
   "id": "separate-chicago",
   "metadata": {
    "id": "fd-gKdLf9kZI"
   },
   "source": [
    "### 2.2.4.3. Hàm qcut\n",
    "\n",
    "Trong trường hợp chúng ta không muốn chia các bin dựa vào ngưỡng mà chỉ muốn khai báo số lượng bins và để cho hàm số tự quyết định ngưỡng để chia đều các quan sát vào các bins thì sử dụng hàm `pd.qcut(.)` (qcut là viết tắt của quantile cut). Bên dưới ta sẽ chia thành 3 bins (số bins sẽ được khai báo trong `q=3`) với labels tương ứng là `['low', 'normal', 'high']`"
   ]
  },
  {
   "cell_type": "code",
   "execution_count": null,
   "id": "artistic-dublin",
   "metadata": {
    "colab": {
     "base_uri": "https://localhost:8080/"
    },
    "id": "16Qlc0JK9oGl",
    "outputId": "7932aafb-f481-439a-b9ac-1f1ce7e9f881"
   },
   "outputs": [],
   "source": [
    "import numpy as np\n",
    "\n",
    "labels = ['low', 'normal', 'high']\n",
    "tax_labels = pd.qcut(df['tax'], q=3, labels=labels)\n",
    "np.unique(tax_labels, return_counts = True)"
   ]
  },
  {
   "cell_type": "markdown",
   "id": "competent-worst",
   "metadata": {
    "id": "xYUQzpmg-uyg"
   },
   "source": [
    "Trường hợp muốn xác định tỷ lệ phần trăm **luỹ kế** của các ngưỡng phân chia ta có thể khai báo q là list gồm các ngưỡng luỹ kế. Ví dụ bên dưới ta muốn chia làm ba khoảng giá trị, mỗi khoảng chiếm 33% thì ta khai báo ngưỡng luỹ kế `q = [0, 0.33, 0.66, 1]`"
   ]
  },
  {
   "cell_type": "markdown",
   "id": "potential-technology",
   "metadata": {
    "id": "NdoooKORAJ82"
   },
   "source": [
    "### 2.2.4.4. Apply\n",
    "\n",
    "Apply sẽ giúp ta biến đổi giá trị của một trường theo một hàm số xác định trước. Hàm số biến đổi được áp dụng trong apply sẽ là một hàm `lamda`. Hàm lambda là một khái niệm rất quan trọng trong python, hàm số này có cú pháp dạng `lambda x: formula`.\n",
    "\n",
    "Phân tích kỹ hơn thì chúng ta thấy nó không có return. Điều này là phù hợp với ý nghĩa của hàm lambda vì nó không yêu cầu gía trị trả về ngay. Thực tế nó giống như một lời hứa sẽ thực hiện hàm đó tại thời điểm áp dụng một cách ngầm định bên trong một hàm khác (ở đây là hàm apply).\n",
    "\n",
    "Ví dụ bên dưới ta muốn nhân đôi giá trị của tax thì có thể sử dụng hàm apply với lambda như sau:"
   ]
  },
  {
   "cell_type": "code",
   "execution_count": null,
   "id": "indian-banana",
   "metadata": {
    "colab": {
     "base_uri": "https://localhost:8080/"
    },
    "id": "eLCcAq-BAZ6i",
    "outputId": "cec19196-41c3-478f-91c3-87116ce890c4"
   },
   "outputs": [],
   "source": [
    "df['tax'].apply(lambda x: 2*x).head()"
   ]
  },
  {
   "cell_type": "markdown",
   "id": "thousand-giving",
   "metadata": {
    "id": "o7_il3CCAz-p"
   },
   "source": [
    "Ta cũng có thể áp dụng cho nhiều trường một lúc. Khi đó cần khai báo `axis=1` để biết rằng ta đang áp dụng trên từng cột, nếu axis=0 thì sẽ áp dụng trên từng dòng."
   ]
  },
  {
   "cell_type": "code",
   "execution_count": null,
   "id": "working-kansas",
   "metadata": {
    "colab": {
     "base_uri": "https://localhost:8080/",
     "height": 204
    },
    "id": "nlch5qPtBAcW",
    "outputId": "778712dc-8d49-4f39-a522-1cefeefc0455"
   },
   "outputs": [],
   "source": [
    "df[['tax', 'medv']].apply(lambda x: 2*x, axis=1).head()"
   ]
  },
  {
   "cell_type": "markdown",
   "id": "sharing-redhead",
   "metadata": {
    "id": "q8QX2M-tCleA"
   },
   "source": [
    "### 2.2.4.5. Map\n",
    "\n",
    "Map là hàm giúp biến đổi giá trị của một biến sang giá trị mới dựa trên dictionary mà chúng ta áp dụng. Giá trị cũ sẽ là key và giá trị mới sẽ là value.\n",
    "\n",
    "Bên dưới ta sẽ map các giá trị của trường `df['tax_labels']` sang các giá trị tiếng Việt."
   ]
  },
  {
   "cell_type": "code",
   "execution_count": null,
   "id": "broad-melissa",
   "metadata": {
    "colab": {
     "base_uri": "https://localhost:8080/"
    },
    "id": "NfMuCbBNCzdk",
    "outputId": "b828dd0f-f3bf-4d54-dd52-fd9eef3d00d0"
   },
   "outputs": [],
   "source": [
    "dict_tax = {\n",
    "      'low':'thap',\n",
    "      'normal':'tb',        \n",
    "      'high':'cao'\n",
    "    }\n",
    "    \n",
    "df['tax_labels'].map(dict_tax).head()"
   ]
  },
  {
   "cell_type": "markdown",
   "id": "peripheral-gathering",
   "metadata": {
    "id": "bzHoU7CWDbRi"
   },
   "source": [
    "## 2.2.5. Biểu đồ matplotlib trên pandas\n",
    "\n",
    "Chúng ta có thể nói rằng pandas rất mạnh vì nó đã wrap dường như toàn bộ các đồ thị cơ bản của matplotlib vào bên trong các hàm thành phần của pandas column. Do đó việc visualize trở nên vô cùng ngắn gọn, thậm chí là chỉ trên một dòng.\n",
    "\n",
    "Bên dưới chúng ta sẽ cùng lướt qua nhanh các đồ thị cơ bản khi visualize trên `pd.column`. Biến được áp dụng đồng nhất cho các đồ thị là `tax`.\n",
    "\n",
    "**1. biểu đồ line**"
   ]
  },
  {
   "cell_type": "code",
   "execution_count": null,
   "id": "entire-analysis",
   "metadata": {
    "colab": {
     "base_uri": "https://localhost:8080/",
     "height": 282
    },
    "id": "-FHtcPvT_wiM",
    "outputId": "46d712d0-cf56-4825-d3f1-3371ba9820ff"
   },
   "outputs": [],
   "source": [
    "df['tax'].plot()"
   ]
  },
  {
   "cell_type": "markdown",
   "id": "personal-mechanics",
   "metadata": {
    "id": "qlV2PPNHGZYz"
   },
   "source": [
    "**2. Biểu đồ line kết hợp với point**"
   ]
  },
  {
   "cell_type": "code",
   "execution_count": null,
   "id": "human-controversy",
   "metadata": {
    "colab": {
     "base_uri": "https://localhost:8080/",
     "height": 282
    },
    "id": "1cTXZvGUGelF",
    "outputId": "da107429-101e-4044-e869-013dd7b2caa4"
   },
   "outputs": [],
   "source": [
    "df['tax'].plot(marker='o')"
   ]
  },
  {
   "cell_type": "markdown",
   "id": "imperial-wealth",
   "metadata": {
    "id": "wvMU3iEyEbur"
   },
   "source": [
    "**3. Biểu đồ barchart**\n",
    "\n",
    "Biều đồ này được dùng phù hợp khi chúng ta muốn so sánh chênh lệch giữa các nhóm về mặt giá trị tuyệt đối."
   ]
  },
  {
   "cell_type": "code",
   "execution_count": null,
   "id": "approved-crossing",
   "metadata": {
    "colab": {
     "base_uri": "https://localhost:8080/",
     "height": 322
    },
    "id": "gKpHgzepE-of",
    "outputId": "f7467ebf-72dc-48ee-ad73-ca4c0f2b144b"
   },
   "outputs": [],
   "source": [
    "df_summary = df[['tax_labels', 'tax']].groupby('tax_labels').sum()\n",
    "df_summary.plot.bar()"
   ]
  },
  {
   "cell_type": "markdown",
   "id": "instrumental-fundamentals",
   "metadata": {
    "id": "Ah126m4pFcFE"
   },
   "source": [
    "Ở đây ta sẽ phải dùng thêm hàm groupby để tạo thành bảng thống kê tổng thuế theo `tax_labels` rồi mới vẽ biểu đồ. Khi quen thuộc bạn có thể viết gọn hai câu lệnh lại thành một line như sau:"
   ]
  },
  {
   "cell_type": "code",
   "execution_count": null,
   "id": "secret-compiler",
   "metadata": {
    "colab": {
     "base_uri": "https://localhost:8080/",
     "height": 322
    },
    "id": "PLKEBQH2FyVH",
    "outputId": "498c75ab-78d5-4bad-faff-508d08364235"
   },
   "outputs": [],
   "source": [
    "df[['tax_labels', 'tax']].groupby('tax_labels').sum().plot.bar()"
   ]
  },
  {
   "cell_type": "markdown",
   "id": "first-stock",
   "metadata": {
    "id": "FzUziXUMF2-B"
   },
   "source": [
    "**4. Biểu đồ pie**\n",
    "\n",
    "Đây là biểu đồ dùng để thể hiện giá trị phần trăm. Phù hợp khi so sánh giá trị tương đối giữa các nhóm."
   ]
  },
  {
   "cell_type": "code",
   "execution_count": null,
   "id": "instrumental-cutting",
   "metadata": {
    "colab": {
     "base_uri": "https://localhost:8080/",
     "height": 265
    },
    "id": "W6wAkAhtF592",
    "outputId": "ae7d7fe2-9c06-41fd-9396-03665b118a09"
   },
   "outputs": [],
   "source": [
    "df_summary['tax'].plot.pie(autopct = '%1.1f%%')"
   ]
  },
  {
   "cell_type": "markdown",
   "id": "welcome-jamaica",
   "metadata": {
    "id": "ZOq4DQnmHi8a"
   },
   "source": [
    "**5. Biểu đồ boxplot**\n",
    "\n",
    "Biểu đồ boxplot sẽ được sử dụng để quan sát phân phối của biến đối với các giá trị min, max và các ngưỡng phân vị 25%, 50%, 75%. Căn cứ vào boxplot ta có thể biết được khoảng biến thiên của biến rộng hay hẹp, biến phân phối lệch trái hay phải."
   ]
  },
  {
   "cell_type": "code",
   "execution_count": null,
   "id": "liquid-reproduction",
   "metadata": {
    "colab": {
     "base_uri": "https://localhost:8080/",
     "height": 282
    },
    "id": "O4VRHviBHRgX",
    "outputId": "eb227d1a-2a31-4dba-8654-7b0e46e6ee35"
   },
   "outputs": [],
   "source": [
    "df[['tax', 'age', 'b']].boxplot()"
   ]
  },
  {
   "cell_type": "markdown",
   "id": "million-disco",
   "metadata": {
    "id": "WkXiMgAtIlSE"
   },
   "source": [
    "**6. Biểu đồ area**\n",
    "\n",
    "Biểu đồ area cho ta biết diện tích nằm dưới đường biểu diễn và trên trục hoành."
   ]
  },
  {
   "cell_type": "code",
   "execution_count": null,
   "id": "specialized-boards",
   "metadata": {
    "colab": {
     "base_uri": "https://localhost:8080/",
     "height": 297
    },
    "id": "XFjqMuzTIfyc",
    "outputId": "56afae84-0f70-4d3f-9563-9a4ad0cb20bd"
   },
   "outputs": [],
   "source": [
    "df_summary['tax'].plot.area()"
   ]
  },
  {
   "cell_type": "markdown",
   "id": "mineral-minority",
   "metadata": {
    "id": "IFztwZvSvtXl"
   },
   "source": [
    "# 2.3. Reshape dataframe trên pandas"
   ]
  },
  {
   "cell_type": "markdown",
   "id": "short-history",
   "metadata": {
    "id": "Jq65_kYsv2R9"
   },
   "source": [
    "## 2.3.1. Melt\n",
    "\n",
    "Hàm melt là hàm được lấy ý tưởng từ ngôn ngữ R. Hàm này sẽ làm cho bảng của chúng ta trở nên bớt cồng kềnh hơn bằng cách rút gọn nhiều measurements thành hai cột variable và value trong đó cột variable qui định loại measurement và value là giá trị của measurement. Bảng của bạn sẽ có ít cột hơn đáng kể nên trông giống như các cột measurement đang bị tan chảy vậy. Do đó nó có tên gọi là melt.\n",
    "\n",
    "Bạn sẽ dễ hình dung hơn những gì mình nói thông qua ví dụ bên dưới. Giả sử bảng của mình gồm Ho, Ten là các dimensions và `ChieuCao, CanNang, Tuoi, Diem` là những measurements."
   ]
  },
  {
   "cell_type": "code",
   "execution_count": null,
   "id": "civil-pricing",
   "metadata": {
    "colab": {
     "base_uri": "https://localhost:8080/",
     "height": 111
    },
    "id": "8l0VJfAgv7Vx",
    "outputId": "b0a9ec1b-a16b-47c4-ac93-1bb7b535f186"
   },
   "outputs": [],
   "source": [
    "df5 = pd.DataFrame({\n",
    "  'Ho':['Pham','Nguyen'],\n",
    "  'Ten' :['Cong', 'Dong'],\n",
    "  'ChieuCao':[170, 175],\n",
    "  'CanNang':[60, 65],\n",
    "  'Tuoi': [25, 27],\n",
    "  'Diem': [8.5, 9.0],\n",
    "})\n",
    "\n",
    "df5"
   ]
  },
  {
   "cell_type": "markdown",
   "id": "exotic-baltimore",
   "metadata": {
    "id": "IidWw-xpv94A"
   },
   "source": [
    "Ta nhận thấy `Ho, Ten` là những dimension, bây giờ ta sẽ giữ nguyên những trường này và làm tan chảy các cột."
   ]
  },
  {
   "cell_type": "code",
   "execution_count": null,
   "id": "naval-nudist",
   "metadata": {
    "colab": {
     "base_uri": "https://localhost:8080/",
     "height": 297
    },
    "id": "hbvbAXWRwDb4",
    "outputId": "dc59fb23-39d5-4b91-87ec-1c3f98fa5373"
   },
   "outputs": [],
   "source": [
    "df5.melt(['Ho', 'Ten'])"
   ]
  },
  {
   "cell_type": "markdown",
   "id": "alive-prototype",
   "metadata": {
    "id": "ozZ0QLkTwB2Q"
   },
   "source": [
    "Ta nhận thấy bảng đã trở nên gọn gàng hơn khi các cột được đưa vào trường `variable` và giá trị của chúng được đưa vào `value`.\n",
    "\n",
    "Cách biến đổi `melt` sẽ phù hợp với các bảng đã phân chia sẵn dimension, measurement rõ ràng và số lượng measurements của bảng là lớn."
   ]
  },
  {
   "cell_type": "markdown",
   "id": "coated-blond",
   "metadata": {
    "id": "TA1WbKXRwN2B"
   },
   "source": [
    "## 2.3.2. Biến đổi Dummy\n",
    "\n",
    "Cách biến đổi dummy là một cách rất hiệu quả để biến đổi một biến category thành một one-hot véc tơ. Cụ thể cũng với bảng `df5` ở trên, ta nhận thấy biến `Ho` gồm hai giá trị là `Pham` và `Nguyen`. Chúng ta có thể tạo thành một one-hot vector sao cho nếu giá trị đầu tiên là 1 thì tương ứng với họ `Pham` và giá trị thứ hai là 1 thì họ `Nguyen` (chưa xét tới trường hợp tồn tại họ khác `Pham` và `Nguyen`). Thường thì bạn sẽ nghĩ đến sử dụng hàm [LabelBinarizer](https://scikit-learn.org/stable/modules/generated/sklearn.preprocessing.LabelBinarizer.html) của sklearn nhưng pandas cung cấp cho bạn một hàm đơn giản hơn để thực hiện việc này. Đó là `pd.get_dummies()`"
   ]
  },
  {
   "cell_type": "code",
   "execution_count": null,
   "id": "ambient-cause",
   "metadata": {
    "colab": {
     "base_uri": "https://localhost:8080/",
     "height": 111
    },
    "id": "uqWHQ9YYwTGq",
    "outputId": "10a95cfb-f1f3-4372-94c7-a474874f406b"
   },
   "outputs": [],
   "source": [
    "pd.get_dummies(df5)"
   ]
  },
  {
   "cell_type": "markdown",
   "id": "improved-hamburg",
   "metadata": {
    "id": "TqPAwMtkwWT6"
   },
   "source": [
    "Ta thấy hàm này sẽ tìm **toàn bộ** các biến là category (có định dạng trường là `object`) và tự động trải phẳng chúng. Khi đó các cột mới được tạo thành chính là `Ho_Nguyen`, `Ho_Pham` là những nhãn thuộc biến `Ho`. Giá trị của những trường này bằng 0 hoặc 1.\n",
    "\n",
    "Mặc dù có cú pháp cực kì đơn giản nhưng hàm `pd.get_dummies()` lại cực kì hữu ích đối với data scientist khi xây dựng mô hình mà bạn cần ghi nhớ."
   ]
  },
  {
   "cell_type": "markdown",
   "id": "continuing-accuracy",
   "metadata": {
    "id": "7cUTQsxQuyGp"
   },
   "source": [
    "# 2.4. Thống kê theo nhóm trên pandas\n",
    "\n",
    "Khi làm việc với dữ liệu bảng chúng ta thường xuyên phải thống kê dữ liệu theo các nhóm để bắt dữ liệu tạo ra những thông tin insight hữu ích cho phân tích và ra quyết định. Ngoài ra những feature tốt, có sức mạnh phân loại và dự báo cao có thể được tạo thành từ việc thống kê dữ liệu theo nhóm. Quá trình thống kê và phân tích dữ liệu mặc dù tốn kém về mặt thời gian nhưng lại rất quan trọng đối với mô hình. Vì vậy chúng ta cần thực hiện chúng kỹ lưỡng và cần kết hợp giữa kỹ năng thống kê và kinh nghiệm thực tiễn.\n",
    "\n",
    "Ở mục 5 này chúng ta sẽ làm quen với hai câu lệnh kinh điển trong pandas được sử dụng nhiều trong thống kê theo nhóm trên pandas đó là `df.groupby()` và `pd.pivotable()`."
   ]
  },
  {
   "cell_type": "markdown",
   "id": "agricultural-helena",
   "metadata": {
    "id": "5Wp7x7Gpwe9d"
   },
   "source": [
    "## 2.4.1. df.groupby()\n",
    "\n",
    "groupby là câu lệnh cho phép bạn áp dụng những hàm số trên measurements dựa trên việc phân nhóm dữ liệu theo các dimensions.\n",
    "\n",
    "Nếu bạn chưa hiểu về khái niệm measurement và dimension thì mình có thể giải thích đơn giản là: measurement là những biến có thể cộng trừ nhân chia và đo đếm được còn dimension là những biến dùng để phân nhóm dữ liệu. Ví dụ chiều cao là một measurement có thể đo theo dimension là giới tính gồm các nhóm nam/nữ.\n",
    "\n",
    "Cú pháp của hàm `df.groupby()` khá đơn giản:\n",
    "\n",
    "```\n",
    "df.groupby(by=None, \n",
    "  ...\n",
    ")\n",
    "```\n",
    "\n",
    "Chúng ta cần xác định các chiều dimension trong `by`. Phía sau `groupby()` là một list các measurements mà ta cần áp dụng hàm lên trên những trường này."
   ]
  },
  {
   "cell_type": "code",
   "execution_count": null,
   "id": "phantom-sleeping",
   "metadata": {
    "colab": {
     "base_uri": "https://localhost:8080/"
    },
    "id": "pb8dGHWGBRpU",
    "outputId": "4d61b87d-fb5f-4330-a7b4-74e15570d013"
   },
   "outputs": [],
   "source": [
    "df.groupby('tax_labels')['tax'].sum()"
   ]
  },
  {
   "cell_type": "markdown",
   "id": "iraqi-student",
   "metadata": {
    "id": "3b8CG_ZoBR4l"
   },
   "source": [
    "Theo cách trên thì ta chỉ áp dụng được với những hàm tính toán như `sum, avg, min, max` có sẵn trong dataframe. Nếu muốn sử dụng `groupby()` cho mọi biến đổi hàm chúng ta có thể dùng hàm `lambda` trong `apply()`."
   ]
  },
  {
   "cell_type": "code",
   "execution_count": null,
   "id": "visible-vietnamese",
   "metadata": {
    "colab": {
     "base_uri": "https://localhost:8080/"
    },
    "id": "OaIUHewz7067",
    "outputId": "6f178d3b-407e-4469-90de-dc65c24f49df"
   },
   "outputs": [],
   "source": [
    "df.groupby('tax_labels')['tax'].apply(lambda x: sum(x))"
   ]
  },
  {
   "cell_type": "markdown",
   "id": "gothic-white",
   "metadata": {
    "id": "b96HWU7gCYbe"
   },
   "source": [
    "Nếu muốn áp dụng tính toán cho nhiều measurements một lúc thì truyền vào một list các measurements. Chẳng hạn bên dưới ta truyền vào một list gồm `['tax', 'rm']`"
   ]
  },
  {
   "cell_type": "code",
   "execution_count": null,
   "id": "olympic-cycling",
   "metadata": {
    "colab": {
     "base_uri": "https://localhost:8080/",
     "height": 173
    },
    "id": "knFc1LNM8Wbu",
    "outputId": "89ccf77d-1596-4f8d-f0a8-6de2d141c1c1"
   },
   "outputs": [],
   "source": [
    "import numpy as np\n",
    "df.groupby('tax_labels')[['tax', 'rm']].apply(lambda x: np.mean(x))"
   ]
  },
  {
   "cell_type": "markdown",
   "id": "stopped-structure",
   "metadata": {
    "id": "W5m_klMu8gO0"
   },
   "source": [
    "Chúng ta cũng có thể tự định nghĩa các hàm được tuỳ biến theo ý muốn:"
   ]
  },
  {
   "cell_type": "code",
   "execution_count": null,
   "id": "suitable-needle",
   "metadata": {
    "colab": {
     "base_uri": "https://localhost:8080/"
    },
    "id": "nV8Tkyor8pf-",
    "outputId": "37edcfdd-4c0e-4003-8537-9785d20ff32a"
   },
   "outputs": [],
   "source": [
    "# Tính quantile 90% của mỗi nhóm tax_labels.\n",
    "def quantile(x):\n",
    "  q_90 = np.quantile(x, 0.9)\n",
    "  return q_90\n",
    "\n",
    "df.groupby('tax_labels')['tax'].apply(lambda x: quantile(x))"
   ]
  },
  {
   "cell_type": "markdown",
   "id": "framed-sword",
   "metadata": {
    "id": "kJQxlYNL_DUi"
   },
   "source": [
    "Hoặc group theo nhiều chiều dữ liệu. Khi đó phải truyền vào `groupby()` một list các dimension."
   ]
  },
  {
   "cell_type": "code",
   "execution_count": null,
   "id": "faced-bulletin",
   "metadata": {
    "colab": {
     "base_uri": "https://localhost:8080/"
    },
    "id": "LFK3VSBQ_IPL",
    "outputId": "18cebc78-3fb5-4dad-b1ba-f1f635325426"
   },
   "outputs": [],
   "source": [
    "df.groupby(['tax_labels', 'chas'])['tax'].apply(lambda x: quantile(x))"
   ]
  },
  {
   "cell_type": "markdown",
   "id": "inner-trailer",
   "metadata": {
    "id": "Bl6G2CX3C_xY"
   },
   "source": [
    "Ưu điểm của `groupby()` đó là nhanh gọn, dễ hiểu. Nhưng nhược điểm của `groupby()` đó là chúng ta chỉ có thể áp dụng cùng một biến đổi hàm số cho mọi measurements. Ở `pivot_table` bạn có thể tuỳ biến sâu hơn từng hàm đối với từng measurement nhưng cú pháp sẽ phức tạp hơn một chút."
   ]
  },
  {
   "cell_type": "markdown",
   "id": "bridal-norwegian",
   "metadata": {
    "id": "FLlbvbZMwdj3"
   },
   "source": [
    "## 2.4.2. Pivotable"
   ]
  },
  {
   "cell_type": "markdown",
   "id": "unlikely-stupid",
   "metadata": {
    "id": "iQjXrj6uu-Q2"
   },
   "source": [
    "Pivot table là một công thức có ứng dụng rất quan trọng trong pandas. Nó giúp cho chúng ta thực hiện các thống kê trên các biến measurement theo các chiều dimension. \n",
    "\n",
    "Bạn sẽ hình dung ra cách áp dụng của `pivot_table()` thông qua ví dụ bên dưới."
   ]
  },
  {
   "cell_type": "code",
   "execution_count": null,
   "id": "dying-trace",
   "metadata": {
    "colab": {
     "base_uri": "https://localhost:8080/",
     "height": 390
    },
    "id": "Ami93HxRu5Ab",
    "outputId": "0809a73f-9f1f-4ed0-b524-d059683b96a9"
   },
   "outputs": [],
   "source": [
    "import numpy as np\n",
    "\n",
    "pd.pivot_table(df, \n",
    "               columns = ['tax_labels', 'chas'], \n",
    "               index = ['rad'], \n",
    "               values = 'tax',\n",
    "               aggfunc = np.sum)"
   ]
  },
  {
   "cell_type": "markdown",
   "id": "matched-powell",
   "metadata": {
    "id": "YG1KoSPvvPZY"
   },
   "source": [
    "Bạn hình dung ra nội dung của bảng thống kê trên chứ?\n",
    "\n",
    "Bảng thống kê trên sẽ tính tổng số thuế thu được phân theo các cột là `tax_labels` và `chas` (tax_labels gồm low, normal và high và chas gồm 0-không bao bởi sông, 1-bao bởi sông).\n",
    "\n",
    "Các dòng lại được phân nhóm theo chỉ số mức độ tiếp cận đường cao tốc `rad` gồm các giá trị `1,2,3,4,5,6,7,8,24`.\n",
    "\n",
    "Như vậy ta có thể hình dung được trong công thức của pivot_table, các đối số của nó có ý nghĩa như sau:\n",
    "\n",
    "* `columns`: List các dimensions của cột mà chúng ta cần thống kê.\n",
    "* `index`: List các dimensions theo dòng mà chúng ta cần thống kê.\n",
    "* `values`: List các measurement chúng ta sử dụng để tính toán.\n",
    "* `aggfunc`: Qui định hàm số chúng ta sẽ dùng để biến đổi measurement. Trong ví dụ này chúng ta áp dụng hàm np.sum cho toán bộ các measurement."
   ]
  },
  {
   "cell_type": "markdown",
   "id": "continued-utility",
   "metadata": {
    "id": "XZK_uq7RvT54"
   },
   "source": [
    "**Làm sao để qui định mỗi measurement một công thức?**\n",
    "\n",
    "Giả sử chúng ta cần tính thêm trung bình số phòng trên căn hộ. Tức là thêm trung bình của trường `rm` trong khi vẫn cần tính tổng của trường `tax`. Khi đó cần khai báo `aggfunc` dưới dạng một dictionary có key là tên của measurement và value là công thức của measurement."
   ]
  },
  {
   "cell_type": "code",
   "execution_count": null,
   "id": "formed-effort",
   "metadata": {
    "colab": {
     "base_uri": "https://localhost:8080/",
     "height": 421
    },
    "id": "ySI68-shvUBM",
    "outputId": "5b04a30e-01a4-4f42-a592-e03a29cd2ad2"
   },
   "outputs": [],
   "source": [
    "pd.pivot_table(df, \n",
    "               columns = ['tax_labels', 'chas'], \n",
    "               index = ['rad'], \n",
    "               values = ['tax', 'rm'],\n",
    "               aggfunc = {\n",
    "                   'tax': np.sum,\n",
    "                   'rm': np.mean\n",
    "                   })"
   ]
  },
  {
   "cell_type": "markdown",
   "id": "assigned-substitute",
   "metadata": {
    "id": "zdl_2mV1vcFR"
   },
   "source": [
    "Bảng của chúng ta đã tăng gấp đôi số cột. Dòng đầu tiên của bảng là `rm`, `tax` là những thông tin ứng với từng measurement.\n",
    "\n",
    "Bạn thấy đó, `pd.pivot_table()` hoàn toàn đơn giản và rất hiệu quả phải không nào?"
   ]
  },
  {
   "cell_type": "markdown",
   "id": "faced-growth",
   "metadata": {
    "id": "ib1Fh5ZGUalg"
   },
   "source": [
    "# 2.5. Join, Merge và Concatenate bảng\n",
    "\n",
    "Những doanh nghiệp lớn thường tổ chức cơ sở dữ liệu dưới dạng những bảng dữ liệu có quan hệ. Những bảng này được liên kết với nhau bởi key dưới những quan hệ dữ liệu như one-to-one, many-to-one hoặc one-to-many. Những kiến trúc phổ biến trong data warehouse như `star schema` và `snowflake schema` sẽ giúp cho chúng ta nhanh chóng join các bảng lại với nhau để tạo ra những bảng raw data tổng hợp phục vụ cho các nhu cầu phân tích, thống kê và xây dựng mô hình.\n",
    "\n",
    "Ngoài ngôn ngữ SQL là công cụ chính để làm việc với những hệ cơ sở dữ liệu có quan hệ, Data scientist cũng cần nắm vững những kỹ năng liên kết join, merge và concatenate bảng trên pandas mà thông qua chương này mình sẽ giới thiệu tới các bạn."
   ]
  },
  {
   "cell_type": "markdown",
   "id": "precious-indie",
   "metadata": {
    "id": "-HRX_8rehFhQ"
   },
   "source": [
    "## 2.5.1. Các kiểu join\n",
    "\n",
    "Chúng ta có 4 kiểu join chính là `left join, right join, inner join, full join` được thể hiện qua biểu đồ venn bên dưới:\n",
    "\n",
    "![](https://www.dofactory.com/img/sql/sql-joins.png)\n",
    "\n",
    "Chúng ta có hai bảng bên trái và bên phải với những phần thông tin chung (giao nhau giữa hai vòng tròn) và riêng. Phần diện tích màu xanh lá cây là Kết quả của phép join. Chúng ta có thể hình dung kết quả của phép join đó là:\n",
    "\n",
    "* left join: Lấy bảng bên trái làm gốc và đưa thêm thông tin bảng bên phải nếu nó xuất hiện ở bảng bên trái.\n",
    "* right join: Tương tự như left join nhưng bảng bên phải sẽ làm gốc.\n",
    "* inner join: Lấy những thông tin mà xuất hiện **đồng thời** ở cả hai bảng.\n",
    "* full join: Lấy những thông tin xuất hiện ở **một trong hai** bảng.\n",
    "\n",
    "Bên dưới chúng ta cùng thực hành join."
   ]
  },
  {
   "cell_type": "code",
   "execution_count": null,
   "id": "modified-gibraltar",
   "metadata": {
    "colab": {
     "base_uri": "https://localhost:8080/",
     "height": 204
    },
    "id": "qYmppFhmiwC2",
    "outputId": "bfef8815-7053-4791-bfa1-7890e449e4ba"
   },
   "outputs": [],
   "source": [
    "import pandas as pd\n",
    "\n",
    "df_sinhvien = pd.DataFrame({\n",
    "    'ID':['001', '002', '003', '004', '005'],\n",
    "    'Name':['Pham Van Nghia', 'Tong Thuy Linh', 'Le Van Dai', 'Tran Quang Nghia', 'Doan Thu Ha'],\n",
    "    'Age': [25, 26, 25, 23, 22],\n",
    "    'Province':['Nam Dinh', 'Thanh Hoa', 'TP Ho Chi Minh', 'Da Nang', 'Can Tho']  \n",
    "})\n",
    "\n",
    "df_sinhvien"
   ]
  },
  {
   "cell_type": "code",
   "execution_count": null,
   "id": "earlier-event",
   "metadata": {
    "colab": {
     "base_uri": "https://localhost:8080/",
     "height": 204
    },
    "id": "4nVt3wevuCve",
    "outputId": "6019dea0-c87f-4f91-b4e5-5f98b1485e0f"
   },
   "outputs": [],
   "source": [
    "df_score = pd.DataFrame({\n",
    "    'ID': ['001', '002', '003', '006', '007'],\n",
    "    'Math': [6.75, 9, 8, 7, 10],\n",
    "    'Physic': [8, 9, 9, 8.5, 9],\n",
    "    'Chemistry': [7, 9.5, 7.5, 9, 10],\n",
    "    'Province': ['Nam Dinh', 'Thanh Hoa', 'TP Ho Chi Minh', 'Quang Nam', 'Nghe An']\n",
    "})\n",
    "\n",
    "df_score"
   ]
  },
  {
   "cell_type": "markdown",
   "id": "appropriate-empire",
   "metadata": {
    "id": "12V9DejAvF18"
   },
   "source": [
    "## 2.5.2. Câu lệnh pd.merge()"
   ]
  },
  {
   "cell_type": "markdown",
   "id": "verbal-delay",
   "metadata": {
    "id": "0r31cXz1u4dV"
   },
   "source": [
    "Cú pháp chung của câu lện `pd.merge()` đó là:\n",
    "\n",
    "\n",
    "\n",
    "```\n",
    "pd.merge(\n",
    "    left,\n",
    "    right,\n",
    "    how=\"inner\",\n",
    "    on=None,\n",
    "    left_on=None,\n",
    "    right_on=None,\n",
    "    left_index=False,\n",
    "    right_index=False,\n",
    "    sort=True,\n",
    "    suffixes=(\"_x\", \"_y\"),\n",
    "    copy=True,\n",
    "    indicator=False,\n",
    "    validate=None,\n",
    ")\n",
    "```\n",
    "\n",
    "Trong đó một số trường quan trọng:\n",
    "\n",
    "* left: bảng bên trái\n",
    "* right: bảng bên phải\n",
    "* how: Phương pháp join gồm `left, right, inner, outer`\n",
    "* left_on: Trường ở bảng bên trái sử dụng để join\n",
    "* right_on: Trường ở bảng bên phải sử dụng để join\n",
    "* left_index: Mặc định là False. Nếu True, sử dụng row index ở bảng bên trái như là trường join.\n",
    "* right_index: Mặc định là False. Nếu True, sử dụng row index ở bảng bên phải như là trường join.\n",
    "* suffixes: Nếu hai bảng tồn tại các trường trùng nhau thì sử dụng suffix để phân biệt trường nào thuộc bảng nào. Mặc định là `('_x', '_y')`.\n",
    "\n",
    "Tiếp theo áp dụng câu lệnh trên để merge bảng sinh viên với điểm theo key là ID sinh viên.\n",
    "\n",
    "**inner join:** Theo cách này chỉ ID xuất hiện ở đồng thời hai bảng mới được lựa chọn."
   ]
  },
  {
   "cell_type": "code",
   "execution_count": null,
   "id": "federal-indonesia",
   "metadata": {
    "colab": {
     "base_uri": "https://localhost:8080/",
     "height": 142
    },
    "id": "3oyJHcBPu_Wt",
    "outputId": "496c8839-85d0-4710-96f0-94263d80d618"
   },
   "outputs": [],
   "source": [
    "pd.merge(df_sinhvien, df_score, \n",
    "         left_on='ID', \n",
    "         right_on='ID', \n",
    "         how='inner', \n",
    "         suffixes=['_Sv', '_Score'])"
   ]
  },
  {
   "cell_type": "markdown",
   "id": "operating-wagon",
   "metadata": {
    "id": "8yR-JK2O8Z_K"
   },
   "source": [
    "**left join:** Những ID xuất hiện ở bảng bên trái sẽ được lựa chọn."
   ]
  },
  {
   "cell_type": "code",
   "execution_count": null,
   "id": "laden-marathon",
   "metadata": {
    "colab": {
     "base_uri": "https://localhost:8080/",
     "height": 204
    },
    "id": "4nz9MYqJ6xa_",
    "outputId": "73fca285-6b8a-4426-986d-a7444b6d56b6"
   },
   "outputs": [],
   "source": [
    "pd.merge(df_sinhvien, df_score, \n",
    "         left_on='ID', \n",
    "         right_on='ID', \n",
    "         how='left', \n",
    "         suffixes=['_Sv', '_Score'])"
   ]
  },
  {
   "cell_type": "markdown",
   "id": "altered-canyon",
   "metadata": {
    "id": "dbd8cW8r8lgA"
   },
   "source": [
    "**right join:** Những ID xuất hiện ở bảng bên phải sẽ được lựa chọn."
   ]
  },
  {
   "cell_type": "code",
   "execution_count": null,
   "id": "dangerous-reference",
   "metadata": {
    "colab": {
     "base_uri": "https://localhost:8080/",
     "height": 204
    },
    "id": "0a6Yopq660Pq",
    "outputId": "bcaab6ea-feea-45a3-dc51-d053478b92c1"
   },
   "outputs": [],
   "source": [
    "pd.merge(df_sinhvien, df_score, \n",
    "         left_on='ID', \n",
    "         right_on='ID', \n",
    "         how='right', \n",
    "         suffixes=['_Sv', '_Score'])"
   ]
  },
  {
   "cell_type": "markdown",
   "id": "retained-application",
   "metadata": {
    "id": "cGdztfOO8qIH"
   },
   "source": [
    "**outer join:** Tất cả ID xuất hiện ở bảng bên trái hoặc bảng bên phải sẽ được lựa chọn."
   ]
  },
  {
   "cell_type": "code",
   "execution_count": null,
   "id": "distinguished-claim",
   "metadata": {
    "colab": {
     "base_uri": "https://localhost:8080/",
     "height": 266
    },
    "id": "nrkLh4-o63fD",
    "outputId": "a704cbd3-94e2-4c27-f811-34fdc5400df0"
   },
   "outputs": [],
   "source": [
    "pd.merge(df_sinhvien, df_score, \n",
    "         left_on='ID', \n",
    "         right_on='ID', \n",
    "         how='outer', \n",
    "         suffixes=['_Sv', '_Score'])"
   ]
  },
  {
   "cell_type": "markdown",
   "id": "changed-wallet",
   "metadata": {
    "id": "YbXlsQ4T5xkj"
   },
   "source": [
    "## 2.5.3. df.join()\n",
    "\n",
    "DataFrame có một hàm là hàm _join()_ có chức năng tương đương với merge, dùng để liên kết bảng theo các keys."
   ]
  },
  {
   "cell_type": "code",
   "execution_count": null,
   "id": "careful-praise",
   "metadata": {
    "colab": {
     "base_uri": "https://localhost:8080/",
     "height": 204
    },
    "id": "TW4nX7pcTvN3",
    "outputId": "d67a36a6-86dd-401b-d52e-58dfdf644999"
   },
   "outputs": [],
   "source": [
    "df_sinhvien.join(df_score, lsuffix='_Sv', rsuffix='_Score')"
   ]
  },
  {
   "cell_type": "markdown",
   "id": "signal-berry",
   "metadata": {
    "id": "CYwulae8UOo8"
   },
   "source": [
    "Mặc định bảng sẽ join theo index của dòng, các đối số lsuffix` và `rsuffix`lần lượt được sử dụng để qui định hậu tố (_suffix_) cho bảng bên trái và bảng bên phải nếu xuất hiện trường trùng tên.\n",
    "\n",
    "Nếu muốn thực hiện hàm `join()` theo một trường nào đó, chúng ta phải thiết lập index cho bảng là trường cần join rồi sau đó mới thực hiện join. Ví dụ bạn cần join theo ID:"
   ]
  },
  {
   "cell_type": "code",
   "execution_count": null,
   "id": "universal-distinction",
   "metadata": {
    "colab": {
     "base_uri": "https://localhost:8080/",
     "height": 235
    },
    "id": "MltNbc7CU7sf",
    "outputId": "7955922b-736e-4a9e-f2e4-111f9c319f2e"
   },
   "outputs": [],
   "source": [
    "# Thiết lập index\n",
    "df_sinhvien.set_index('ID', inplace = True)\n",
    "df_score.set_index('ID', inplace = True)\n",
    "\n",
    "# Join bảng\n",
    "df_sinhvien.join(df_score, lsuffix='_Sv', rsuffix='_Score')"
   ]
  },
  {
   "cell_type": "code",
   "execution_count": null,
   "id": "internal-fellowship",
   "metadata": {
    "id": "NMuMkWo9MO5s"
   },
   "outputs": [],
   "source": [
    "# reset lại index\n",
    "df_sinhvien.reset_index('ID', inplace = True)\n",
    "df_score.reset_index('ID', inplace = True)"
   ]
  },
  {
   "cell_type": "markdown",
   "id": "willing-causing",
   "metadata": {
    "id": "68m8u-a5fvQa"
   },
   "source": [
    "## 2.5.4. Câu lệnh pd.concat()\n",
    "\n",
    "Câu lệnh `pd.concat()` được sử dụng để nối hai bảng theo dòng hoặc theo cột. Đây là câu lệnh được sử dụng khá phổ biến để tạo bảng tổng hợp từ các bảng dữ liệu nhỏ. Một ví dụ khá cụ thể đó là trong package [vnquant](https://github.com/phamdinhkhanh/vnquant) dữ liệu mỗi mã chứng khoán sẽ bị phân trang. Nếu download lần lượt trừng trang thì sẽ lâu, do đó để tăng tốc thì chúng ta sẽ download song song nhiều trang một lúc và sử dụng lệnh `pd.concat()` để nối dữ liệu thành một bảng chính.\n",
    "\n",
    "Cú pháp chung của lệnh `pd.concat()` sẽ như sau:\n",
    "\n",
    "```\n",
    "pd.concat(\n",
    "  objs, \n",
    "  axis=0, \n",
    "  join='outer', \n",
    "  ignore_index=False, \n",
    "  keys=None, \n",
    "  levels=None, \n",
    "  names=None, \n",
    "  verify_integrity=False, \n",
    "  sort=False, \n",
    "  copy=True\n",
    ")\n",
    "```\n",
    "\n",
    "Trong đó:\n",
    "\n",
    "* objs: Là list các bảng cần concanate.\n",
    "* axis: Mặc đinh là 0, nối theo dòng. Trái lại là 1 nếu nối theo cột.\n",
    "* join: `inner` chỉ lấy các dòng hoặc cột có cùng index; `outer` lấy cả các dòng hoặc cột khác index.\n",
    "\n",
    "\n",
    "**Nếu muốn nối theo dòng thì làm thế nào?**\n",
    "\n",
    "Để nối hai bảng theo dòng thì ta sẽ để `axis=0`, đây là giá trị mặc định của đối số này trong `pd.concat()`.\n",
    "\n",
    "Nếu chúng ta muốn nối hai bảng theo dòng và chỉ lấy trường thông tin mà cả hai bảng đều có thì cần thiết lập `join='inner'`."
   ]
  },
  {
   "cell_type": "code",
   "execution_count": null,
   "id": "hired-tunisia",
   "metadata": {
    "colab": {
     "base_uri": "https://localhost:8080/",
     "height": 359
    },
    "id": "3ulMhhMHg0L7",
    "outputId": "11ccf65d-44fc-4425-e12f-be7d82422e98"
   },
   "outputs": [],
   "source": [
    "pd.concat([df_sinhvien, df_score], \n",
    "          axis=0,\n",
    "          join='inner')"
   ]
  },
  {
   "cell_type": "markdown",
   "id": "proprietary-bulletin",
   "metadata": {
    "id": "1qfMF-t2j67F"
   },
   "source": [
    "Ta cũng có thể nối hai bảng theo dòng và lấy tất cả các trường thông tin ở cả hai bảng thì sẽ thiết lập `join='outer'`. Đây là giá trị mặc định của đối số này. Giá trị `NaN` tự động được fill đối với những thông tin không có."
   ]
  },
  {
   "cell_type": "code",
   "execution_count": null,
   "id": "stupid-prescription",
   "metadata": {
    "colab": {
     "base_uri": "https://localhost:8080/",
     "height": 359
    },
    "id": "gZfhnSgpj0LA",
    "outputId": "6ea298ab-66ec-47af-82f1-d7f269ae751c"
   },
   "outputs": [],
   "source": [
    "pd.concat([df_sinhvien, df_score], \n",
    "          axis=0, \n",
    "          join='outer')"
   ]
  },
  {
   "cell_type": "markdown",
   "id": "insured-literacy",
   "metadata": {
    "id": "dAr-h-fUit61"
   },
   "source": [
    "**Làm sao để nối theo cột**\n",
    "\n",
    "Để nối theo cột thì khai báo `axis=1`."
   ]
  },
  {
   "cell_type": "code",
   "execution_count": null,
   "id": "hydraulic-unemployment",
   "metadata": {
    "colab": {
     "base_uri": "https://localhost:8080/",
     "height": 204
    },
    "id": "FuUXCkCFijDJ",
    "outputId": "738448a0-1a3c-4e67-9318-bd4a4cc5f1eb"
   },
   "outputs": [],
   "source": [
    "pd.concat([df_sinhvien, df_score], \n",
    "          axis=1)"
   ]
  },
  {
   "cell_type": "markdown",
   "id": "ecological-anxiety",
   "metadata": {
    "id": "fV3f6ZcqmKQQ"
   },
   "source": [
    "Khi đó các dòng sẽ được liên kết theo row index ở mỗi bảng. Nếu chúng ta muốn các dòng được liên kết theo một trường nào đó như 'ID' thì cần `set_index()` là trường đó trước khi nối."
   ]
  },
  {
   "cell_type": "code",
   "execution_count": null,
   "id": "established-tours",
   "metadata": {
    "colab": {
     "base_uri": "https://localhost:8080/",
     "height": 266
    },
    "id": "Bh6tzuQvmSZn",
    "outputId": "ae53a1c7-e7d8-495e-8aeb-be78b1b3b15f"
   },
   "outputs": [],
   "source": [
    "pd.concat([df_sinhvien.set_index('ID'), df_score.set_index('ID')], \n",
    "          axis=1)"
   ]
  },
  {
   "cell_type": "markdown",
   "id": "major-indonesia",
   "metadata": {
    "id": "EXKns_HYol4w"
   },
   "source": [
    "Nếu ta chỉ muốn các dòng mà ID xuất hiện ở cả hai bảng thì thêm `join='inner'`."
   ]
  },
  {
   "cell_type": "code",
   "execution_count": null,
   "id": "casual-daniel",
   "metadata": {
    "colab": {
     "base_uri": "https://localhost:8080/",
     "height": 204
    },
    "id": "LNX6HRxdnh2m",
    "outputId": "d5d06a40-c8aa-49a9-e8a6-993d9dff52d1"
   },
   "outputs": [],
   "source": [
    "pd.concat([df_sinhvien, df_score], \n",
    "          axis=1,\n",
    "          join='inner')"
   ]
  },
  {
   "cell_type": "markdown",
   "id": "reported-patio",
   "metadata": {
    "id": "hHXTjmbgJbg1"
   },
   "source": [
    "## 2.5.5. append()\n",
    "\n",
    "Ngoài câu lệnh `pd.concat()` thì bản thân một dataframe cũng có hàm `append()` được sử dụng để nối bảng **Theo dòng**."
   ]
  },
  {
   "cell_type": "code",
   "execution_count": null,
   "id": "about-explanation",
   "metadata": {
    "colab": {
     "base_uri": "https://localhost:8080/",
     "height": 359
    },
    "id": "9duxCNqdw7gN",
    "outputId": "9c6fe2cc-e685-42f6-acd0-12cd6e9edf30"
   },
   "outputs": [],
   "source": [
    "df_sinhvien.append(df_score)"
   ]
  },
  {
   "cell_type": "markdown",
   "id": "junior-buffalo",
   "metadata": {
    "id": "wiklzVHlx9d3"
   },
   "source": [
    "Câu lệnh này sẽ thường được sử dụng trong tình huống bạn muốn tạo bảng tổng hợp từ nhiều bảng con có cùng cấu trúc.\n",
    "\n",
    "Ví dụ: Bạn muốn tạo ra một bảng về lợi tức chứng khoán của toàn bộ các ngành từ số liệu chứng khoán của từng ngành."
   ]
  },
  {
   "cell_type": "code",
   "execution_count": null,
   "id": "sudden-slovak",
   "metadata": {
    "colab": {
     "base_uri": "https://localhost:8080/",
     "height": 204
    },
    "id": "2mlKCdfixKy7",
    "outputId": "c27a6c6d-c529-4b77-a604-9b4291ce30f0"
   },
   "outputs": [],
   "source": [
    "import numpy as np\n",
    "import random\n",
    "import string\n",
    "\n",
    "df_chungkhoan = pd.DataFrame(columns = ['Nganh', 'Interest'])\n",
    "\n",
    "for i in range(5):\n",
    "  r = np.random.uniform(-0.01, 0.01)\n",
    "  nganh = random.choice(string.ascii_lowercase)\n",
    "  df_sector = pd.DataFrame({'Nganh': [nganh], 'Interest': [r]}, index=[i])\n",
    "  df_chungkhoan = df_chungkhoan.append(df_sector)\n",
    "\n",
    "df_chungkhoan"
   ]
  },
  {
   "cell_type": "markdown",
   "id": "exposed-enterprise",
   "metadata": {
    "deletable": true,
    "editable": true,
    "id": "1M9TueqrSzRk"
   },
   "source": [
    "# 2.6. Kết nối SQL\n",
    "\n",
    "Đối với những data scientist làm việc trong những doanh nghiệp quản lý dữ liệu trên data warehouse như Ngân Hàng, công ty Chứng Khoán, Bảo Hiểm thì thường xuyên phải kết nối SQL để truy vấn dữ liệu. Python có rất nhiều các packages cung cấp instance connection tới SQL cũng như biến đổi data trên cú pháp của SQL. Mình sẽ không thể giới thiệu hết toàn bộ những packages này mà sẽ giới thiệu tới các bạn hai packages phổ biến nhất đó là:\n",
    "\n",
    "**sqlalchemy**\n",
    "\n",
    "Đây là một pakage cho phép chúng ta kết nối và truy vấn trên những dữ liệu SQL một cách trực tiếp theo mô hình server-client side. Chúng ta sẽ phải khai báo một số thông tin quan trọng để khởi tạo kết nối như:\n",
    "\n",
    "* Tên server là gì?\n",
    "* Tên database trong server cần truy vấn.\n",
    "* port: Cổng kết nối, thường mặc định của MSSQL là 1443.\n",
    "* username: Tên user.\n",
    "* password: Mật khẩu truy cập.\n",
    "\n",
    "**Chú ý**: Ở phần ví dụ thực hành liên quan tới SQL thì mỗi máy sẽ có một cấu hình khác nhau. Để thực hành được code bên dưới trước tiên máy tính của bạn cần cài SQL Server và có sẵn những database trong server.\n",
    "\n",
    "Bạn sẽ cần khai báo đúng các trường cấu hình truy cập trong `DB` và tên bảng tại `TableName`.\n",
    "\n",
    "Nếu bạn thực hành bị lỗi các ví dụ tại mục 3 này, hãy tạm thời bỏ qua chúng."
   ]
  },
  {
   "cell_type": "code",
   "execution_count": null,
   "id": "literary-chapel",
   "metadata": {
    "class": "no-execute",
    "deletable": true,
    "editable": true,
    "id": "JNqJK60rSzRn"
   },
   "outputs": [],
   "source": [
    "%%script echo skipping\n",
    "\n",
    "from sqlalchemy import create_engine, MetaData, Table, select, engine\n",
    "# Create parameters\n",
    "TableName = 'WorkOrder'\n",
    "\n",
    "DB = {\n",
    "    'drivername': 'mssql+pyodbc',\n",
    "    'servername': 'LAPTOPTCC-PC',\n",
    "    #'port': '1443',\n",
    "    #'username': '',\n",
    "    #'password': '',\n",
    "    'database': 'TestDB',\n",
    "    'driver': 'SQL Server Native Client 11.0',\n",
    "    'trusted_connection': 'yes',\n",
    "    'legacy_schema_aliasing': False\n",
    "}\n",
    "\n",
    "# Create the connection\n",
    "engine = create_engine(DB['drivername'] + '://' + DB['servername'] + '/' + DB['database'] + '?' + 'driver=' + DB['driver'] \n",
    "+ ';' + 'trusted_connection=' + DB['trusted_connection'], legacy_schema_aliasing=DB['legacy_schema_aliasing'])\n",
    "\n",
    "conn = engine.connect()\n",
    "\n",
    "# Required for querying tables\n",
    "metadata = MetaData(conn)\n",
    "\n",
    "#Table to query\n",
    "tbl = Table(TableName, metadata, autoload = True, schema = 'dbo')\n",
    "# tbl.create(checkfirst = True)\n",
    "\n",
    "#select all\n",
    "sql = tbl.select()\n",
    "\n",
    "#run sql code\n",
    "result = conn.execute(sql)\n",
    "\n",
    "df3 = pd.DataFrame(data = list(result), columns = result.keys())\n",
    "df3.head()"
   ]
  },
  {
   "cell_type": "markdown",
   "id": "abandoned-arthritis",
   "metadata": {
    "id": "CofxsxPtkSnQ"
   },
   "source": [
    "Sau khi sử dụng connection thì chúng ta nhớ đóng lại connection để giải phóng memory và port."
   ]
  },
  {
   "cell_type": "code",
   "execution_count": null,
   "id": "incomplete-orleans",
   "metadata": {
    "class": "no-execute",
    "deletable": true,
    "editable": true,
    "id": "QV-ZbvMASzR0"
   },
   "outputs": [],
   "source": [
    "%%script echo skipping\n",
    "\n",
    "#close connection to free memory\n",
    "conn.close()"
   ]
  },
  {
   "cell_type": "markdown",
   "id": "intensive-recommendation",
   "metadata": {
    "id": "MYdLXbZ7kZv0"
   },
   "source": [
    "Chúng ta cũng có thể thực thi các lệnh của SQL thông qua engine SQL mà chúng ta đã khởi tạo. Kết quả sẽ được truy vấn và tính toán trực tiếp từ server trả về  như câu lệnh ta yêu cầu."
   ]
  },
  {
   "cell_type": "code",
   "execution_count": null,
   "id": "liberal-dialogue",
   "metadata": {
    "class": "no-execute",
    "deletable": true,
    "editable": true,
    "id": "9sOBrCjcSzSA"
   },
   "outputs": [],
   "source": [
    "%%script echo skipping\n",
    "\n",
    "#another way, use read_sql_query() function from pandas. This function use directly engine without initialize connection\n",
    "pd.read_sql_query(\"SELECT TOP 5 * FROM WorkOrder\", engine)"
   ]
  },
  {
   "cell_type": "markdown",
   "id": "systematic-rogers",
   "metadata": {
    "deletable": true,
    "editable": true,
    "id": "LVAczueISzSI"
   },
   "source": [
    "**pyodbc**\n",
    "\n",
    "Đây là package được thiết kế riêng để truy vấn trên những hệ cơ sở dữ liệu sử dụng kết nối ODBC của Microsoft."
   ]
  },
  {
   "cell_type": "code",
   "execution_count": null,
   "id": "outstanding-vampire",
   "metadata": {
    "class": "no-execute",
    "id": "GTA2MpbXldKG"
   },
   "outputs": [],
   "source": [
    "%%script echo skipping\n",
    "\n",
    "import pandas.io.sql\n",
    "import pyodbc\n",
    "\n",
    "server = 'LAPTOPTCC-PC'\n",
    "db = 'AdventureWorks'\n",
    "\n",
    "#create connection\n",
    "conn = pyodbc.connect('DRIVER={SQL Server};SERVER=' \n",
    "                      + DB['servername']\n",
    "                      + ';DATABASE=' \n",
    "                      + DB['database'] \n",
    "                      + ';Trusted_Connection=yes')"
   ]
  },
  {
   "cell_type": "markdown",
   "id": "fiscal-partnership",
   "metadata": {
    "id": "VpUuNkFklemN"
   },
   "source": [
    "Sau khi khởi tạo kết nối thì ta cũng có thể sử dụng các câu lệnh của SQL như thông thường để truy vấn và tính toán thông tin như bên dưới:"
   ]
  },
  {
   "cell_type": "code",
   "execution_count": null,
   "id": "twenty-occasions",
   "metadata": {
    "class": "no-execute",
    "deletable": true,
    "editable": true,
    "id": "3b6ltxYVSzSK"
   },
   "outputs": [],
   "source": [
    "%%script echo skipping\n",
    "\n",
    "#query db\n",
    "sql = \"\"\"SELECT * FROM WorkOrder\"\"\"\n",
    "\n",
    "df4 = pandas.io.sql.read_sql(sql, conn)\n",
    "df4.head()"
   ]
  },
  {
   "cell_type": "markdown",
   "id": "stone-palestinian",
   "metadata": {
    "id": "7xMOcaU-l0qf"
   },
   "source": [
    "**Cursor cho SQL**\n",
    "\n",
    "Cursor là một con trỏ dẫn tới một vùng nhớ mà lưu trữ dữ liệu. Sử dụng cursor sẽ giúp ta tiết kiệm bộ nhớ vì chúng ta không phải phân bổ bộ nhớ cho dữ liệu ngay mà chỉ sử dụng địa chỉ để trỏ tới dữ liệu. Cursor được sử dụng phổ biến trong SQL đặc biệt là trong các vòng for. Trong `pyodbc` chúng ta sẽ sử dụng `cursor()` trong vòng for để duyệt qua các dòng như bên dưới:"
   ]
  },
  {
   "cell_type": "code",
   "execution_count": null,
   "id": "jewish-sleeping",
   "metadata": {
    "class": "no-execute",
    "id": "2fEuPIC6l8iu"
   },
   "outputs": [],
   "source": [
    "%%script echo skipping\n",
    "\n",
    "import pyodbc\n",
    "\n",
    "con = pyodbc.connect(\"DRIVER={SQL Server};\"\n",
    "                     \"SERVER=LAPTOPTCC-PC;\"\n",
    "                     \"DATASET=AdventureWorksDW2012;\"\n",
    "                     \"Trusted_Connection=yes;\")\n",
    "cursor = con.cursor()\n",
    "\n",
    "cursor.execute(\"SELECT TOP 10 * FROM AdventureWorksDW2012.dbo.DimCustomer\")\n",
    "\n",
    "for row in cursor.fetchall():\n",
    "    print('row = ', row)"
   ]
  },
  {
   "cell_type": "markdown",
   "id": "realistic-beverage",
   "metadata": {
    "id": "RNLHTkygGw6c"
   },
   "source": [
    "# 2.7. Tổng kết\n",
    "\n",
    "Qua bài hướng dẫn này bạn đã được làm quen với những chức năng của pandas trong phân tích, xử lý và biến đổi dữ liệu. Tổng kết lại chúng ta đã đi qua các mục:\n",
    "\n",
    "* Cách đọc, lưu và khởi tạo dataframe\n",
    "* Thao tác dữ liệu trên dataframe: truy cập bảng, sort, filter và các hàm cơ bản trên dataframe.\n",
    "* Thay đổi shape của bảng qua melt và dummy.\n",
    "* Thống kê theo groupby và pivot_table.\n",
    "* Các lệnh join, merge, concatenate bảng.\n",
    "* Kết nối với dữ liệu SQL.\n",
    "\n",
    "Những kiến thức trên không cover hết toàn bộ về pandas nhưng là những kiến thức hay dùng nên bạn đọc cần nắm vững.\n",
    "\n",
    "Tiếp theo là bài tập thực hành cho bài viết này."
   ]
  },
  {
   "cell_type": "markdown",
   "id": "trained-poverty",
   "metadata": {
    "id": "E79OeAJKG2dl"
   },
   "source": [
    "# 2.8. Bài tập\n",
    "\n",
    "Sử dụng bộ dữ liệu [Churn Customer](https://raw.githubusercontent.com/phamdinhkhanh/datasets/master/Churn_Modelling.csv) bạn hãy.\n",
    "\n",
    "1. Đọc dữ liệu từ file csv, có phần header là row thứ nhất và index là trường RowNumber.\n",
    "2. Thống kê mô tả đối với các trường trong bảng dữ liệu này.\n",
    "3. Tính trung bình điểm `CreditScore` theo `Geography`.\n",
    "4. Phân đều `Age` thành 5 nhóm độ tuổi sao cho mỗi nhóm chiếm 20% số quan sát.\n",
    "5. Vẽ biểu đồ barchart thống kê số lượng khách hàng theo nhóm độ tuổi vừa tạo được."
   ]
  },
  {
   "cell_type": "markdown",
   "id": "christian-census",
   "metadata": {
    "id": "q8C2zYneG4pc"
   },
   "source": [
    "# 2.9. Tài liệu"
   ]
  },
  {
   "cell_type": "markdown",
   "id": "photographic-click",
   "metadata": {
    "id": "zmnEQAxMtBPb"
   },
   "source": [
    "1. [pandas-docs](https://pandas.pydata.org/pandas-docs/stable/user_guide/options.html)\n",
    "2. [pandas-tutorial w3school](https://www.w3schools.com/python/pandas/default.asp)\n",
    "3. [pandas introduction - pandas.pydata.org](https://pandas.pydata.org/pandas-docs/stable/getting_started/intro_tutorials/index.html)\n",
    "4. [pandas dataframe - pandas.pydata.org](https://pandas.pydata.org/docs/reference/frame.html)"
   ]
  }
 ],
 "metadata": {
  "jupytext": {
   "text_representation": {
    "extension": ".md",
    "format_name": "myst",
    "format_version": 0.12,
    "jupytext_version": "1.8.2"
   }
  },
  "kernelspec": {
   "display_name": "Python 3",
   "name": "python3"
  },
  "language_info": {
   "codemirror_mode": {
    "name": "ipython",
    "version": 3
   },
   "file_extension": ".py",
   "mimetype": "text/x-python",
   "name": "python",
   "nbconvert_exporter": "python",
   "pygments_lexer": "ipython3",
   "version": "3.6.13"
  },
  "source_map": [
   11,
   21,
   28,
   54,
   68,
   90,
   94,
   100,
   123,
   137,
   145,
   149,
   153,
   163,
   167,
   180,
   184,
   198,
   204,
   217,
   221,
   231,
   243,
   255,
   267,
   271,
   283,
   289,
   300,
   304,
   316,
   322,
   333,
   337,
   348,
   354,
   365,
   371,
   389,
   393,
   404,
   408,
   418,
   432,
   436,
   447,
   451,
   457,
   470,
   476,
   493,
   499,
   513,
   517,
   527,
   537,
   541,
   552,
   560,
   576,
   586,
   597,
   601,
   612,
   618,
   630,
   634,
   645,
   651,
   662,
   668,
   679,
   685,
   696,
   700,
   708,
   728,
   732,
   743,
   749,
   755,
   766,
   772,
   780,
   798,
   808,
   812,
   822,
   826,
   838,
   842,
   857,
   861,
   871,
   875,
   879,
   886,
   903,
   918,
   924,
   942,
   948,
   957,
   974,
   994,
   1013,
   1017,
   1056,
   1071,
   1075,
   1090,
   1094,
   1109,
   1113,
   1128,
   1134,
   1145,
   1151,
   1167,
   1175,
   1211,
   1224,
   1228,
   1241,
   1247,
   1259,
   1263,
   1275,
   1279,
   1292,
   1298,
   1309,
   1315,
   1338,
   1360,
   1406,
   1410,
   1421,
   1425,
   1436,
   1442,
   1461,
   1465,
   1479,
   1485,
   1504,
   1522,
   1534,
   1538
  ]
 },
 "nbformat": 4,
 "nbformat_minor": 5
}