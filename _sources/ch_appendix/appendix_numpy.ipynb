{
 "cells": [
  {
   "cell_type": "markdown",
   "id": "painted-austin",
   "metadata": {},
   "source": [
    "# 3.1. Khởi tạo một mảng trên numpy"
   ]
  },
  {
   "cell_type": "markdown",
   "id": "combined-australia",
   "metadata": {
    "id": "Hgm4hFNq8eB5"
   },
   "source": [
    "## 3.1.1. Khởi tạo ngay từ đầu\n",
    "\n",
    "Để khởi tạo một mảng trên numpy chúng ta sử dụng câu lệnh rất quen thuộc là `np.array()`. Numpy cho phép chúng ta khởi tạo mảng được cấu hình theo định dạng dữ liệu cụ thể như `float, interger, boolean, string`. Chúng ta cũng lưu ý rằng các phần tử của một mảng trong numpy phải đồng nhất về định dạng dữ liệu."
   ]
  },
  {
   "cell_type": "code",
   "execution_count": 1,
   "id": "shared-father",
   "metadata": {
    "colab": {
     "base_uri": "https://localhost:8080/"
    },
    "executionInfo": {
     "elapsed": 1100,
     "status": "ok",
     "timestamp": 1620884251150,
     "user": {
      "displayName": "khanhblog AI",
      "photoUrl": "https://lh3.googleusercontent.com/a-/AOh14GhNCi9Qnch9sWXSuvX4N5yijAGEjX1IvfmN-95m=s64",
      "userId": "06481533334230032014"
     },
     "user_tz": -420
    },
    "id": "ueBiUHr45Yv_",
    "outputId": "f2bfa175-c850-4f10-8504-3065934e9621"
   },
   "outputs": [
    {
     "name": "stdout",
     "output_type": "stream",
     "text": [
      "[[1 2]\n",
      " [3 4]]\n",
      "dtype of matrix A:  int64\n"
     ]
    }
   ],
   "source": [
    "import numpy as np\n",
    "\n",
    "A = np.array([[1, 2],\n",
    "              [3, 4]])\n",
    "\n",
    "print(A)\n",
    "print(\"dtype of matrix A: \", A.dtype)"
   ]
  },
  {
   "cell_type": "markdown",
   "id": "realistic-equation",
   "metadata": {
    "id": "IJBtFhRw5saD"
   },
   "source": [
    "Ban đầu các phần tử của ma trận $\\mathbf{A}$ gồm toàn những giá trị nguyên. Chúng ta có thể xác định định dạng dữ liệu cho ma trận ngay tại lúc khởi tạo thông qua đối số `dtype`."
   ]
  },
  {
   "cell_type": "code",
   "execution_count": 2,
   "id": "intelligent-lighting",
   "metadata": {
    "colab": {
     "base_uri": "https://localhost:8080/"
    },
    "executionInfo": {
     "elapsed": 1545,
     "status": "ok",
     "timestamp": 1620884251603,
     "user": {
      "displayName": "khanhblog AI",
      "photoUrl": "https://lh3.googleusercontent.com/a-/AOh14GhNCi9Qnch9sWXSuvX4N5yijAGEjX1IvfmN-95m=s64",
      "userId": "06481533334230032014"
     },
     "user_tz": -420
    },
    "id": "E9id83lc5-TU",
    "outputId": "47455705-12e0-4a22-c180-7669b10f0c80"
   },
   "outputs": [
    {
     "name": "stdout",
     "output_type": "stream",
     "text": [
      "[[1. 2.]\n",
      " [3. 4.]]\n",
      "dtype of matrix B:  float32\n"
     ]
    }
   ],
   "source": [
    "B = np.array([[1, 2],\n",
    "              [3, 4]], dtype=np.float32)\n",
    "\n",
    "print(B)\n",
    "print(\"dtype of matrix B: \", B.dtype)"
   ]
  },
  {
   "cell_type": "markdown",
   "id": "imposed-improvement",
   "metadata": {
    "id": "eLk5C97v6JAD"
   },
   "source": [
    "Những mảng kiểu float thì giá trị các phần tử có thêm dấu `.` ở cuối để phân biệt với mảng số nguyên.\n",
    "\n",
    "Ngoài cách thay đổi trên, định dạng của ma trận cũng có thể được biến đổi thông qua hàm `A.astype()`. Đây là một hàm thuộc tính có sẵn ở mỗi mảng."
   ]
  },
  {
   "cell_type": "code",
   "execution_count": 3,
   "id": "rising-wheel",
   "metadata": {
    "colab": {
     "base_uri": "https://localhost:8080/"
    },
    "executionInfo": {
     "elapsed": 1539,
     "status": "ok",
     "timestamp": 1620884251604,
     "user": {
      "displayName": "khanhblog AI",
      "photoUrl": "https://lh3.googleusercontent.com/a-/AOh14GhNCi9Qnch9sWXSuvX4N5yijAGEjX1IvfmN-95m=s64",
      "userId": "06481533334230032014"
     },
     "user_tz": -420
    },
    "id": "WFwX9YBj6Ps5",
    "outputId": "949c8f71-6f24-4dcd-aad4-1584be86ccab"
   },
   "outputs": [
    {
     "name": "stdout",
     "output_type": "stream",
     "text": [
      "float32\n"
     ]
    }
   ],
   "source": [
    "# Lưu ý phải gán A = A.astype() để lưu thay đổi cho A\n",
    "A = A.astype(np.float32)\n",
    "print(A.dtype)"
   ]
  },
  {
   "cell_type": "markdown",
   "id": "numerical-collaboration",
   "metadata": {
    "id": "ilO-04Ek7nN8"
   },
   "source": [
    "## 3.1.2. Khởi tạo ngẫu nhiên\n",
    "\n",
    "Nếu khởi tạo một ma trận nhỏ khoảng vài phần tử thì việc gõ tay là khả thi. Nhưng đối với những mảng kích thước lớn chúng ta sẽ không thể nhập hết toàn bộ các giá trị. Khi đó ta sẽ khởi tạo ngẫu nhiên cho những biến này.\n",
    "\n",
    "\n",
    "* `np.random.randn(d0, d1, d2,..., dn)`: $d_i$ là chiều thứ $i$ của mảng. Theo cách này các giá trị sẽ được lấy mẫu ngẫu nhiên từ phân phối chuẩn hoá (_normal distribution_) có trung bình bằng 0 và phương sai bằng 1."
   ]
  },
  {
   "cell_type": "code",
   "execution_count": 4,
   "id": "virgin-cloud",
   "metadata": {
    "colab": {
     "base_uri": "https://localhost:8080/"
    },
    "executionInfo": {
     "elapsed": 1532,
     "status": "ok",
     "timestamp": 1620884251604,
     "user": {
      "displayName": "khanhblog AI",
      "photoUrl": "https://lh3.googleusercontent.com/a-/AOh14GhNCi9Qnch9sWXSuvX4N5yijAGEjX1IvfmN-95m=s64",
      "userId": "06481533334230032014"
     },
     "user_tz": -420
    },
    "id": "2JyPIQVs8JSh",
    "outputId": "6d3f215e-6a88-4439-9214-3731743e0ec4"
   },
   "outputs": [
    {
     "name": "stdout",
     "output_type": "stream",
     "text": [
      "[[ 2.51021652  0.4521418  -1.74130662]\n",
      " [-0.50343469  1.54269454 -0.32501091]]\n"
     ]
    }
   ],
   "source": [
    "R = np.random.randn(2, 3)\n",
    "print(R)"
   ]
  },
  {
   "cell_type": "markdown",
   "id": "metropolitan-mambo",
   "metadata": {
    "id": "Z-PCe_bk-HXK"
   },
   "source": [
    "* `np.random.normal(loc=0.0, scale=1.0, size=None)`: Khởi tạo mảng mà các phần tử của mảng tuân theo phân phối chuẩn (_Gaussian distribution_) với trung bình chính là `loc` và phương sai là `scale`. Phân phối Gaussian (hay còn gọi là phân phối chuẩn) là trường hợp tổng quát của phân phối chuẩn hoá, chúng có hàm mật độ xác suất `pdf` (_probability density function_) được tính dựa trên hai tham số trung bình và phương sai như sau:\n",
    "\n",
    "$$pdf(x; \\mu, \\sigma) = \\frac{\\exp(\\frac{-(x-\\mu)^2}{2\\sigma^2})}{\\sqrt{2\\pi \\sigma^2}}$$\n",
    "\n",
    "Chúng ta sẽ gặp lại phân phối này ở chương lý thuyết xác suất."
   ]
  },
  {
   "cell_type": "code",
   "execution_count": 5,
   "id": "choice-observation",
   "metadata": {
    "colab": {
     "base_uri": "https://localhost:8080/"
    },
    "executionInfo": {
     "elapsed": 1526,
     "status": "ok",
     "timestamp": 1620884251605,
     "user": {
      "displayName": "khanhblog AI",
      "photoUrl": "https://lh3.googleusercontent.com/a-/AOh14GhNCi9Qnch9sWXSuvX4N5yijAGEjX1IvfmN-95m=s64",
      "userId": "06481533334230032014"
     },
     "user_tz": -420
    },
    "id": "X_o70HoM_ypH",
    "outputId": "e271c6a6-0fcc-44c7-9b19-d18129f9a9cd"
   },
   "outputs": [
    {
     "name": "stdout",
     "output_type": "stream",
     "text": [
      "[[ 2.93949155  1.31569068 -0.10841223]\n",
      " [ 3.54923257  4.19722328 -0.27765234]]\n"
     ]
    }
   ],
   "source": [
    "R = np.random.normal(loc=1, scale=2, size=(2, 3))\n",
    "print(R)"
   ]
  },
  {
   "cell_type": "markdown",
   "id": "unavailable-evans",
   "metadata": {
    "id": "VmYmXAeN9q14"
   },
   "source": [
    "* `np.random.uniform(low=0.0, high=1.0, size=None)`: Các phần sẽ được khởi tạo theo phân phối đều trong khoảng từ `low` tới `high`. Trong phân phối đều thì mật độ xác suất tại mọi điểm là như nhau giữa `[low, high]`:\n",
    "\n",
    "$$pdf(x; low, high) = \\frac{1}{high-low}$$"
   ]
  },
  {
   "cell_type": "code",
   "execution_count": 6,
   "id": "statistical-broadcast",
   "metadata": {
    "colab": {
     "base_uri": "https://localhost:8080/"
    },
    "executionInfo": {
     "elapsed": 1519,
     "status": "ok",
     "timestamp": 1620884251605,
     "user": {
      "displayName": "khanhblog AI",
      "photoUrl": "https://lh3.googleusercontent.com/a-/AOh14GhNCi9Qnch9sWXSuvX4N5yijAGEjX1IvfmN-95m=s64",
      "userId": "06481533334230032014"
     },
     "user_tz": -420
    },
    "id": "PxEtBJ266hRw",
    "outputId": "00e03870-1361-4e19-8068-9e3135fb8d28"
   },
   "outputs": [
    {
     "name": "stdout",
     "output_type": "stream",
     "text": [
      "[[-0.14615143  0.71032455  0.09272718]\n",
      " [ 0.05853387 -0.09508246  0.24778383]]\n"
     ]
    }
   ],
   "source": [
    "R = np.random.uniform(low=-1, high=1, size=(2, 3))\n",
    "print(R)"
   ]
  },
  {
   "cell_type": "markdown",
   "id": "green-affair",
   "metadata": {
    "id": "7SYdRjnkBpgX"
   },
   "source": [
    "Trong trường hợp bạn chỉ muốn sinh ngẫu nhiên đối với số nguyên thì có thể sử dụng hàm `np.randint()`"
   ]
  },
  {
   "cell_type": "code",
   "execution_count": 7,
   "id": "eligible-madagascar",
   "metadata": {
    "colab": {
     "base_uri": "https://localhost:8080/"
    },
    "executionInfo": {
     "elapsed": 1514,
     "status": "ok",
     "timestamp": 1620884251606,
     "user": {
      "displayName": "khanhblog AI",
      "photoUrl": "https://lh3.googleusercontent.com/a-/AOh14GhNCi9Qnch9sWXSuvX4N5yijAGEjX1IvfmN-95m=s64",
      "userId": "06481533334230032014"
     },
     "user_tz": -420
    },
    "id": "9GvqQ-0_Bz0x",
    "outputId": "69442179-4bc6-49b1-fef5-3915a5ec7923"
   },
   "outputs": [
    {
     "name": "stdout",
     "output_type": "stream",
     "text": [
      "[[-2  1  4]\n",
      " [ 3  0  0]]\n"
     ]
    }
   ],
   "source": [
    "R = np.random.randint(low=-5, high=5, size=(2, 3))\n",
    "print(R)"
   ]
  },
  {
   "cell_type": "markdown",
   "id": "periodic-world",
   "metadata": {
    "id": "NF9RtheDCXpb"
   },
   "source": [
    "Ngoài ra còn các khởi tạo ngẫu nhiên theo phân phối khác như `t-student, gamma, beta, chi-square, Fisher, ....`. Bạn đọc có thể sử dụng như list các hàm mình liệt kê bên dưới:\n",
    "\n",
    "* `np.random.standard_t(df, size=None)`: Phân phối t-student.\n",
    "* `np.random.chisquare(df, size=None)`: Phân phối Chi-square.\n",
    "* `np.random.f(dfnum, dfden, size=None)`: Phân phối Fisher.\n",
    "* `np.random.gamma(shape, scale=1.0, size=None)`: Phân phối gamma\n",
    "* `np.random.beta(a, b, size=None)`: Phân phối beta"
   ]
  },
  {
   "cell_type": "markdown",
   "id": "similar-panel",
   "metadata": {
    "id": "LWHTVwM9C4hB"
   },
   "source": [
    "# 3.2. Đọc và save numpy từ file"
   ]
  },
  {
   "cell_type": "markdown",
   "id": "personalized-hammer",
   "metadata": {
    "id": "wc8k1rWo8yep"
   },
   "source": [
    "## 3.2.1. Save numpy\n",
    "\n",
    "Chúng ta có thể lưu numpy dưới nhiều định dạng khác nhau như file `npy` và `txt`."
   ]
  },
  {
   "cell_type": "code",
   "execution_count": 8,
   "id": "private-mainstream",
   "metadata": {
    "colab": {
     "base_uri": "https://localhost:8080/"
    },
    "executionInfo": {
     "elapsed": 865,
     "status": "ok",
     "timestamp": 1620884265329,
     "user": {
      "displayName": "khanhblog AI",
      "photoUrl": "https://lh3.googleusercontent.com/a-/AOh14GhNCi9Qnch9sWXSuvX4N5yijAGEjX1IvfmN-95m=s64",
      "userId": "06481533334230032014"
     },
     "user_tz": -420
    },
    "id": "oP30GUgi89_v",
    "outputId": "b13e9cf4-d87b-44e7-b986-5615f0650869"
   },
   "outputs": [
    {
     "data": {
      "text/plain": [
       "array([[-2.39515339, -0.26590761,  0.27133569],\n",
       "       [-0.8135504 ,  0.66787476, -0.89875668],\n",
       "       [-0.50870471,  0.65918458,  0.85859736]])"
      ]
     },
     "execution_count": 8,
     "metadata": {},
     "output_type": "execute_result"
    }
   ],
   "source": [
    "# from google.colab import drive\n",
    "# import os\n",
    "\n",
    "# Mount google driver\n",
    "# drive.mount('/content/drive/')\n",
    "# os.chdir(\"drive/My Drive/mybook\")\n",
    "\n",
    "import numpy as np\n",
    "\n",
    "# Khởi tạo một mảng ngẫu nhiên A\n",
    "A = np.random.randn(3, 3)\n",
    "A"
   ]
  },
  {
   "cell_type": "markdown",
   "id": "nasty-bonus",
   "metadata": {
    "id": "wyNE9CLk-Hnl"
   },
   "source": [
    "Save mảng A theo hàm `np.save()` và `np.savetxt()` có cú pháp:\n",
    "\n",
    "* `np.save(file, arr)`: Output là định dạng npy. Save được mọi tensor với số chiều tuỳ ý.\n",
    "* `np.savetxt(file, arr)`: Output là định dạng txt. Cách này ít phổ biến hơn vì ta chỉ save được mảng 1D và 2D.\n",
    "\n",
    "Trong các công thức trên thì `file` là đường link tới vị trí save và `arr` là mảng cần save."
   ]
  },
  {
   "cell_type": "code",
   "execution_count": 9,
   "id": "diverse-gateway",
   "metadata": {
    "executionInfo": {
     "elapsed": 1825,
     "status": "aborted",
     "timestamp": 1620884251940,
     "user": {
      "displayName": "khanhblog AI",
      "photoUrl": "https://lh3.googleusercontent.com/a-/AOh14GhNCi9Qnch9sWXSuvX4N5yijAGEjX1IvfmN-95m=s64",
      "userId": "06481533334230032014"
     },
     "user_tz": -420
    },
    "id": "aXX6RnWK-LYh"
   },
   "outputs": [
    {
     "name": "stdout",
     "output_type": "stream",
     "text": [
      ".  ..  A.npy  A.txt\r\n"
     ]
    }
   ],
   "source": [
    "# Định dạng npy\n",
    "np.save('numpy_save/A', A)\n",
    "# Định dạng txt\n",
    "np.savetxt('numpy_save/A.txt', A)\n",
    "# List các file\n",
    "!ls -a numpy_save"
   ]
  },
  {
   "cell_type": "markdown",
   "id": "automated-virtue",
   "metadata": {
    "id": "SIrNtbV78xLK"
   },
   "source": [
    "## 3.2.2. Load numpy từ file\n",
    "\n",
    "Sau khi save numpy, ta có thể load chúng lại theo hàm `np.load()` và `np.loadtxt()`."
   ]
  },
  {
   "cell_type": "code",
   "execution_count": 10,
   "id": "moved-catalyst",
   "metadata": {
    "executionInfo": {
     "elapsed": 1822,
     "status": "aborted",
     "timestamp": 1620884251941,
     "user": {
      "displayName": "khanhblog AI",
      "photoUrl": "https://lh3.googleusercontent.com/a-/AOh14GhNCi9Qnch9sWXSuvX4N5yijAGEjX1IvfmN-95m=s64",
      "userId": "06481533334230032014"
     },
     "user_tz": -420
    },
    "id": "pI_pk0HoLpap"
   },
   "outputs": [
    {
     "name": "stdout",
     "output_type": "stream",
     "text": [
      "[[-2.39515339 -0.26590761  0.27133569]\n",
      " [-0.8135504   0.66787476 -0.89875668]\n",
      " [-0.50870471  0.65918458  0.85859736]]\n"
     ]
    }
   ],
   "source": [
    "A = np.load(\"numpy_save/A.npy\")\n",
    "print(A)"
   ]
  },
  {
   "cell_type": "code",
   "execution_count": 11,
   "id": "theoretical-annual",
   "metadata": {
    "executionInfo": {
     "elapsed": 1819,
     "status": "aborted",
     "timestamp": 1620884251941,
     "user": {
      "displayName": "khanhblog AI",
      "photoUrl": "https://lh3.googleusercontent.com/a-/AOh14GhNCi9Qnch9sWXSuvX4N5yijAGEjX1IvfmN-95m=s64",
      "userId": "06481533334230032014"
     },
     "user_tz": -420
    },
    "id": "kWE7CBtlA7wG"
   },
   "outputs": [
    {
     "name": "stdout",
     "output_type": "stream",
     "text": [
      "[[-2.39515339 -0.26590761  0.27133569]\n",
      " [-0.8135504   0.66787476 -0.89875668]\n",
      " [-0.50870471  0.65918458  0.85859736]]\n"
     ]
    }
   ],
   "source": [
    "np.loadtxt(\"numpy_save/A.txt\")\n",
    "print(A)"
   ]
  },
  {
   "cell_type": "markdown",
   "id": "executed-commons",
   "metadata": {
    "id": "aYuk0WasC7Yl"
   },
   "source": [
    "## 3.2.3. convert mảng từ dataframe\n",
    "\n",
    "Trong nhiều trường hợp khi xây dựng mô hình chúng ta có thể lấy giá trị của mảng từ dataframe bằng cách gọi thuộc tính `df.values`."
   ]
  },
  {
   "cell_type": "code",
   "execution_count": 12,
   "id": "hourly-priority",
   "metadata": {
    "executionInfo": {
     "elapsed": 1816,
     "status": "aborted",
     "timestamp": 1620884251942,
     "user": {
      "displayName": "khanhblog AI",
      "photoUrl": "https://lh3.googleusercontent.com/a-/AOh14GhNCi9Qnch9sWXSuvX4N5yijAGEjX1IvfmN-95m=s64",
      "userId": "06481533334230032014"
     },
     "user_tz": -420
    },
    "id": "RZW5iPRdCG-m"
   },
   "outputs": [
    {
     "data": {
      "text/html": [
       "<div>\n",
       "<style scoped>\n",
       "    .dataframe tbody tr th:only-of-type {\n",
       "        vertical-align: middle;\n",
       "    }\n",
       "\n",
       "    .dataframe tbody tr th {\n",
       "        vertical-align: top;\n",
       "    }\n",
       "\n",
       "    .dataframe thead th {\n",
       "        text-align: right;\n",
       "    }\n",
       "</style>\n",
       "<table border=\"1\" class=\"dataframe\">\n",
       "  <thead>\n",
       "    <tr style=\"text-align: right;\">\n",
       "      <th></th>\n",
       "      <th>0</th>\n",
       "      <th>1</th>\n",
       "      <th>2</th>\n",
       "    </tr>\n",
       "  </thead>\n",
       "  <tbody>\n",
       "    <tr>\n",
       "      <th>0</th>\n",
       "      <td>-2.395153</td>\n",
       "      <td>-0.265908</td>\n",
       "      <td>0.271336</td>\n",
       "    </tr>\n",
       "    <tr>\n",
       "      <th>1</th>\n",
       "      <td>-0.813550</td>\n",
       "      <td>0.667875</td>\n",
       "      <td>-0.898757</td>\n",
       "    </tr>\n",
       "    <tr>\n",
       "      <th>2</th>\n",
       "      <td>-0.508705</td>\n",
       "      <td>0.659185</td>\n",
       "      <td>0.858597</td>\n",
       "    </tr>\n",
       "  </tbody>\n",
       "</table>\n",
       "</div>"
      ],
      "text/plain": [
       "          0         1         2\n",
       "0 -2.395153 -0.265908  0.271336\n",
       "1 -0.813550  0.667875 -0.898757\n",
       "2 -0.508705  0.659185  0.858597"
      ]
     },
     "execution_count": 12,
     "metadata": {},
     "output_type": "execute_result"
    }
   ],
   "source": [
    "import pandas as pd\n",
    "\n",
    "df = pd.read_csv(\"numpy_save/A.txt\", header=None, sep=\" \")\n",
    "df"
   ]
  },
  {
   "cell_type": "code",
   "execution_count": 13,
   "id": "located-concentration",
   "metadata": {
    "executionInfo": {
     "elapsed": 1813,
     "status": "aborted",
     "timestamp": 1620884251942,
     "user": {
      "displayName": "khanhblog AI",
      "photoUrl": "https://lh3.googleusercontent.com/a-/AOh14GhNCi9Qnch9sWXSuvX4N5yijAGEjX1IvfmN-95m=s64",
      "userId": "06481533334230032014"
     },
     "user_tz": -420
    },
    "id": "NHys3DxQCS4P"
   },
   "outputs": [
    {
     "name": "stdout",
     "output_type": "stream",
     "text": [
      "[[-2.39515339 -0.26590761  0.27133569]\n",
      " [-0.8135504   0.66787476 -0.89875668]\n",
      " [-0.50870471  0.65918458  0.85859736]]\n"
     ]
    }
   ],
   "source": [
    "A = df.values\n",
    "print(A)"
   ]
  },
  {
   "cell_type": "markdown",
   "id": "corresponding-serum",
   "metadata": {
    "id": "4oZgAMHyGah0"
   },
   "source": [
    "# 3.2. Truy cập mảng trên numpy\n",
    "\n",
    "Chúng ta có thể truy cập mảng con theo các chiều thành phần của mảng cha dựa vào khai báo indices trên từng chiều. Lưu ý rằng trong lập trình thì số thứ tự sẽ giảm 1 so với thực tế do theo qui ước của python thì STT (_số thứ tự_) bắt đầu từ 0. Do đó ở dưới khi mình nói đến STT thì bạn hiểu là mình đang nói tới STT trong lập trình và được giảm 1 so với thực tế. Ví dụ: dòng số 0 tức là dòng đầu tiên (số 1) trong thực tế.\n",
    "\n",
    "Để khai báo indices chúng ta có thể sử dụng slice indices được ngăn cách bởi dấu `:`. Slice indices giúp rút ngắn việc phải nhập từng indices. Nó rất phù hợp với các tình huống các vị trí cần truy cập là liên tục nhau. Bên dưới là 3 công thức slice indice thường sử dụng:\n",
    "\n",
    "* `indice_start:(indice_end+1)`: lấy toàn bộ các indices bắt đầu từ `indice_start` và kết thúc là `indice_end`. \n",
    "\n",
    "* `-num_indices:`: Lấy một số lượng `num_indices` ở vị trí cuối cùng. Ký hiệu `-num_indices` có thể hiểu là trước vị trí cuối cùng `num_indices` vị trí.\n",
    "\n",
    "* `:num_indices`: Lấy một số lượng `num_indices` ở vị trí đầu tiên.\n",
    "\n",
    "Trong trường hợp các vị trí là không liên tục thì ta có thể liệt kê ra các vị trí cần lấy ở từng chiều vào một list."
   ]
  },
  {
   "cell_type": "code",
   "execution_count": 14,
   "id": "automated-blind",
   "metadata": {
    "executionInfo": {
     "elapsed": 926,
     "status": "ok",
     "timestamp": 1620884282359,
     "user": {
      "displayName": "khanhblog AI",
      "photoUrl": "https://lh3.googleusercontent.com/a-/AOh14GhNCi9Qnch9sWXSuvX4N5yijAGEjX1IvfmN-95m=s64",
      "userId": "06481533334230032014"
     },
     "user_tz": -420
    },
    "id": "5cDv5hbqG9pS"
   },
   "outputs": [],
   "source": [
    "import numpy as np \n",
    "X = np.array([[1, 2, 3, 4],\n",
    "              [4, 5, 6, 2],\n",
    "              [7, 8, 9, 1],\n",
    "              [2, 5, 1, 5]])"
   ]
  },
  {
   "cell_type": "markdown",
   "id": "introductory-replication",
   "metadata": {
    "id": "STTsndobHBxv"
   },
   "source": [
    "Tiếp theo ta sẽ truy cập vào các phần tử của X. Bạn sẽ hình dung cách truy cập qua lần lượt các ví dụ bên dưới:"
   ]
  },
  {
   "cell_type": "code",
   "execution_count": 15,
   "id": "respected-variance",
   "metadata": {
    "colab": {
     "base_uri": "https://localhost:8080/"
    },
    "executionInfo": {
     "elapsed": 1483,
     "status": "ok",
     "timestamp": 1620884282929,
     "user": {
      "displayName": "khanhblog AI",
      "photoUrl": "https://lh3.googleusercontent.com/a-/AOh14GhNCi9Qnch9sWXSuvX4N5yijAGEjX1IvfmN-95m=s64",
      "userId": "06481533334230032014"
     },
     "user_tz": -420
    },
    "id": "kQBLIdv3HGtS",
    "outputId": "f8c2bf92-b496-4563-ab8e-17aa7c738ca4"
   },
   "outputs": [
    {
     "name": "stdout",
     "output_type": "stream",
     "text": [
      "6\n"
     ]
    }
   ],
   "source": [
    "# Truy cập vào phần tử thuộc dòng 1 và cột 2\n",
    "print(X[1, 2])"
   ]
  },
  {
   "cell_type": "markdown",
   "id": "minor-privacy",
   "metadata": {
    "id": "CcEnrZMLHcea"
   },
   "source": [
    "Khi truy cập theo slice indice thì vị trí kết thúc phải cộng thêm một. Tức là chúng ta cần truy cập các dòng có indice từ 1 đến 2 thì phải khai báo indice là `1:3`. Đây là một điều dễ bị nhầm lẫn đối với người mới bắt đầu lập trình mà chúng ta cần đặc biệt lưu ý."
   ]
  },
  {
   "cell_type": "code",
   "execution_count": 16,
   "id": "accepted-james",
   "metadata": {
    "colab": {
     "base_uri": "https://localhost:8080/"
    },
    "executionInfo": {
     "elapsed": 1479,
     "status": "ok",
     "timestamp": 1620884282930,
     "user": {
      "displayName": "khanhblog AI",
      "photoUrl": "https://lh3.googleusercontent.com/a-/AOh14GhNCi9Qnch9sWXSuvX4N5yijAGEjX1IvfmN-95m=s64",
      "userId": "06481533334230032014"
     },
     "user_tz": -420
    },
    "id": "rExEFNIMHXW1",
    "outputId": "f5998e60-be48-44dd-8e9e-2991af86d67f"
   },
   "outputs": [
    {
     "name": "stdout",
     "output_type": "stream",
     "text": [
      "[[5 6]\n",
      " [8 9]]"
     ]
    },
    {
     "name": "stdout",
     "output_type": "stream",
     "text": [
      "\n"
     ]
    }
   ],
   "source": [
    "# Truy cập vào các dòng từ 1 đến 2 và các cột từ 1 đến 2\n",
    "print(X[1:3, 1:3])"
   ]
  },
  {
   "cell_type": "code",
   "execution_count": 17,
   "id": "figured-tuesday",
   "metadata": {
    "colab": {
     "base_uri": "https://localhost:8080/"
    },
    "executionInfo": {
     "elapsed": 1476,
     "status": "ok",
     "timestamp": 1620884282931,
     "user": {
      "displayName": "khanhblog AI",
      "photoUrl": "https://lh3.googleusercontent.com/a-/AOh14GhNCi9Qnch9sWXSuvX4N5yijAGEjX1IvfmN-95m=s64",
      "userId": "06481533334230032014"
     },
     "user_tz": -420
    },
    "id": "CZ6VPc6zHk9Z",
    "outputId": "f753731f-695c-4b44-ae14-3391bdaa94ca"
   },
   "outputs": [
    {
     "name": "stdout",
     "output_type": "stream",
     "text": [
      "[[1 2]\n",
      " [4 5]]"
     ]
    },
    {
     "name": "stdout",
     "output_type": "stream",
     "text": [
      "\n"
     ]
    }
   ],
   "source": [
    "# Truy cập vào 2 dòng, 2 cột đầu tiên\n",
    "print(X[:2, :2])"
   ]
  },
  {
   "cell_type": "code",
   "execution_count": 18,
   "id": "overhead-secretary",
   "metadata": {
    "colab": {
     "base_uri": "https://localhost:8080/"
    },
    "executionInfo": {
     "elapsed": 1474,
     "status": "ok",
     "timestamp": 1620884282932,
     "user": {
      "displayName": "khanhblog AI",
      "photoUrl": "https://lh3.googleusercontent.com/a-/AOh14GhNCi9Qnch9sWXSuvX4N5yijAGEjX1IvfmN-95m=s64",
      "userId": "06481533334230032014"
     },
     "user_tz": -420
    },
    "id": "UBBUC4WnHo6L",
    "outputId": "24181c34-37a2-4cc6-bd19-2b671415b4eb"
   },
   "outputs": [
    {
     "name": "stdout",
     "output_type": "stream",
     "text": [
      "[[9 1]\n",
      " [1 5]]\n"
     ]
    }
   ],
   "source": [
    "# Truy cập vào 2 dòng, 2 cột cuối cùng\n",
    "print(X[-2:, -2:])"
   ]
  },
  {
   "cell_type": "code",
   "execution_count": 19,
   "id": "crude-invalid",
   "metadata": {
    "colab": {
     "base_uri": "https://localhost:8080/"
    },
    "executionInfo": {
     "elapsed": 1470,
     "status": "ok",
     "timestamp": 1620884282932,
     "user": {
      "displayName": "khanhblog AI",
      "photoUrl": "https://lh3.googleusercontent.com/a-/AOh14GhNCi9Qnch9sWXSuvX4N5yijAGEjX1IvfmN-95m=s64",
      "userId": "06481533334230032014"
     },
     "user_tz": -420
    },
    "id": "errkC_TxHsO5",
    "outputId": "6a5976f1-21f4-41b6-d813-0ad419ac6140"
   },
   "outputs": [
    {
     "name": "stdout",
     "output_type": "stream",
     "text": [
      "[[1 2 3 4]\n",
      " [7 8 9 1]]\n"
     ]
    }
   ],
   "source": [
    "# Truy cập vào dòng 0 và 2. Cách lấy indices không liên tục.\n",
    "print(X[[0, 2], :])"
   ]
  },
  {
   "cell_type": "markdown",
   "id": "academic-tumor",
   "metadata": {
    "id": "LG_yVuWTH0cE"
   },
   "source": [
    "# 3.3. Thay đổi shape của mảng"
   ]
  },
  {
   "cell_type": "markdown",
   "id": "pending-cassette",
   "metadata": {
    "id": "ENkganqiy1O2"
   },
   "source": [
    "## 3.3.1. Reshape mảng\n",
    "\n",
    "Chúng ta có thể thay đổi shape cho mảng dựa vào câu lệnh `np.reshape()`. Hàm này vừa là một thuộc tính sẵn có trong mỗi mảng (tức là với ma tận A ta có thể gọi `A.reshape()`) vừa là hàm của numpy."
   ]
  },
  {
   "cell_type": "code",
   "execution_count": 20,
   "id": "alert-physiology",
   "metadata": {
    "colab": {
     "base_uri": "https://localhost:8080/"
    },
    "executionInfo": {
     "elapsed": 1468,
     "status": "ok",
     "timestamp": 1620884282933,
     "user": {
      "displayName": "khanhblog AI",
      "photoUrl": "https://lh3.googleusercontent.com/a-/AOh14GhNCi9Qnch9sWXSuvX4N5yijAGEjX1IvfmN-95m=s64",
      "userId": "06481533334230032014"
     },
     "user_tz": -420
    },
    "id": "g9EVI3iyII8c",
    "outputId": "c849b088-56c1-4f56-907c-5022c8205c1e"
   },
   "outputs": [
    {
     "name": "stdout",
     "output_type": "stream",
     "text": [
      "B: \n",
      " [ 0  1  2  3  4  5  6  7  8  9 10 11]\n",
      "B.shape:  (12,)\n"
     ]
    }
   ],
   "source": [
    "B = np.array(np.arange(12))\n",
    "print(\"B: \\n\", B)\n",
    "print(\"B.shape: \", B.shape)"
   ]
  },
  {
   "cell_type": "markdown",
   "id": "illegal-guinea",
   "metadata": {
    "id": "OvowngudIhEN"
   },
   "source": [
    "Mảng B là một véc tơ 1 chiều có độ dài là 12. Chúng ta có thể reshape mảng B thành một ma trận 2 dòng, 6 cột."
   ]
  },
  {
   "cell_type": "code",
   "execution_count": 21,
   "id": "sustained-harris",
   "metadata": {
    "colab": {
     "base_uri": "https://localhost:8080/"
    },
    "executionInfo": {
     "elapsed": 1465,
     "status": "ok",
     "timestamp": 1620884282933,
     "user": {
      "displayName": "khanhblog AI",
      "photoUrl": "https://lh3.googleusercontent.com/a-/AOh14GhNCi9Qnch9sWXSuvX4N5yijAGEjX1IvfmN-95m=s64",
      "userId": "06481533334230032014"
     },
     "user_tz": -420
    },
    "id": "9_znpjSzIuJj",
    "outputId": "746af463-b94d-4ec0-cf0c-a2fb9d8b2456"
   },
   "outputs": [
    {
     "data": {
      "text/plain": [
       "array([[ 0,  1,  2,  3,  4,  5],\n",
       "       [ 6,  7,  8,  9, 10, 11]])"
      ]
     },
     "execution_count": 21,
     "metadata": {},
     "output_type": "execute_result"
    }
   ],
   "source": [
    "# dùng B.reshape()\n",
    "B.reshape(2, 6)"
   ]
  },
  {
   "cell_type": "code",
   "execution_count": 22,
   "id": "informative-practitioner",
   "metadata": {
    "colab": {
     "base_uri": "https://localhost:8080/"
    },
    "executionInfo": {
     "elapsed": 1462,
     "status": "ok",
     "timestamp": 1620884282933,
     "user": {
      "displayName": "khanhblog AI",
      "photoUrl": "https://lh3.googleusercontent.com/a-/AOh14GhNCi9Qnch9sWXSuvX4N5yijAGEjX1IvfmN-95m=s64",
      "userId": "06481533334230032014"
     },
     "user_tz": -420
    },
    "id": "ll8miEQFI81a",
    "outputId": "cc588331-1d79-4c20-ac22-98421198940a"
   },
   "outputs": [
    {
     "data": {
      "text/plain": [
       "array([[ 0,  1,  2,  3,  4,  5],\n",
       "       [ 6,  7,  8,  9, 10, 11]])"
      ]
     },
     "execution_count": 22,
     "metadata": {},
     "output_type": "execute_result"
    }
   ],
   "source": [
    "# dùng np.reshape()\n",
    "np.reshape(B, (2, 6))"
   ]
  },
  {
   "cell_type": "markdown",
   "id": "working-probe",
   "metadata": {
    "id": "FmRWUlHgImy1"
   },
   "source": [
    "Trong một mảng có $n$ chiều, khi đã biết $n-1$ chiều thì chiều còn lại có thể tính ra được bằng cách chia tổng số phần tử cho tích của $n-1$ chiều. Do đó chúng ta có thể đánh dấu chiều chưa biết bằng -1 để numpy sẽ tự tính."
   ]
  },
  {
   "cell_type": "code",
   "execution_count": 23,
   "id": "pressed-confidentiality",
   "metadata": {
    "colab": {
     "base_uri": "https://localhost:8080/"
    },
    "executionInfo": {
     "elapsed": 1460,
     "status": "ok",
     "timestamp": 1620884282934,
     "user": {
      "displayName": "khanhblog AI",
      "photoUrl": "https://lh3.googleusercontent.com/a-/AOh14GhNCi9Qnch9sWXSuvX4N5yijAGEjX1IvfmN-95m=s64",
      "userId": "06481533334230032014"
     },
     "user_tz": -420
    },
    "id": "4mTT1XH8JcuQ",
    "outputId": "56a175d1-2773-4dd3-9456-b7b999705bc0"
   },
   "outputs": [
    {
     "data": {
      "text/plain": [
       "array([[ 0,  1,  2,  3,  4,  5],\n",
       "       [ 6,  7,  8,  9, 10, 11]])"
      ]
     },
     "execution_count": 23,
     "metadata": {},
     "output_type": "execute_result"
    }
   ],
   "source": [
    "B.reshape(2, -1)"
   ]
  },
  {
   "cell_type": "code",
   "execution_count": 24,
   "id": "relevant-tractor",
   "metadata": {
    "colab": {
     "base_uri": "https://localhost:8080/"
    },
    "executionInfo": {
     "elapsed": 1457,
     "status": "ok",
     "timestamp": 1620884282934,
     "user": {
      "displayName": "khanhblog AI",
      "photoUrl": "https://lh3.googleusercontent.com/a-/AOh14GhNCi9Qnch9sWXSuvX4N5yijAGEjX1IvfmN-95m=s64",
      "userId": "06481533334230032014"
     },
     "user_tz": -420
    },
    "id": "SvXrmKxlJe-o",
    "outputId": "54565165-aa8c-4f8c-e609-a06bb1cf8993"
   },
   "outputs": [
    {
     "name": "stdout",
     "output_type": "stream",
     "text": [
      "[[ 0  1  2  3  4  5]\n",
      " [ 6  7  8  9 10 11]]\n"
     ]
    }
   ],
   "source": [
    "B = np.reshape(B, (2, -1))\n",
    "print(B)"
   ]
  },
  {
   "cell_type": "markdown",
   "id": "significant-specialist",
   "metadata": {
    "id": "B6Hdl0QlzEin"
   },
   "source": [
    "## 3.3.2. Chuyển vị các chiều\n",
    "\n",
    "Trong các mô hình deep learning chúng ta có rất nhiều những lựa chọn khác nhau về định dạng đầu vào của một tensor. Ví dụ như đối với dữ liệu ảnh thì có sự khác biệt về input mặc định giữa các framework như pytorch và tensorflow. Tensorflow chấp nhận ảnh đầu vào có các chiều được sắp xếp theo dạng `batch_size x width x height x channels` trong khi pytorch lại chấp nhận kiểu `batch_size x channels x width x height`.\n",
    "\n",
    "Chúng ta có thể hoán vị các chiều của mảng nhiều chiều bằng câu lệnh `np.transpose(arr, (d_i, d_j,..., d_n))`. Trong đó, arr là ma trận cần hoán vị chiều và `(d_i, d_j,...,d_n)` là thứ tự các chiều mới mà chúng ta hoán vị."
   ]
  },
  {
   "cell_type": "code",
   "execution_count": 25,
   "id": "early-reaction",
   "metadata": {
    "colab": {
     "base_uri": "https://localhost:8080/"
    },
    "executionInfo": {
     "elapsed": 1046,
     "status": "ok",
     "timestamp": 1620894116203,
     "user": {
      "displayName": "khanhblog AI",
      "photoUrl": "https://lh3.googleusercontent.com/a-/AOh14GhNCi9Qnch9sWXSuvX4N5yijAGEjX1IvfmN-95m=s64",
      "userId": "06481533334230032014"
     },
     "user_tz": -420
    },
    "id": "S9Q47i9mzJxH",
    "outputId": "66b72760-c131-41f6-f378-f3fe62b90122"
   },
   "outputs": [
    {
     "name": "stdout",
     "output_type": "stream",
     "text": [
      "A.shape:  (3, 28, 28)\n",
      "A transpose shape:  (28, 28, 3)\n"
     ]
    }
   ],
   "source": [
    "# Khởi một bức ảnh ngẫu nhiên có kích thước channels x width x height= 3 x 28 x 28\n",
    "A = np.random.randint(0, 255, size=(3, 28, 28))\n",
    "print(\"A.shape: \", A.shape)\n",
    "# Chuyển channels về cuối\n",
    "A = np.transpose(A, (1, 2, 0))\n",
    "print(\"A transpose shape: \", A.shape)"
   ]
  },
  {
   "cell_type": "markdown",
   "id": "bound-record",
   "metadata": {
    "id": "Y3zXgPYvy6X6"
   },
   "source": [
    "## 3.3.3. Concatenate và Stack hai mảng\n",
    "\n",
    "Giả sử bạn đang có rất nhiều bức ảnh khác nhau. Bạn muốn ghép các bức ảnh đó theo chiều `height` (một bức nằm trái và một bức nằm phải). Để thực hiện được điều này thì bạn cần tới câu lệnh concatenate."
   ]
  },
  {
   "cell_type": "code",
   "execution_count": 26,
   "id": "pleased-lending",
   "metadata": {
    "colab": {
     "base_uri": "https://localhost:8080/"
    },
    "executionInfo": {
     "elapsed": 820,
     "status": "ok",
     "timestamp": 1620894966858,
     "user": {
      "displayName": "khanhblog AI",
      "photoUrl": "https://lh3.googleusercontent.com/a-/AOh14GhNCi9Qnch9sWXSuvX4N5yijAGEjX1IvfmN-95m=s64",
      "userId": "06481533334230032014"
     },
     "user_tz": -420
    },
    "id": "5cITccV-2xUk",
    "outputId": "3d89d2e0-3a65-4453-e115-0aa3a6bb4c61"
   },
   "outputs": [
    {
     "name": "stdout",
     "output_type": "stream",
     "text": [
      "A.shape: (28, 28, 3)\n",
      "B.shape: (28, 28, 3)\n",
      "shape after concatenate:  (28, 56, 3)\n"
     ]
    }
   ],
   "source": [
    "A = np.random.randint(0, 255, size=(28, 28, 3))\n",
    "B = np.random.randint(0, 255, size=(28, 28, 3))\n",
    "print(\"A.shape:\", A.shape)\n",
    "print(\"B.shape:\", B.shape)\n",
    "AB = np.concatenate((A, B), axis=1)\n",
    "print(\"shape after concatenate: \", AB.shape)"
   ]
  },
  {
   "cell_type": "markdown",
   "id": "bound-count",
   "metadata": {
    "id": "5DxXk17G31ka"
   },
   "source": [
    "Ngoài ra muốn tạo một batch cho huấn luyện, trong batch đó gồm 2 ảnh là A và B thì chúng ta sử dụng câu lệnh stack."
   ]
  },
  {
   "cell_type": "code",
   "execution_count": 27,
   "id": "focused-perfume",
   "metadata": {
    "colab": {
     "base_uri": "https://localhost:8080/"
    },
    "executionInfo": {
     "elapsed": 771,
     "status": "ok",
     "timestamp": 1620895015610,
     "user": {
      "displayName": "khanhblog AI",
      "photoUrl": "https://lh3.googleusercontent.com/a-/AOh14GhNCi9Qnch9sWXSuvX4N5yijAGEjX1IvfmN-95m=s64",
      "userId": "06481533334230032014"
     },
     "user_tz": -420
    },
    "id": "QFxTEexZ3rkG",
    "outputId": "30c38888-e2b6-4158-80c0-61a086d515d2"
   },
   "outputs": [
    {
     "data": {
      "text/plain": [
       "(2, 28, 28, 3)"
      ]
     },
     "execution_count": 27,
     "metadata": {},
     "output_type": "execute_result"
    }
   ],
   "source": [
    "np.stack([A, B]).shape"
   ]
  },
  {
   "cell_type": "code",
   "execution_count": 28,
   "id": "light-complexity",
   "metadata": {
    "colab": {
     "base_uri": "https://localhost:8080/"
    },
    "executionInfo": {
     "elapsed": 967,
     "status": "ok",
     "timestamp": 1620895129406,
     "user": {
      "displayName": "khanhblog AI",
      "photoUrl": "https://lh3.googleusercontent.com/a-/AOh14GhNCi9Qnch9sWXSuvX4N5yijAGEjX1IvfmN-95m=s64",
      "userId": "06481533334230032014"
     },
     "user_tz": -420
    },
    "id": "y-6mv0I83-_g",
    "outputId": "ec3d7bfd-3b3a-4620-9a5f-4fcea2b329d5"
   },
   "outputs": [
    {
     "name": "stdout",
     "output_type": "stream",
     "text": [
      "(56, 28, 3)\n",
      "(28, 56, 3)\n"
     ]
    }
   ],
   "source": [
    "# Stack theo chiều vertical\n",
    "print(np.vstack([A, B]).shape)\n",
    "\n",
    "# Stack theo chiều horizontal\n",
    "print(np.hstack([A, B]).shape)"
   ]
  },
  {
   "cell_type": "markdown",
   "id": "upper-queue",
   "metadata": {
    "id": "DJOTLo648gby"
   },
   "source": [
    "## 3.3.4. Mở rộng mảng\n",
    "\n",
    "Trong nhiều tình huống, sự khác biệt về số lượng các chiều trong mảng có thể dẫn tới những lỗi liên quan tới shape. Ví dụ: Chúng ta không thể nhân một mảng kích thước 3 chiều với một ma trận kích thước 2 chiều."
   ]
  },
  {
   "cell_type": "code",
   "execution_count": 29,
   "id": "consistent-hampton",
   "metadata": {
    "executionInfo": {
     "elapsed": 902,
     "status": "ok",
     "timestamp": 1620896866996,
     "user": {
      "displayName": "khanhblog AI",
      "photoUrl": "https://lh3.googleusercontent.com/a-/AOh14GhNCi9Qnch9sWXSuvX4N5yijAGEjX1IvfmN-95m=s64",
      "userId": "06481533334230032014"
     },
     "user_tz": -420
    },
    "id": "DFrRKnrM87mp"
   },
   "outputs": [],
   "source": [
    "A = np.random.randint(0, 2, size=(1, 2, 3))\n",
    "B = np.random.randint(0, 2, size=(1, 3))\n",
    "\n",
    "# A.dot(B)"
   ]
  },
  {
   "cell_type": "markdown",
   "id": "joint-canyon",
   "metadata": {
    "id": "OjKEVeSc-I1F"
   },
   "source": [
    "Khi đó chúng ta cần mở rộng mảng thêm một chiều ở vị trí trong cùng thì mới thực hiện được phép nhân."
   ]
  },
  {
   "cell_type": "code",
   "execution_count": 30,
   "id": "funny-pulse",
   "metadata": {
    "colab": {
     "base_uri": "https://localhost:8080/"
    },
    "executionInfo": {
     "elapsed": 741,
     "status": "ok",
     "timestamp": 1620896869486,
     "user": {
      "displayName": "khanhblog AI",
      "photoUrl": "https://lh3.googleusercontent.com/a-/AOh14GhNCi9Qnch9sWXSuvX4N5yijAGEjX1IvfmN-95m=s64",
      "userId": "06481533334230032014"
     },
     "user_tz": -420
    },
    "id": "aJhBccBE-e_z",
    "outputId": "8d918d59-403f-4a9d-8092-d92819d1c1bf"
   },
   "outputs": [
    {
     "name": "stdout",
     "output_type": "stream",
     "text": [
      "B new shape:  (1, 3, 1)\n",
      "A.dot(B) shape:  (1, 2, 1, 1)\n"
     ]
    }
   ],
   "source": [
    "# Mở rộng mảng\n",
    "B = np.expand_dims(B, axis=-1)\n",
    "print(\"B new shape: \", B.shape)\n",
    "print(\"A.dot(B) shape: \", A.dot(B).shape)"
   ]
  },
  {
   "cell_type": "markdown",
   "id": "precise-vacuum",
   "metadata": {
    "id": "GRIxD-DF-4Kg"
   },
   "source": [
    "Đối số `axis=-1` có nghĩa là ta sẽ mở rộng mảng tại chiều cuối cùng. Khi đó shape `(1, 3)` trở thành `(1, 3, 1)`."
   ]
  },
  {
   "cell_type": "markdown",
   "id": "suburban-fairy",
   "metadata": {
    "id": "j-Dof5RmJktr"
   },
   "source": [
    "# 3.4. Các hàm trên numpy"
   ]
  },
  {
   "cell_type": "markdown",
   "id": "developmental-theme",
   "metadata": {
    "id": "gvy_4q1tLbbX"
   },
   "source": [
    "## 3.4.1. min, max, mean, sum\n",
    "Cũng giống như pandas, numpy cung cấp một loạt các hàm thống kê thông dụng theo chiều dòng hoặc cột như min, max, mean, sum. Trong tất cả các công thức bên dưới thì `axis=1` là theo dòng và `axis=0` là theo cột."
   ]
  },
  {
   "cell_type": "code",
   "execution_count": 31,
   "id": "otherwise-basic",
   "metadata": {
    "colab": {
     "base_uri": "https://localhost:8080/"
    },
    "executionInfo": {
     "elapsed": 1455,
     "status": "ok",
     "timestamp": 1620884282935,
     "user": {
      "displayName": "khanhblog AI",
      "photoUrl": "https://lh3.googleusercontent.com/a-/AOh14GhNCi9Qnch9sWXSuvX4N5yijAGEjX1IvfmN-95m=s64",
      "userId": "06481533334230032014"
     },
     "user_tz": -420
    },
    "id": "GiU0iT8DJ0Om",
    "outputId": "36cafe7f-0d2d-4101-dc19-30f04cbcbc72"
   },
   "outputs": [
    {
     "data": {
      "text/plain": [
       "0"
      ]
     },
     "execution_count": 31,
     "metadata": {},
     "output_type": "execute_result"
    }
   ],
   "source": [
    "B = np.array([[ 0,  1,  2,  3,  4,  5],\n",
    "              [ 6,  7,  8,  9, 10, 11]])\n",
    "\n",
    "# Tìm ra phần tử nhỏ nhất của B\n",
    "B.min()"
   ]
  },
  {
   "cell_type": "code",
   "execution_count": 32,
   "id": "focal-throw",
   "metadata": {
    "colab": {
     "base_uri": "https://localhost:8080/"
    },
    "executionInfo": {
     "elapsed": 1452,
     "status": "ok",
     "timestamp": 1620884282935,
     "user": {
      "displayName": "khanhblog AI",
      "photoUrl": "https://lh3.googleusercontent.com/a-/AOh14GhNCi9Qnch9sWXSuvX4N5yijAGEjX1IvfmN-95m=s64",
      "userId": "06481533334230032014"
     },
     "user_tz": -420
    },
    "id": "F4sQyOb1J7zg",
    "outputId": "8ca53bc4-a5df-4965-9c19-13b09e4ef5ff"
   },
   "outputs": [
    {
     "data": {
      "text/plain": [
       "array([0, 6])"
      ]
     },
     "execution_count": 32,
     "metadata": {},
     "output_type": "execute_result"
    }
   ],
   "source": [
    "# Tìm ra phần tử nhỏ nhất của B theo dòng\n",
    "B.min(axis=1)"
   ]
  },
  {
   "cell_type": "code",
   "execution_count": 33,
   "id": "treated-hometown",
   "metadata": {
    "colab": {
     "base_uri": "https://localhost:8080/"
    },
    "executionInfo": {
     "elapsed": 1449,
     "status": "ok",
     "timestamp": 1620884282935,
     "user": {
      "displayName": "khanhblog AI",
      "photoUrl": "https://lh3.googleusercontent.com/a-/AOh14GhNCi9Qnch9sWXSuvX4N5yijAGEjX1IvfmN-95m=s64",
      "userId": "06481533334230032014"
     },
     "user_tz": -420
    },
    "id": "dD-LGXvsKXPa",
    "outputId": "8508fd7b-a184-47fc-d97f-019a08f669bd"
   },
   "outputs": [
    {
     "data": {
      "text/plain": [
       "array([0, 1, 2, 3, 4, 5])"
      ]
     },
     "execution_count": 33,
     "metadata": {},
     "output_type": "execute_result"
    }
   ],
   "source": [
    "# Tìm ra phần tử nhỏ nhất của B theo cột\n",
    "B.min(axis=0)"
   ]
  },
  {
   "cell_type": "markdown",
   "id": "cross-flight",
   "metadata": {
    "id": "gf487uQ8J68U"
   },
   "source": [
    "Tương tự với các hàm còn lại là max, mean, sum"
   ]
  },
  {
   "cell_type": "code",
   "execution_count": 34,
   "id": "strong-algorithm",
   "metadata": {
    "colab": {
     "base_uri": "https://localhost:8080/"
    },
    "executionInfo": {
     "elapsed": 1447,
     "status": "ok",
     "timestamp": 1620884282936,
     "user": {
      "displayName": "khanhblog AI",
      "photoUrl": "https://lh3.googleusercontent.com/a-/AOh14GhNCi9Qnch9sWXSuvX4N5yijAGEjX1IvfmN-95m=s64",
      "userId": "06481533334230032014"
     },
     "user_tz": -420
    },
    "id": "r0yQ5KWZJ3Qn",
    "outputId": "23e23aba-0abf-4156-8134-2fa890dcea99"
   },
   "outputs": [
    {
     "name": "stdout",
     "output_type": "stream",
     "text": [
      "[ 5 11]\n",
      "[2.5 8.5]\n",
      "[15 51]\n"
     ]
    }
   ],
   "source": [
    "print(B.max(axis=1))\n",
    "print(B.mean(axis=1))\n",
    "print(B.sum(axis=1))"
   ]
  },
  {
   "cell_type": "markdown",
   "id": "southern-watson",
   "metadata": {
    "id": "laaYtyDqK3k7"
   },
   "source": [
    "## 3.4.2. minimum, maximum\n",
    "\n",
    "Hàm minimum, maximum giúp tìm ra giá trị lớn nhất và nhỏ nhất ở cùng một vị trí giữa hai mảng cùng kích thước. Kết quả trả ra là một mảng có cùng kích thước nhưng có giá trị."
   ]
  },
  {
   "cell_type": "code",
   "execution_count": 35,
   "id": "happy-builder",
   "metadata": {
    "colab": {
     "base_uri": "https://localhost:8080/"
    },
    "executionInfo": {
     "elapsed": 1444,
     "status": "ok",
     "timestamp": 1620884282936,
     "user": {
      "displayName": "khanhblog AI",
      "photoUrl": "https://lh3.googleusercontent.com/a-/AOh14GhNCi9Qnch9sWXSuvX4N5yijAGEjX1IvfmN-95m=s64",
      "userId": "06481533334230032014"
     },
     "user_tz": -420
    },
    "id": "OPQHOdtFLjYy",
    "outputId": "44776a8f-9a91-4159-b7a4-51dea81b6e7a"
   },
   "outputs": [
    {
     "data": {
      "text/plain": [
       "array([[ 1,  4,  6],\n",
       "       [ 2,  7, 10]])"
      ]
     },
     "execution_count": 35,
     "metadata": {},
     "output_type": "execute_result"
    }
   ],
   "source": [
    "A = np.array([[1, 3, 6], \n",
    "              [2, 7, 9]])\n",
    "\n",
    "B = np.array([[0, 4, 5], \n",
    "              [1, 6, 10]])\n",
    "\n",
    "# Tìm các phần tử maximum của A và B ở cùng vị trí indice\n",
    "np.maximum(A, B)"
   ]
  },
  {
   "cell_type": "code",
   "execution_count": 36,
   "id": "interesting-copying",
   "metadata": {
    "colab": {
     "base_uri": "https://localhost:8080/"
    },
    "executionInfo": {
     "elapsed": 1441,
     "status": "ok",
     "timestamp": 1620884282937,
     "user": {
      "displayName": "khanhblog AI",
      "photoUrl": "https://lh3.googleusercontent.com/a-/AOh14GhNCi9Qnch9sWXSuvX4N5yijAGEjX1IvfmN-95m=s64",
      "userId": "06481533334230032014"
     },
     "user_tz": -420
    },
    "id": "yso_sEqZMCsr",
    "outputId": "8f87a555-cabc-46a6-85ef-4f669561d926"
   },
   "outputs": [
    {
     "data": {
      "text/plain": [
       "array([[0, 3, 5],\n",
       "       [1, 6, 9]])"
      ]
     },
     "execution_count": 36,
     "metadata": {},
     "output_type": "execute_result"
    }
   ],
   "source": [
    "# Tìm các phần tử minimum của A và B ở cùng vị trí indice\n",
    "np.minimum(A, B)"
   ]
  },
  {
   "cell_type": "markdown",
   "id": "micro-lodging",
   "metadata": {
    "id": "9-RxAFHQUAIl"
   },
   "source": [
    "## 3.4.3. argmax, argmin\n",
    "\n",
    "Hàm argmax và argmin thường xuyên được sử dụng trong Machine Learning vì chúng có tác dụng tìm ra các nhãn có xác suất là cao nhất."
   ]
  },
  {
   "cell_type": "code",
   "execution_count": 37,
   "id": "municipal-marker",
   "metadata": {
    "colab": {
     "base_uri": "https://localhost:8080/"
    },
    "executionInfo": {
     "elapsed": 1438,
     "status": "ok",
     "timestamp": 1620884282937,
     "user": {
      "displayName": "khanhblog AI",
      "photoUrl": "https://lh3.googleusercontent.com/a-/AOh14GhNCi9Qnch9sWXSuvX4N5yijAGEjX1IvfmN-95m=s64",
      "userId": "06481533334230032014"
     },
     "user_tz": -420
    },
    "id": "Qcxm8ehbUUkz",
    "outputId": "67dc702f-22e7-419a-e206-4c28d68224aa"
   },
   "outputs": [
    {
     "data": {
      "text/plain": [
       "1"
      ]
     },
     "execution_count": 37,
     "metadata": {},
     "output_type": "execute_result"
    }
   ],
   "source": [
    "# Tìm ra indice có giá trị lớn nhất của véc tơ\n",
    "A = np.array([1, 5, 3, 2, 4])\n",
    "np.argmax(A)"
   ]
  },
  {
   "cell_type": "code",
   "execution_count": 38,
   "id": "changed-jackson",
   "metadata": {
    "colab": {
     "base_uri": "https://localhost:8080/"
    },
    "executionInfo": {
     "elapsed": 1436,
     "status": "ok",
     "timestamp": 1620884282938,
     "user": {
      "displayName": "khanhblog AI",
      "photoUrl": "https://lh3.googleusercontent.com/a-/AOh14GhNCi9Qnch9sWXSuvX4N5yijAGEjX1IvfmN-95m=s64",
      "userId": "06481533334230032014"
     },
     "user_tz": -420
    },
    "id": "y4d0jwCKUl5H",
    "outputId": "5f3b548d-ad6a-41dd-d34f-fb7831b7983e"
   },
   "outputs": [
    {
     "data": {
      "text/plain": [
       "array([1, 1, 0, 0])"
      ]
     },
     "execution_count": 38,
     "metadata": {},
     "output_type": "execute_result"
    }
   ],
   "source": [
    "# Tìm ra indice có giá trị lớn nhất của các dòng\n",
    "A = np.array([[1, 2],\n",
    "              [3, 4],\n",
    "              [5, 0],\n",
    "              [2, 1]])\n",
    "\n",
    "np.argmax(A, axis=1)"
   ]
  },
  {
   "cell_type": "markdown",
   "id": "random-intake",
   "metadata": {
    "id": "d0OXxBJ6VFH4"
   },
   "source": [
    "**Bài tập:** Cho ma trận $\\mathbf{B}$ bên dưới là đầu ra có kích thước `NxC`trong đó N là số quan sát và C là số classes. Mỗi dòng của ma trận là một phân phối xác suất của một quan sát. Thống kê kết quả nhãn thuộc về mỗi loại."
   ]
  },
  {
   "cell_type": "code",
   "execution_count": 39,
   "id": "nasty-meaning",
   "metadata": {
    "executionInfo": {
     "elapsed": 1434,
     "status": "ok",
     "timestamp": 1620884282938,
     "user": {
      "displayName": "khanhblog AI",
      "photoUrl": "https://lh3.googleusercontent.com/a-/AOh14GhNCi9Qnch9sWXSuvX4N5yijAGEjX1IvfmN-95m=s64",
      "userId": "06481533334230032014"
     },
     "user_tz": -420
    },
    "id": "sbcU8t6MVnQ4"
   },
   "outputs": [],
   "source": [
    "B = np.array([[0.1, 0.2, 0.7],\n",
    "              [0.6, 0.4, 0.0],\n",
    "              [0.1, 0.5, 0.4],\n",
    "              [0.3, 0.3, 0.4],\n",
    "              [0.1, 0.8, 0.1]])"
   ]
  },
  {
   "cell_type": "markdown",
   "id": "polish-spectacular",
   "metadata": {
    "id": "w5x2We8fVDC4"
   },
   "source": [
    "## 3.4.4. argsort\n",
    "\n",
    "Hàm argsort là hàm tìm ra indices được sắp xếp theo số thứ tự tăng dần của một mảng hoặc một véc tơ.\n",
    "\n",
    "`np.argsort(arr, ascending, axis)`"
   ]
  },
  {
   "cell_type": "code",
   "execution_count": 40,
   "id": "photographic-inspector",
   "metadata": {
    "colab": {
     "base_uri": "https://localhost:8080/"
    },
    "executionInfo": {
     "elapsed": 1431,
     "status": "ok",
     "timestamp": 1620884282938,
     "user": {
      "displayName": "khanhblog AI",
      "photoUrl": "https://lh3.googleusercontent.com/a-/AOh14GhNCi9Qnch9sWXSuvX4N5yijAGEjX1IvfmN-95m=s64",
      "userId": "06481533334230032014"
     },
     "user_tz": -420
    },
    "id": "Nke-M0IbWGGm",
    "outputId": "ad6234aa-81e3-430d-a411-a8b84123b84b"
   },
   "outputs": [
    {
     "data": {
      "text/plain": [
       "array([[0, 0, 1],\n",
       "       [2, 3, 4],\n",
       "       [4, 1, 2],\n",
       "       [3, 2, 3],\n",
       "       [1, 4, 0]])"
      ]
     },
     "execution_count": 40,
     "metadata": {},
     "output_type": "execute_result"
    }
   ],
   "source": [
    "# Tìm ra indice của các cột theo thứ tự tăng dần\n",
    "np.argsort(B, axis = 0)"
   ]
  },
  {
   "cell_type": "code",
   "execution_count": 41,
   "id": "alone-divorce",
   "metadata": {
    "colab": {
     "base_uri": "https://localhost:8080/"
    },
    "executionInfo": {
     "elapsed": 1429,
     "status": "ok",
     "timestamp": 1620884282939,
     "user": {
      "displayName": "khanhblog AI",
      "photoUrl": "https://lh3.googleusercontent.com/a-/AOh14GhNCi9Qnch9sWXSuvX4N5yijAGEjX1IvfmN-95m=s64",
      "userId": "06481533334230032014"
     },
     "user_tz": -420
    },
    "id": "rEc9fx0cXG5S",
    "outputId": "2037e19c-fc4c-4e66-8a1d-213fd46591ec"
   },
   "outputs": [
    {
     "data": {
      "text/plain": [
       "array([[0, 1, 2],\n",
       "       [2, 1, 0],\n",
       "       [0, 2, 1],\n",
       "       [0, 1, 2],\n",
       "       [0, 2, 1]])"
      ]
     },
     "execution_count": 41,
     "metadata": {},
     "output_type": "execute_result"
    }
   ],
   "source": [
    "# Tìm ra indice của các dòng theo thứ tự tăng dần\n",
    "np.argsort(B, axis = 1)"
   ]
  },
  {
   "cell_type": "markdown",
   "id": "hybrid-attendance",
   "metadata": {
    "id": "iotXI7xOXTCl"
   },
   "source": [
    "**Bài tập:** Với ma trận $\\mathbf{B}$ như trên, làm thế nào để tìm ra indice của các dòng hoặc các cột theo thứ tự giảm dần?"
   ]
  },
  {
   "cell_type": "markdown",
   "id": "internal-spell",
   "metadata": {
    "id": "u6MdtXekXhEe"
   },
   "source": [
    "## 3.4.5. np.exp() và hàm softmax\n",
    "\n",
    "Hàm exponetial cho phép ta tính số mũ cơ số tự nhiên $e$ của bất kỳ các ma trận nào theo công thức:\n",
    "\n",
    "$$f(x) = e^{x}$$"
   ]
  },
  {
   "cell_type": "code",
   "execution_count": 42,
   "id": "administrative-trout",
   "metadata": {
    "colab": {
     "base_uri": "https://localhost:8080/"
    },
    "executionInfo": {
     "elapsed": 1426,
     "status": "ok",
     "timestamp": 1620884282939,
     "user": {
      "displayName": "khanhblog AI",
      "photoUrl": "https://lh3.googleusercontent.com/a-/AOh14GhNCi9Qnch9sWXSuvX4N5yijAGEjX1IvfmN-95m=s64",
      "userId": "06481533334230032014"
     },
     "user_tz": -420
    },
    "id": "b4xhddduXvWk",
    "outputId": "04947c5f-5a2f-443b-a041-c6b5a5dc3145"
   },
   "outputs": [
    {
     "data": {
      "text/plain": [
       "array([[1.10517092, 1.22140276, 2.01375271],\n",
       "       [1.8221188 , 1.4918247 , 1.        ],\n",
       "       [1.10517092, 1.64872127, 1.4918247 ],\n",
       "       [1.34985881, 1.34985881, 1.4918247 ],\n",
       "       [1.10517092, 2.22554093, 1.10517092]])"
      ]
     },
     "execution_count": 42,
     "metadata": {},
     "output_type": "execute_result"
    }
   ],
   "source": [
    "np.exp(B)"
   ]
  },
  {
   "cell_type": "markdown",
   "id": "unsigned-southwest",
   "metadata": {
    "id": "cSvJ7HM-X630"
   },
   "source": [
    "Từ ma trận `exponential` chúng ta có thể dễ dàng tính được phân phối xác suất tương ứng với từng quan sát theo công thức của hàm softmax:\n",
    "\n",
    "$$P(y=i|\\mathbf{x}) = \\frac{e^{x_i}}{\\sum_{i=1}^{C} e^{x_i}}$$\n",
    "\n",
    "Trên thực tế việc tính toán $e^{x_i}$ với các giá trị $x_i$ lớn thường dẫn tới sự tốn kém chi phí tính toán và có thể dẫn tới hiện tượng số bị tràn luồng (_overflow_). Chúng ta có thể làm giảm cả tử và mẫu của phân phối xác suất $P(.)$ bằng cách chia cho $e^{x_i}$ nhỏ nhất.\n",
    "\n",
    "$$P(y=i|\\mathbf{x}) = \\frac{e^{x_i-\\min{(x)}}}{\\sum_{i=1}^{C} e^{x_i-\\min(x)}}$$"
   ]
  },
  {
   "cell_type": "code",
   "execution_count": 43,
   "id": "attractive-block",
   "metadata": {
    "colab": {
     "base_uri": "https://localhost:8080/"
    },
    "executionInfo": {
     "elapsed": 1423,
     "status": "ok",
     "timestamp": 1620884282940,
     "user": {
      "displayName": "khanhblog AI",
      "photoUrl": "https://lh3.googleusercontent.com/a-/AOh14GhNCi9Qnch9sWXSuvX4N5yijAGEjX1IvfmN-95m=s64",
      "userId": "06481533334230032014"
     },
     "user_tz": -420
    },
    "id": "QZHkRuL_Yffk",
    "outputId": "e3206e19-00ad-4ccd-a096-e7e25e83d3f8"
   },
   "outputs": [
    {
     "data": {
      "text/plain": [
       "array([[0.25462853, 0.28140804, 0.46396343],\n",
       "       [0.42237892, 0.34581461, 0.23180647],\n",
       "       [0.26030255, 0.38832577, 0.35137169],\n",
       "       [0.32204346, 0.32204346, 0.35591307],\n",
       "       [0.2491434 , 0.5017132 , 0.2491434 ]])"
      ]
     },
     "execution_count": 43,
     "metadata": {},
     "output_type": "execute_result"
    }
   ],
   "source": [
    "# Ma trận phân phối xác suất được tính dựa trên các dòng của ma trận B.\n",
    "E = np.exp(B)\n",
    "P = []\n",
    "\n",
    "for i in range(E.shape[0]):\n",
    "  Ei = E[i, :]\n",
    "  pi = Ei/np.sum(Ei)\n",
    "  P.append(pi)\n",
    "\n",
    "P = np.array(P)\n",
    "P"
   ]
  },
  {
   "cell_type": "markdown",
   "id": "earlier-roommate",
   "metadata": {
    "id": "uYYHBsmCv2jj"
   },
   "source": [
    "**Bài tập:** Hày tìm một cách tính khác để tính toán phân phối xác suất của các dòng trên ma trận $\\mathbf{B}$."
   ]
  },
  {
   "cell_type": "markdown",
   "id": "single-egypt",
   "metadata": {
    "id": "IVsuVq76dRBR"
   },
   "source": [
    "## 3.4.6. Giữ nguyên shape\n",
    "\n",
    "Các phép biến đổi trên ma trận trên ta đều thấy làm giảm chiều của ma trận đi một. Ví dụ khi tính `max` theo các dòng của ma trận thì chiều cột sẽ bị tiêu giảm. `numpy` cung cấp cho chúng ta đối số `keepdims` để giữ nguyên số chiều như ma trận đầu tiên."
   ]
  },
  {
   "cell_type": "code",
   "execution_count": 44,
   "id": "intellectual-linux",
   "metadata": {
    "colab": {
     "base_uri": "https://localhost:8080/"
    },
    "executionInfo": {
     "elapsed": 1420,
     "status": "ok",
     "timestamp": 1620884282940,
     "user": {
      "displayName": "khanhblog AI",
      "photoUrl": "https://lh3.googleusercontent.com/a-/AOh14GhNCi9Qnch9sWXSuvX4N5yijAGEjX1IvfmN-95m=s64",
      "userId": "06481533334230032014"
     },
     "user_tz": -420
    },
    "id": "IX1SIK9pd7QC",
    "outputId": "64dfbd57-74ed-4894-d666-64a36b0e1652"
   },
   "outputs": [
    {
     "data": {
      "text/plain": [
       "array([0.7, 0.6, 0.5, 0.4, 0.8])"
      ]
     },
     "execution_count": 44,
     "metadata": {},
     "output_type": "execute_result"
    }
   ],
   "source": [
    "# Tính max theo các dòng ta thu được véc tơ độ dài là rows\n",
    "np.max(B, axis=1)"
   ]
  },
  {
   "cell_type": "markdown",
   "id": "colonial-rolling",
   "metadata": {
    "id": "OL8Fx42neMUb"
   },
   "source": [
    "Khi sử dụng `keepdims=True` thì kết quả trả ra sẽ là một ma trận, chiều bị tiêu giảm sẽ được thay thế bởi kích thước 1."
   ]
  },
  {
   "cell_type": "code",
   "execution_count": 45,
   "id": "collectible-football",
   "metadata": {
    "colab": {
     "base_uri": "https://localhost:8080/"
    },
    "executionInfo": {
     "elapsed": 1417,
     "status": "ok",
     "timestamp": 1620884282940,
     "user": {
      "displayName": "khanhblog AI",
      "photoUrl": "https://lh3.googleusercontent.com/a-/AOh14GhNCi9Qnch9sWXSuvX4N5yijAGEjX1IvfmN-95m=s64",
      "userId": "06481533334230032014"
     },
     "user_tz": -420
    },
    "id": "-LgdFdGieYOL",
    "outputId": "917094d2-ba97-4927-d243-05f78c32f438"
   },
   "outputs": [
    {
     "data": {
      "text/plain": [
       "array([[0.7],\n",
       "       [0.6],\n",
       "       [0.5],\n",
       "       [0.4],\n",
       "       [0.8]])"
      ]
     },
     "execution_count": 45,
     "metadata": {},
     "output_type": "execute_result"
    }
   ],
   "source": [
    "np.max(B, axis=1, keepdims=True)"
   ]
  },
  {
   "cell_type": "markdown",
   "id": "simple-information",
   "metadata": {
    "id": "EvAwV-cOZaxg"
   },
   "source": [
    "## 3.4.7. Gieo hạt và trộn lẫn dữ liệu trên numpy\n",
    "\n",
    "`np.random.seed()` là một hàm gieo hạt giúp cho các kết quả từ những hàm sinh dữ liệu được giữ nguyên kết quả sau mỗi lần chạy. Hàm số này có những ứng dụng rất quan trọng như giúp cố định tập train/test khi phân chia từ dữ liệu tổng thể, cố định giá trị khởi tạo cho cho mạng nơ ron network,.... Bên trong hàm gieo hạt chúng ta truyển vào một giá trị số tự nhiên chính là id của lần gieo hạt chẳng hạn như `np.random.seed(123)`. Giá trị id này sẽ giúp tạo ra một địa chỉ ô nhớ trên RAM để lưu lại quá trình sinh dữ liệu. Nhờ đó khi gọi lại đúng id đó ta có thể khôi phục lại giá trị ban đầu. \n",
    "\n",
    "Bên dưới chúng ta sẽ tạo ra một chuỗi dữ liệu ngẫu nhiên được cố định giá trị bằng phương pháp gieo hạt và kiểm tra xem sau khi chạy lại hàm số đó thì có sinh ra giá trị như lúc trước hay không?"
   ]
  },
  {
   "cell_type": "code",
   "execution_count": 46,
   "id": "current-sphere",
   "metadata": {
    "colab": {
     "base_uri": "https://localhost:8080/"
    },
    "executionInfo": {
     "elapsed": 809,
     "status": "ok",
     "timestamp": 1620887481809,
     "user": {
      "displayName": "khanhblog AI",
      "photoUrl": "https://lh3.googleusercontent.com/a-/AOh14GhNCi9Qnch9sWXSuvX4N5yijAGEjX1IvfmN-95m=s64",
      "userId": "06481533334230032014"
     },
     "user_tz": -420
    },
    "id": "E8MXf05Za5tI",
    "outputId": "da3d361d-6b85-417f-ff27-73207ea2c1fe"
   },
   "outputs": [
    {
     "data": {
      "text/plain": [
       "array([66, 92, 98, 17, 83, 57, 86, 97, 96, 47])"
      ]
     },
     "execution_count": 46,
     "metadata": {},
     "output_type": "execute_result"
    }
   ],
   "source": [
    "import numpy as np\n",
    "np.random.seed(123)\n",
    "np.random.randint(0, 100, 10)"
   ]
  },
  {
   "cell_type": "code",
   "execution_count": 47,
   "id": "variable-gather",
   "metadata": {
    "colab": {
     "base_uri": "https://localhost:8080/"
    },
    "executionInfo": {
     "elapsed": 1011,
     "status": "ok",
     "timestamp": 1620887507202,
     "user": {
      "displayName": "khanhblog AI",
      "photoUrl": "https://lh3.googleusercontent.com/a-/AOh14GhNCi9Qnch9sWXSuvX4N5yijAGEjX1IvfmN-95m=s64",
      "userId": "06481533334230032014"
     },
     "user_tz": -420
    },
    "id": "UgeSVIs6Zy3l",
    "outputId": "d5de5b6b-ef20-420d-9d4e-cc3b4b3b8e18"
   },
   "outputs": [
    {
     "data": {
      "text/plain": [
       "array([66, 92, 98, 17, 83, 57, 86, 97, 96, 47])"
      ]
     },
     "execution_count": 47,
     "metadata": {},
     "output_type": "execute_result"
    }
   ],
   "source": [
    "np.random.seed(123)\n",
    "np.random.randint(0, 100, 10)"
   ]
  },
  {
   "cell_type": "markdown",
   "id": "legislative-weapon",
   "metadata": {
    "id": "Ma_7DmIabLlD"
   },
   "source": [
    "Như vậy khi sử dụng lại mã gieo hạt thì kết quả ta thu được từ hai lần khởi tạo ngẫu nhiên véc tơ số nguyên là không thay đổi."
   ]
  },
  {
   "cell_type": "markdown",
   "id": "coordinate-indianapolis",
   "metadata": {
    "id": "CN4i8R76Z0Px"
   },
   "source": [
    "**Bài tập:** Cho một tập dữ liệu có kích thước là 100. Hãy tìm cách phân chia tập dữ liệu thành tập train và tập test một cách ngẫu nhiên theo tỷ lệ 70/30."
   ]
  },
  {
   "cell_type": "markdown",
   "id": "determined-performer",
   "metadata": {
    "id": "oVMF1Ll9N8b9"
   },
   "source": [
    "# 3.5. Các ma trận đặc biệt"
   ]
  },
  {
   "cell_type": "markdown",
   "id": "traditional-combine",
   "metadata": {
    "id": "hhvd4mb_N_2O"
   },
   "source": [
    "## 3.5.1. Ma trận đơn vị\n",
    "\n",
    "Ma trận đơn vị là một ma trận vuông có các phần tử trên đường chéo chính bằng 1 và các phần tử còn lại bằng 0. Đây là một ma trận rất đặc biệt vì tích của một ma trận khác với ma trận đơn vị sẽ bằng chính ma trận đó.\n",
    "\n",
    "$$\\mathbf{A}\\mathbf{I} = \\mathbf{A}$$\n",
    "\n",
    "Ma trận $\\mathbf{A}$ vuông khả nghịch nhân với ma trận nghịch đảo của nó thì bằng ma trận đơn vị:\n",
    "\n",
    "$$\\mathbf{A}\\mathbf{A}^{-1} = \\mathbf{I}$$"
   ]
  },
  {
   "cell_type": "code",
   "execution_count": 48,
   "id": "divine-conversation",
   "metadata": {
    "colab": {
     "base_uri": "https://localhost:8080/"
    },
    "executionInfo": {
     "elapsed": 1415,
     "status": "ok",
     "timestamp": 1620884282941,
     "user": {
      "displayName": "khanhblog AI",
      "photoUrl": "https://lh3.googleusercontent.com/a-/AOh14GhNCi9Qnch9sWXSuvX4N5yijAGEjX1IvfmN-95m=s64",
      "userId": "06481533334230032014"
     },
     "user_tz": -420
    },
    "id": "CLCFmyBZPLAb",
    "outputId": "da27e66e-b7a0-455e-ac78-33348a2ee370"
   },
   "outputs": [
    {
     "data": {
      "text/plain": [
       "array([[1., 0., 0., 0., 0.],\n",
       "       [0., 1., 0., 0., 0.],\n",
       "       [0., 0., 1., 0., 0.],\n",
       "       [0., 0., 0., 1., 0.],\n",
       "       [0., 0., 0., 0., 1.]], dtype=float16)"
      ]
     },
     "execution_count": 48,
     "metadata": {},
     "output_type": "execute_result"
    }
   ],
   "source": [
    "# Khởi tạo ma trận đơn vị với shape=5x5\n",
    "I = np.identity(5, dtype=np.float16)\n",
    "I"
   ]
  },
  {
   "cell_type": "markdown",
   "id": "aging-hacker",
   "metadata": {
    "id": "2iXF15XAODLo"
   },
   "source": [
    "## 3.5.2. Ma trận 1\n",
    "\n",
    "Ma trận 1 là ma trận gồm toàn những phần tử có giá trị là 1."
   ]
  },
  {
   "cell_type": "code",
   "execution_count": 49,
   "id": "musical-release",
   "metadata": {
    "colab": {
     "base_uri": "https://localhost:8080/"
    },
    "executionInfo": {
     "elapsed": 1955,
     "status": "ok",
     "timestamp": 1620884283484,
     "user": {
      "displayName": "khanhblog AI",
      "photoUrl": "https://lh3.googleusercontent.com/a-/AOh14GhNCi9Qnch9sWXSuvX4N5yijAGEjX1IvfmN-95m=s64",
      "userId": "06481533334230032014"
     },
     "user_tz": -420
    },
    "id": "BmW4jZFxPSQM",
    "outputId": "f7d3bb51-5b93-467f-c254-5b2c00cc75e7"
   },
   "outputs": [
    {
     "data": {
      "text/plain": [
       "array([[1., 1., 1.],\n",
       "       [1., 1., 1.],\n",
       "       [1., 1., 1.]], dtype=float32)"
      ]
     },
     "execution_count": 49,
     "metadata": {},
     "output_type": "execute_result"
    }
   ],
   "source": [
    "# Khởi tạo ma trận 1 với kích thước (3, 3)\n",
    "A = np.ones((3, 3), dtype=np.float32)\n",
    "A"
   ]
  },
  {
   "cell_type": "markdown",
   "id": "proof-breed",
   "metadata": {
    "id": "Eb9AEwpxQWcX"
   },
   "source": [
    "**Bài tập:** Một ma trận B nhân với ma trận 1 thì sẽ có giá trị bằng bao nhiêu?\n",
    "\n",
    "Chúng ta cũng có thể khởi tạo ma trận 1 có kích thước bằng với shape của một ma trận khác không qua câu lệnh `np.ones_like()`"
   ]
  },
  {
   "cell_type": "code",
   "execution_count": 50,
   "id": "hindu-stewart",
   "metadata": {
    "colab": {
     "base_uri": "https://localhost:8080/"
    },
    "executionInfo": {
     "elapsed": 1953,
     "status": "ok",
     "timestamp": 1620884283485,
     "user": {
      "displayName": "khanhblog AI",
      "photoUrl": "https://lh3.googleusercontent.com/a-/AOh14GhNCi9Qnch9sWXSuvX4N5yijAGEjX1IvfmN-95m=s64",
      "userId": "06481533334230032014"
     },
     "user_tz": -420
    },
    "id": "kFL9Hp5hQ1YO",
    "outputId": "28ac6092-0137-43ed-bf1d-9a7f9b27ce16"
   },
   "outputs": [
    {
     "data": {
      "text/plain": [
       "array([[1., 1., 1.],\n",
       "       [1., 1., 1.]])"
      ]
     },
     "execution_count": 50,
     "metadata": {},
     "output_type": "execute_result"
    }
   ],
   "source": [
    "# Khởi tạo ma trận B ngẫu nhiên kích thước (2, 3)\n",
    "B = np.random.randn(2,3)\n",
    "# Khởi tạo ma trân 1 có kích thước bằng với (2, 3)\n",
    "A = np.ones_like(B)\n",
    "A"
   ]
  },
  {
   "cell_type": "markdown",
   "id": "reverse-devices",
   "metadata": {
    "id": "6cyJHdNXO9Y1"
   },
   "source": [
    "## 3.5.3. Ma trận 0\n",
    "\n",
    "Cũng tương tự như ma trận 1, ma trận 0 gồm toàn bộ các phần tử bằng 0."
   ]
  },
  {
   "cell_type": "code",
   "execution_count": 51,
   "id": "positive-screening",
   "metadata": {
    "colab": {
     "base_uri": "https://localhost:8080/"
    },
    "executionInfo": {
     "elapsed": 1950,
     "status": "ok",
     "timestamp": 1620884283485,
     "user": {
      "displayName": "khanhblog AI",
      "photoUrl": "https://lh3.googleusercontent.com/a-/AOh14GhNCi9Qnch9sWXSuvX4N5yijAGEjX1IvfmN-95m=s64",
      "userId": "06481533334230032014"
     },
     "user_tz": -420
    },
    "id": "AU9ljxcZRIzl",
    "outputId": "905e6f8c-396a-4a72-b305-1ce375614f36"
   },
   "outputs": [
    {
     "data": {
      "text/plain": [
       "array([[0., 0., 0.],\n",
       "       [0., 0., 0.],\n",
       "       [0., 0., 0.]])"
      ]
     },
     "execution_count": 51,
     "metadata": {},
     "output_type": "execute_result"
    }
   ],
   "source": [
    "# Khởi tạo ma trận 0 kích thước (3, 3)\n",
    "np.zeros((3, 3))"
   ]
  },
  {
   "cell_type": "code",
   "execution_count": 52,
   "id": "typical-dallas",
   "metadata": {
    "colab": {
     "base_uri": "https://localhost:8080/"
    },
    "executionInfo": {
     "elapsed": 1946,
     "status": "ok",
     "timestamp": 1620884283485,
     "user": {
      "displayName": "khanhblog AI",
      "photoUrl": "https://lh3.googleusercontent.com/a-/AOh14GhNCi9Qnch9sWXSuvX4N5yijAGEjX1IvfmN-95m=s64",
      "userId": "06481533334230032014"
     },
     "user_tz": -420
    },
    "id": "rofhsnrjRLml",
    "outputId": "ac8e24f0-c28c-4e67-8176-6f97a2aab2d7"
   },
   "outputs": [
    {
     "data": {
      "text/plain": [
       "array([[0., 0., 0.],\n",
       "       [0., 0., 0.]])"
      ]
     },
     "execution_count": 52,
     "metadata": {},
     "output_type": "execute_result"
    }
   ],
   "source": [
    "# Khởi tạo ma trận 0 có kích thước như ma trận B\n",
    "np.zeros_like(B)"
   ]
  },
  {
   "cell_type": "markdown",
   "id": "vertical-falls",
   "metadata": {
    "id": "zp5GbszryR2K"
   },
   "source": [
    "## 3.5.4. Ma trận đường chéo chính\n",
    "\n",
    "Ma trận đường chéo chính là ma trận vuông mà có các giá trị khác đường chéo chính đều bằng 0. Đường chéo chính ở đây được xác định là những điểm $a_{ii}$ có indice dòng và cột bằng nhau.\n",
    "\n",
    "Để khởi tạo ma trận đường chéo chính chúng ta sử dụng câu lệnh `np.diag()` và khai báo véc tơ đường chéo chính."
   ]
  },
  {
   "cell_type": "code",
   "execution_count": 53,
   "id": "growing-concentrate",
   "metadata": {
    "colab": {
     "base_uri": "https://localhost:8080/"
    },
    "executionInfo": {
     "elapsed": 1944,
     "status": "ok",
     "timestamp": 1620884283486,
     "user": {
      "displayName": "khanhblog AI",
      "photoUrl": "https://lh3.googleusercontent.com/a-/AOh14GhNCi9Qnch9sWXSuvX4N5yijAGEjX1IvfmN-95m=s64",
      "userId": "06481533334230032014"
     },
     "user_tz": -420
    },
    "id": "p_EKEBkOyUvO",
    "outputId": "33315504-54b0-449d-fd10-ea5eb64d3a32"
   },
   "outputs": [
    {
     "data": {
      "text/plain": [
       "array([[1, 0, 0],\n",
       "       [0, 2, 0],\n",
       "       [0, 0, 3]])"
      ]
     },
     "execution_count": 53,
     "metadata": {},
     "output_type": "execute_result"
    }
   ],
   "source": [
    "np.diag(np.array([1, 2, 3]))"
   ]
  },
  {
   "cell_type": "markdown",
   "id": "unlimited-potter",
   "metadata": {
    "id": "hDfIjIFW0Y2y"
   },
   "source": [
    "Trong trường hợp `np.diag()` có đầu vào là một ma trận thì kết quả trả ra chính là đường chéo của ma trận đó (ma trận có thể không vuông)."
   ]
  },
  {
   "cell_type": "code",
   "execution_count": 54,
   "id": "advanced-dynamics",
   "metadata": {
    "colab": {
     "base_uri": "https://localhost:8080/"
    },
    "executionInfo": {
     "elapsed": 1941,
     "status": "ok",
     "timestamp": 1620884283486,
     "user": {
      "displayName": "khanhblog AI",
      "photoUrl": "https://lh3.googleusercontent.com/a-/AOh14GhNCi9Qnch9sWXSuvX4N5yijAGEjX1IvfmN-95m=s64",
      "userId": "06481533334230032014"
     },
     "user_tz": -420
    },
    "id": "0nw-z7Tj0pTj",
    "outputId": "81c02b56-18ba-4fff-ab84-59d300c2976c"
   },
   "outputs": [
    {
     "data": {
      "text/plain": [
       "array([1, 5, 9])"
      ]
     },
     "execution_count": 54,
     "metadata": {},
     "output_type": "execute_result"
    }
   ],
   "source": [
    "A = np.array([[1, 2, 3],\n",
    "              [4, 5, 6],\n",
    "              [7, 8 ,9]])\n",
    "\n",
    "# Đường chéo chính của ma trận A\n",
    "np.diag(A)"
   ]
  },
  {
   "cell_type": "markdown",
   "id": "dutch-eclipse",
   "metadata": {
    "id": "MjQrKGTM04sK"
   },
   "source": [
    "# 3.6. Các phép toán trên ma trận"
   ]
  },
  {
   "cell_type": "markdown",
   "id": "cheap-mexican",
   "metadata": {
    "id": "RUsjQxrZ0_HG"
   },
   "source": [
    "## 3.6.1. Phép chuyển vị\n",
    "\n",
    "Phép chuyển vị một ma trận kích thước $m\\times n$ sẽ biến thành một ma trận mới kích thước $n \\times m$ sao cho các dòng của ma trận ban đầu sẽ biến thành cột của ma trận chuyển vị."
   ]
  },
  {
   "cell_type": "code",
   "execution_count": 55,
   "id": "comic-notice",
   "metadata": {
    "colab": {
     "base_uri": "https://localhost:8080/"
    },
    "executionInfo": {
     "elapsed": 1939,
     "status": "ok",
     "timestamp": 1620884283487,
     "user": {
      "displayName": "khanhblog AI",
      "photoUrl": "https://lh3.googleusercontent.com/a-/AOh14GhNCi9Qnch9sWXSuvX4N5yijAGEjX1IvfmN-95m=s64",
      "userId": "06481533334230032014"
     },
     "user_tz": -420
    },
    "id": "zl0dHyiD1bWF",
    "outputId": "4ff64b70-867d-41ae-f351-9fa56ad6b2f3"
   },
   "outputs": [
    {
     "name": "stdout",
     "output_type": "stream",
     "text": [
      "Original matrix: \n",
      " [[1 2 3]\n",
      " [4 5 6]\n",
      " [7 8 9]]\n",
      "Transpose matrix: \n",
      " [[1 4 7]\n",
      " [2 5 8]\n",
      " [3 6 9]]\n"
     ]
    }
   ],
   "source": [
    "print(\"Original matrix: \\n\", A)\n",
    "print(\"Transpose matrix: \\n\", A.T)"
   ]
  },
  {
   "cell_type": "markdown",
   "id": "molecular-median",
   "metadata": {
    "id": "Pni-LnBD1qpL"
   },
   "source": [
    "## 3.6.2. Ma trận nghịch đảo.\n",
    "\n",
    "Ma trận nghịch đảo của một ma trận vuông $\\mathbf{A}$ khả nghịch là một ma trận được ký hiệu $\\mathbf{A}^{-1}$. Ma trận này có tích với $\\mathbf{A}$ là một ma trận đơn vị.\n",
    "\n",
    "$$\\mathbf{A}^{-1}\\mathbf{A} = \\mathbf{A}\\mathbf{A}^{-1} = \\mathbf{I}$$"
   ]
  },
  {
   "cell_type": "code",
   "execution_count": 56,
   "id": "impaired-buddy",
   "metadata": {
    "colab": {
     "base_uri": "https://localhost:8080/"
    },
    "executionInfo": {
     "elapsed": 1936,
     "status": "ok",
     "timestamp": 1620884283487,
     "user": {
      "displayName": "khanhblog AI",
      "photoUrl": "https://lh3.googleusercontent.com/a-/AOh14GhNCi9Qnch9sWXSuvX4N5yijAGEjX1IvfmN-95m=s64",
      "userId": "06481533334230032014"
     },
     "user_tz": -420
    },
    "id": "athjHGHw2uUC",
    "outputId": "d7c97ed9-21bd-4ac7-bea8-b600a7d6919e"
   },
   "outputs": [
    {
     "name": "stdout",
     "output_type": "stream",
     "text": [
      "Inverse A: \n"
     ]
    },
    {
     "data": {
      "text/plain": [
       "array([[-0.24609375,  0.03125   ,  0.23046875],\n",
       "       [ 0.0390625 ,  0.3125    , -0.1953125 ],\n",
       "       [ 0.57421875, -0.40625   ,  0.12890625]])"
      ]
     },
     "execution_count": 56,
     "metadata": {},
     "output_type": "execute_result"
    }
   ],
   "source": [
    "# Tính ma trận nghịch đảo của A\n",
    "# pinv là pseudo-inverse of a matrix\n",
    "A = np.array([[1, 2.5, 2],\n",
    "              [3, 4.2, 1],\n",
    "              [5, 2.1, 2]])\n",
    "\n",
    "A_inv=np.linalg.pinv(A)\n",
    "\n",
    "print(\"Inverse A: \")\n",
    "A_inv"
   ]
  },
  {
   "cell_type": "markdown",
   "id": "textile-connectivity",
   "metadata": {
    "id": "rjnMnQT33nBf"
   },
   "source": [
    "Tích của ma trận $\\mathbf{A}$ với ma trận nghịch đảo của nó là một ma trận đơn vị."
   ]
  },
  {
   "cell_type": "code",
   "execution_count": 57,
   "id": "fewer-burning",
   "metadata": {
    "colab": {
     "base_uri": "https://localhost:8080/"
    },
    "executionInfo": {
     "elapsed": 1935,
     "status": "ok",
     "timestamp": 1620884283488,
     "user": {
      "displayName": "khanhblog AI",
      "photoUrl": "https://lh3.googleusercontent.com/a-/AOh14GhNCi9Qnch9sWXSuvX4N5yijAGEjX1IvfmN-95m=s64",
      "userId": "06481533334230032014"
     },
     "user_tz": -420
    },
    "id": "mh1OxtTw3GMT",
    "outputId": "ba7511e5-a4f1-46d1-8d4c-1b8b51757e8c"
   },
   "outputs": [
    {
     "data": {
      "text/plain": [
       "array([[ 1.00000000e+00,  4.44089210e-16, -6.10622664e-16],\n",
       "       [ 2.22044605e-16,  1.00000000e+00, -6.10622664e-16],\n",
       "       [-2.22044605e-16, -4.44089210e-16,  1.00000000e+00]])"
      ]
     },
     "execution_count": 57,
     "metadata": {},
     "output_type": "execute_result"
    }
   ],
   "source": [
    "A.dot(A_inv)"
   ]
  },
  {
   "cell_type": "markdown",
   "id": "mysterious-chuck",
   "metadata": {
    "id": "jEv1oXLw3yzd"
   },
   "source": [
    "## 3.6.3. Hạng (_rank_) của ma trận.\n",
    "\n",
    "Để tìm hiểu về hạng ma trận trước tiên ta làm quen với khái niệm độc lập tuyến tính của hệ véc tơ.\n",
    "\n",
    "**Hệ véc tơ độc lập tuyến tính là gì?**\n",
    "\n",
    "Một hệ véc tơ $\\mathbf{e}_1, \\mathbf{e}_2, \\dots, \\mathbf{e}_n$ là độc lập tuyến tính nếu phương trình:\n",
    "\n",
    "$$k_1 \\mathbf{e}_1 + k_2 \\mathbf{e}_2 + \\dots + k_n \\mathbf{e}_n = 0$$\n",
    "\n",
    "có một nghiệm duy nhất $k_1 = k_2 = \\dots = k_n = 0$\n",
    "\n",
    "Trái lại, nếu tồn tại một nghiệm mà $k_j \\neq 0$ thì hệ véc tơ là phụ thuộc tuyến tính.\n",
    "\n",
    "Một hệ véc tơ độc lập truyến tính thì tạo ra một không gian véc tơ. Khi đó mọi véc tơ khác có thể được biểu diễn dưới dạng tổ hợp tuyến tính của những véc tơ này.\n",
    "\n",
    "**Hạng của ma trận là gì?**\n",
    "\n",
    "Hạng của ma trận là số lượng các chiều trong không gian véc tơ được sinh ra bởi các cột (hoặc dòng) của ma trận $\\mathbf{A}$. Nó chính bằng số lượng lớn nhất các cột (hoặc dòng) độc lập truyến tính của ma trận $\\mathbf{A}$."
   ]
  },
  {
   "cell_type": "code",
   "execution_count": 58,
   "id": "subjective-riding",
   "metadata": {
    "colab": {
     "base_uri": "https://localhost:8080/"
    },
    "executionInfo": {
     "elapsed": 1932,
     "status": "ok",
     "timestamp": 1620884283488,
     "user": {
      "displayName": "khanhblog AI",
      "photoUrl": "https://lh3.googleusercontent.com/a-/AOh14GhNCi9Qnch9sWXSuvX4N5yijAGEjX1IvfmN-95m=s64",
      "userId": "06481533334230032014"
     },
     "user_tz": -420
    },
    "id": "CzJhb5AC5LrC",
    "outputId": "59ce69e8-71ec-40a5-d649-5f4da794c8d1"
   },
   "outputs": [
    {
     "data": {
      "text/plain": [
       "3"
      ]
     },
     "execution_count": 58,
     "metadata": {},
     "output_type": "execute_result"
    }
   ],
   "source": [
    "np.linalg.matrix_rank(A)"
   ]
  },
  {
   "cell_type": "markdown",
   "id": "laden-robert",
   "metadata": {
    "id": "mXdqn3qO7Y_6"
   },
   "source": [
    "## 3.6.4. Định thức (_determinant_) của ma trận\n",
    "\n",
    "Giả sử ta có một ma trận vuông $\\mathbf{M}$ như sau:\n",
    "\n",
    "$$\\mathbf{M}=\\begin{bmatrix} \n",
    "m^{1}_{1} & m^{1}_{2} & \\dots & m^{1}_{n}\\\\ \n",
    "m^{2}_{1} & m^{2}_{2} & \\dots & m^{2}_{n}\\\\ \n",
    "\\dots & \\dots & \\ddots & \\dots\\\\ \n",
    "m^{n}_{1} & m^{n}_{2} & \\dots & m^{n}_{n}\\\\ \n",
    "\\end{bmatrix}$$\n",
    "\n",
    "\n",
    "Định thức của một ma trận là một giá trị được tính dựa theo công thức:\n",
    "\n",
    "$$\\det(\\mathbf{M})= \\sum_{\\sigma} \\text{sgn}(\\sigma) m^{1}_{\\sigma(1)}m^{2}_{\\sigma(2)}\\cdots m^{n}_{\\sigma(n)}= m^{1}_{1}m^{2}_{2}\\cdots m^{n}_{n}.$$\n",
    "\n",
    "Trong đó $\\sigma=\\{\\sigma(1), \\sigma(2), \\dots, \\sigma(n)\\}$ là một phép hoán vị các thành phần của tập thứ tự ban đầu $O = \\{1, 2, \\dots, n\\}$ và $\\text{sgn}(\\sigma)$ là biểu thức nhận hai gía trị $\\{1, -1\\}$. Nếu số lần hoán vị $\\sigma$ để thu được tập $O$ là chẵn thì nhận gía trị 1 và lẻ thì nhận giá trị -1. \n",
    "\n",
    "Định thức có ý nghĩa rất quan trọng đối với ma trận vì nó cho phép chúng ta biết được các véc tơ cột (hoặc dòng) của ma trận đó có độc lập tuyến tính hay không? Hệ phương trình tạo bởi ma trận đó bao nhiêu nghiệm? Thậm chí chúng ta có thể tính được nghiệm của ma trận theo công thức nghiệm Jacobian."
   ]
  },
  {
   "cell_type": "code",
   "execution_count": 59,
   "id": "choice-trauma",
   "metadata": {
    "colab": {
     "base_uri": "https://localhost:8080/"
    },
    "executionInfo": {
     "elapsed": 1930,
     "status": "ok",
     "timestamp": 1620884283489,
     "user": {
      "displayName": "khanhblog AI",
      "photoUrl": "https://lh3.googleusercontent.com/a-/AOh14GhNCi9Qnch9sWXSuvX4N5yijAGEjX1IvfmN-95m=s64",
      "userId": "06481533334230032014"
     },
     "user_tz": -420
    },
    "id": "qtedihZF9QV4",
    "outputId": "294a4c77-860a-47d4-99b9-ed44f37b73fa"
   },
   "outputs": [
    {
     "data": {
      "text/plain": [
       "-25.6"
      ]
     },
     "execution_count": 59,
     "metadata": {},
     "output_type": "execute_result"
    }
   ],
   "source": [
    "# Tính định thức của A\n",
    "np.linalg.det(A)"
   ]
  },
  {
   "cell_type": "markdown",
   "id": "domestic-perth",
   "metadata": {
    "id": "_qn4FVrsBmDw"
   },
   "source": [
    "## 3.6.5. Trace của ma trận\n",
    "\n",
    "Trace của một ma trận là tổng của các phần tử nằm trên đường chéo chính.\n",
    "\n",
    "$$trace{(\\mathbf{A})} = \\sum_{i=1}^{n}a_{ii}$$"
   ]
  },
  {
   "cell_type": "code",
   "execution_count": 60,
   "id": "conditional-junior",
   "metadata": {
    "colab": {
     "base_uri": "https://localhost:8080/"
    },
    "executionInfo": {
     "elapsed": 1927,
     "status": "ok",
     "timestamp": 1620884283489,
     "user": {
      "displayName": "khanhblog AI",
      "photoUrl": "https://lh3.googleusercontent.com/a-/AOh14GhNCi9Qnch9sWXSuvX4N5yijAGEjX1IvfmN-95m=s64",
      "userId": "06481533334230032014"
     },
     "user_tz": -420
    },
    "id": "GRMVC_xRBeHg",
    "outputId": "8830407e-d546-4f2b-c0bd-8d41ecbdb565"
   },
   "outputs": [
    {
     "name": "stdout",
     "output_type": "stream",
     "text": [
      "matrix A: \n",
      " [[1.  2.5 2. ]\n",
      " [3.  4.2 1. ]\n",
      " [5.  2.1 2. ]]\n",
      "trace of A:  7.2\n"
     ]
    }
   ],
   "source": [
    "print(\"matrix A: \\n\", A)\n",
    "print(\"trace of A: \", np.trace(A))"
   ]
  },
  {
   "cell_type": "markdown",
   "id": "dressed-medicaid",
   "metadata": {
    "id": "GfxoE_JNalmG"
   },
   "source": [
    "## 3.6.6. Chuẩn Frobenious \n",
    "\n",
    "Tương tự như chuẩn $L_2$ đối với véc tơ. Chuấn Frobenious của một ma trận bằng căn bậc hai của tổng bình phương các thành phần trong ma trận đó.\n",
    "\n",
    "$$||\\mathbf{A}_{F}||=\\sqrt{\\sum_{i=1}^{m} \\sum_{j=1}^{n} a_{ij}^2}$$"
   ]
  },
  {
   "cell_type": "code",
   "execution_count": 61,
   "id": "fixed-antibody",
   "metadata": {
    "colab": {
     "base_uri": "https://localhost:8080/"
    },
    "executionInfo": {
     "elapsed": 1925,
     "status": "ok",
     "timestamp": 1620884283490,
     "user": {
      "displayName": "khanhblog AI",
      "photoUrl": "https://lh3.googleusercontent.com/a-/AOh14GhNCi9Qnch9sWXSuvX4N5yijAGEjX1IvfmN-95m=s64",
      "userId": "06481533334230032014"
     },
     "user_tz": -420
    },
    "id": "rjUffXONapM4",
    "outputId": "6d07a4f0-1222-402e-85f1-313d01e6195b"
   },
   "outputs": [
    {
     "data": {
      "text/plain": [
       "8.502940667792526"
      ]
     },
     "execution_count": 61,
     "metadata": {},
     "output_type": "execute_result"
    }
   ],
   "source": [
    "np.linalg.norm(A, ord='fro')"
   ]
  },
  {
   "cell_type": "markdown",
   "id": "latin-savings",
   "metadata": {
    "id": "bkqVO8pla0ru"
   },
   "source": [
    "Ngoài ra ta cũng dễ dàng chứng minh được rằng:\n",
    "\n",
    "$$||\\mathbf{A}||_{F}^2 = \\text{trace}(\\mathbf{A}\\mathbf{A}^{\\intercal}) = \\text{trace}(\\mathbf{A}^{\\intercal}\\mathbf{A})$$"
   ]
  },
  {
   "cell_type": "markdown",
   "id": "tough-judge",
   "metadata": {
    "id": "xBLezhfTJz9v"
   },
   "source": [
    "# 3.7. Các phép toán trên ma trận"
   ]
  },
  {
   "cell_type": "markdown",
   "id": "canadian-relevance",
   "metadata": {
    "id": "1NxvwK4HJ2p6"
   },
   "source": [
    "## 3.7.1. Các phép cộng, trừ\n",
    "\n",
    "Chúng ta có thể cộng hai hai ma trận có cùng kích thước như sau:\n",
    "\n",
    "$$\\mathbf{A}_{(m \\times n)} + \\mathbf{B}_{(m \\times n)} = \n",
    " \\begin{bmatrix}\n",
    "  a_{11}+b_{11} & a_{12}+b_{12} & \\cdots & a_{1n}+b_{1n} \\\\\n",
    "  a_{21}+b_{21} & a_{22}+b_{22} & \\cdots & a_{2n}+b_{2n} \\\\\n",
    "  \\vdots  & \\vdots  & \\ddots & \\vdots  \\\\\n",
    "  a_{m1}+b_{m1} & a_{m2}+b_{m2} & \\cdots & a_{mn}+b_{mn} \n",
    " \\end{bmatrix} $$\n",
    "\n",
    "Các phần tử ở cùng một vị trí ở cả hai ma trận được cộng với nhau. Tức là $a_{ij} + b_{ij}$ sẽ tạo ra phần tử $c_{ij}$ trên ma trận đầu ra. Tương tự chúng ta cũng thực hiện như vậy đối với phép trừ hai ma trận."
   ]
  },
  {
   "cell_type": "code",
   "execution_count": 62,
   "id": "plastic-madrid",
   "metadata": {
    "colab": {
     "base_uri": "https://localhost:8080/"
    },
    "executionInfo": {
     "elapsed": 1921,
     "status": "ok",
     "timestamp": 1620884283490,
     "user": {
      "displayName": "khanhblog AI",
      "photoUrl": "https://lh3.googleusercontent.com/a-/AOh14GhNCi9Qnch9sWXSuvX4N5yijAGEjX1IvfmN-95m=s64",
      "userId": "06481533334230032014"
     },
     "user_tz": -420
    },
    "id": "brv8cGXdKD94",
    "outputId": "e3016ace-ca51-4110-c51b-da5cbefc5e5d"
   },
   "outputs": [
    {
     "data": {
      "text/plain": [
       "array([[ 1,  1, -2],\n",
       "       [ 0, -2, -1],\n",
       "       [ 0,  0, -1]])"
      ]
     },
     "execution_count": 62,
     "metadata": {},
     "output_type": "execute_result"
    }
   ],
   "source": [
    "import numpy as np\n",
    "A = np.array([[1, 4, 2],\n",
    "              [3, 2, 1],\n",
    "              [4, 6, 7]])\n",
    "\n",
    "B = np.array([[0, 3, 4],\n",
    "              [3, 4, 2],\n",
    "              [4, 6, 8]])\n",
    "\n",
    "A - B"
   ]
  },
  {
   "cell_type": "markdown",
   "id": "knowing-reasoning",
   "metadata": {
    "id": "jDGD6yusL2Ov"
   },
   "source": [
    "## 3.7.2. Phép nhân ma trận thông thường\n",
    "\n",
    "Phép nhân hai ma trận $\\mathbf{A}_{m \\times n}$ và $\\mathbf{B}_{n \\times p}$ sẽ tạo thành một ma trận mới kích thước $m \\times p$. Khi đó phần tử $c_{ij}$ trên ma trận mới sẽ có tích bằng dòng thứ $i$ trên ma trận $\\mathbf{A}$ nhân với cột thứ $j$ trên ma trận $\\mathbf{B}$.\n",
    "\n",
    "$$c_{ij} = \\mathbf{A}_{i:} \\mathbf{B}_{:j}$$\n",
    "\n",
    "Trên numpy phép nhân này được thực hiện bằng `A.dot(B)` hoặc `np.dot(A, B)`."
   ]
  },
  {
   "cell_type": "code",
   "execution_count": 63,
   "id": "collect-ridge",
   "metadata": {
    "colab": {
     "base_uri": "https://localhost:8080/"
    },
    "executionInfo": {
     "elapsed": 794,
     "status": "ok",
     "timestamp": 1620890930249,
     "user": {
      "displayName": "khanhblog AI",
      "photoUrl": "https://lh3.googleusercontent.com/a-/AOh14GhNCi9Qnch9sWXSuvX4N5yijAGEjX1IvfmN-95m=s64",
      "userId": "06481533334230032014"
     },
     "user_tz": -420
    },
    "id": "GXNhb3l6M3xJ",
    "outputId": "00613c4a-95c9-4f1c-9d85-2dff6f64600b"
   },
   "outputs": [
    {
     "data": {
      "text/plain": [
       "array([[20, 31],\n",
       "       [10, 23]])"
      ]
     },
     "execution_count": 63,
     "metadata": {},
     "output_type": "execute_result"
    }
   ],
   "source": [
    "import numpy as np\n",
    "A = np.array([[1, 4, 2],\n",
    "              [3, 2, 1]])\n",
    "\n",
    "B = np.array([[0, 3],\n",
    "              [3, 4],\n",
    "              [4, 6]])\n",
    "\n",
    "np.dot(A, B)\n",
    "# Hoặc\n",
    "A.dot(B)\n",
    "# Hoặc\n",
    "A@B"
   ]
  },
  {
   "cell_type": "markdown",
   "id": "extreme-citation",
   "metadata": {
    "id": "n45suCKHmQW6"
   },
   "source": [
    "## 3.7.3. Tích Hadamard (element-wise product) giữa hai ma trận\n",
    "\n",
    "Tích Hadamard giữa hai ma trận $\\mathbf{A}$ và $\\mathbf{B}$ có cùng kích thước là một ma trận có cùng kích thước với $\\mathbf{A}$ và $\\mathbf{B}$. Khi đó mỗi một phần tử của ma trận bằng tích của các phần tử ở cùng vị trí.\n",
    "\n",
    "$$\\begin{split}\n",
    "\\begin{split}\\mathbf{A} \\odot \\mathbf{B} =\n",
    "\\begin{bmatrix}\n",
    "    a_{11}  b_{11} & a_{12}  b_{12} & \\dots  & a_{1n}  b_{1n} \\\\\n",
    "    a_{21}  b_{21} & a_{22}  b_{22} & \\dots  & a_{2n}  b_{2n} \\\\\n",
    "    \\vdots & \\vdots & \\ddots & \\vdots \\\\\n",
    "    a_{m1}  b_{m1} & a_{m2}  b_{m2} & \\dots  & a_{mn}  b_{mn}\n",
    "\\end{bmatrix}\\end{split}\n",
    "\\end{split}$$\n",
    "\n",
    "Chúng ta ký hiệu tích hadamard bằng hình trong có một dấu chấm ở tâm ($\\odot$).\n",
    "\n",
    "Bạn sẽ nhận thấy rằng tích chập hai chiều (convolutional 2D) trong mạng CNN cũng chính là tích hadarmard giữa bộ lọc và vùng local region."
   ]
  },
  {
   "cell_type": "code",
   "execution_count": 64,
   "id": "centered-willow",
   "metadata": {
    "colab": {
     "base_uri": "https://localhost:8080/"
    },
    "executionInfo": {
     "elapsed": 570,
     "status": "ok",
     "timestamp": 1620890935653,
     "user": {
      "displayName": "khanhblog AI",
      "photoUrl": "https://lh3.googleusercontent.com/a-/AOh14GhNCi9Qnch9sWXSuvX4N5yijAGEjX1IvfmN-95m=s64",
      "userId": "06481533334230032014"
     },
     "user_tz": -420
    },
    "id": "vAFxNP15nhAq",
    "outputId": "5d5d5642-f26b-4b26-d3e9-410f63e14cab"
   },
   "outputs": [
    {
     "data": {
      "text/plain": [
       "array([[0, 2, 8],\n",
       "       [2, 0, 1]])"
      ]
     },
     "execution_count": 64,
     "metadata": {},
     "output_type": "execute_result"
    }
   ],
   "source": [
    "# Tích của hai ma trận A và B\n",
    "C = np.array([[2, 1, 2],\n",
    "              [1, 0, 1]])\n",
    "\n",
    "D = np.array([[0, 2, 4],\n",
    "              [2, 3, 1]])\n",
    "\n",
    "C*D"
   ]
  },
  {
   "cell_type": "markdown",
   "id": "dried-companion",
   "metadata": {
    "id": "o7d1I1VbbT4q"
   },
   "source": [
    "## 3.7.4. Nhân ma trận với một véc tơ\n",
    "\n",
    "Từ phép nhân hai ma trận ta có thể suy ra cách thực hiện phép nhân ma trận với một véc tơ nếu coi véc tơ cũng là một ma trận mà một chiều của nó bằng 1.\n",
    "\n",
    "$$\\mathbf{A}\\mathbf{x} = \n",
    " \\begin{bmatrix}\n",
    "  a_{11} & a_{12} & \\cdots & a_{1n} \\\\\n",
    "  a_{21} & a_{22} & \\cdots & a_{2n} \\\\\n",
    "  \\vdots  & \\vdots  & \\ddots & \\vdots  \\\\\n",
    "  a_{m1} & a_{m2} & \\cdots & a_{mn} \n",
    " \\end{bmatrix}_{(m \\times n)}\n",
    " \\begin{bmatrix}\n",
    "  x_1 \\\\\n",
    "  x_2 \\\\\n",
    "  \\vdots \\\\\n",
    "  x_n\n",
    " \\end{bmatrix}_{(n)} = \\begin{bmatrix}\n",
    "  a_{11}x_1 + a_{12}x_2 + \\cdots + a_{1n}x_n \\\\\n",
    "  a_{21}x_1 + a_{22}x_2 + \\cdots + a_{2n}x_n \\\\\n",
    "  \\dots   \\\\\n",
    "  a_{m1}x_1 + a_{m2}x_2 + \\cdots + a_{mn}x_n \n",
    " \\end{bmatrix}_{(m)}$$"
   ]
  },
  {
   "cell_type": "code",
   "execution_count": 65,
   "id": "second-translator",
   "metadata": {
    "colab": {
     "base_uri": "https://localhost:8080/"
    },
    "executionInfo": {
     "elapsed": 1916,
     "status": "ok",
     "timestamp": 1620884283491,
     "user": {
      "displayName": "khanhblog AI",
      "photoUrl": "https://lh3.googleusercontent.com/a-/AOh14GhNCi9Qnch9sWXSuvX4N5yijAGEjX1IvfmN-95m=s64",
      "userId": "06481533334230032014"
     },
     "user_tz": -420
    },
    "id": "sTOZ9V4Ics5G",
    "outputId": "4cda4197-259d-4ace-ae1a-ef44a2fa04ec"
   },
   "outputs": [
    {
     "data": {
      "text/plain": [
       "array([15, 10])"
      ]
     },
     "execution_count": 65,
     "metadata": {},
     "output_type": "execute_result"
    }
   ],
   "source": [
    "x = np.array([1, 2, 3])\n",
    "A.dot(x)"
   ]
  },
  {
   "cell_type": "markdown",
   "id": "iraqi-accommodation",
   "metadata": {
    "id": "_KCgkFRmYMeO"
   },
   "source": [
    "## 3.7.5. Nhân ma trận với một scaler\n",
    "\n",
    "Khi nhân ma trận với một scaler chúng ta lấy từng phần tử của ma trận đó nhân với scaler."
   ]
  },
  {
   "cell_type": "code",
   "execution_count": 66,
   "id": "acceptable-latin",
   "metadata": {
    "colab": {
     "base_uri": "https://localhost:8080/"
    },
    "executionInfo": {
     "elapsed": 1912,
     "status": "ok",
     "timestamp": 1620884283491,
     "user": {
      "displayName": "khanhblog AI",
      "photoUrl": "https://lh3.googleusercontent.com/a-/AOh14GhNCi9Qnch9sWXSuvX4N5yijAGEjX1IvfmN-95m=s64",
      "userId": "06481533334230032014"
     },
     "user_tz": -420
    },
    "id": "AgUEioWnYWoS",
    "outputId": "40618766-caa0-4fea-dabd-7ba9ccfb8cba"
   },
   "outputs": [
    {
     "data": {
      "text/plain": [
       "array([[ 5, 20, 10],\n",
       "       [15, 10,  5]])"
      ]
     },
     "execution_count": 66,
     "metadata": {},
     "output_type": "execute_result"
    }
   ],
   "source": [
    "A*5"
   ]
  },
  {
   "cell_type": "markdown",
   "id": "nutritional-burns",
   "metadata": {
    "id": "Eo0Ha4EWo0nZ"
   },
   "source": [
    "# 3.8. Các phép toán trên véc tơ\n",
    "\n",
    "Với hai véc tơ $\\mathbf{a} = (a_1, a_2, \\dots, a_n)$ và $\\mathbf{b} = (b_1, b_2, \\dots, b_n) $ có cùng kích thước. Chúng ta có một số phép toán chính được tính trên hai véc tơ này như sau:\n",
    "\n",
    "* **Phép cộng, trừ:**\n",
    "\n",
    "$$\\mathbf{a}+\\mathbf{b} = (a_1 + b_1, a_2 + b_2, \\dots, a_n + b_n)$$\n",
    "\n",
    "* **Tích vô hướng:** Tích vô hướng giữa hai véc tơ là một số vô hướng.\n",
    "\n",
    "$$\\langle \\mathbf{a}, \\mathbf{b}\\rangle = (a_1b_1+a_2b_2+\\dots+a_nb_n)$$\n",
    "\n",
    "* **Tích có hướng:** Tích có hướng giữa hai véc tơ là một véc tơ.\n",
    "\n",
    "$$\\mathbf{a}.\\mathbf{b} = (a_1b_1, a_2b_2, \\dots , a_nb_n)$$\n",
    "\n",
    "\n",
    "* **Độ đo cosine (cosine-similarity):** Đây là độ đo được sử dụng rất phổ biến để tính toán sự tương đương giữa hai véc tơ đặc trưng. Chẳng hạn như trong faceid chúng ta mã hoá các bức ảnh face-crop dưới dạng những véc tơ và nhận diện người dùng bằng cách tính tương quan véc tơ có sẵn trong database với face của người đó.\n",
    "\n",
    "$$\\text{cosine}(\\mathbf{a}, \\mathbf{b}) = \\frac{\\sum_{i=1}^{n} a_i b_i}{\\sqrt{\\sum_{i=1}^{n} a_i^2}\\sqrt{\\sum_{i=1}^{n} b_i^2}}$$"
   ]
  },
  {
   "cell_type": "code",
   "execution_count": 67,
   "id": "local-level",
   "metadata": {
    "colab": {
     "base_uri": "https://localhost:8080/"
    },
    "executionInfo": {
     "elapsed": 830,
     "status": "ok",
     "timestamp": 1620892825098,
     "user": {
      "displayName": "khanhblog AI",
      "photoUrl": "https://lh3.googleusercontent.com/a-/AOh14GhNCi9Qnch9sWXSuvX4N5yijAGEjX1IvfmN-95m=s64",
      "userId": "06481533334230032014"
     },
     "user_tz": -420
    },
    "id": "iN0_ewT7ugvS",
    "outputId": "b8ae7dfa-eee9-4d2f-a3b0-db27e4d8cee1"
   },
   "outputs": [
    {
     "data": {
      "text/plain": [
       "0.954029957691665"
      ]
     },
     "execution_count": 67,
     "metadata": {},
     "output_type": "execute_result"
    }
   ],
   "source": [
    "a = np.array([1, 2, 3])\n",
    "b = np.array([4, 5, 5])\n",
    "# Phép cộng\n",
    "a+b\n",
    "# Tích vô hướng\n",
    "a.dot(b)\n",
    "# Tích có hướng\n",
    "a*b\n",
    "# cosine similarity\n",
    "a.dot(b)/(np.linalg.norm(a)*np.linalg.norm(b))"
   ]
  },
  {
   "cell_type": "code",
   "execution_count": 68,
   "id": "spiritual-passenger",
   "metadata": {
    "colab": {
     "base_uri": "https://localhost:8080/"
    },
    "executionInfo": {
     "elapsed": 760,
     "status": "ok",
     "timestamp": 1620892860842,
     "user": {
      "displayName": "khanhblog AI",
      "photoUrl": "https://lh3.googleusercontent.com/a-/AOh14GhNCi9Qnch9sWXSuvX4N5yijAGEjX1IvfmN-95m=s64",
      "userId": "06481533334230032014"
     },
     "user_tz": -420
    },
    "id": "6UblLeScvRM1",
    "outputId": "1d47c248-bb93-4ac8-d40e-3cb158a44c14"
   },
   "outputs": [
    {
     "data": {
      "text/plain": [
       "array([[0.95402996]])"
      ]
     },
     "execution_count": 68,
     "metadata": {},
     "output_type": "execute_result"
    }
   ],
   "source": [
    "# Hoặc cách khác để tính cosine similarity\n",
    "from sklearn.metrics.pairwise import cosine_similarity\n",
    "a = np.array([[1, 2, 3]])\n",
    "b = np.array([[4, 5, 5]])\n",
    "\n",
    "cosine_similarity(a, b)"
   ]
  },
  {
   "cell_type": "markdown",
   "id": "leading-personality",
   "metadata": {
    "id": "9xDCK2IIp0-n"
   },
   "source": [
    "* **Chuẩn của véc tơ:** Về khái niệm chuẩn của véc tơ bạn có thể xem tại [chuẩn véc tơ](https://phamdinhkhanh.github.io/deepai-book/ch_algebra/appendix_algebra.html#khai-niem-chuan)"
   ]
  },
  {
   "cell_type": "markdown",
   "id": "domestic-recorder",
   "metadata": {
    "id": "-2aLtxSMwclU"
   },
   "source": [
    "**Bài tập:** Khi nào thì hai véc tơ có độ đo _cosine_ bằng 1 và -1?"
   ]
  },
  {
   "cell_type": "markdown",
   "id": "sunrise-introduction",
   "metadata": {
    "id": "EQXSopp7y0mj"
   },
   "source": [
    "# 3.9. Thành phần của mảng\n",
    "\n",
    "Mỗi một mảng sẽ đặc trưng bởi các thuộc tính của nó như định dạng, kích thước, số chiều, bộ nhớ. Trong tính toán ma trận, những thuộc tính này sẽ hữu ích để kiểm tra lỗi. Ví dụ muốn biết được ma trận A có nhân được với ma trận B hay không thì chúng ta phải kiểm tra shape của ma trận A và shape của ma trận B xem số dòng của A có bằng với số cột của B không? Kiểm tra kích thước bộ nhớ cũng giúp ta ước lượng dung lượng cần lưu cho những mảng có kích thước lớn. Từ đó sẽ biết được bộ nhớ của máy tính có khả năng tải được chúng hay không ? Nếu mảng không yêu cầu độ chính xác quá cao thì có thể chuyển sang một định dạng có độ chính xác thấp hơn và tiêu tốn ít bộ nhớ hơn."
   ]
  },
  {
   "cell_type": "code",
   "execution_count": 69,
   "id": "verified-wyoming",
   "metadata": {
    "colab": {
     "base_uri": "https://localhost:8080/"
    },
    "executionInfo": {
     "elapsed": 1910,
     "status": "ok",
     "timestamp": 1620884283492,
     "user": {
      "displayName": "khanhblog AI",
      "photoUrl": "https://lh3.googleusercontent.com/a-/AOh14GhNCi9Qnch9sWXSuvX4N5yijAGEjX1IvfmN-95m=s64",
      "userId": "06481533334230032014"
     },
     "user_tz": -420
    },
    "id": "seiQwX6fNBT0",
    "outputId": "33b0a063-f887-4cfc-cf9e-6c1fc1e313cd"
   },
   "outputs": [
    {
     "name": "stdout",
     "output_type": "stream",
     "text": [
      "shape:  (2, 3)\n",
      "number dims:  2\n",
      "dtype:  int64\n",
      "item bytes size:  8\n",
      "bytes size:  48\n"
     ]
    }
   ],
   "source": [
    "print('shape: ', A.shape)\n",
    "print('number dims: ', A.ndim)\n",
    "print('dtype: ', A.dtype)\n",
    "print('item bytes size: ', A.itemsize)\n",
    "print('bytes size: ', A.nbytes)"
   ]
  },
  {
   "cell_type": "markdown",
   "id": "boolean-torture",
   "metadata": {
    "id": "rv5Gow9_O7WA"
   },
   "source": [
    "Ngoài ra các thuộc tính của một mảng còn được thể hiện trong `flags`."
   ]
  },
  {
   "cell_type": "code",
   "execution_count": 70,
   "id": "liked-nebraska",
   "metadata": {
    "colab": {
     "base_uri": "https://localhost:8080/"
    },
    "executionInfo": {
     "elapsed": 1908,
     "status": "ok",
     "timestamp": 1620884283493,
     "user": {
      "displayName": "khanhblog AI",
      "photoUrl": "https://lh3.googleusercontent.com/a-/AOh14GhNCi9Qnch9sWXSuvX4N5yijAGEjX1IvfmN-95m=s64",
      "userId": "06481533334230032014"
     },
     "user_tz": -420
    },
    "id": "fBxorD-lM9XU",
    "outputId": "462cd458-f83a-45ff-f00c-5e464436b41e"
   },
   "outputs": [
    {
     "data": {
      "text/plain": [
       "  C_CONTIGUOUS : True\n",
       "  F_CONTIGUOUS : False\n",
       "  OWNDATA : True\n",
       "  WRITEABLE : True\n",
       "  ALIGNED : True\n",
       "  WRITEBACKIFCOPY : False\n",
       "  UPDATEIFCOPY : False"
      ]
     },
     "execution_count": 70,
     "metadata": {},
     "output_type": "execute_result"
    }
   ],
   "source": [
    "A.flags"
   ]
  },
  {
   "cell_type": "markdown",
   "id": "least-challenge",
   "metadata": {
    "id": "E6IKRNS8PI-Y"
   },
   "source": [
    "Từ các flags ta có thể thấy mảng `A` là mảng có thể sửa được (`WRITEABLE=TRUE`). Mảng `A` có cách sắp xếp các phần tử liên tiếp theo kiểu của ngôn ngữ C chứ không phải Fortran (`C_CONTIGUOUS = TRUE, F_CONTIGUOUS = FALSE`)."
   ]
  },
  {
   "cell_type": "markdown",
   "id": "successful-negative",
   "metadata": {
    "id": "3bWHReiCJW-z"
   },
   "source": [
    "# 3.10. Bài tập\n",
    "\n",
    "Cho ma trận $\\mathbf{A}$"
   ]
  },
  {
   "cell_type": "code",
   "execution_count": 71,
   "id": "metric-warehouse",
   "metadata": {
    "id": "LRnZmc94l6rR"
   },
   "outputs": [],
   "source": [
    "import numpy as np\n",
    "\n",
    "A = np.array([[10, 1, 2],\n",
    "              [9, 7, 4],\n",
    "              [0, 2, 1]])\n",
    "\n",
    "B = np.array([[2, 3, 4],\n",
    "              [0, 4, 2],\n",
    "              [3, 2, 1]])"
   ]
  },
  {
   "cell_type": "markdown",
   "id": "theoretical-royalty",
   "metadata": {
    "id": "MbMTBQDXmJBk"
   },
   "source": [
    "Thực hiện các phép tính:\n",
    "\n",
    "1) $\\mathbf{A}\\mathbf{B}$\n",
    "\n",
    "2) $\\mathbf{B}\\mathbf{A}^{\\intercal}\\mathbf{A}\\mathbf{B}^{\\intercal}$\n",
    "\n",
    "3) $\\mathbf{A}\\mathbf{B}^{\\intercal}\\mathbf{B}\\mathbf{A}^{\\intercal}$\n",
    "\n",
    "Nhận xét gì về kết quả của biểu thức 3 và biểu thức 2?\n",
    "\n",
    "4) $\\text{rank}(\\mathbf{A})$\n",
    "\n",
    "5) $\\text{det}(\\mathbf{A})$\n",
    "\n",
    "6) $\\mathbf{A}^{-1}$\n",
    "\n",
    "7) $\\text{trace}(\\mathbf{A})$\n",
    "\n",
    "Thực hiện các phép biến đổi shape ma trận:\n",
    "\n",
    "8) concatenate ma trận $\\mathbf{A}$ và ma trận $\\mathbf{B}$ theo dòng.\n",
    "\n",
    "9) Reshape ma trận $\\mathbf{A}$ thành véc tơ\n",
    "\n",
    "Tính toán:\n",
    "\n",
    "10) Phân phối xác suất sau khi đi qua hàm softmax các dòng của $\\mathbf{A}$\n",
    "\n",
    "11) Tìm ra nhãn dự báo cho mỗi dòng.\n",
    "\n",
    "12) Tính tổng, trung bình, min, max của mỗi dòng."
   ]
  },
  {
   "cell_type": "markdown",
   "id": "about-walter",
   "metadata": {
    "id": "1lJtX0m9w6Aj"
   },
   "source": [
    "# 3.11. Tài liệu"
   ]
  },
  {
   "cell_type": "markdown",
   "id": "bacterial-waterproof",
   "metadata": {
    "id": "v6xBrGY2lBx4"
   },
   "source": [
    "1. [numpy doc](https://numpy.org/doc/)\n",
    "\n",
    "2. [numpy w3school](https://www.w3schools.com/python/numpy/numpy_intro.asp)\n",
    "\n",
    "3. [numpy tutorialspoint](https://www.tutorialspoint.com/numpy/numpy_indexing_and_slicing.htm)\n",
    "\n",
    "4. [numpy cs231](https://cs231n.github.io/python-numpy-tutorial/)"
   ]
  }
 ],
 "metadata": {
  "jupytext": {
   "text_representation": {
    "extension": ".md",
    "format_name": "myst",
    "format_version": 0.12,
    "jupytext_version": "1.8.2"
   }
  },
  "kernelspec": {
   "display_name": "Python 3",
   "name": "python3"
  },
  "language_info": {
   "codemirror_mode": {
    "name": "ipython",
    "version": 3
   },
   "file_extension": ".py",
   "mimetype": "text/x-python",
   "name": "python",
   "nbconvert_exporter": "python",
   "pygments_lexer": "ipython3",
   "version": "3.6.13"
  },
  "source_map": [
   11,
   15,
   21,
   46,
   50,
   73,
   79,
   100,
   109,
   129,
   137,
   157,
   163,
   183,
   187,
   207,
   217,
   221,
   227,
   257,
   266,
   287,
   293,
   310,
   327,
   333,
   352,
   369,
   385,
   405,
   409,
   429,
   433,
   453,
   473,
   493,
   513,
   518,
   524,
   545,
   549,
   569,
   589,
   593,
   612,
   632,
   640,
   664,
   670,
   694,
   698,
   717,
   740,
   746,
   765,
   769,
   791,
   795,
   799,
   804,
   827,
   847,
   867,
   871,
   892,
   898,
   924,
   944,
   950,
   971,
   996,
   1000,
   1020,
   1028,
   1048,
   1068,
   1072,
   1080,
   1099,
   1109,
   1138,
   1142,
   1148,
   1168,
   1172,
   1191,
   1199,
   1220,
   1240,
   1244,
   1249,
   1253,
   1265,
   1286,
   1292,
   1313,
   1319,
   1342,
   1348,
   1368,
   1388,
   1396,
   1415,
   1419,
   1443,
   1447,
   1453,
   1473,
   1481,
   1509,
   1513,
   1532,
   1554,
   1573,
   1595,
   1615,
   1623,
   1643,
   1651,
   1670,
   1676,
   1680,
   1696,
   1724,
   1734,
   1765,
   1785,
   1811,
   1836,
   1856,
   1862,
   1881,
   1904,
   1932,
   1956,
   1960,
   1964,
   1970,
   1993,
   1997,
   2016,
   2020,
   2026,
   2040,
   2074,
   2078
  ]
 },
 "nbformat": 4,
 "nbformat_minor": 5
}