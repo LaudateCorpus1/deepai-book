{
 "cells": [
  {
   "cell_type": "markdown",
   "id": "satisfied-daily",
   "metadata": {},
   "source": [
    "# 1.1. Các định dạng số, boolean và ký tự\n",
    "\n",
    "Như hầu hết các ngôn ngữ lập trình khác, python cũng chứa các định dạng dữ liệu (_data type_) cơ bản gồm `float, integer, boolean, string`. Hãy ghi nhớ những định dạng dữ liệu này vì chúng ta sẽ bắt gặp lại chúng ở nhiều ngôn ngữ lập trình khác. Ý nghĩa của những định dạng dữ liệu này như sau:\n",
    "\n",
    "* `float`: Lưu trữ số thập phân. Ví dụ `1993.0709`, trong đó `1993` là phần nguyên và `.0709` là phần thập phân.\n",
    "* `integer`: Định dạng số nguyên. Ví dụ `123`.\n",
    "* `boolean`: Chỉ gồm hai giá trị `True/False`.\n",
    "* `string`: Chuỗi ký tự\n",
    "\n",
    "Các kiểu dữ liệu float và integer chúng ta sẽ chia thành float8, float16, float32 và int8, int16, int32 tuỳ theo theo kích thước lưu trữ bit size của chúng. Những định dạng có số bits càng cao thì miền giá trị của nó càng rộng. Ví dụ: Định dạng int8 sẽ có kích thước là 8 bits nên nó có thể chứa tối đa là $2^8=256$ số nguyên từ -128 dến 127."
   ]
  },
  {
   "cell_type": "code",
   "execution_count": null,
   "id": "collectible-popularity",
   "metadata": {},
   "outputs": [],
   "source": [
    "import numpy as np\n",
    "# Giá trị của -129 trong định dạng int8 sẽ thành 127\n",
    "np.array([1, -129, 3], dtype=np.int8)"
   ]
  },
  {
   "cell_type": "markdown",
   "id": "complete-gather",
   "metadata": {},
   "source": [
    "Để kiểm tra định dạng dữ liệu của một biến chúng ta dùng hàm `type()`"
   ]
  },
  {
   "cell_type": "code",
   "execution_count": null,
   "id": "featured-result",
   "metadata": {},
   "outputs": [],
   "source": [
    "x = 1.234\n",
    "y = 4\n",
    "z = False\n",
    "t = \"Vi mot cong dong AI vung manh hon\"\n",
    "\n",
    "print(type(x))\n",
    "print(type(y))\n",
    "print(type(z))\n",
    "print(type(t))"
   ]
  },
  {
   "cell_type": "markdown",
   "id": "precious-adelaide",
   "metadata": {
    "id": "ygb0pdgSowal"
   },
   "source": [
    "## 1.1.1. Kiểu numeric\n",
    "\n",
    "Kiểu numeric sẽ bao gồm số thập phân và số nguyên.\n",
    "Chúng ta có thể thực hiện các phép `+, -, *, /` đổi với kiểu numeric."
   ]
  },
  {
   "cell_type": "code",
   "execution_count": null,
   "id": "alpine-circuit",
   "metadata": {},
   "outputs": [],
   "source": [
    "x = 1.5\n",
    "add = x+1\n",
    "minus = x-1\n",
    "mul = x*2\n",
    "div = x/5\n",
    "print(add, minus, mul, div)"
   ]
  },
  {
   "cell_type": "markdown",
   "id": "industrial-course",
   "metadata": {
    "id": "Kgz816UtpUHS"
   },
   "source": [
    "Ngoài ra cúng ta có thể viết`x=x+1`đơn giản hơn thành `x+=1`. Tương tự với phép `-, *, /`"
   ]
  },
  {
   "cell_type": "code",
   "execution_count": null,
   "id": "mediterranean-loading",
   "metadata": {},
   "outputs": [],
   "source": [
    "x=1.5\n",
    "x+=1 # Tương đương x=x+1\n",
    "print(x)\n",
    "x=1.5 \n",
    "x-=1 # Tương đương x=x-1\n",
    "print(x)\n",
    "x=1.5\n",
    "x*=2 # Tương đương x=x*2\n",
    "print(x)\n",
    "x=1.5\n",
    "x/=5 # Tương đương x=x/5\n",
    "print(x)"
   ]
  },
  {
   "cell_type": "markdown",
   "id": "royal-yeast",
   "metadata": {
    "id": "R9yv0h7Kp8kC"
   },
   "source": [
    "Khi thực hiện các phép `+,-,*,/` giữa hai số khác nhau về định dạng dữ liệu thì định dạng dữ liệu của kết quả trả về sẽ có định dạng dữ liệu là kiểu được ưu tiên hơn.\n",
    "Chúng ta qui ước thứ tự ưu tiên của định dạng dữ liệu là `float > integer >  boolean`."
   ]
  },
  {
   "cell_type": "code",
   "execution_count": null,
   "id": "going-solomon",
   "metadata": {},
   "outputs": [],
   "source": [
    "x = 2.5\n",
    "y = 1\n",
    "print(type(x+y))\n",
    "print(type(x-y))\n",
    "print(type(x*y))\n",
    "print(type(x/y))"
   ]
  },
  {
   "cell_type": "markdown",
   "id": "charitable-proceeding",
   "metadata": {
    "id": "IwE99BeZq9db"
   },
   "source": [
    "Như vậy phép `+, -, *, /` giữa một số float và integer sẽ trả ra kết quả là một số dạng float."
   ]
  },
  {
   "cell_type": "markdown",
   "id": "aging-faculty",
   "metadata": {
    "id": "vgdUe4izrn_2"
   },
   "source": [
    "## 1.1.2. Kiểu boolean\n",
    "\n",
    "Kiểu boolean sẽ gồm hai giá trị là `True` và `False`. Các toán tử được thực hiện trên kiểu boolean gồm :\n",
    "\n",
    "- Và: Trả về True nếu cả hai vế đều đúng. Còn lại là False. Có thể sử dụng ký hiệu `&` hoặc chữ `and`.\n",
    "- Hoặc: Trả về True nếu một trong hai vế đúng. Còn lại là False. Có thể sử dụng ký hiệu `|` hoặc chữ `or`. \n",
    "\n",
    "Vì python là ngôn ngữ hướng tới mục tiêu rõ ràng (nhìn vào là hiểu ngay) nên theo chuẩn convention thì chúng ta sẽ thường sử dụng từ tiếng anh như `and`,  `or` thay cho ký tự `&`, `|`.\n",
    "\n",
    "Kiểu boolean còn có thể thực hiện các phép `+, -, *, /` như kiểu numeric.\n",
    "Để biết kết quả của biểu thức khi thực hiện trên boolean, chúng ta qui ước `True` là 1, `False` là 0 và thực hiện phép tính như bình thường."
   ]
  },
  {
   "cell_type": "code",
   "execution_count": null,
   "id": "extensive-chinese",
   "metadata": {},
   "outputs": [],
   "source": [
    "x = True\n",
    "y = False\n",
    "z = 5\n",
    "print('and: ', x&y, x and y)\n",
    "print('or: ', x|y, x or y)\n",
    "print('x*y: ', x*y)\n",
    "print('x+y: ', x+y)\n",
    "print('x/z: ', x/z)"
   ]
  },
  {
   "cell_type": "markdown",
   "id": "grateful-sunglasses",
   "metadata": {
    "id": "oi4BF9-bvS4f"
   },
   "source": [
    "Phép so sánh giữa hai số sẽ trả về là kiểu dữ liệu boolean. Một số toán tử so sánh:\n",
    "\n",
    "* x lớn hơn y: `x>y`\n",
    "* x nhỏ hơn y: `x<y`\n",
    "* x bằng y: `x=y`\n",
    "* x khác y: `x!=y`"
   ]
  },
  {
   "cell_type": "code",
   "execution_count": null,
   "id": "decreased-cornwall",
   "metadata": {},
   "outputs": [],
   "source": [
    "x = 5\n",
    "y = 6\n",
    "print('x==y: ', x==y)\n",
    "print('x!=y: ', x!=y)"
   ]
  },
  {
   "cell_type": "markdown",
   "id": "unlike-filling",
   "metadata": {
    "id": "9x98HIhoztW6"
   },
   "source": [
    "## 1.1.3. Kiểu ký tự\n",
    "\n",
    "Chúng ta thường sử dụng kiểu ký tự để lưu trữ những thông tin dạng văn bản như tên người, địa chỉ, tiêu đề, đoạn văn,.... Để khởi tạo một biến dạng ký tự chúng ta bao quanh bởi dấu láy kép."
   ]
  },
  {
   "cell_type": "code",
   "execution_count": null,
   "id": "nearby-oklahoma",
   "metadata": {},
   "outputs": [],
   "source": [
    "x = \"AI is my love\"\n",
    "print(type(x))"
   ]
  },
  {
   "cell_type": "markdown",
   "id": "adjusted-recognition",
   "metadata": {
    "id": "zjkiDm2U1H2V"
   },
   "source": [
    "Ghép các chuỗi ký tự"
   ]
  },
  {
   "cell_type": "code",
   "execution_count": null,
   "id": "abroad-attitude",
   "metadata": {},
   "outputs": [],
   "source": [
    "y = \"I said: \"\n",
    "print(y+x)"
   ]
  },
  {
   "cell_type": "markdown",
   "id": "gothic-edmonton",
   "metadata": {
    "id": "vCv0anuD1T-N"
   },
   "source": [
    "Chia chuỗi ký tự theo khoảng trống"
   ]
  },
  {
   "cell_type": "code",
   "execution_count": null,
   "id": "adapted-soccer",
   "metadata": {},
   "outputs": [],
   "source": [
    "x.split()"
   ]
  },
  {
   "cell_type": "markdown",
   "id": "faced-entry",
   "metadata": {},
   "source": [
    "# 1.2. Định dạng sequence\n",
    "\n",
    "Định dạng sequence là định dạng mà cho phép chúng ta lưu được nhiều giá trị trong cùng một biến."
   ]
  },
  {
   "cell_type": "markdown",
   "id": "excellent-audit",
   "metadata": {
    "id": "xzg60pK3eOUm"
   },
   "source": [
    "## 1.2.1. List\n",
    "\n",
    "List là định dạng cho phép lưu trữ nhiều item trong cùng một biến. Đây là một trong bốn định dạng built-in data type dùng để lưu trữ collection bên cạnh các định dạng khác là `tupple, dictionary, set`.\n",
    "\n",
    "Một list sẽ có hai tính chất là iterable (có thể duyệt qua các phần tử bên trong nó) và mutable (có thể thay đổi giá trị bên trong nó).\n",
    "\n",
    "**Các biến đổi đơn giản với list gồm những gì?**\n",
    "\n",
    "Để khởi tạo một list chúng ta bao quanh list bởi dấu ngoặc vuông. Bên trong là tập hợp các thành phần của list cách nhau bởi dấu phảy.\n",
    "\n",
    "Trong một list chúng ta có thể duyệt qua các phần tử trong list; Thực hiện các thao tác CRUDE (gồm các chức năng cập nhật, thêm, sửa, xoá) các thành phần trong list; concatenate hai list. Cụ thể như bên dưới:"
   ]
  },
  {
   "cell_type": "code",
   "execution_count": null,
   "id": "least-regard",
   "metadata": {},
   "outputs": [],
   "source": [
    "# CRUDE\n",
    "# Khởi tạo list\n",
    "list1 = ['physics', 'chemistry', 1997, 2000] # Hoặc dùng từ khoá list thay cho []: list1 = list('physics', 'chemistry', 1997, 2000)\n",
    "print('list1: ', list1)\n",
    "\n",
    "# Duyệt qua các phần tử trong list. Tính chất Iterable\n",
    "for item in list1:\n",
    "  print(item)\n",
    "\n",
    "# Cập nhật 1 phần tử trong list. Tính chất mutable\n",
    "list1[0] = 'math'\n",
    "print('list1 update: ', list1)\n",
    "\n",
    "# Xóa một phần tử trong list\n",
    "list1.remove(2000)\n",
    "print('list1 after delete: ', list1)\n",
    "\n",
    "# Độ dài của 1 list:\n",
    "print('length of list1: ', len(list1))\n",
    "\n",
    "# Gán thêm phần tử cho 1 list:\n",
    "list1.append(2019)\n",
    "print('list1 after append: ', list1)\n",
    "\n",
    "# concatenate 2 list với nhau\n",
    "list2 = ['people', 'teacher', 'student']\n",
    "list_concate = list1 + list2\n",
    "print('list1 and list2 after concate: ', list_concate)\n",
    "\n",
    "# hoặc chúng ta có thể concate thông qua phép cộng\n",
    "list3 = list1\n",
    "list3 += list2\n",
    "print('list1 and list2 after concate: ', list3)\n",
    "\n",
    "# Lưu ý nếu ta dùng lệnh append để append một list thì sẽ tự động tạo thêm một phần tử mới ở vị trí cuối cùng chứa list được append\n",
    "list3.append(list2)\n",
    "print('list1 append list2: ', list3)\n",
    "\n",
    "# trích xuất 1 phần tử trong list\n",
    "item3 = list1.pop(3)\n",
    "print('item 3 indice of list1: ', item3)\n",
    "print('list1 after pop 3 indice: ', list1)"
   ]
  },
  {
   "cell_type": "markdown",
   "id": "introductory-caution",
   "metadata": {
    "id": "bne5rCTy1Y1R"
   },
   "source": [
    "Các phép biến đổi khác:\n",
    "* Tìm ra index của một phần tử nằm trong list theo giá trị."
   ]
  },
  {
   "cell_type": "code",
   "execution_count": null,
   "id": "liquid-bikini",
   "metadata": {},
   "outputs": [],
   "source": [
    "list4 = ['vi', 'mot', 'cong', 'dong', 'AI', 'vung', 'manh', 'hon']\n",
    "# Tìm ra index của từ đầu tiên có giá trị là 'cong'\n",
    "print(list4.index('cong'))"
   ]
  },
  {
   "cell_type": "markdown",
   "id": "considered-edwards",
   "metadata": {
    "id": "yjyEnEEr2M-E"
   },
   "source": [
    "* Mở rộng các thành phần của list"
   ]
  },
  {
   "cell_type": "code",
   "execution_count": null,
   "id": "dependent-battlefield",
   "metadata": {},
   "outputs": [],
   "source": [
    "list4.extend(['khanh', 'blog']) # Tương tự như phép cộng list\n",
    "print(list4)"
   ]
  },
  {
   "cell_type": "markdown",
   "id": "functioning-contractor",
   "metadata": {
    "id": "-VlK7czA23tq"
   },
   "source": [
    "* Insert thêm vào một vị trí bất kỳ của list. Ví dụ: `list4.insert(5, 'Viet Nam')` thì từ `Viet Nam` sẽ được thêm vào vị trí index thứ 6 nằm trong `list4`."
   ]
  },
  {
   "cell_type": "code",
   "execution_count": null,
   "id": "geological-carroll",
   "metadata": {},
   "outputs": [],
   "source": [
    "list4.insert(5, 'Viet Nam')\n",
    "print(list4)"
   ]
  },
  {
   "cell_type": "markdown",
   "id": "charming-functionality",
   "metadata": {
    "id": "W1NRaR01AH78"
   },
   "source": [
    "**Vòng for đối với list**\n",
    "\n",
    "Chúng ta có thể sử dụng vòng for để truy cập các phần tử trong một list như sau:"
   ]
  },
  {
   "cell_type": "code",
   "execution_count": null,
   "id": "blond-stomach",
   "metadata": {},
   "outputs": [],
   "source": [
    "for item in list4:\n",
    "  print(item)"
   ]
  },
  {
   "cell_type": "markdown",
   "id": "stone-investment",
   "metadata": {
    "id": "lGsvJN7CAb48"
   },
   "source": [
    "Tuy nhiên trong một số trường hợp ta muốn viết cú pháp gọn hơn, kết quả trả về  ngay là một list thì có thể sử dụng vòng **for bên trong list**. Đây là một style cực mạnh, cho phép ta xử lý list ngắn gọn và thông minh hơn trong nhiều tính huống."
   ]
  },
  {
   "cell_type": "code",
   "execution_count": null,
   "id": "creative-relaxation",
   "metadata": {},
   "outputs": [],
   "source": [
    "[item for item in list4]"
   ]
  },
  {
   "cell_type": "markdown",
   "id": "popular-expression",
   "metadata": {
    "id": "9dKL-FLQux8S"
   },
   "source": [
    "**Làm sao truy cập các phần tử của list?**\n",
    "\n",
    "Để truy cập các phần tử của một list chúng ta có nhiều cách.\n",
    "\n",
    "* Sử dụng slice index: Theo cách này chúng ta sẽ xác định một lát cắt gồm các index liên tiếp trong một list và khai báo chúng trong dấu ngặc vuông bên cạnh tên list. \n",
    "\n",
    "Ví dụ: Để truy cập vào các phần tử liên tiếp của một list, chẳng hạn từ `i` đến `j` chúng ta chỉ cần thông qua khoảng slice của list đó là `i:j+1` (lưu ý phải cộng một tại phần tử cuối là `j+1`)."
   ]
  },
  {
   "cell_type": "code",
   "execution_count": null,
   "id": "surprised-emerald",
   "metadata": {},
   "outputs": [],
   "source": [
    "# Truy cập vào phần tử 1 của list1\n",
    "print(list1[1])\n",
    "\n",
    "# Truy cập vào phần tử có index từ 1->3.\n",
    "print('* From indices 1->3: list1[1:4]\\n', list1[1:4])\n",
    "\n",
    "# Truy cập vào 2 index đầu tiên\n",
    "print('* 2 first indices: list1[:2]\\n', list1[:2])\n",
    "\n",
    "# Truy cập vào 2 index cuối cùng\n",
    "print('* 2 last indices: list1[-2:]\\n', list1[-2:])\n",
    "\n",
    "# Truy cập vào các phần tử từ phần tử đầu tiên tới phần tử liền trước vị trí cuối cùng là hai vị trí.\n",
    "print('* From first to -2 indices (2 orders to touch last): list1[:-2]\\n', list1[:-2])\n",
    "\n",
    "# Truy cập từ index thứ 2 đến index cuối cùng\n",
    "print('* From second indice to last indice: list1[2:]\\n', list1[2:])"
   ]
  },
  {
   "cell_type": "markdown",
   "id": "decimal-remedy",
   "metadata": {
    "id": "OvqWkorwyab3"
   },
   "source": [
    "* Sử dụng list các thứ tự cần truy cập:\n",
    "\n",
    "Cách này chúng ta sẽ khai báo các vị trí phần tử của list mà chúng ta muốn truy cập. Những vị trí này có thể cách rời nhau. Ưu điểm của phương pháp này là có thể truy cập bất kỳ vị trí nào trong list, nhược điểm là phải gõ nhiều."
   ]
  },
  {
   "cell_type": "code",
   "execution_count": null,
   "id": "least-agreement",
   "metadata": {},
   "outputs": [],
   "source": [
    "# Truy cập vào vị trí có indice 1 và 3 trong list1\n",
    "[item for (i, item) in enumerate(list1) if i in [1, 3]]"
   ]
  },
  {
   "cell_type": "markdown",
   "id": "filled-hebrew",
   "metadata": {
    "id": "tTM1PXJWxheO"
   },
   "source": [
    "**Các thành phần của một list có được phép trùng nhau?**\n",
    "\n",
    "List cho phép các phần tử được trùng nhau. Tính chất này không được chấp nhận ở dictionary và set."
   ]
  },
  {
   "cell_type": "code",
   "execution_count": null,
   "id": "isolated-removal",
   "metadata": {
    "id": "gFV0BhXjxrXE"
   },
   "outputs": [],
   "source": [
    "list4 = ['machine', 'learning', 'algorithms', 'to', 'practice', 'practice']"
   ]
  },
  {
   "cell_type": "markdown",
   "id": "devoted-university",
   "metadata": {
    "id": "qHB50gfG1fHo"
   },
   "source": [
    "Ngoài ra các thành phần trong một list có thể khác nhau về định dạng. Bên dưới là list chứa thành phần vừa có kiểu ký tự và kiểu số."
   ]
  },
  {
   "cell_type": "code",
   "execution_count": null,
   "id": "advisory-jerusalem",
   "metadata": {
    "id": "XhHHSX9k1tF1"
   },
   "outputs": [],
   "source": [
    "list4 = ['machine', 'learning', 'algorithms', 'to', 'practice', 2021]"
   ]
  },
  {
   "cell_type": "markdown",
   "id": "mysterious-roots",
   "metadata": {
    "id": "tKytXcFLv81f"
   },
   "source": [
    "**Sort một list thì như thế nào ?**\n",
    "\n",
    "Chúng ta dùng lệnh `sort`. Có hai lựa chọn là `reverse=True` (đảo ngược) hoặc `reverse=False (tăng tiến)."
   ]
  },
  {
   "cell_type": "code",
   "execution_count": null,
   "id": "inside-magazine",
   "metadata": {},
   "outputs": [],
   "source": [
    "list5 = [4, 5, 1, 7, 2]\n",
    "# Sort tăng tiến\n",
    "list5.sort()\n",
    "print('* normal sort list5: \\n', list5)\n",
    "# Sort reverse\n",
    "list5.sort(reverse=True)\n",
    "print('* reverse sort list5: \\n', list5)"
   ]
  },
  {
   "cell_type": "markdown",
   "id": "aggregate-steal",
   "metadata": {
    "id": "oZIjPfoa5Chp"
   },
   "source": [
    "Theo cách trên thì hàm `sort()` được coi là một method của biến `list5`. Sau khi gọi hàm `list5.sort()` thì phép sắp xếp được kích hoạt và thay thế chính giá trị của list5 gốc (đây là tính chất inplace). Chúng ta có thể sử dụng hàm `sorted()` độc lập bên ngoài để sort giá trị của list5 mà giá trị của list5 sẽ không bị thay đổi."
   ]
  },
  {
   "cell_type": "code",
   "execution_count": null,
   "id": "usual-closing",
   "metadata": {},
   "outputs": [],
   "source": [
    "list5 = [4, 5, 1, 7, 2]\n",
    "print('* sorted(list5): \\n',sorted(list5))"
   ]
  },
  {
   "cell_type": "markdown",
   "id": "acknowledged-cancellation",
   "metadata": {
    "id": "PMN9KKwm6dof"
   },
   "source": [
    "Ngoài ra chúng ta có thể sort theo key là một hàm bất kỳ trong `sorted()`. Theo cách này chúng ta có thể sắp xếp biến đầu vào $x$ sao cho giá trị của hàm đầu ra $(x-3)^2$ là tăng dần."
   ]
  },
  {
   "cell_type": "code",
   "execution_count": null,
   "id": "prompt-weapon",
   "metadata": {},
   "outputs": [],
   "source": [
    "sorted(list5, key = lambda x: (x-3)**2)"
   ]
  },
  {
   "cell_type": "markdown",
   "id": "detailed-period",
   "metadata": {
    "id": "r7l0mKFQeUL1"
   },
   "source": [
    "## 1.2.2. Tuple\n",
    "\n",
    "Tuple cũng tương tự như list nhưng là định dạng immutable, tức là không thể sửa, xóa, cập nhật.\n",
    "\n",
    "Các phần tử của tuple được cách nhau bởi dấu phảy và bao quanh bởi ngoặc đơn."
   ]
  },
  {
   "cell_type": "code",
   "execution_count": null,
   "id": "amended-ballot",
   "metadata": {},
   "outputs": [],
   "source": [
    "# Khởi tạo tuple\n",
    "tuple1 = ('a', 'b', 'c', '2020')\n",
    "print('tuple1: ', tuple1)\n",
    "\n",
    "# Truy cập vào các phần tử của tuple\n",
    "for item in tuple1:\n",
    "  print(item)\n",
    "\n",
    "# Độ dài\n",
    "print('length tuple1: ', len(tuple1))\n",
    "\n",
    "# Concate 2 tuple\n",
    "tuple2 = ('x', 'y', 'z')\n",
    "tuple_concate = tuple1 + tuple2\n",
    "print('tuple concatenate: ', tuple_concate)\n",
    "\n",
    "# Truy cập vào phần tử đầu tiên\n",
    "tuple1[0]"
   ]
  },
  {
   "cell_type": "markdown",
   "id": "agricultural-threat",
   "metadata": {
    "id": "2tRAS11-4mri"
   },
   "source": [
    "Lưu ý: Tupple là định dạng immutatble tức là **không thay đổi được**. Chúng ta sẽ không thể thêm/sửa/xoá các phần tử của tupple. VD: Cập nhật tuple1[0] = 0 sẽ báo lỗi."
   ]
  },
  {
   "cell_type": "code",
   "execution_count": null,
   "id": "varying-entrance",
   "metadata": {},
   "outputs": [],
   "source": [
    "tuple1[0] = 0"
   ]
  },
  {
   "cell_type": "markdown",
   "id": "furnished-percentage",
   "metadata": {
    "id": "VVaqaAJMeYiA"
   },
   "source": [
    "## 1.2.3. Dictionary\n",
    "\n",
    "Dictionary là định dạng cho phép truy cập các giá trị thông qua một key **duy nhất**. key giống như tên gọi và giá trị là thứ được trả về thông qua key.\n",
    "\n",
    "Mỗi một phần tử của dictionary được đặc trưng bởi một cặp `{key: value}`. Các phần tử ngăn cách nhau bởi dấu phảy và bao quanh dấu `{}`.\n",
    "\n",
    "**Các biến đổi đơn giản trên dictionary gồm những gì?**\n",
    "\n",
    "Chúng ta có thể truy cập các phần tử của dictionary thông qua giá trị `key` của nó. Các giá trị tương ứng với một `key` cũng có thể được cập nhật bằng phép gán."
   ]
  },
  {
   "cell_type": "code",
   "execution_count": null,
   "id": "efficient-report",
   "metadata": {},
   "outputs": [],
   "source": [
    "# Khởi tạo một dictionary\n",
    "dict1 = {'name': 'khanh', 'age': '27', 'job': 'AI research engineer', 'love': 'math'}\n",
    "# In ra giá trị thông qua key\n",
    "print('name: ', dict1['name'])\n",
    "print('age: ', dict1['age'])\n",
    "print('job: ', dict1['job'])\n",
    "print('love: ', dict1['love'])\n",
    "\n",
    "# Cập nhật giá trị một phần tử\n",
    "dict1['love'] = 'girl'\n",
    "print('love update: ', dict1['love'])\n",
    "\n",
    "# Độ dài của dict1\n",
    "print('dict1 length: ', len(dict1))\n",
    "\n",
    "# Truy cập vào toàn bộ các key\n",
    "print('all keys: ', dict1.keys())\n",
    "\n",
    "# Truy cập vào toàn bộ giá trị\n",
    "print('all values: ', dict1.values())\n",
    "\n",
    "# Thêm một phần tử mới cho dict\n",
    "dict1['IQ'] = '145'\n",
    "print('dict after update: ', dict1)"
   ]
  },
  {
   "cell_type": "markdown",
   "id": "exceptional-banana",
   "metadata": {
    "id": "QCUlBSUH7j82"
   },
   "source": [
    "Cách khởi tạo dictionary trên là thủ công, bạn có thể khởi tạo một dictionary gồm 100 keys liên tiếp có cùng một giá trị thông qua hàm `dict.fromkeys(keys, value)`."
   ]
  },
  {
   "cell_type": "code",
   "execution_count": null,
   "id": "applied-palestinian",
   "metadata": {},
   "outputs": [],
   "source": [
    "# Khởi tạo dictionary gồm các keys từ 0 tới 3, giá trị đều là []\n",
    "dict2 = dict.fromkeys(range(4), [])\n",
    "dict2"
   ]
  },
  {
   "cell_type": "markdown",
   "id": "greater-miracle",
   "metadata": {
    "id": "-_GqYV4Z6IGO"
   },
   "source": [
    "**Sort một dictionary như thế nào?**\n",
    "\n",
    "Chúng ta dùng hàm sorted như bên dưới. Khi đó giá trị trả về của dict sẽ tự động sort theo key."
   ]
  },
  {
   "cell_type": "code",
   "execution_count": null,
   "id": "dangerous-crime",
   "metadata": {},
   "outputs": [],
   "source": [
    "sorted(dict1)"
   ]
  },
  {
   "cell_type": "markdown",
   "id": "elementary-optimization",
   "metadata": {
    "id": "Gj8zI3PX8J9K"
   },
   "source": [
    "Muốn customize sâu hơn cách sort của hàm `sorted`, ta có thể dùng thêm chức năng `key` của hàm `lambda`. Đây là một vũ khí khá lợi hại:"
   ]
  },
  {
   "cell_type": "code",
   "execution_count": null,
   "id": "developed-meter",
   "metadata": {},
   "outputs": [],
   "source": [
    "# Chỉ sort dict1 theo giá trị cuối của dictionary\n",
    "sorted(dict1, key=lambda x: x[-1:])"
   ]
  },
  {
   "cell_type": "markdown",
   "id": "classical-scanner",
   "metadata": {
    "id": "g1MMJJZp82Qj"
   },
   "source": [
    "**Nếu không muốn sort theo keys mà sort theo values thì sao?**\n",
    "\n",
    "Đây là một ứng dụng rất phổ biến mà bạn sẽ thường xuyên bắt gặp nó khi làm việc với dữ liệu. Để thực hiện phương pháp sort này, hẳn bạn còn nhớ cú pháp `vòng for trong list` ở chương list chứ ? Chúng ta sẽ áp dụng nó ở đây."
   ]
  },
  {
   "cell_type": "code",
   "execution_count": null,
   "id": "intense-motor",
   "metadata": {},
   "outputs": [],
   "source": [
    "{k: v for k, v in sorted(dict1.items(), key=lambda item: item[1])}"
   ]
  },
  {
   "cell_type": "markdown",
   "id": "medieval-sunrise",
   "metadata": {
    "id": "PFQrsAVJeg-2"
   },
   "source": [
    "## 1.2.4. Set\n",
    "\n",
    "Set là một tợp hợp gồm các giá trị **duy nhất**. Set không cho phép truy cập thông qua index vì nó không được đánh index. các phần tử trong set không thể thay đổi được nhưng set có thể thêm bớt. Để khởi tạo một set thì các phần tử của set cách nhau bởi dấu phảy và bao quanh dấu `{}`.\n",
    "\n",
    "**Các phép biến đổi cơ bản đối với set**"
   ]
  },
  {
   "cell_type": "code",
   "execution_count": null,
   "id": "cubic-treaty",
   "metadata": {
    "id": "DobXx9oSejea"
   },
   "outputs": [],
   "source": [
    "# Khởi tạo một set\n",
    "set1 = set([1, 2, 3, 4, 'alo']) # or {1, 2, 3, 4, 'alo'}\n",
    "print('set1: ', set1)\n",
    "\n",
    "# Truy cập vào các phần tử của set\n",
    "for item in set1:\n",
    "  print(item)\n",
    "\n",
    "# Độ dài của set:\n",
    "print('length set1: ', len(set1))\n",
    "\n",
    "# Xóa 1 phần tử trong set\n",
    "set1.discard(4)\n",
    "print('set1 after discard 4: ', set1)\n",
    "\n",
    "# Hợp 2 set với nhau:\n",
    "set2 = {1, 3, 5, 8}\n",
    "print('set2: ', set2)\n",
    "set_union = set1.union(set2)\n",
    "print('union set1 and set2: ', set_union)\n",
    "\n",
    "# Tìm ra các phần tử chung bằng phép giao:\n",
    "set_intersection = set1.intersection(set2)\n",
    "print('intersection set1 and set2:', set_intersection)\n",
    "\n",
    "# Tìm ra các phần tử thuộc set2 nhưng không thuộc set1\n",
    "print('belong set2 but not set1: ', set2 - set1)\n",
    "\n",
    "# Kiểm tra quan hệ giữa 2 set\n",
    "print('check set2 belong set1: ', set1 >= set2)\n",
    "print('check set1 belong set2: ', set1 <= set2)"
   ]
  },
  {
   "cell_type": "markdown",
   "id": "sized-postcard",
   "metadata": {
    "id": "Hqh2H4oECJ1w"
   },
   "source": [
    "# 1.3. Tóm tắt\n",
    "\n",
    "Như vậy qua bài viết này bạn đã nắm vững được các kiến thức cơ bản về những định dạng dữ liệu built-in trong python gồm:\n",
    "\n",
    "* Các kiểu dữ liệu `float, integer, boolean, string`, miền giá trị và cách thức làm việc với chúng.\n",
    "\n",
    "* Định dạng dữ liệu sequence `list, tuple, dictionary, set`, cách sử dụng, những cú pháp thường gặp trong xử lý dữ liệu kèm theo những `tip and trick` để giải quyết nhanh vấn đề.\n",
    "\n",
    "Bạn đọc hãy cùng làm những bài tập bên dưới để cải thiện kỹ năng của mình."
   ]
  },
  {
   "cell_type": "markdown",
   "id": "christian-sense",
   "metadata": {
    "id": "DIHw5MQJDS4-"
   },
   "source": [
    "# 1.4 Bài tập\n",
    "\n",
    "Cho một dictionary gồm tên và điểm số."
   ]
  },
  {
   "cell_type": "code",
   "execution_count": null,
   "id": "excess-fleece",
   "metadata": {
    "id": "DxxhVWlqDcap"
   },
   "outputs": [],
   "source": [
    "points = {'an': 9, 'binh': 7, 'khanh': 8, 'linh': 10, 'huyen': 6}"
   ]
  },
  {
   "cell_type": "markdown",
   "id": "decreased-suspect",
   "metadata": {},
   "source": [
    "1. Hãy sắp xếp dictionary trên theo điểm số tăng dần.\n",
    "2. Hãy tạo một dictionary có key là điểm số và giá trị là tên.\n",
    "\n",
    "Tiếp theo, cho một list như sau:"
   ]
  },
  {
   "cell_type": "code",
   "execution_count": null,
   "id": "better-vocabulary",
   "metadata": {
    "id": "j2fYKVWuEN9s"
   },
   "outputs": [],
   "source": [
    "target = ['vi', 'mot', 'cong', 'dong', 'AI', 'vung', 'vung', 'manh', 'manh', 'hon']"
   ]
  },
  {
   "cell_type": "markdown",
   "id": "pretty-mauritius",
   "metadata": {},
   "source": [
    "3. Tìm các giá trị duy nhất của list đó.\n",
    "4. Đếm số lần lặp lại của mỗi phần tử trong list.\n",
    "5. Tạo ra một list mới mà nếu phần tử đó đã xuất hiện trong list rồi thì chỉ lấy duy nhất giá trị bắt gặp đầu tiên."
   ]
  },
  {
   "cell_type": "markdown",
   "id": "appropriate-unemployment",
   "metadata": {
    "id": "UXNIM3rxFAEi"
   },
   "source": [
    "Cho một đoạn văn bản như sau:"
   ]
  },
  {
   "cell_type": "code",
   "execution_count": null,
   "id": "proud-explanation",
   "metadata": {
    "id": "qX7hQmdFFC_d"
   },
   "outputs": [],
   "source": [
    "'Machine Learning Algorithms to Practice là một cuốn sách cân bằng giữa lý thuyết và thực hành'"
   ]
  },
  {
   "cell_type": "markdown",
   "id": "latter-roller",
   "metadata": {
    "id": "S4AeWcFTFMpb"
   },
   "source": [
    "6. Hãy phân chia câu văn trên thành một list mà mỗi một từ trong câu là một phần tử của list.\n",
    "7. Đảo ngược vị trí các từ trong list vừa tạo được.\n",
    "\n",
    "Tiếp theo, tính các giá trị sau:\n",
    "8. Giá trị: $n! = 1\\times 2 \\times 3 \\dots \\times n$\n",
    "9. Tích của các số chẵn liên tiếp nhỏ hơn $n$.\n",
    "10. Tích của các số lẻ liên tiếp nhỏ hơn $n$."
   ]
  },
  {
   "cell_type": "markdown",
   "id": "eight-conclusion",
   "metadata": {
    "id": "H-ryufTCGU78"
   },
   "source": [
    "# 1.5. Tài liệu tham khảo\n",
    "\n",
    "1. [Datatype - w3school](https://www.w3schools.com/python/python_datatypes.asp)\n",
    "2. [Python Guide - Stanford](https://web.stanford.edu/class/cs106ap/handouts/python-guide.html)\n",
    "3. [VariableType - tutorialspoint](https://www.tutorialspoint.com/python/python_variable_types.htm)"
   ]
  }
 ],
 "metadata": {
  "jupytext": {
   "text_representation": {
    "extension": ".md",
    "format_name": "myst",
    "format_version": 0.12,
    "jupytext_version": "1.8.2"
   }
  },
  "kernelspec": {
   "display_name": "Python 3",
   "name": "python3"
  },
  "source_map": [
   11,
   24,
   28,
   32,
   44,
   51,
   60,
   64,
   79,
   84,
   93,
   97,
   111,
   122,
   131,
   138,
   144,
   149,
   153,
   158,
   162,
   164,
   170,
   184,
   229,
   234,
   240,
   244,
   249,
   253,
   258,
   264,
   269,
   273,
   277,
   287,
   307,
   313,
   318,
   324,
   330,
   334,
   340,
   346,
   356,
   360,
   365,
   369,
   373,
   381,
   402,
   406,
   410,
   422,
   449,
   453,
   459,
   465,
   469,
   473,
   478,
   484,
   488,
   496,
   532,
   545,
   551,
   555,
   562,
   566,
   572,
   576,
   582,
   592
  ]
 },
 "nbformat": 4,
 "nbformat_minor": 5
}