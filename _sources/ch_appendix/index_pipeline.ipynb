{
 "cells": [
  {
   "cell_type": "markdown",
   "id": "incorrect-devil",
   "metadata": {
    "id": "MJ4kWcokWXGF"
   },
   "source": [
    "# 6. Sklearn Pipeline\n",
    "\n",
    "Pipeline là một trong những nội dung quan trọng trong quá trình huấn luyện và triển khai các mô hình machine learning. Thông qua pipeline, dữ liệu sẽ được biến đổi từ dạng thô sang tinh có thể huấn luyện và dự báo được. Một hệ thống pipeline tốt có thể tự động quá quá trình xử lý dữ liệu, huấn luyện và dự báo một cách nhanh chóng bởi pipeline có thể giúp chúng ta:\n",
    "\n",
    "* Dễ dàng thiết kế một workflow xử lý data mạch lạch và dễ nắm bắt: Trong pipeline ở mỗi bước xử lý chúng ta có thể gán cho chúng một cái tên thể hiện ngắn gọn nội dung của chúng. Pipeline cho phép các xử lý nối tiếp nhau theo chuỗi, chẳng hạng bạn có thể tạo một pipeline gồm các bước theo thứ tự: `Category Embedding, Fill Mixing, Feature Scaling, Dimensionality Reduction, Model training`.\n",
    "\n",
    "* Đóng gói quá trình xử lý dữ liệu theo thứ tự mong muốn của chúng: Chúng ta có thể đóng gói lại toàn bộ quá trình xử lý dữ liệu phức tạp và cồng kềnh của một hệ thống lớn trong một pipeline và tái sử dụng lại pipeline này khi cần thiết.\n",
    "\n",
    "* Thông qua pipeline chúng ta có khả năng tái tạo lại dữ liệu: Trong quá trình xây dựng và thử nghiệm mô hình chúng ta sẽ cần thử nghiệm nhiều phương án xử lý dữ liệu khác nhau để đánh giá hiệu quả của từng pipeline lên mô hình. Nhờ việc đóng gói và lưu trữ lại pipeline mà quá trình tái tạo lại dữ liệu được xử lý bởi chúng trở nên dễ dàng.\n",
    "\n",
    "* Pipeline cho phép ta huấn luyện và dự báo trực tiếp trên đầu vào là dữ liệu thô: Nếu không có pipeline, mô hình chỉ có thể thực hiện dự báo trên đầu vào là những giá trị đã qua xử lý. Nhờ pipeline mà ta có thể thiết kế một hệ thống end-to-end tự động hoá quá trình xử lý, huấn luyện và dự báo bằng cách gắn thêm mô hình vào sau cùng của pipeline.\n",
    "\n",
    "Nhờ những hiệu quả và tính ưu việt mà khi huấn luyện và triển khai những mô hình machine learning trên production chúng ta hầu hết sẽ tìm cách thiết kế các pipeline.\n",
    "\n",
    "Ở chương này mình sẽ hướng dẫn cho các bạn cách thức để xây dựng một pipeline đơn giản cho mô hình trên sklearn như thế nào. Cụ thể bạn sẽ học được:\n",
    "\n",
    "* Tiền xử lý dữ liệu cho biến phân loại và liên tục.\n",
    "* Thiết kế một pipeline hoàn chỉnh bao gồm các bước tiền xử lý dữ liệu và dự báo.\n",
    "* Thực hiện cross validation các mô hình khác nhau trên một pipeline.\n",
    "* Cách lựa chọn metric phù hợp cho mô hình đối với bài toán phân loại và dự báo.\n",
    "* Kỹ thuật gridsearch trong tìm kiếm siêu tham số (_hyperparameter_) cho mô hình.\n",
    "\n",
    "Hãy cũng tìm hiểu các nội dung như bên dưới."
   ]
  },
  {
   "cell_type": "markdown",
   "id": "fantastic-bahrain",
   "metadata": {
    "id": "TSg93QbcWZSR"
   },
   "source": [
    "```{toctree}\n",
    ":hidden:\n",
    ":titlesonly:\n",
    "\n",
    "\n",
    "appendix_pipeline\n",
    "```"
   ]
  }
 ],
 "metadata": {
  "jupytext": {
   "text_representation": {
    "extension": ".md",
    "format_name": "myst",
    "format_version": 0.12,
    "jupytext_version": "1.8.2"
   }
  },
  "kernelspec": {
   "display_name": "Python 3",
   "name": "python3"
  },
  "language_info": {
   "codemirror_mode": {
    "name": "ipython",
    "version": 3
   },
   "file_extension": ".py",
   "mimetype": "text/x-python",
   "name": "python",
   "nbconvert_exporter": "python",
   "pygments_lexer": "ipython3",
   "version": "3.6.13"
  },
  "source_map": [
   13,
   39
  ]
 },
 "nbformat": 4,
 "nbformat_minor": 5
}