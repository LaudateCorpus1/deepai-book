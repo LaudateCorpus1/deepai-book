{
 "cells": [
  {
   "cell_type": "markdown",
   "id": "entertaining-batman",
   "metadata": {},
   "source": [
    "# 4.1. Format chung của một biểu đồ trên matplotlib\n",
    "\n",
    "Bộ dữ liệu mẫu được lựa chọn trong chương này là `iris` dataset. Đây là một bộ dữ liệu được sử dụng trong nhiều ví dụ minh hoạ về visualization. Bộ dữ liệu sẽ cho chúng ta biết kích thước dài, rộng của đài hoa và cánh hoa của 3 giống hoa iris là `Setosa`, `Versicolor` và `Virginica`. Cụ thể các trường như sau:\n",
    "\n",
    "* Sepal Length: Độ dài đài hoa\n",
    "* Sepal Width: Độ rộng đài hoa\n",
    "* Petal Length: Độ dài cánh hoa\n",
    "* Petal Width: Độ rộng cánh hoa"
   ]
  },
  {
   "cell_type": "code",
   "execution_count": 1,
   "id": "expressed-shaft",
   "metadata": {
    "colab": {
     "base_uri": "https://localhost:8080/",
     "height": 204
    },
    "id": "vCXWXmVZwtAk",
    "outputId": "2c63d980-30a7-434c-84e7-4ab2f19a39cb"
   },
   "outputs": [
    {
     "ename": "URLError",
     "evalue": "<urlopen error [Errno -2] Name or service not known>",
     "output_type": "error",
     "traceback": [
      "\u001b[0;31m---------------------------------------------------------------------------\u001b[0m",
      "\u001b[0;31mgaierror\u001b[0m                                  Traceback (most recent call last)",
      "\u001b[0;32m~/miniconda3/envs/deepai-book/lib/python3.6/urllib/request.py\u001b[0m in \u001b[0;36mdo_open\u001b[0;34m(self, http_class, req, **http_conn_args)\u001b[0m\n\u001b[1;32m   1348\u001b[0m                 h.request(req.get_method(), req.selector, req.data, headers,\n\u001b[0;32m-> 1349\u001b[0;31m                           encode_chunked=req.has_header('Transfer-encoding'))\n\u001b[0m\u001b[1;32m   1350\u001b[0m             \u001b[0;32mexcept\u001b[0m \u001b[0mOSError\u001b[0m \u001b[0;32mas\u001b[0m \u001b[0merr\u001b[0m\u001b[0;34m:\u001b[0m \u001b[0;31m# timeout error\u001b[0m\u001b[0;34m\u001b[0m\u001b[0;34m\u001b[0m\u001b[0m\n",
      "\u001b[0;32m~/miniconda3/envs/deepai-book/lib/python3.6/http/client.py\u001b[0m in \u001b[0;36mrequest\u001b[0;34m(self, method, url, body, headers, encode_chunked)\u001b[0m\n\u001b[1;32m   1286\u001b[0m         \u001b[0;34m\"\"\"Send a complete request to the server.\"\"\"\u001b[0m\u001b[0;34m\u001b[0m\u001b[0;34m\u001b[0m\u001b[0m\n\u001b[0;32m-> 1287\u001b[0;31m         \u001b[0mself\u001b[0m\u001b[0;34m.\u001b[0m\u001b[0m_send_request\u001b[0m\u001b[0;34m(\u001b[0m\u001b[0mmethod\u001b[0m\u001b[0;34m,\u001b[0m \u001b[0murl\u001b[0m\u001b[0;34m,\u001b[0m \u001b[0mbody\u001b[0m\u001b[0;34m,\u001b[0m \u001b[0mheaders\u001b[0m\u001b[0;34m,\u001b[0m \u001b[0mencode_chunked\u001b[0m\u001b[0;34m)\u001b[0m\u001b[0;34m\u001b[0m\u001b[0;34m\u001b[0m\u001b[0m\n\u001b[0m\u001b[1;32m   1288\u001b[0m \u001b[0;34m\u001b[0m\u001b[0m\n",
      "\u001b[0;32m~/miniconda3/envs/deepai-book/lib/python3.6/http/client.py\u001b[0m in \u001b[0;36m_send_request\u001b[0;34m(self, method, url, body, headers, encode_chunked)\u001b[0m\n\u001b[1;32m   1332\u001b[0m             \u001b[0mbody\u001b[0m \u001b[0;34m=\u001b[0m \u001b[0m_encode\u001b[0m\u001b[0;34m(\u001b[0m\u001b[0mbody\u001b[0m\u001b[0;34m,\u001b[0m \u001b[0;34m'body'\u001b[0m\u001b[0;34m)\u001b[0m\u001b[0;34m\u001b[0m\u001b[0;34m\u001b[0m\u001b[0m\n\u001b[0;32m-> 1333\u001b[0;31m         \u001b[0mself\u001b[0m\u001b[0;34m.\u001b[0m\u001b[0mendheaders\u001b[0m\u001b[0;34m(\u001b[0m\u001b[0mbody\u001b[0m\u001b[0;34m,\u001b[0m \u001b[0mencode_chunked\u001b[0m\u001b[0;34m=\u001b[0m\u001b[0mencode_chunked\u001b[0m\u001b[0;34m)\u001b[0m\u001b[0;34m\u001b[0m\u001b[0;34m\u001b[0m\u001b[0m\n\u001b[0m\u001b[1;32m   1334\u001b[0m \u001b[0;34m\u001b[0m\u001b[0m\n",
      "\u001b[0;32m~/miniconda3/envs/deepai-book/lib/python3.6/http/client.py\u001b[0m in \u001b[0;36mendheaders\u001b[0;34m(self, message_body, encode_chunked)\u001b[0m\n\u001b[1;32m   1281\u001b[0m             \u001b[0;32mraise\u001b[0m \u001b[0mCannotSendHeader\u001b[0m\u001b[0;34m(\u001b[0m\u001b[0;34m)\u001b[0m\u001b[0;34m\u001b[0m\u001b[0;34m\u001b[0m\u001b[0m\n\u001b[0;32m-> 1282\u001b[0;31m         \u001b[0mself\u001b[0m\u001b[0;34m.\u001b[0m\u001b[0m_send_output\u001b[0m\u001b[0;34m(\u001b[0m\u001b[0mmessage_body\u001b[0m\u001b[0;34m,\u001b[0m \u001b[0mencode_chunked\u001b[0m\u001b[0;34m=\u001b[0m\u001b[0mencode_chunked\u001b[0m\u001b[0;34m)\u001b[0m\u001b[0;34m\u001b[0m\u001b[0;34m\u001b[0m\u001b[0m\n\u001b[0m\u001b[1;32m   1283\u001b[0m \u001b[0;34m\u001b[0m\u001b[0m\n",
      "\u001b[0;32m~/miniconda3/envs/deepai-book/lib/python3.6/http/client.py\u001b[0m in \u001b[0;36m_send_output\u001b[0;34m(self, message_body, encode_chunked)\u001b[0m\n\u001b[1;32m   1041\u001b[0m         \u001b[0;32mdel\u001b[0m \u001b[0mself\u001b[0m\u001b[0;34m.\u001b[0m\u001b[0m_buffer\u001b[0m\u001b[0;34m[\u001b[0m\u001b[0;34m:\u001b[0m\u001b[0;34m]\u001b[0m\u001b[0;34m\u001b[0m\u001b[0;34m\u001b[0m\u001b[0m\n\u001b[0;32m-> 1042\u001b[0;31m         \u001b[0mself\u001b[0m\u001b[0;34m.\u001b[0m\u001b[0msend\u001b[0m\u001b[0;34m(\u001b[0m\u001b[0mmsg\u001b[0m\u001b[0;34m)\u001b[0m\u001b[0;34m\u001b[0m\u001b[0;34m\u001b[0m\u001b[0m\n\u001b[0m\u001b[1;32m   1043\u001b[0m \u001b[0;34m\u001b[0m\u001b[0m\n",
      "\u001b[0;32m~/miniconda3/envs/deepai-book/lib/python3.6/http/client.py\u001b[0m in \u001b[0;36msend\u001b[0;34m(self, data)\u001b[0m\n\u001b[1;32m    979\u001b[0m             \u001b[0;32mif\u001b[0m \u001b[0mself\u001b[0m\u001b[0;34m.\u001b[0m\u001b[0mauto_open\u001b[0m\u001b[0;34m:\u001b[0m\u001b[0;34m\u001b[0m\u001b[0;34m\u001b[0m\u001b[0m\n\u001b[0;32m--> 980\u001b[0;31m                 \u001b[0mself\u001b[0m\u001b[0;34m.\u001b[0m\u001b[0mconnect\u001b[0m\u001b[0;34m(\u001b[0m\u001b[0;34m)\u001b[0m\u001b[0;34m\u001b[0m\u001b[0;34m\u001b[0m\u001b[0m\n\u001b[0m\u001b[1;32m    981\u001b[0m             \u001b[0;32melse\u001b[0m\u001b[0;34m:\u001b[0m\u001b[0;34m\u001b[0m\u001b[0;34m\u001b[0m\u001b[0m\n",
      "\u001b[0;32m~/miniconda3/envs/deepai-book/lib/python3.6/http/client.py\u001b[0m in \u001b[0;36mconnect\u001b[0;34m(self)\u001b[0m\n\u001b[1;32m   1439\u001b[0m \u001b[0;34m\u001b[0m\u001b[0m\n\u001b[0;32m-> 1440\u001b[0;31m             \u001b[0msuper\u001b[0m\u001b[0;34m(\u001b[0m\u001b[0;34m)\u001b[0m\u001b[0;34m.\u001b[0m\u001b[0mconnect\u001b[0m\u001b[0;34m(\u001b[0m\u001b[0;34m)\u001b[0m\u001b[0;34m\u001b[0m\u001b[0;34m\u001b[0m\u001b[0m\n\u001b[0m\u001b[1;32m   1441\u001b[0m \u001b[0;34m\u001b[0m\u001b[0m\n",
      "\u001b[0;32m~/miniconda3/envs/deepai-book/lib/python3.6/http/client.py\u001b[0m in \u001b[0;36mconnect\u001b[0;34m(self)\u001b[0m\n\u001b[1;32m    951\u001b[0m         self.sock = self._create_connection(\n\u001b[0;32m--> 952\u001b[0;31m             (self.host,self.port), self.timeout, self.source_address)\n\u001b[0m\u001b[1;32m    953\u001b[0m         \u001b[0mself\u001b[0m\u001b[0;34m.\u001b[0m\u001b[0msock\u001b[0m\u001b[0;34m.\u001b[0m\u001b[0msetsockopt\u001b[0m\u001b[0;34m(\u001b[0m\u001b[0msocket\u001b[0m\u001b[0;34m.\u001b[0m\u001b[0mIPPROTO_TCP\u001b[0m\u001b[0;34m,\u001b[0m \u001b[0msocket\u001b[0m\u001b[0;34m.\u001b[0m\u001b[0mTCP_NODELAY\u001b[0m\u001b[0;34m,\u001b[0m \u001b[0;36m1\u001b[0m\u001b[0;34m)\u001b[0m\u001b[0;34m\u001b[0m\u001b[0;34m\u001b[0m\u001b[0m\n",
      "\u001b[0;32m~/miniconda3/envs/deepai-book/lib/python3.6/socket.py\u001b[0m in \u001b[0;36mcreate_connection\u001b[0;34m(address, timeout, source_address)\u001b[0m\n\u001b[1;32m    703\u001b[0m     \u001b[0merr\u001b[0m \u001b[0;34m=\u001b[0m \u001b[0;32mNone\u001b[0m\u001b[0;34m\u001b[0m\u001b[0;34m\u001b[0m\u001b[0m\n\u001b[0;32m--> 704\u001b[0;31m     \u001b[0;32mfor\u001b[0m \u001b[0mres\u001b[0m \u001b[0;32min\u001b[0m \u001b[0mgetaddrinfo\u001b[0m\u001b[0;34m(\u001b[0m\u001b[0mhost\u001b[0m\u001b[0;34m,\u001b[0m \u001b[0mport\u001b[0m\u001b[0;34m,\u001b[0m \u001b[0;36m0\u001b[0m\u001b[0;34m,\u001b[0m \u001b[0mSOCK_STREAM\u001b[0m\u001b[0;34m)\u001b[0m\u001b[0;34m:\u001b[0m\u001b[0;34m\u001b[0m\u001b[0;34m\u001b[0m\u001b[0m\n\u001b[0m\u001b[1;32m    705\u001b[0m         \u001b[0maf\u001b[0m\u001b[0;34m,\u001b[0m \u001b[0msocktype\u001b[0m\u001b[0;34m,\u001b[0m \u001b[0mproto\u001b[0m\u001b[0;34m,\u001b[0m \u001b[0mcanonname\u001b[0m\u001b[0;34m,\u001b[0m \u001b[0msa\u001b[0m \u001b[0;34m=\u001b[0m \u001b[0mres\u001b[0m\u001b[0;34m\u001b[0m\u001b[0;34m\u001b[0m\u001b[0m\n",
      "\u001b[0;32m~/miniconda3/envs/deepai-book/lib/python3.6/socket.py\u001b[0m in \u001b[0;36mgetaddrinfo\u001b[0;34m(host, port, family, type, proto, flags)\u001b[0m\n\u001b[1;32m    744\u001b[0m     \u001b[0maddrlist\u001b[0m \u001b[0;34m=\u001b[0m \u001b[0;34m[\u001b[0m\u001b[0;34m]\u001b[0m\u001b[0;34m\u001b[0m\u001b[0;34m\u001b[0m\u001b[0m\n\u001b[0;32m--> 745\u001b[0;31m     \u001b[0;32mfor\u001b[0m \u001b[0mres\u001b[0m \u001b[0;32min\u001b[0m \u001b[0m_socket\u001b[0m\u001b[0;34m.\u001b[0m\u001b[0mgetaddrinfo\u001b[0m\u001b[0;34m(\u001b[0m\u001b[0mhost\u001b[0m\u001b[0;34m,\u001b[0m \u001b[0mport\u001b[0m\u001b[0;34m,\u001b[0m \u001b[0mfamily\u001b[0m\u001b[0;34m,\u001b[0m \u001b[0mtype\u001b[0m\u001b[0;34m,\u001b[0m \u001b[0mproto\u001b[0m\u001b[0;34m,\u001b[0m \u001b[0mflags\u001b[0m\u001b[0;34m)\u001b[0m\u001b[0;34m:\u001b[0m\u001b[0;34m\u001b[0m\u001b[0;34m\u001b[0m\u001b[0m\n\u001b[0m\u001b[1;32m    746\u001b[0m         \u001b[0maf\u001b[0m\u001b[0;34m,\u001b[0m \u001b[0msocktype\u001b[0m\u001b[0;34m,\u001b[0m \u001b[0mproto\u001b[0m\u001b[0;34m,\u001b[0m \u001b[0mcanonname\u001b[0m\u001b[0;34m,\u001b[0m \u001b[0msa\u001b[0m \u001b[0;34m=\u001b[0m \u001b[0mres\u001b[0m\u001b[0;34m\u001b[0m\u001b[0;34m\u001b[0m\u001b[0m\n",
      "\u001b[0;31mgaierror\u001b[0m: [Errno -2] Name or service not known",
      "\nDuring handling of the above exception, another exception occurred:\n",
      "\u001b[0;31mURLError\u001b[0m                                  Traceback (most recent call last)",
      "\u001b[0;32m<ipython-input-1-062856e6d8c7>\u001b[0m in \u001b[0;36m<module>\u001b[0;34m\u001b[0m\n\u001b[1;32m      1\u001b[0m \u001b[0;32mimport\u001b[0m \u001b[0mpandas\u001b[0m \u001b[0;32mas\u001b[0m \u001b[0mpd\u001b[0m\u001b[0;34m\u001b[0m\u001b[0;34m\u001b[0m\u001b[0m\n\u001b[1;32m      2\u001b[0m \u001b[0;34m\u001b[0m\u001b[0m\n\u001b[0;32m----> 3\u001b[0;31m \u001b[0mdf_iris\u001b[0m \u001b[0;34m=\u001b[0m \u001b[0mpd\u001b[0m\u001b[0;34m.\u001b[0m\u001b[0mread_csv\u001b[0m\u001b[0;34m(\u001b[0m\u001b[0;34m\"https://raw.githubusercontent.com/phamdinhkhanh/datasets/master/iris_train.csv\"\u001b[0m\u001b[0;34m,\u001b[0m \u001b[0mheader\u001b[0m\u001b[0;34m=\u001b[0m\u001b[0;36m0\u001b[0m\u001b[0;34m,\u001b[0m \u001b[0mindex_col\u001b[0m\u001b[0;34m=\u001b[0m\u001b[0;32mNone\u001b[0m\u001b[0;34m)\u001b[0m\u001b[0;34m\u001b[0m\u001b[0;34m\u001b[0m\u001b[0m\n\u001b[0m\u001b[1;32m      4\u001b[0m \u001b[0mdf_iris\u001b[0m\u001b[0;34m.\u001b[0m\u001b[0mhead\u001b[0m\u001b[0;34m(\u001b[0m\u001b[0;34m)\u001b[0m\u001b[0;34m\u001b[0m\u001b[0;34m\u001b[0m\u001b[0m\n",
      "\u001b[0;32m~/.local/lib/python3.6/site-packages/pandas/io/parsers.py\u001b[0m in \u001b[0;36mparser_f\u001b[0;34m(filepath_or_buffer, sep, delimiter, header, names, index_col, usecols, squeeze, prefix, mangle_dupe_cols, dtype, engine, converters, true_values, false_values, skipinitialspace, skiprows, skipfooter, nrows, na_values, keep_default_na, na_filter, verbose, skip_blank_lines, parse_dates, infer_datetime_format, keep_date_col, date_parser, dayfirst, cache_dates, iterator, chunksize, compression, thousands, decimal, lineterminator, quotechar, quoting, doublequote, escapechar, comment, encoding, dialect, error_bad_lines, warn_bad_lines, delim_whitespace, low_memory, memory_map, float_precision)\u001b[0m\n\u001b[1;32m    674\u001b[0m         )\n\u001b[1;32m    675\u001b[0m \u001b[0;34m\u001b[0m\u001b[0m\n\u001b[0;32m--> 676\u001b[0;31m         \u001b[0;32mreturn\u001b[0m \u001b[0m_read\u001b[0m\u001b[0;34m(\u001b[0m\u001b[0mfilepath_or_buffer\u001b[0m\u001b[0;34m,\u001b[0m \u001b[0mkwds\u001b[0m\u001b[0;34m)\u001b[0m\u001b[0;34m\u001b[0m\u001b[0;34m\u001b[0m\u001b[0m\n\u001b[0m\u001b[1;32m    677\u001b[0m \u001b[0;34m\u001b[0m\u001b[0m\n\u001b[1;32m    678\u001b[0m     \u001b[0mparser_f\u001b[0m\u001b[0;34m.\u001b[0m\u001b[0m__name__\u001b[0m \u001b[0;34m=\u001b[0m \u001b[0mname\u001b[0m\u001b[0;34m\u001b[0m\u001b[0;34m\u001b[0m\u001b[0m\n",
      "\u001b[0;32m~/.local/lib/python3.6/site-packages/pandas/io/parsers.py\u001b[0m in \u001b[0;36m_read\u001b[0;34m(filepath_or_buffer, kwds)\u001b[0m\n\u001b[1;32m    429\u001b[0m     \u001b[0;31m# See https://github.com/python/mypy/issues/1297\u001b[0m\u001b[0;34m\u001b[0m\u001b[0;34m\u001b[0m\u001b[0;34m\u001b[0m\u001b[0m\n\u001b[1;32m    430\u001b[0m     fp_or_buf, _, compression, should_close = get_filepath_or_buffer(\n\u001b[0;32m--> 431\u001b[0;31m         \u001b[0mfilepath_or_buffer\u001b[0m\u001b[0;34m,\u001b[0m \u001b[0mencoding\u001b[0m\u001b[0;34m,\u001b[0m \u001b[0mcompression\u001b[0m\u001b[0;34m\u001b[0m\u001b[0;34m\u001b[0m\u001b[0m\n\u001b[0m\u001b[1;32m    432\u001b[0m     )\n\u001b[1;32m    433\u001b[0m     \u001b[0mkwds\u001b[0m\u001b[0;34m[\u001b[0m\u001b[0;34m\"compression\"\u001b[0m\u001b[0;34m]\u001b[0m \u001b[0;34m=\u001b[0m \u001b[0mcompression\u001b[0m\u001b[0;34m\u001b[0m\u001b[0;34m\u001b[0m\u001b[0m\n",
      "\u001b[0;32m~/.local/lib/python3.6/site-packages/pandas/io/common.py\u001b[0m in \u001b[0;36mget_filepath_or_buffer\u001b[0;34m(filepath_or_buffer, encoding, compression, mode)\u001b[0m\n\u001b[1;32m    170\u001b[0m \u001b[0;34m\u001b[0m\u001b[0m\n\u001b[1;32m    171\u001b[0m     \u001b[0;32mif\u001b[0m \u001b[0misinstance\u001b[0m\u001b[0;34m(\u001b[0m\u001b[0mfilepath_or_buffer\u001b[0m\u001b[0;34m,\u001b[0m \u001b[0mstr\u001b[0m\u001b[0;34m)\u001b[0m \u001b[0;32mand\u001b[0m \u001b[0mis_url\u001b[0m\u001b[0;34m(\u001b[0m\u001b[0mfilepath_or_buffer\u001b[0m\u001b[0;34m)\u001b[0m\u001b[0;34m:\u001b[0m\u001b[0;34m\u001b[0m\u001b[0;34m\u001b[0m\u001b[0m\n\u001b[0;32m--> 172\u001b[0;31m         \u001b[0mreq\u001b[0m \u001b[0;34m=\u001b[0m \u001b[0murlopen\u001b[0m\u001b[0;34m(\u001b[0m\u001b[0mfilepath_or_buffer\u001b[0m\u001b[0;34m)\u001b[0m\u001b[0;34m\u001b[0m\u001b[0;34m\u001b[0m\u001b[0m\n\u001b[0m\u001b[1;32m    173\u001b[0m         \u001b[0mcontent_encoding\u001b[0m \u001b[0;34m=\u001b[0m \u001b[0mreq\u001b[0m\u001b[0;34m.\u001b[0m\u001b[0mheaders\u001b[0m\u001b[0;34m.\u001b[0m\u001b[0mget\u001b[0m\u001b[0;34m(\u001b[0m\u001b[0;34m\"Content-Encoding\"\u001b[0m\u001b[0;34m,\u001b[0m \u001b[0;32mNone\u001b[0m\u001b[0;34m)\u001b[0m\u001b[0;34m\u001b[0m\u001b[0;34m\u001b[0m\u001b[0m\n\u001b[1;32m    174\u001b[0m         \u001b[0;32mif\u001b[0m \u001b[0mcontent_encoding\u001b[0m \u001b[0;34m==\u001b[0m \u001b[0;34m\"gzip\"\u001b[0m\u001b[0;34m:\u001b[0m\u001b[0;34m\u001b[0m\u001b[0;34m\u001b[0m\u001b[0m\n",
      "\u001b[0;32m~/.local/lib/python3.6/site-packages/pandas/io/common.py\u001b[0m in \u001b[0;36murlopen\u001b[0;34m(*args, **kwargs)\u001b[0m\n\u001b[1;32m    139\u001b[0m     \u001b[0;32mimport\u001b[0m \u001b[0murllib\u001b[0m\u001b[0;34m.\u001b[0m\u001b[0mrequest\u001b[0m\u001b[0;34m\u001b[0m\u001b[0;34m\u001b[0m\u001b[0m\n\u001b[1;32m    140\u001b[0m \u001b[0;34m\u001b[0m\u001b[0m\n\u001b[0;32m--> 141\u001b[0;31m     \u001b[0;32mreturn\u001b[0m \u001b[0murllib\u001b[0m\u001b[0;34m.\u001b[0m\u001b[0mrequest\u001b[0m\u001b[0;34m.\u001b[0m\u001b[0murlopen\u001b[0m\u001b[0;34m(\u001b[0m\u001b[0;34m*\u001b[0m\u001b[0margs\u001b[0m\u001b[0;34m,\u001b[0m \u001b[0;34m**\u001b[0m\u001b[0mkwargs\u001b[0m\u001b[0;34m)\u001b[0m\u001b[0;34m\u001b[0m\u001b[0;34m\u001b[0m\u001b[0m\n\u001b[0m\u001b[1;32m    142\u001b[0m \u001b[0;34m\u001b[0m\u001b[0m\n\u001b[1;32m    143\u001b[0m \u001b[0;34m\u001b[0m\u001b[0m\n",
      "\u001b[0;32m~/miniconda3/envs/deepai-book/lib/python3.6/urllib/request.py\u001b[0m in \u001b[0;36murlopen\u001b[0;34m(url, data, timeout, cafile, capath, cadefault, context)\u001b[0m\n\u001b[1;32m    221\u001b[0m     \u001b[0;32melse\u001b[0m\u001b[0;34m:\u001b[0m\u001b[0;34m\u001b[0m\u001b[0;34m\u001b[0m\u001b[0m\n\u001b[1;32m    222\u001b[0m         \u001b[0mopener\u001b[0m \u001b[0;34m=\u001b[0m \u001b[0m_opener\u001b[0m\u001b[0;34m\u001b[0m\u001b[0;34m\u001b[0m\u001b[0m\n\u001b[0;32m--> 223\u001b[0;31m     \u001b[0;32mreturn\u001b[0m \u001b[0mopener\u001b[0m\u001b[0;34m.\u001b[0m\u001b[0mopen\u001b[0m\u001b[0;34m(\u001b[0m\u001b[0murl\u001b[0m\u001b[0;34m,\u001b[0m \u001b[0mdata\u001b[0m\u001b[0;34m,\u001b[0m \u001b[0mtimeout\u001b[0m\u001b[0;34m)\u001b[0m\u001b[0;34m\u001b[0m\u001b[0;34m\u001b[0m\u001b[0m\n\u001b[0m\u001b[1;32m    224\u001b[0m \u001b[0;34m\u001b[0m\u001b[0m\n\u001b[1;32m    225\u001b[0m \u001b[0;32mdef\u001b[0m \u001b[0minstall_opener\u001b[0m\u001b[0;34m(\u001b[0m\u001b[0mopener\u001b[0m\u001b[0;34m)\u001b[0m\u001b[0;34m:\u001b[0m\u001b[0;34m\u001b[0m\u001b[0;34m\u001b[0m\u001b[0m\n",
      "\u001b[0;32m~/miniconda3/envs/deepai-book/lib/python3.6/urllib/request.py\u001b[0m in \u001b[0;36mopen\u001b[0;34m(self, fullurl, data, timeout)\u001b[0m\n\u001b[1;32m    524\u001b[0m             \u001b[0mreq\u001b[0m \u001b[0;34m=\u001b[0m \u001b[0mmeth\u001b[0m\u001b[0;34m(\u001b[0m\u001b[0mreq\u001b[0m\u001b[0;34m)\u001b[0m\u001b[0;34m\u001b[0m\u001b[0;34m\u001b[0m\u001b[0m\n\u001b[1;32m    525\u001b[0m \u001b[0;34m\u001b[0m\u001b[0m\n\u001b[0;32m--> 526\u001b[0;31m         \u001b[0mresponse\u001b[0m \u001b[0;34m=\u001b[0m \u001b[0mself\u001b[0m\u001b[0;34m.\u001b[0m\u001b[0m_open\u001b[0m\u001b[0;34m(\u001b[0m\u001b[0mreq\u001b[0m\u001b[0;34m,\u001b[0m \u001b[0mdata\u001b[0m\u001b[0;34m)\u001b[0m\u001b[0;34m\u001b[0m\u001b[0;34m\u001b[0m\u001b[0m\n\u001b[0m\u001b[1;32m    527\u001b[0m \u001b[0;34m\u001b[0m\u001b[0m\n\u001b[1;32m    528\u001b[0m         \u001b[0;31m# post-process response\u001b[0m\u001b[0;34m\u001b[0m\u001b[0;34m\u001b[0m\u001b[0;34m\u001b[0m\u001b[0m\n",
      "\u001b[0;32m~/miniconda3/envs/deepai-book/lib/python3.6/urllib/request.py\u001b[0m in \u001b[0;36m_open\u001b[0;34m(self, req, data)\u001b[0m\n\u001b[1;32m    542\u001b[0m         \u001b[0mprotocol\u001b[0m \u001b[0;34m=\u001b[0m \u001b[0mreq\u001b[0m\u001b[0;34m.\u001b[0m\u001b[0mtype\u001b[0m\u001b[0;34m\u001b[0m\u001b[0;34m\u001b[0m\u001b[0m\n\u001b[1;32m    543\u001b[0m         result = self._call_chain(self.handle_open, protocol, protocol +\n\u001b[0;32m--> 544\u001b[0;31m                                   '_open', req)\n\u001b[0m\u001b[1;32m    545\u001b[0m         \u001b[0;32mif\u001b[0m \u001b[0mresult\u001b[0m\u001b[0;34m:\u001b[0m\u001b[0;34m\u001b[0m\u001b[0;34m\u001b[0m\u001b[0m\n\u001b[1;32m    546\u001b[0m             \u001b[0;32mreturn\u001b[0m \u001b[0mresult\u001b[0m\u001b[0;34m\u001b[0m\u001b[0;34m\u001b[0m\u001b[0m\n",
      "\u001b[0;32m~/miniconda3/envs/deepai-book/lib/python3.6/urllib/request.py\u001b[0m in \u001b[0;36m_call_chain\u001b[0;34m(self, chain, kind, meth_name, *args)\u001b[0m\n\u001b[1;32m    502\u001b[0m         \u001b[0;32mfor\u001b[0m \u001b[0mhandler\u001b[0m \u001b[0;32min\u001b[0m \u001b[0mhandlers\u001b[0m\u001b[0;34m:\u001b[0m\u001b[0;34m\u001b[0m\u001b[0;34m\u001b[0m\u001b[0m\n\u001b[1;32m    503\u001b[0m             \u001b[0mfunc\u001b[0m \u001b[0;34m=\u001b[0m \u001b[0mgetattr\u001b[0m\u001b[0;34m(\u001b[0m\u001b[0mhandler\u001b[0m\u001b[0;34m,\u001b[0m \u001b[0mmeth_name\u001b[0m\u001b[0;34m)\u001b[0m\u001b[0;34m\u001b[0m\u001b[0;34m\u001b[0m\u001b[0m\n\u001b[0;32m--> 504\u001b[0;31m             \u001b[0mresult\u001b[0m \u001b[0;34m=\u001b[0m \u001b[0mfunc\u001b[0m\u001b[0;34m(\u001b[0m\u001b[0;34m*\u001b[0m\u001b[0margs\u001b[0m\u001b[0;34m)\u001b[0m\u001b[0;34m\u001b[0m\u001b[0;34m\u001b[0m\u001b[0m\n\u001b[0m\u001b[1;32m    505\u001b[0m             \u001b[0;32mif\u001b[0m \u001b[0mresult\u001b[0m \u001b[0;32mis\u001b[0m \u001b[0;32mnot\u001b[0m \u001b[0;32mNone\u001b[0m\u001b[0;34m:\u001b[0m\u001b[0;34m\u001b[0m\u001b[0;34m\u001b[0m\u001b[0m\n\u001b[1;32m    506\u001b[0m                 \u001b[0;32mreturn\u001b[0m \u001b[0mresult\u001b[0m\u001b[0;34m\u001b[0m\u001b[0;34m\u001b[0m\u001b[0m\n",
      "\u001b[0;32m~/miniconda3/envs/deepai-book/lib/python3.6/urllib/request.py\u001b[0m in \u001b[0;36mhttps_open\u001b[0;34m(self, req)\u001b[0m\n\u001b[1;32m   1390\u001b[0m         \u001b[0;32mdef\u001b[0m \u001b[0mhttps_open\u001b[0m\u001b[0;34m(\u001b[0m\u001b[0mself\u001b[0m\u001b[0;34m,\u001b[0m \u001b[0mreq\u001b[0m\u001b[0;34m)\u001b[0m\u001b[0;34m:\u001b[0m\u001b[0;34m\u001b[0m\u001b[0;34m\u001b[0m\u001b[0m\n\u001b[1;32m   1391\u001b[0m             return self.do_open(http.client.HTTPSConnection, req,\n\u001b[0;32m-> 1392\u001b[0;31m                 context=self._context, check_hostname=self._check_hostname)\n\u001b[0m\u001b[1;32m   1393\u001b[0m \u001b[0;34m\u001b[0m\u001b[0m\n\u001b[1;32m   1394\u001b[0m         \u001b[0mhttps_request\u001b[0m \u001b[0;34m=\u001b[0m \u001b[0mAbstractHTTPHandler\u001b[0m\u001b[0;34m.\u001b[0m\u001b[0mdo_request_\u001b[0m\u001b[0;34m\u001b[0m\u001b[0;34m\u001b[0m\u001b[0m\n",
      "\u001b[0;32m~/miniconda3/envs/deepai-book/lib/python3.6/urllib/request.py\u001b[0m in \u001b[0;36mdo_open\u001b[0;34m(self, http_class, req, **http_conn_args)\u001b[0m\n\u001b[1;32m   1349\u001b[0m                           encode_chunked=req.has_header('Transfer-encoding'))\n\u001b[1;32m   1350\u001b[0m             \u001b[0;32mexcept\u001b[0m \u001b[0mOSError\u001b[0m \u001b[0;32mas\u001b[0m \u001b[0merr\u001b[0m\u001b[0;34m:\u001b[0m \u001b[0;31m# timeout error\u001b[0m\u001b[0;34m\u001b[0m\u001b[0;34m\u001b[0m\u001b[0m\n\u001b[0;32m-> 1351\u001b[0;31m                 \u001b[0;32mraise\u001b[0m \u001b[0mURLError\u001b[0m\u001b[0;34m(\u001b[0m\u001b[0merr\u001b[0m\u001b[0;34m)\u001b[0m\u001b[0;34m\u001b[0m\u001b[0;34m\u001b[0m\u001b[0m\n\u001b[0m\u001b[1;32m   1352\u001b[0m             \u001b[0mr\u001b[0m \u001b[0;34m=\u001b[0m \u001b[0mh\u001b[0m\u001b[0;34m.\u001b[0m\u001b[0mgetresponse\u001b[0m\u001b[0;34m(\u001b[0m\u001b[0;34m)\u001b[0m\u001b[0;34m\u001b[0m\u001b[0;34m\u001b[0m\u001b[0m\n\u001b[1;32m   1353\u001b[0m         \u001b[0;32mexcept\u001b[0m\u001b[0;34m:\u001b[0m\u001b[0;34m\u001b[0m\u001b[0;34m\u001b[0m\u001b[0m\n",
      "\u001b[0;31mURLError\u001b[0m: <urlopen error [Errno -2] Name or service not known>"
     ]
    }
   ],
   "source": [
    "import pandas as pd\n",
    "\n",
    "df_iris = pd.read_csv(\"https://raw.githubusercontent.com/phamdinhkhanh/datasets/master/iris_train.csv\", header=0, index_col=None)\n",
    "df_iris.head()"
   ]
  },
  {
   "cell_type": "markdown",
   "id": "choice-triple",
   "metadata": {
    "id": "HQmQ-6DoxJL4"
   },
   "source": [
    "Thống kê mô tả các trường của bộ dữ liệu"
   ]
  },
  {
   "cell_type": "code",
   "execution_count": null,
   "id": "understood-pacific",
   "metadata": {
    "colab": {
     "base_uri": "https://localhost:8080/",
     "height": 297
    },
    "id": "GkmFTumiZTGo",
    "outputId": "7f59b407-e498-4f93-9b99-3c41600eb188"
   },
   "outputs": [],
   "source": [
    "df_iris.describe()"
   ]
  },
  {
   "cell_type": "markdown",
   "id": "fatty-leather",
   "metadata": {
    "id": "VN5bIzOxHwsG"
   },
   "source": [
    "Tiếp theo chúng ta sẽ xem độ dài cánh hoa trung bình ở mỗi loài là bao nhiêu:"
   ]
  },
  {
   "cell_type": "code",
   "execution_count": null,
   "id": "diverse-limit",
   "metadata": {
    "colab": {
     "base_uri": "https://localhost:8080/"
    },
    "id": "vN2EGLA21ssx",
    "outputId": "70d426d2-e7a3-403b-da42-969b788bd134"
   },
   "outputs": [],
   "source": [
    "import numpy as np\n",
    "\n",
    "df_summary = df_iris[['Species', 'Petal.Length']].groupby('Species').mean()\n",
    "x, y = list(df_summary.index), df_summary['Petal.Length'].values\n",
    "print(x)\n",
    "print(y)"
   ]
  },
  {
   "cell_type": "markdown",
   "id": "thrown-segment",
   "metadata": {
    "id": "CmM9-9ie2a5w"
   },
   "source": [
    "Vẽ một biểu đồ barchart đơn giản trên matplotlib và cùng phân tích cách thức dựng biểu đồ sẽ như thế nào?"
   ]
  },
  {
   "cell_type": "code",
   "execution_count": null,
   "id": "transsexual-latitude",
   "metadata": {
    "colab": {
     "base_uri": "https://localhost:8080/",
     "height": 539
    },
    "id": "rOM8gqUv2xcn",
    "outputId": "8a364f4b-d3e8-429d-b99f-3b5be90611d6"
   },
   "outputs": [],
   "source": [
    "import matplotlib.pyplot as plt\n",
    "\n",
    "plt.figure(figsize=(16, 8))\n",
    "plt.bar(x, y)\n",
    "plt.xlabel('Species', fontsize=16)\n",
    "plt.ylabel('cm', fontsize=16)\n",
    "plt.title(\"Average of Petal Length\", fontsize=18)"
   ]
  },
  {
   "cell_type": "markdown",
   "id": "afraid-abuse",
   "metadata": {
    "id": "OuPlyS1b3tGB"
   },
   "source": [
    "Các bạn sẽ hình dung các bước để vẽ biểu đồ trên matplotlib như sau:\n",
    "\n",
    "**Step 1**: Thống kê dữ liệu và lựa chọn biểu đồ. Ở bước này chúng ta cần phải xác định được mục tiêu của phân tích là gì? Sau đó xác định loại biểu đồ phù hợp để làm nổi bật thông tin. Dạng biểu đồ nào sẽ được sử dụng cho những mục đích cụ thể nào sẽ được trình bày ở chương tiếp theo.\n",
    "\n",
    "**Step 2**: Tiến hành visualization. Bước này đơn thuần là vận dụng matplotlib để vẽ biểu đồ. Hãy nhìn vào những câu lệnh ở ví dụ visualization trên. Nếu tinh tế bạn sẽ thấy chúng ta trải qua các bước:\n",
    "\n",
    "- Khởi tạo figure cho đồ thị: Muốn dựng một đồ thị thì trước tiên ta phải dựng khung cho nó thông qua hàm `plt.figure()`. Bên trong hàm này chúng ta khai báo kích thước `(w, h)` của đồ thị thông qua `figuresize=(w, h)`.\n",
    "\n",
    "- Vẽ biểu đồ: Sau khi đã có khung hình rồi, chúng ta sẽ tiến hành vẽ đồ thị. Tuỳ vào tính chất của dữ liệu mà chúng ta sẽ quyết định lựa chọn loại đồ thị phù hợp như đồ thị `barchart, line, scatter, pie, area, boxplot`. Bên trong hàm vẽ đồ thị chúng ta sẽ khai báo trục x và y và điều chỉnh các định dạng font chữ, màu sắc, loại đường viền đồ thị cho hài hoà và đẹp mắt.\n",
    "\n",
    "- Khai báo tiêu đề: Chúng ta có thể tạo tiêu đề cho các trục x, y và tiêu đề của đồ thị.\n",
    "\n",
    "**Step 3**: Sau khi dựng đồ thị xong thì bạn nên nêu ra những nhận xét, đánh giá được kết luận từ đồ thị. Đó là những thông tin hữu ích cho mô hình và việc ra quyết định.\n",
    "\n",
    "Tiếp theo chúng ta sẽ tìm hiểu các biểu đồ cơ bản trên matplotlib, những cách customize sâu biểu đồ trên matplotlib và làm thế nào để tạo ra một biểu đồ đẹp."
   ]
  },
  {
   "cell_type": "markdown",
   "id": "english-princeton",
   "metadata": {
    "id": "lS-5PcPn5Uem"
   },
   "source": [
    "# 4.2. Các biểu đồ cơ bản trên matplotlib"
   ]
  },
  {
   "cell_type": "markdown",
   "id": "generic-toner",
   "metadata": {
    "id": "MZ9XxoeB599B"
   },
   "source": [
    "## 4.2.1. Line\n",
    "\n",
    "Biểu đồ line là biểu đồ mà các điểm được nối với nhau bằng những đoạn thẳng. Biểu đồ line thường phù hợp với mục đích thể hiện trend tăng/giảm ở chuỗi thời gian và dữ liệu so sánh giữa các nhóm trong biến _category_.\n",
    "\n",
    "Để vẽ biểu đồ line chúng ta dùng hàm `plt.plot()`. Bên trong cần khai báo trục $x$ và $y$ hoặc chỉ trục $y$ (giá trị index của $x$ khi đó sẽ tự được sinh ra)."
   ]
  },
  {
   "cell_type": "code",
   "execution_count": null,
   "id": "antique-sunday",
   "metadata": {
    "colab": {
     "base_uri": "https://localhost:8080/",
     "height": 539
    },
    "id": "XzX-yea-etPm",
    "outputId": "47b237e1-1272-4816-b58f-07856daeba2e"
   },
   "outputs": [],
   "source": [
    "# Vẽ biểu đồ line độ dài cánh hoa trung bình giữa các loài hoa\n",
    "plt.figure(figsize=(16, 8))\n",
    "plt.plot(x, y, marker='o', markersize=10, linestyle='-.', linewidth=2)\n",
    "plt.xlabel('Species', fontsize=16)\n",
    "plt.ylabel('cm', fontsize=16)\n",
    "plt.title(\"Average of Petal Length\", fontsize=18)"
   ]
  },
  {
   "cell_type": "markdown",
   "id": "noble-packet",
   "metadata": {
    "id": "KTyluKtEfQp5"
   },
   "source": [
    "Các đối số `marker` và `linestyles` lần lượt qui định:\n",
    "\n",
    "* marker: Qui định hình dạng của point đánh dấu các điểm $(x, y)$ trên toạ độ. Marker nhận các kiểu `o, ^, s` lần lượt tương ứng với hình tròn, hình tam giác, hình vuông (s là viết tắt của square).\n",
    "\n",
    "* markersize: Kích thước của point.\n",
    "\n",
    "* linestyles: Qui định kiểu của đoạn thẳng nối các points. Có thể nhận các giá trị `--, -., -, :`\n",
    "\n",
    "* linewidth: Kích thước của đoạn thẳng."
   ]
  },
  {
   "cell_type": "markdown",
   "id": "tracked-renewal",
   "metadata": {
    "id": "Mz6NmXok6BxK"
   },
   "source": [
    "## 4.2.2. Barchart\n",
    "\n",
    "Biểu đồ barchart phù hợp với mục đích so sánh gía trị giữa các nhóm khác nhau. Chẳng hạn như so sánh độ dài cánh hoa trung bình giữa các nhóm.\n",
    "\n",
    "Để vẽ biểu đồ barchart chúng ta sử dụng hàm `plt.bar()` như biểu đồ đầu tiên. Chúng ta cũng có thể kết hợp nhiều loại biểu đồ trong cùng một biểu đồ bằng cách dùng liên tiếp các câu lệnh vẽ biểu đồ như sau:"
   ]
  },
  {
   "cell_type": "code",
   "execution_count": null,
   "id": "three-ghost",
   "metadata": {
    "colab": {
     "base_uri": "https://localhost:8080/",
     "height": 539
    },
    "id": "dkeTES3wht-a",
    "outputId": "0c72d6e9-6c69-4104-bb09-9018455731b4"
   },
   "outputs": [],
   "source": [
    "# Vẽ biểu đồ line độ dài cánh hoa trung bình giữa các loài hoa\n",
    "plt.figure(figsize=(16, 8))\n",
    "plt.bar(x, y)\n",
    "plt.plot(x, y, marker='o', markersize=10, linestyle='-.', linewidth=2)\n",
    "plt.xlabel('Species', fontsize=16)\n",
    "plt.ylabel('cm', fontsize=16)\n",
    "plt.title(\"Average of Petal Length\", fontsize=18)"
   ]
  },
  {
   "cell_type": "markdown",
   "id": "funny-deadline",
   "metadata": {
    "id": "TFzITh0e6JIT"
   },
   "source": [
    "## 4.2.3. Pie\n",
    "\n",
    "Khi chúng ta muốn thể hiện thị phần của từng phân khúc hoặc tỷ lệ phần trăm của từng nhóm thì biểu đồ tròn sẽ rất phù hợp.\n",
    "\n",
    "Bên dưới ta sẽ visualize đếm số lượng các loài hoa."
   ]
  },
  {
   "cell_type": "code",
   "execution_count": null,
   "id": "indie-homework",
   "metadata": {
    "colab": {
     "base_uri": "https://localhost:8080/"
    },
    "id": "e4FOM5dMjnlM",
    "outputId": "3729a64b-2e80-456d-f102-3ec788bb6f99"
   },
   "outputs": [],
   "source": [
    "# Thống kê các loài hoa\n",
    "x, y = np.unique(df_iris['Species'], return_counts = True)\n",
    "print(x)\n",
    "print(y)"
   ]
  },
  {
   "cell_type": "code",
   "execution_count": null,
   "id": "failing-pastor",
   "metadata": {
    "colab": {
     "base_uri": "https://localhost:8080/",
     "height": 503
    },
    "id": "6rRC4yMpjY2D",
    "outputId": "45286306-07de-40e4-dd8c-a9ecaf4aa53b"
   },
   "outputs": [],
   "source": [
    "# Vẽ biểu đồ line độ dài cánh hoa trung bình giữa các loài hoa\n",
    "plt.figure(figsize=(16, 8))\n",
    "plt.pie(y,\n",
    "        labels = x, # Nhãn của các nhóm\n",
    "        colors = ['red', 'blue', 'green'], # Màu sắc của các nhóm\n",
    "        autopct = '%1.1f%%', # Format hiển thị giá trị %\n",
    "        shadow = False)\n",
    "plt.title(\"Average of Petal Length\", fontsize=18)"
   ]
  },
  {
   "cell_type": "markdown",
   "id": "stuck-henry",
   "metadata": {
    "id": "ooLuul0QjaBg"
   },
   "source": [
    "**Câu hỏi:** Biểu đồ pie có thể được vẽ kết hợp cùng với biểu đồ line hoặc barchart được không?"
   ]
  },
  {
   "cell_type": "markdown",
   "id": "dutch-parade",
   "metadata": {
    "id": "dIKH-AsY6YVz"
   },
   "source": [
    "## 4.2.4. Scatter\n",
    "\n",
    "Biểu đồ scatter được sử dụng để biểu diễn từng điểm $(x, y)$ trong đồ thị hai chiều. Trong machine learning, khi cần biểu diễn các cụm hoặc trong các tình huống muốn tìm ra phân phối của các điểm dữ liệu theo các chiều chúng ta sẽ thường dùng biểu đồ scatter.\n",
    "\n",
    "Tiếp theo chúng ta sẽ cùng tìm ra phân phối của các điểm dữ liệu"
   ]
  },
  {
   "cell_type": "code",
   "execution_count": null,
   "id": "configured-google",
   "metadata": {
    "colab": {
     "base_uri": "https://localhost:8080/",
     "height": 539
    },
    "id": "68nTTBPPlL_6",
    "outputId": "8d6d0963-7397-4fcf-c5d8-34990123c247"
   },
   "outputs": [],
   "source": [
    "# lấy x, y\n",
    "x = df_iris['Petal.Length'].values\n",
    "y = df_iris['Petal.Width'].values\n",
    "# Vẽ biểu đồ line độ dài cánh hoa trung bình giữa các loài hoa\n",
    "plt.figure(figsize=(16, 8))\n",
    "plt.scatter(x, y, color='green', )\n",
    "plt.xlabel('Petal.Length', fontsize=16)\n",
    "plt.ylabel('Petal.Width', fontsize=16)\n",
    "plt.title(\"Average of Petal Length\", fontsize=18)"
   ]
  },
  {
   "cell_type": "markdown",
   "id": "radio-reputation",
   "metadata": {
    "id": "LXmGmU6vmXfN"
   },
   "source": [
    "Như vậy chúng ta có thể thấy kích thước của cánh hoa có thể được phân thành hai cụm một cách khá rõ ràng.\n",
    "\n",
    "**Bài tập:** Hãy vẽ biểu đồ scatter biểu diễn toạ độ của các điểm $(x, y)$ nhận giá trị của `(Petal.Length, Petal.Width)` có màu sắc phân biệt giữa các loài hoa."
   ]
  },
  {
   "cell_type": "markdown",
   "id": "british-distribution",
   "metadata": {
    "id": "j6HpM2-ynjTa"
   },
   "source": [
    "# 4.3. Các biểu đồ nâng cao trên matplotlib\n",
    "\n",
    "Những biểu đồ nâng cao trên matplotlib là những biểu đồ thường ít được sử dụng hơn. Nó đòi hỏi người đọc phải am hiểu về thống kê và có thể phải tìm hiểu trước về nội dung được thể hiện trong những biểu đồ này để có thể đọc được. Việc đưa ra kết luận về dữ liệu từ biểu đồ này cũng khó hơn so với các biểu đồ cơ bản vì nó có độ phức tạp cao hơn. Nhưng qua chương này mình sẽ hướng dẫn các bạn đọc hiểu các biểu đồ như thế."
   ]
  },
  {
   "cell_type": "markdown",
   "id": "external-helmet",
   "metadata": {
    "id": "lqH0qYvu6dHD"
   },
   "source": [
    "## 4.3.1. Boxplot\n",
    "\n",
    "Biểu đồ box-plot giúp xác định outliers và tìm ra kiểu phân phối của dữ liệu. Cụ thể biểu đồ này xác định các ngưỡng chia tại các mức phân vị 25% (là giá trị mà có 25% quan sát nhỏ hơn giá trị này), median (hoặc mức phân vị 50%), mức phân vị 75% được ký hiệu lần lượt là $Q_1,Q_2,Q_3$. Các miền giá trị được xác định từ các ngưỡng trên sẽ tương ứng với:\n",
    "\n",
    "- Miền giá trị thấp nhất: Chứa các quan sát từ thấp nhất (không bao gồm outliers) tới Q1.\n",
    "\n",
    "- Miền gía trị thấp: Chứa các quan sát nằm trong khoảng từ $[Q_1,Q_2)$.\n",
    "\n",
    "- Miền giá trị cao: Chứa các quan sát trong khoảng $[Q_2,Q_3)$.\n",
    "\n",
    "- Miền giá trị cao nhất: Chứa các quan sát từ $Q_3$ tới giá trị cao nhất (không bao gồm outliers).\n",
    "\n",
    "Chỉ số $IQR$ (_interquartile range_) được xác định chính bằng độ dài của hai miền giá trị cao và thấp.\n",
    "\n",
    "$$IQR=Q_3−Q_1$$\n",
    "\n",
    "Dựa trên $IQR$, outliers sẽ được xác định nếu nằm ngoài miền giá trị cao nhất và miền giá trị thấp nhất. Tức là nếu $x>Q_3+1.5∗IQR$ hoặc $x<Q1−1.5∗IQR$ thì sẽ được xác định là outliers."
   ]
  },
  {
   "cell_type": "code",
   "execution_count": null,
   "id": "loved-puppy",
   "metadata": {
    "colab": {
     "base_uri": "https://localhost:8080/",
     "height": 631
    },
    "id": "vnRFWR-Dusfw",
    "outputId": "04b9d811-fa48-41fb-e3af-0fb22b303957"
   },
   "outputs": [],
   "source": [
    "# Lấy ra list các chiều dimension cần khảo sát\n",
    "dims = list(df_iris.select_dtypes('float').columns)\n",
    "print(dims)\n",
    "\n",
    "# Vẽ biểu đồ bboxplot\n",
    "plt.figure(figsize=(16, 8))\n",
    "plt.boxplot([df_iris[col] for col in dims])\n",
    "plt.xlabel('Scale', fontsize=16)\n",
    "plt.ylabel('cm', fontsize=16)\n",
    "plt.xticks(np.arange(len(dims))+1, dims, rotation=45, fontsize=16)\n",
    "plt.title(\"Boxplot of Dimensions\", fontsize=18)"
   ]
  },
  {
   "cell_type": "markdown",
   "id": "inappropriate-situation",
   "metadata": {
    "id": "_i4NJggmxzCY"
   },
   "source": [
    "Nhìn vào biểu đồ ta có thể thấy `Sepal.Width` có một giá trị outlier nằm ở vị trí lớn nhất. Các phân phối `Petal.Width, Petal.Length` có xu hướng lệch phải khi median nằm gần ngưỡng $Q_3$ (ứng với quantile 75%) hơn. `Sepal.Length` có phân phối tương đối cân đối về hai phía trong khi `Sepal.Width` có phân phối lệch trái. Biểu đồ cũng cho thấy độ lớn giữa các biến khi so sánh median đó là `Sepal.Length > Petal.Length > Sepal.Width > Petal.Width`."
   ]
  },
  {
   "cell_type": "markdown",
   "id": "changed-nerve",
   "metadata": {
    "id": "I0OtfUF2yxTd"
   },
   "source": [
    "## 4.3.2. Swarm\n",
    "\n",
    "`swarm` hoặc đôi khi được gọi là `beeswarm` là một dạng biểu đồ cho phép ta biểu diễn phân phối của các điểm rất tốt. Các điểm trong biểu đồ swarm được giữ đúng như giá trị thật của nó chứ không bị biến đổi như histogram hay density nên chúng ta có thể theo dõi được chính xác phân phối thực tế của dữ liệu và nhận biết outlier hiệu quả.\n",
    "\n",
    "Để vẽ biểu đồ swarm thì chúng ta sẽ dùng package `seaborn`. Đây là package mở rộng của matplotlib nhằm cung cấp các biểu đồ mà trong matplotlib chưa hỗ trợ. Khi visualize các biểu đồ liên quan tới phân phối như `swarm, histogram, density` thì đây là một package rất hiệu quả.\n",
    "\n",
    "Cấu trúc chung của biểu đồ `swarm` như sau:\n",
    "\n",
    "```\n",
    "sns.swarmplot(\n",
    "    x=None, \n",
    "    y=None, \n",
    "    hue=None, \n",
    "    data=None\n",
    ")\n",
    "```\n",
    "\n",
    "Trong đó data là bảng dữ liệu dạng pandas Dataframe chứa thông tin để vẽ biểu đồ. `x` là trục hoành, `y` là trục tung. Thông thường `x` sẽ là một biến chiều xoay (_dimension_) và `y` là một biến đo lường (_measurement_). `hue` là biến về phân loại màu sắc.\n",
    "\n",
    "Tiếp theo chúng ta cùng visualize độ dài cánh hoa `Sepal.Length` cho các điểm thuộc về 3 loài hoa thông qua biểu đồ swarm"
   ]
  },
  {
   "cell_type": "code",
   "execution_count": null,
   "id": "effective-japan",
   "metadata": {
    "colab": {
     "base_uri": "https://localhost:8080/",
     "height": 539
    },
    "id": "yAWESGAJ_DPN",
    "outputId": "62c2d70c-b723-405b-8ff0-50ecd56570c0"
   },
   "outputs": [],
   "source": [
    "import seaborn as sns\n",
    "\n",
    "# Vẽ biểu đồ swarm\n",
    "plt.figure(figsize=(16, 8))\n",
    "sns.swarmplot(x='Species', y='Sepal.Width', data = df_iris)\n",
    "plt.xlabel('Scale', fontsize=16)\n",
    "plt.ylabel('cm', fontsize=16)\n",
    "plt.title(\"Swarm of Dimensions\", fontsize=18)"
   ]
  },
  {
   "cell_type": "markdown",
   "id": "hollywood-dictionary",
   "metadata": {
    "id": "OuoqRXo6DN6M"
   },
   "source": [
    "Hoặc chúng ta cũng có thể xoay ngang đồ thị bằng cách đảo ngược trục `x, y` cho nhau."
   ]
  },
  {
   "cell_type": "code",
   "execution_count": null,
   "id": "unnecessary-glucose",
   "metadata": {
    "colab": {
     "base_uri": "https://localhost:8080/",
     "height": 539
    },
    "id": "6ZWh_y_HDTdp",
    "outputId": "08b99479-741d-43b4-c82d-925d5625f228"
   },
   "outputs": [],
   "source": [
    "import seaborn as sns\n",
    "\n",
    "# Vẽ biểu đồ swarm\n",
    "plt.figure(figsize=(16, 8))\n",
    "sns.swarmplot(y='Species', x='Sepal.Width', data = df_iris)\n",
    "plt.xlabel('Scale', fontsize=16)\n",
    "plt.ylabel('cm', fontsize=16)\n",
    "plt.title(\"Swarm of Dimensions\", fontsize=18)"
   ]
  },
  {
   "cell_type": "markdown",
   "id": "fundamental-mainstream",
   "metadata": {
    "id": "VQYoPyYCE83n"
   },
   "source": [
    "Khi muốn thay đổi màu sắc theo từng loài hoa ta có thể thêm `hue=Species`."
   ]
  },
  {
   "cell_type": "code",
   "execution_count": null,
   "id": "qualified-blocking",
   "metadata": {
    "colab": {
     "base_uri": "https://localhost:8080/",
     "height": 539
    },
    "id": "jdOi8PdZE4Ir",
    "outputId": "89b60d36-05e5-4f68-9314-10c6f8ba2d72"
   },
   "outputs": [],
   "source": [
    "import seaborn as sns\n",
    "\n",
    "# Vẽ biểu đồ swarm\n",
    "plt.figure(figsize=(16, 8))\n",
    "sns.swarmplot(x='Species', y='Sepal.Width', hue='Species', data = df_iris)\n",
    "plt.xlabel('Scale', fontsize=16)\n",
    "plt.ylabel('cm', fontsize=16)\n",
    "plt.title(\"Swarm of Dimensions\", fontsize=18)"
   ]
  },
  {
   "cell_type": "markdown",
   "id": "present-commitment",
   "metadata": {
    "id": "gXIuEbrtDZyn"
   },
   "source": [
    "Nhìn vào biểu đồ swarm ta có thể thấy toàn bộ các điểm đều được thể hiện trên đồ thị. Chúng ta sẽ nhận biết được đâu là miền giá trị tập trung nhiều dữ liệu nhất, đâu là các vị trí outliers.\n",
    "\n",
    "Ngoài ra ta cũng có thể sử dụng một dạng biểu đồ khác giống như swarm nhưng đã được biến đổi thành distribution theo kernel distribution. Đó chính là biểu đồ violin."
   ]
  },
  {
   "cell_type": "code",
   "execution_count": null,
   "id": "faced-adjustment",
   "metadata": {
    "colab": {
     "base_uri": "https://localhost:8080/",
     "height": 539
    },
    "id": "p_JVho68EFYX",
    "outputId": "796e75f2-3f9f-4b23-c322-ee62195cfbc4"
   },
   "outputs": [],
   "source": [
    "import seaborn as sns\n",
    "\n",
    "# Vẽ biểu đồ swarm\n",
    "plt.figure(figsize=(16, 8))\n",
    "sns.violinplot(x='Species', y='Sepal.Width', hue='Species', data = df_iris)\n",
    "plt.xlabel('Scale', fontsize=16)\n",
    "plt.ylabel('cm', fontsize=16)\n",
    "plt.title(\"Swarnplot of Sepal.Width\", fontsize=18)"
   ]
  },
  {
   "cell_type": "markdown",
   "id": "graphic-student",
   "metadata": {
    "id": "T3rZkJhSF-X6"
   },
   "source": [
    "Trong biểu đồ violin thì chúng ta có quan sát được dạng của phân phối theo density plot và các ngưỡng quantile theo boxplot."
   ]
  },
  {
   "cell_type": "markdown",
   "id": "horizontal-alexandria",
   "metadata": {
    "id": "WNkt8LlByz3R"
   },
   "source": [
    "## 4.3.3. Histogram\n",
    "\n",
    "Histogram là biểu đồ biểu diễn phân phối của các biến liên tục bằng cách chia nhỏ chúng thành những bins có độ dài bằng nhau và thống kê số lượng các quan sát rơi vào từng bins."
   ]
  },
  {
   "cell_type": "code",
   "execution_count": null,
   "id": "crude-kenya",
   "metadata": {
    "colab": {
     "base_uri": "https://localhost:8080/",
     "height": 539
    },
    "id": "OuEmvo7VGg7h",
    "outputId": "90df9b6e-cd61-42e7-cbd5-bb31b528c9e1"
   },
   "outputs": [],
   "source": [
    "import seaborn as sns\n",
    "\n",
    "# Vẽ biểu đồ swarm\n",
    "plt.figure(figsize=(16, 8))\n",
    "sns.histplot(x='Sepal.Width', data = df_iris, bins=10)\n",
    "plt.xlabel('Scale', fontsize=16)\n",
    "plt.ylabel('cm', fontsize=16)\n",
    "plt.title(\"Histogram of Sepal.Width\", fontsize=18)"
   ]
  },
  {
   "cell_type": "markdown",
   "id": "competitive-mechanism",
   "metadata": {
    "id": "SeZXBfAPHPw7"
   },
   "source": [
    "Biểu đồ histogram sẽ không thể hiện rõ được xu hướng phân phối nếu ta chia các vùng của bin quá nhỏ. Vì vậy chúng ta có thể thêm một lựa chọn `kde=True` để vẽ thêm một đường density plot thể hiện mật độ phân phối liên tục hơn bên cạnh histogram."
   ]
  },
  {
   "cell_type": "code",
   "execution_count": null,
   "id": "breeding-surgeon",
   "metadata": {
    "colab": {
     "base_uri": "https://localhost:8080/",
     "height": 539
    },
    "id": "yTnajZWAG-Re",
    "outputId": "c75b3813-4faa-456e-8518-d52c1c7e7dda"
   },
   "outputs": [],
   "source": [
    "import seaborn as sns\n",
    "\n",
    "# Vẽ biểu đồ swarm\n",
    "plt.figure(figsize=(16, 8))\n",
    "sns.histplot(x='Sepal.Width', data = df_iris, bins=50, kde=True)\n",
    "plt.xlabel('Scale', fontsize=16)\n",
    "plt.ylabel('cm', fontsize=16)\n",
    "plt.title(\"Histogram of Sepal.Width\", fontsize=18)"
   ]
  },
  {
   "cell_type": "markdown",
   "id": "featured-model",
   "metadata": {
    "id": "vOdXslNwy3HN"
   },
   "source": [
    "## 4.3.4. Density\n",
    "\n",
    "Mỗi một trường dữ liệu đều có một đặc trưng riêng của nó. Để lượng hóa những đặc trưng này, thống kê học sử dụng các đại lượng thống kê mô tả như `mean, max, median, standard deviation, percentile`. Để tính thống kê mô tả cho một dataset dạng pandas dataframe đơn giản là ta sử dụng hàm describe()."
   ]
  },
  {
   "cell_type": "code",
   "execution_count": null,
   "id": "sufficient-contrast",
   "metadata": {
    "colab": {
     "base_uri": "https://localhost:8080/",
     "height": 297
    },
    "id": "XA1YxvqzJRnW",
    "outputId": "fceff762-0955-48a0-a4e1-e01a085ea6ea"
   },
   "outputs": [],
   "source": [
    "df_iris.describe()"
   ]
  },
  {
   "cell_type": "markdown",
   "id": "arctic-coral",
   "metadata": {
    "id": "hcJqj1zZJT1J"
   },
   "source": [
    "Tuy nhiên không phải lúc nào thống kê mô tả cũng là duy nhất đối với một trường dữ liệu. Một ví dụ tiêu biểu mà chúng ta có thể xem xét là phân phối `hình chú khủng long`.\n",
    "\n",
    "![](https://raw.githubusercontent.com/rweekly/image/master/2017-03/AllDinosGrey_1_scale.png)\n",
    "\n",
    "> Phân phối hình chú khủng long và các hình bên dưới có hình dạng hoàn toàn khác biệt nhau nhưng đều dựa trên 2 biến $(X, Y)$ có chung thống kê mô tả mean, phương sai và hệ số tương quan.\n",
    "\n",
    "Tất cả những phân phối trên đều có chung thống kê mô tả nhưng chúng khác xa nhau về bản chất của phân phối. Do đó không nên hoàn toàn tin tưởng vào thống kê mô tả mà bên cạnh đó chúng ta cần visualize phân phối của dữ liệu.\n",
    "\n",
    "Trong thống kê mỗi một biến liên tục được đặc trưng bởi một hàm mật độ xác suất (`pdf - probability density function`). Các phân phối điển hình như `standard normal, T-student, poisson, fisher, chi-squared` đều có những hình dạng phân phối xác suất khác nhau.\n",
    "\n",
    "![](https://phamdinhkhanh.github.io/assets/images/20190916_VisualizationPython/common_pdf_shape.png)\n",
    "\n",
    "\n",
    "> Đồ thị hàm mật độ xác suất của những phân phối xác suất standard normal, T-student, poisson, fisher, chi-squared.\n",
    "\n",
    "Về mặt lý thuyết (_theoreotical_) những phân phối này đều dựa trên những phương trình đáng tin cậy.\n",
    "\n",
    "Trong thực nghiệm (_empirical_) nhiều bộ dữ liệu cho thấy có hình dạng tương đồng với những phân phối này.\n",
    "\n",
    "Để tìm ra một hình dạng tương đối cho hàm mật độ xác suất của một bộ dữ liệu chúng ta sẽ sử dụng phương pháp KDE (kernel density estimate)\n",
    "\n",
    "**KDE là gì?**\n",
    "\n",
    "Hãy tưởng tượng tại mỗi một quan sát ta có đường cong phân phối đặc trưng. Hàm kernel sẽ giúp xác định hình dạng của đường cong trong khi độ rộng của đường cong được xác định bởi `bandwidth - h` (bandwidth horizontal, là độ rộng của KDE xác định theo chiều ngang). Phương pháp KDE sẽ tính tổng của các đường cong chạy dọc theo trục  để hình thành nên đường cong mật độ xác suất tổng quát cho dữ liệu.\n",
    "\n",
    "![](https://phamdinhkhanh.github.io/assets/images/20190916_VisualizationPython/kde_shape.png)\n",
    "\n",
    "> Phương pháp KDE giúp xây dựng hình dạng phân phối của dữ liệu. Ở những nơi có nhiều điểm dữ liệu tập trung thì số lượng các đường cong chồng lấn lên nhau sẽ nhiều hơn và do đó khi tính tổng cộng dồn của nó ta sẽ thu được một giá trị lũy kế kernel density lớn hơn và trái lại với những nơi có nhiều ít điểm dữ liệu tập trung.\n",
    "\n",
    "\n",
    "Ngoài ra hình dạng `bandwidth - h` sẽ giúp xác định mức độ khái quát hoặc chi tiết của đường cong. Nếu ta muốn đường cong smoothing hơn thì cần thiết lập h lớn hơn và đường cong mấp mô hơn thì h cần nhỏ hơn. Tuy nhiên bạn đọc cũng không cần quá quan tâm đến bandwidth vì cách tốt hơn là sử dụng giá trị mặc định được tính trong matplotlib.\n",
    "\n",
    "Bên dưới ta sẽ thực hành vẽ hàm mật độ xác suất của `Sepal.Width` thông qua hàm distplot() của package seaborn."
   ]
  },
  {
   "cell_type": "code",
   "execution_count": null,
   "id": "minor-matrix",
   "metadata": {
    "colab": {
     "base_uri": "https://localhost:8080/",
     "height": 588
    },
    "id": "P6jQgD8bLzZO",
    "outputId": "e0bb128d-08e8-4866-9608-944563fa3eab"
   },
   "outputs": [],
   "source": [
    "import seaborn as sns\n",
    "\n",
    "# Vẽ biểu đồ density\n",
    "plt.figure(figsize=(16, 8))\n",
    "sns.distplot(df_iris['Sepal.Width'], \n",
    "             hist = True, \n",
    "             bins=int(180/5),\n",
    "             kde = True,\n",
    "             color = 'darkblue', \n",
    "             hist_kws={'edgecolor':'black'},\n",
    "             kde_kws={'linewidth':2})\n",
    "plt.title(\"Density of Sepal.Width\", fontsize=18)"
   ]
  },
  {
   "cell_type": "markdown",
   "id": "olive-endorsement",
   "metadata": {
    "id": "0ptR6PoS5pOJ"
   },
   "source": [
    "## 4.3.5. Heatmap matrix\n",
    "\n",
    "Heatmap maxtrix là biểu đồ biểu diễn các giá trị của các ma trận có độ lớn thay đổi theo màu sắc. Biều đồ này hay ở chỗ các giá trị càng lớn thì màu sắc càng sáng và giá trị nhỏ thì màu sắc sẽ tối hơn.\n",
    "\n",
    "Đây là biểu đồ thường được sử dụng để visualize kết quả confusion-matrix của mô hình phân loại hay kết quả của ma trận hệ số tương quan giữa các biến.\n",
    "\n",
    "Tiếp theo ta sẽ thống kê trung bình của các measurements theo các loài hoa và vẽ biểu đồ heatmap matrix thể hiện độ lớn giữa từng loài hoa theo các metric."
   ]
  },
  {
   "cell_type": "code",
   "execution_count": null,
   "id": "alive-mainstream",
   "metadata": {
    "colab": {
     "base_uri": "https://localhost:8080/",
     "height": 173
    },
    "id": "O8p2r0ZYNs0l",
    "outputId": "918a4f35-db03-4e5b-da83-4e602e57448e"
   },
   "outputs": [],
   "source": [
    "# Thống kê trung bình các measurements của các loài hoa\n",
    "df_summary = df_iris.groupby('Species').mean()\n",
    "df_summary"
   ]
  },
  {
   "cell_type": "markdown",
   "id": "peripheral-resource",
   "metadata": {
    "id": "kG5TqOwEQG1D"
   },
   "source": [
    "Vẽ biểu đồ heatmap thể hiện tương quan giữa độ lớn của giá trị trung bình theo màu sắc."
   ]
  },
  {
   "cell_type": "code",
   "execution_count": null,
   "id": "respected-contract",
   "metadata": {
    "colab": {
     "base_uri": "https://localhost:8080/",
     "height": 282
    },
    "id": "HIlB1wANOID0",
    "outputId": "72003f53-3db8-4de3-f5cf-2724811137db"
   },
   "outputs": [],
   "source": [
    "sns.heatmap(df_summary)"
   ]
  },
  {
   "cell_type": "markdown",
   "id": "convertible-brisbane",
   "metadata": {
    "id": "HKql51WtQU4a"
   },
   "source": [
    "Chúng ta muốn thể hiện con số trên biểu đồ thì dùng thêm `annot=True`"
   ]
  },
  {
   "cell_type": "code",
   "execution_count": null,
   "id": "distinguished-kernel",
   "metadata": {
    "colab": {
     "base_uri": "https://localhost:8080/",
     "height": 282
    },
    "id": "UV-vKWSHQZqD",
    "outputId": "03606912-4b6c-4e78-f10f-add97a79df5e"
   },
   "outputs": [],
   "source": [
    "sns.heatmap(df_summary, annot=True)"
   ]
  },
  {
   "cell_type": "markdown",
   "id": "sensitive-porcelain",
   "metadata": {
    "id": "tS-5nhG1QqOX"
   },
   "source": [
    "Như vậy nhìn vào biểu đồ ta có thể thấy `Virginica` là loài hoa có `Sepal.Length` và `Petal.Length` rất cao thể hiện qua màu sắc rất sáng. `Sentosa` thì có kích thước `Petal.Length` và `Petal.Width` khá nhỏ. `Versicolor` thì có độ dài `Petal.Length` và `Sepal.Length` cao nhưng `Petal.Width` và `Sepal.Width` thấp, điều này chứng tỏ một kiến trúc dẹt của giống hoa này."
   ]
  },
  {
   "cell_type": "markdown",
   "id": "unavailable-plaintiff",
   "metadata": {
    "id": "7sq7rCzuRnnU"
   },
   "source": [
    "# 4.4. Vẽ nhiều biểu đồ con trên một biểu đồ\n",
    "\n",
    "Trong báo cáo và phân tích nhiều tình huống đòi hỏi chúng ta cần đưa ra thông tin từ nhiều biểu đồ liên quan. Do đó ta cần thể hiện nhiều biểu đồ trên cùng một đồ thị để dễ đối chiếu và kết luận.\n",
    "\n",
    "matplotlib cho phép chúng ta vẽ các biểu đồ con trên cùng một biểu đồ thông qua một grid matrix."
   ]
  },
  {
   "cell_type": "code",
   "execution_count": null,
   "id": "unable-fleet",
   "metadata": {
    "colab": {
     "base_uri": "https://localhost:8080/",
     "height": 704
    },
    "id": "dkJzsKrfSOET",
    "outputId": "be06796d-d4f8-4e33-86b4-ca4988ed022b"
   },
   "outputs": [],
   "source": [
    "import matplotlib.pyplot as plt\n",
    "\n",
    "# Khởi tạo grid matrix\n",
    "fg, ax = plt.subplots(2, 2, figsize=(16, 12))"
   ]
  },
  {
   "cell_type": "markdown",
   "id": "elder-holly",
   "metadata": {
    "id": "o7gkQZ93YXVb"
   },
   "source": [
    "Như vậy lưới ma trận này sẽ giúp xác định có bao nhiêu biểu đồ con nằm trong nó. Trong ví dụ này chúng ta đã xác định `plt.subplots(row, height)` để tạo ra ma trận biểu đồ kích thước `2x2` (số dòng trước, cột sau). `figsize` chính là kích thước cho toàn bộ biểu đồ cha. Để truy cập vào một biểu đồ con thì chúng ta truy cập như đối với mảng trong numpy."
   ]
  },
  {
   "cell_type": "code",
   "execution_count": null,
   "id": "threaded-elements",
   "metadata": {
    "id": "2eYoHiKgYkFw"
   },
   "outputs": [],
   "source": [
    "# Thống kê số lượng loài hoa\n",
    "x1, y1 = np.unique(df_iris['Species'], return_counts=True)\n",
    "\n",
    "# Sepal.Length and Sepal.Width\n",
    "x2, y2 = df_iris['Sepal.Length'].values, df_iris['Sepal.Width'].values"
   ]
  },
  {
   "cell_type": "code",
   "execution_count": null,
   "id": "laden-familiar",
   "metadata": {
    "colab": {
     "base_uri": "https://localhost:8080/",
     "height": 821
    },
    "id": "2CbwOBxIYU3Z",
    "outputId": "725637a4-b1e2-4f3b-f4d5-6f55bab1a30d"
   },
   "outputs": [],
   "source": [
    "# Khởi tạo grid matrix\n",
    "fg, ax = plt.subplots(2, 2, figsize=(16, 12))\n",
    "\n",
    "# Visualize từng biểu đồ\n",
    "# Biểu đồ [0, 0]\n",
    "ax[0, 0].pie(y1, labels=x1, autopct='%1.1f%%')\n",
    "ax[0, 0].set_xlabel(\"Tỷ lệ % các loài hoa\", fontsize=12)\n",
    "\n",
    "# Biểu đồ [0, 1]\n",
    "sns.heatmap(df_summary, annot=True, ax=ax[0, 1])\n",
    "ax[0, 1].set_xlabel('Trung bình các measurements', fontsize=12)\n",
    "\n",
    "# Biểu đồ [1, 0]\n",
    "ax[1, 0].scatter(x2, y2)\n",
    "ax[1, 0].set_xlabel('Sepal.Length', fontsize=12)\n",
    "ax[1, 0].set_ylabel('Sepal.Width', fontsize=12)\n",
    "\n",
    "# Biểu đồ [1, 1]\n",
    "sns.swarmplot(data=df_iris, x='Species', y='Sepal.Width', ax=ax[1, 1])\n",
    "ax[1, 1].set_xlabel('Chiều rộng đài hoa', fontsize=12)\n",
    "\n",
    "fg.suptitle('Biểu đồ Tổng hợp', fontsize=18)"
   ]
  },
  {
   "cell_type": "markdown",
   "id": "exclusive-receiver",
   "metadata": {
    "id": "pY_G3AVIaYXG"
   },
   "source": [
    "# 4.5. Biểu đồ động từ gif file\n",
    "\n",
    "Chúng ta thường dùng biểu đồ gif trong matplotlib để biểu diễn kết quả của những thuật toán một cách trực quan. Ví dụ như biểu diễn sự di chuyển của các điểm theo _gradient descent_."
   ]
  },
  {
   "cell_type": "code",
   "execution_count": null,
   "id": "billion-albany",
   "metadata": {
    "id": "aPIh6MP-uKoJ"
   },
   "outputs": [],
   "source": [
    "# Import các thư viện cần thiết\n",
    "import numpy as np\n",
    "import matplotlib.pyplot as plt\n",
    "import imageio\n",
    "import os"
   ]
  },
  {
   "cell_type": "code",
   "execution_count": null,
   "id": "auburn-african",
   "metadata": {
    "id": "ZebiO-28uQqt"
   },
   "outputs": [],
   "source": [
    "%%script echo skipping\n",
    "from google.colab import drive\n",
    "import os\n",
    "\n",
    "drive.mount('/content/gdrive')\n",
    "path = '/content/gdrive/My Drive/mybook'\n",
    "os.chdir(path)\n",
    "\n",
    "!rm -rf gifplot\n",
    "!mkdir gifplot"
   ]
  },
  {
   "cell_type": "markdown",
   "id": "dedicated-machine",
   "metadata": {
    "id": "mrbAcL2mysD2"
   },
   "source": [
    "Khởi tạo một hàm số có đồ thị dạng sin theo công thức:\n",
    "\n",
    "$$y = \\sin(2\\pi(x-0.01i))$$"
   ]
  },
  {
   "cell_type": "code",
   "execution_count": null,
   "id": "hindu-blair",
   "metadata": {
    "id": "ff8RsbKLuklk"
   },
   "outputs": [],
   "source": [
    "def animate(i):\n",
    "    x = np.linspace(0, 2, 1000)\n",
    "    y = np.sin(2 * np.pi * (x - 0.01 * i))\n",
    "    return x, y"
   ]
  },
  {
   "cell_type": "markdown",
   "id": "roman-element",
   "metadata": {
    "id": "RYwpJrVm0RYR"
   },
   "source": [
    "Tiếp theo ta sẽ sinh các chuỗi dữ liệu $(x, y)$ thay đổi theo giá trị của $i$ và lưu những đồ thị này vào folder `gifplot`."
   ]
  },
  {
   "cell_type": "code",
   "execution_count": null,
   "id": "fundamental-blair",
   "metadata": {
    "id": "gRmS9PMKuofd"
   },
   "outputs": [],
   "source": [
    "def plot(i):\n",
    "  x, y = animate(i)\n",
    "  fig = plt.figure(figsize=(8, 6))\n",
    "  plt.plot(x, y)\n",
    "  plt.xlabel('x')\n",
    "  plt.ylabel('y')\n",
    "  plt.title(\"iteration {}\".format(i))\n",
    "  fig.savefig(\"gifplot/{:03d}.png\".format(i))\n",
    "  plt.close(fig)"
   ]
  },
  {
   "cell_type": "markdown",
   "id": "significant-paintball",
   "metadata": {
    "id": "G8j1zSpL0nHn"
   },
   "source": [
    "Thực hiện vòng for vẽ liên tiếp 20 vòng lặp cho $i$."
   ]
  },
  {
   "cell_type": "code",
   "execution_count": null,
   "id": "initial-federation",
   "metadata": {
    "id": "OdEjaR6avK73"
   },
   "outputs": [],
   "source": [
    "for i in range(20):\n",
    "  plot(i)"
   ]
  },
  {
   "cell_type": "markdown",
   "id": "civic-restoration",
   "metadata": {
    "id": "JyC8HFV_0sIc"
   },
   "source": [
    "Bản chất của file `gif` là một tập hợp các file ảnh thường được xếp chồng lên nhau. Do đó để tạo ra được một ảnh động `gif` thì chúng ta sẽ append các ảnh vào trong writer của `imageio`."
   ]
  },
  {
   "cell_type": "code",
   "execution_count": null,
   "id": "designed-layer",
   "metadata": {
    "id": "nGbZDvRGuHSt"
   },
   "outputs": [],
   "source": [
    "with imageio.get_writer('mygif.gif', mode='I') as writer:\n",
    "    for filename in os.listdir('gifplot'):\n",
    "        image = imageio.imread('gifplot/{}'.format(filename))\n",
    "        writer.append_data(image)"
   ]
  },
  {
   "cell_type": "markdown",
   "id": "subjective-westminster",
   "metadata": {
    "id": "LSCHiwrJ1E2H"
   },
   "source": [
    "Như vậy toàn bộ các file ảnh đã được lưu theo thứ tự của vòng lặp vào file `mygif.gif`. Chúng ta có thể hiển thị đồ thị vừa được tạo ra như sau:"
   ]
  },
  {
   "cell_type": "code",
   "execution_count": null,
   "id": "multiple-individual",
   "metadata": {
    "colab": {
     "base_uri": "https://localhost:8080/",
     "height": 449
    },
    "id": "yQryQv4vxOCW",
    "outputId": "d9928e8f-a313-4f11-98af-b49432804b88"
   },
   "outputs": [],
   "source": [
    "from IPython.display import Image\n",
    "Image(open('mygif.gif','rb').read())"
   ]
  },
  {
   "cell_type": "markdown",
   "id": "cross-guidance",
   "metadata": {
    "id": "571-xcC00x9l"
   },
   "source": [
    "# 4.6. Tổng kết\n",
    "\n",
    "Như vậy qua bài viết này bạn đọc đã được tìm hiểu về cách dựng các dạng biểu đồ từ cơ bản tới nâng cao kèm theo tình huống sử dụng của chúng. Những biểu đồ này bao gồm:\n",
    "\n",
    "* Biểu đồ cơ bản: line, barchart, pie, scatter.\n",
    "* Biểu đồ nâng cao: boxplot, swarm, histogram, density, heatmap.\n",
    "\n",
    "Ngoài ra bạn đọc còn được hướng dẫn về cách vẽ biểu đồ tổng hợp từ nhiều biểu đồ con và cách vẽ biểu đồ động từ gif file.\n",
    "\n",
    "Đây đều là những kiến thức khá căn bản và quan trọng đối với visualization mà bạn đọc cần nắm vững trước khi đi sâu vào phân tích dữ liệu và xây dựng mô hình. Tiếp theo là những bài tập thực hành để củng cố thêm kiến thức đã học."
   ]
  },
  {
   "cell_type": "markdown",
   "id": "established-cement",
   "metadata": {
    "id": "xjPN-lPQ01MD"
   },
   "source": [
    "# 4.7. Bài tập\n",
    "\n",
    "Lấy bộ dữ liệu flights."
   ]
  },
  {
   "cell_type": "code",
   "execution_count": null,
   "id": "hollywood-alcohol",
   "metadata": {
    "colab": {
     "base_uri": "https://localhost:8080/",
     "height": 204
    },
    "id": "jd3MYEvQ2rCf",
    "outputId": "7e3bd04a-a732-41a8-cab0-2cebe2a2ef30"
   },
   "outputs": [],
   "source": [
    "import seaborn as sns\n",
    "flights = sns.load_dataset('flights')\n",
    "flights.head()"
   ]
  },
  {
   "cell_type": "markdown",
   "id": "bottom-master",
   "metadata": {
    "id": "uBgvNy7U25Be"
   },
   "source": [
    "Đây là bộ dữ liệu về số lượng hành cách di chuyển trên các chuyến bay theo các tháng. Dựa trên số liệu này hãy vẽ các biểu đồ:\n",
    "\n",
    "1. Biểu đồ line thể hiện chu kỳ và xu hướng thay đổi của số lượng hành khách.\n",
    "2. Biểu đồ hình tròn và biểu đồ cột về tổng số lượng hành khách đã di chuyển theo từng tháng trong suốt giai đoạn.\n",
    "3. Biểu đồ heatmap thể hiện tổng số lượng hành khách theo hai trục tháng và năm.\n",
    "4. Biểu đồ histogram, density, swarm, boxplot về phân phối tổng số lượng hành khách theo từng tháng.\n",
    "5. Vẽ một biểu đồ tổng hợp dạng grid matrix từ những biểu đồ con trên."
   ]
  },
  {
   "cell_type": "markdown",
   "id": "introductory-baker",
   "metadata": {
    "id": "SWkSYCRJ03AD"
   },
   "source": [
    "# 4.6. Tài liệu tham khảo\n",
    "\n",
    "1. [matplotlib](https://matplotlib.org/)\n",
    "2. [seaborn](https://seaborn.pydata.org/)"
   ]
  }
 ],
 "metadata": {
  "jupytext": {
   "text_representation": {
    "extension": ".md",
    "format_name": "myst",
    "format_version": 0.12,
    "jupytext_version": "1.8.2"
   }
  },
  "kernelspec": {
   "display_name": "Python 3",
   "name": "python3"
  },
  "language_info": {
   "codemirror_mode": {
    "name": "ipython",
    "version": 3
   },
   "file_extension": ".py",
   "mimetype": "text/x-python",
   "name": "python",
   "nbconvert_exporter": "python",
   "pygments_lexer": "ipython3",
   "version": "3.6.13"
  },
  "source_map": [
   11,
   22,
   36,
   40,
   51,
   55,
   70,
   74,
   91,
   109,
   113,
   121,
   137,
   149,
   157,
   174,
   182,
   195,
   213,
   217,
   225,
   244,
   250,
   256,
   276,
   297,
   301,
   324,
   342,
   346,
   364,
   368,
   386,
   392,
   410,
   414,
   420,
   438,
   442,
   460,
   467,
   478,
   514,
   536,
   546,
   559,
   563,
   574,
   578,
   589,
   593,
   601,
   615,
   619,
   629,
   661,
   667,
   677,
   692,
   698,
   707,
   711,
   725,
   729,
   736,
   740,
   749,
   753,
   765,
   778,
   784,
   797,
   807
  ]
 },
 "nbformat": 4,
 "nbformat_minor": 5
}